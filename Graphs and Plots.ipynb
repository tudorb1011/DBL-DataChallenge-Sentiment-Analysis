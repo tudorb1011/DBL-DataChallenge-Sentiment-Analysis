{
 "cells": [
  {
   "cell_type": "code",
   "execution_count": 16,
   "metadata": {},
   "outputs": [],
   "source": [
    "import pandas as pd\n",
    "import sqlite3\n",
    "import os\n",
    "import matplotlib.pyplot as plt\n",
    "import numpy as np\n",
    "from dbl_constants import airlines, lang_to_tag, tag_to_lang\n",
    "import re\n",
    "from datetime import datetime\n",
    "\n",
    "database_path = \"temporary_database.sqlite3\"\n",
    "conn = sqlite3.connect(database_path)\n",
    "cur = conn.cursor()\n",
    "\n",
    "cur.execute(\"\"\"PRAGMA table_info(TWEETS);\"\"\")\n",
    "tweet_columns = tuple(t[1] for t in cur.fetchall())\n",
    "cur.execute(\"\"\"PRAGMA table_info(USERS);\"\"\")\n",
    "user_columns = tuple(t[1] for t in cur.fetchall())\n",
    "cur.execute(\"\"\"PRAGMA table_info(INTERACTIONS);\"\"\")\n",
    "interaction_columns = tuple(t[1] for t in cur.fetchall())"
   ]
  },
  {
   "cell_type": "code",
   "execution_count": 19,
   "metadata": {},
   "outputs": [
    {
     "ename": "ValueError",
     "evalue": "time data 'Fri Aug 02 00:00:04 +0000 2019' does not match format '%Y-%m-%d %H:%M:%S'",
     "output_type": "error",
     "traceback": [
      "\u001b[1;31m---------------------------------------------------------------------------\u001b[0m",
      "\u001b[1;31mValueError\u001b[0m                                Traceback (most recent call last)",
      "\u001b[1;32m<ipython-input-19-10d2a64887da>\u001b[0m in \u001b[0;36m<module>\u001b[1;34m\u001b[0m\n\u001b[0;32m      5\u001b[0m \u001b[0mcur\u001b[0m\u001b[1;33m.\u001b[0m\u001b[0mexecute\u001b[0m\u001b[1;33m(\u001b[0m\u001b[1;34m\"\"\"SELECT created_at FROM TWEETS order by created_at desc limit 1\"\"\"\u001b[0m\u001b[1;33m)\u001b[0m\u001b[1;33m\u001b[0m\u001b[1;33m\u001b[0m\u001b[0m\n\u001b[0;32m      6\u001b[0m \u001b[0mdate_range\u001b[0m\u001b[1;33m.\u001b[0m\u001b[0mappend\u001b[0m\u001b[1;33m(\u001b[0m\u001b[0mcur\u001b[0m\u001b[1;33m.\u001b[0m\u001b[0mfetchall\u001b[0m\u001b[1;33m(\u001b[0m\u001b[1;33m)\u001b[0m\u001b[1;33m)\u001b[0m\u001b[1;33m\u001b[0m\u001b[1;33m\u001b[0m\u001b[0m\n\u001b[1;32m----> 7\u001b[1;33m \u001b[0mdate_range\u001b[0m \u001b[1;33m=\u001b[0m \u001b[0mtuple\u001b[0m\u001b[1;33m(\u001b[0m\u001b[0mdatetime\u001b[0m\u001b[1;33m.\u001b[0m\u001b[0mstrptime\u001b[0m\u001b[1;33m(\u001b[0m\u001b[0mi\u001b[0m\u001b[1;33m[\u001b[0m\u001b[1;36m0\u001b[0m\u001b[1;33m]\u001b[0m\u001b[1;33m[\u001b[0m\u001b[1;36m0\u001b[0m\u001b[1;33m]\u001b[0m\u001b[1;33m,\u001b[0m \u001b[1;34m'%Y-%m-%d %H:%M:%S'\u001b[0m\u001b[1;33m)\u001b[0m \u001b[1;32mfor\u001b[0m \u001b[0mi\u001b[0m \u001b[1;32min\u001b[0m \u001b[0mdate_range\u001b[0m\u001b[1;33m)\u001b[0m\u001b[1;33m\u001b[0m\u001b[1;33m\u001b[0m\u001b[0m\n\u001b[0m\u001b[0;32m      8\u001b[0m \u001b[1;33m\u001b[0m\u001b[0m\n\u001b[0;32m      9\u001b[0m \u001b[1;32mdef\u001b[0m \u001b[0mstr_to_readable\u001b[0m\u001b[1;33m(\u001b[0m\u001b[0ms\u001b[0m\u001b[1;33m:\u001b[0m\u001b[0mstr\u001b[0m\u001b[1;33m)\u001b[0m\u001b[1;33m:\u001b[0m\u001b[1;33m\u001b[0m\u001b[1;33m\u001b[0m\u001b[0m\n",
      "\u001b[1;32m<ipython-input-19-10d2a64887da>\u001b[0m in \u001b[0;36m<genexpr>\u001b[1;34m(.0)\u001b[0m\n\u001b[0;32m      5\u001b[0m \u001b[0mcur\u001b[0m\u001b[1;33m.\u001b[0m\u001b[0mexecute\u001b[0m\u001b[1;33m(\u001b[0m\u001b[1;34m\"\"\"SELECT created_at FROM TWEETS order by created_at desc limit 1\"\"\"\u001b[0m\u001b[1;33m)\u001b[0m\u001b[1;33m\u001b[0m\u001b[1;33m\u001b[0m\u001b[0m\n\u001b[0;32m      6\u001b[0m \u001b[0mdate_range\u001b[0m\u001b[1;33m.\u001b[0m\u001b[0mappend\u001b[0m\u001b[1;33m(\u001b[0m\u001b[0mcur\u001b[0m\u001b[1;33m.\u001b[0m\u001b[0mfetchall\u001b[0m\u001b[1;33m(\u001b[0m\u001b[1;33m)\u001b[0m\u001b[1;33m)\u001b[0m\u001b[1;33m\u001b[0m\u001b[1;33m\u001b[0m\u001b[0m\n\u001b[1;32m----> 7\u001b[1;33m \u001b[0mdate_range\u001b[0m \u001b[1;33m=\u001b[0m \u001b[0mtuple\u001b[0m\u001b[1;33m(\u001b[0m\u001b[0mdatetime\u001b[0m\u001b[1;33m.\u001b[0m\u001b[0mstrptime\u001b[0m\u001b[1;33m(\u001b[0m\u001b[0mi\u001b[0m\u001b[1;33m[\u001b[0m\u001b[1;36m0\u001b[0m\u001b[1;33m]\u001b[0m\u001b[1;33m[\u001b[0m\u001b[1;36m0\u001b[0m\u001b[1;33m]\u001b[0m\u001b[1;33m,\u001b[0m \u001b[1;34m'%Y-%m-%d %H:%M:%S'\u001b[0m\u001b[1;33m)\u001b[0m \u001b[1;32mfor\u001b[0m \u001b[0mi\u001b[0m \u001b[1;32min\u001b[0m \u001b[0mdate_range\u001b[0m\u001b[1;33m)\u001b[0m\u001b[1;33m\u001b[0m\u001b[1;33m\u001b[0m\u001b[0m\n\u001b[0m\u001b[0;32m      8\u001b[0m \u001b[1;33m\u001b[0m\u001b[0m\n\u001b[0;32m      9\u001b[0m \u001b[1;32mdef\u001b[0m \u001b[0mstr_to_readable\u001b[0m\u001b[1;33m(\u001b[0m\u001b[0ms\u001b[0m\u001b[1;33m:\u001b[0m\u001b[0mstr\u001b[0m\u001b[1;33m)\u001b[0m\u001b[1;33m:\u001b[0m\u001b[1;33m\u001b[0m\u001b[1;33m\u001b[0m\u001b[0m\n",
      "\u001b[1;32m~\\anaconda3\\lib\\_strptime.py\u001b[0m in \u001b[0;36m_strptime_datetime\u001b[1;34m(cls, data_string, format)\u001b[0m\n\u001b[0;32m    566\u001b[0m     \"\"\"Return a class cls instance based on the input string and the\n\u001b[0;32m    567\u001b[0m     format string.\"\"\"\n\u001b[1;32m--> 568\u001b[1;33m     \u001b[0mtt\u001b[0m\u001b[1;33m,\u001b[0m \u001b[0mfraction\u001b[0m\u001b[1;33m,\u001b[0m \u001b[0mgmtoff_fraction\u001b[0m \u001b[1;33m=\u001b[0m \u001b[0m_strptime\u001b[0m\u001b[1;33m(\u001b[0m\u001b[0mdata_string\u001b[0m\u001b[1;33m,\u001b[0m \u001b[0mformat\u001b[0m\u001b[1;33m)\u001b[0m\u001b[1;33m\u001b[0m\u001b[1;33m\u001b[0m\u001b[0m\n\u001b[0m\u001b[0;32m    569\u001b[0m     \u001b[0mtzname\u001b[0m\u001b[1;33m,\u001b[0m \u001b[0mgmtoff\u001b[0m \u001b[1;33m=\u001b[0m \u001b[0mtt\u001b[0m\u001b[1;33m[\u001b[0m\u001b[1;33m-\u001b[0m\u001b[1;36m2\u001b[0m\u001b[1;33m:\u001b[0m\u001b[1;33m]\u001b[0m\u001b[1;33m\u001b[0m\u001b[1;33m\u001b[0m\u001b[0m\n\u001b[0;32m    570\u001b[0m     \u001b[0margs\u001b[0m \u001b[1;33m=\u001b[0m \u001b[0mtt\u001b[0m\u001b[1;33m[\u001b[0m\u001b[1;33m:\u001b[0m\u001b[1;36m6\u001b[0m\u001b[1;33m]\u001b[0m \u001b[1;33m+\u001b[0m \u001b[1;33m(\u001b[0m\u001b[0mfraction\u001b[0m\u001b[1;33m,\u001b[0m\u001b[1;33m)\u001b[0m\u001b[1;33m\u001b[0m\u001b[1;33m\u001b[0m\u001b[0m\n",
      "\u001b[1;32m~\\anaconda3\\lib\\_strptime.py\u001b[0m in \u001b[0;36m_strptime\u001b[1;34m(data_string, format)\u001b[0m\n\u001b[0;32m    347\u001b[0m     \u001b[0mfound\u001b[0m \u001b[1;33m=\u001b[0m \u001b[0mformat_regex\u001b[0m\u001b[1;33m.\u001b[0m\u001b[0mmatch\u001b[0m\u001b[1;33m(\u001b[0m\u001b[0mdata_string\u001b[0m\u001b[1;33m)\u001b[0m\u001b[1;33m\u001b[0m\u001b[1;33m\u001b[0m\u001b[0m\n\u001b[0;32m    348\u001b[0m     \u001b[1;32mif\u001b[0m \u001b[1;32mnot\u001b[0m \u001b[0mfound\u001b[0m\u001b[1;33m:\u001b[0m\u001b[1;33m\u001b[0m\u001b[1;33m\u001b[0m\u001b[0m\n\u001b[1;32m--> 349\u001b[1;33m         raise ValueError(\"time data %r does not match format %r\" %\n\u001b[0m\u001b[0;32m    350\u001b[0m                          (data_string, format))\n\u001b[0;32m    351\u001b[0m     \u001b[1;32mif\u001b[0m \u001b[0mlen\u001b[0m\u001b[1;33m(\u001b[0m\u001b[0mdata_string\u001b[0m\u001b[1;33m)\u001b[0m \u001b[1;33m!=\u001b[0m \u001b[0mfound\u001b[0m\u001b[1;33m.\u001b[0m\u001b[0mend\u001b[0m\u001b[1;33m(\u001b[0m\u001b[1;33m)\u001b[0m\u001b[1;33m:\u001b[0m\u001b[1;33m\u001b[0m\u001b[1;33m\u001b[0m\u001b[0m\n",
      "\u001b[1;31mValueError\u001b[0m: time data 'Fri Aug 02 00:00:04 +0000 2019' does not match format '%Y-%m-%d %H:%M:%S'"
     ]
    }
   ],
   "source": [
    "# constants and auxilliary functions\n",
    "date_range = []\n",
    "cur.execute(\"\"\"SELECT created_at FROM TWEETS order by created_at asc  limit 1\"\"\")\n",
    "date_range.append(cur.fetchall())\n",
    "cur.execute(\"\"\"SELECT created_at FROM TWEETS order by created_at desc limit 1\"\"\")\n",
    "date_range.append(cur.fetchall())\n",
    "date_range = tuple(datetime.strptime(i[0][0], '%Y-%m-%d %H:%M:%S') for i in date_range)\n",
    "\n",
    "def str_to_readable(s:str):\n",
    "    return re.sub(r'([a-z](?=[A-Z])|[A-Z](?=[A-Z][a-z]))', r'\\1 ', s.replace('_',' '))\n",
    "print(str_to_readable(\"Test_TestTest\"))\n",
    "print(str_to_readable(\"KLM\"))\n"
   ]
  },
  {
   "cell_type": "markdown",
   "metadata": {},
   "source": [
    "\n",
    "\n",
    "# 1. Sprint 1 plots testing\n",
    "\n",
    "At least 4 good plots. E.g. #tweets per\n",
    "language, tweets sent/received per airline,\n",
    "tweets per hour of day/week, per day of\n",
    "week/year, per timezone, etc...\n",
    "\n",
    "\n",
    "## 1.1 getting dataframes"
   ]
  },
  {
   "cell_type": "code",
   "execution_count": 6,
   "metadata": {},
   "outputs": [
    {
     "name": "stdout",
     "output_type": "stream",
     "text": [
      "KLM done\n",
      "AirFrance done\n",
      "British_Airways done\n",
      "AmericanAir done\n",
      "Lufthansa done\n",
      "AirBerlin done\n",
      "AirBerlin assist done\n",
      "easyJet done\n",
      "RyanAir done\n",
      "SingaporeAir done\n",
      "Qantas done\n",
      "EtihadAirways done\n",
      "VirginAtlantic done\n",
      "   lang   count          airline\n",
      "0    en  114294      AmericanAir\n",
      "0    en  106493  British_Airways\n",
      "0    en   48423          easyJet\n",
      "0    en   22941              KLM\n",
      "0    en   21245   VirginAtlantic\n",
      "..  ...     ...              ...\n",
      "17   ja       1          easyJet\n",
      "18   hu       1          easyJet\n",
      "19   cy       1          easyJet\n",
      "20   cs       1          easyJet\n",
      "11   is       1   VirginAtlantic\n",
      "\n",
      "[138 rows x 3 columns]\n"
     ]
    }
   ],
   "source": [
    "# Amount per language per airline\n",
    "dfs = []\n",
    "for air_name in airlines:\n",
    "    print(air_name, end=\" \")\n",
    "    airline_id = airlines[air_name]\n",
    "    cur.execute(\"\"\"\n",
    "    SELECT\n",
    "      lang,\n",
    "      COUNT(*) AS `num`\n",
    "    FROM\n",
    "      TWEETS\n",
    "    WHERE user_id == ?\n",
    "    GROUP BY\n",
    "      lang\n",
    "    ORDER BY\n",
    "      num DESC\"\"\", [airline_id])\n",
    "    df_lang = pd.DataFrame(cur.fetchall(), columns=(\"lang\", \"count\"))\n",
    "    df_lang[\"airline\"] = air_name\n",
    "    dfs.append(df_lang)\n",
    "    print(\"done\")\n",
    "df_languages_by_airline = pd.concat(dfs)\n",
    "#df_languages_by_airline.set_index([df_languages_by_airline.index, \"airline\"], inplace=True)\n",
    "df_languages_by_airline.sort_values(\"count\", ascending=False, inplace=True)\n",
    "print(df_languages_by_airline)"
   ]
  },
  {
   "cell_type": "markdown",
   "metadata": {},
   "source": [
    "## 1.2 using plotly"
   ]
  },
  {
   "cell_type": "code",
   "execution_count": null,
   "metadata": {},
   "outputs": [],
   "source": [
    "### Testing plotly\n",
    "### plotly is not included in default anaconda environment so install it yourself\n",
    "# plotly may be installed using \n",
    "# pip: $ pip install plotly==5.7.0\n",
    "# or\n",
    "# conda: $ conda install -c plotly plotly=5.7.0 \n",
    "import plotly\n",
    "import plotly.express as px\n",
    "import plotly.graph_objects as go\n",
    "from plotly.subplots import make_subplots\n",
    "from IPython.core.display import display, HTML\n",
    "    \n",
    "# prevent scrollbar"
   ]
  },
  {
   "cell_type": "code",
   "execution_count": 15,
   "metadata": {},
   "outputs": [
    {
     "data": {
      "application/javascript": [
       "IPython.OutputArea.auto_scroll_threshold = 120;\n"
      ],
      "text/plain": [
       "<IPython.core.display.Javascript object>"
      ]
     },
     "metadata": {},
     "output_type": "display_data"
    }
   ],
   "source": [
    "%%javascript\n",
    "IPython.OutputArea.auto_scroll_threshold = 120;"
   ]
  },
  {
   "cell_type": "code",
   "execution_count": 11,
   "metadata": {},
   "outputs": [
    {
     "ename": "NameError",
     "evalue": "name 'str_to_readable' is not defined",
     "output_type": "error",
     "traceback": [
      "\u001b[1;31m---------------------------------------------------------------------------\u001b[0m",
      "\u001b[1;31mNameError\u001b[0m                                 Traceback (most recent call last)",
      "\u001b[1;32m<ipython-input-11-e9a7289e817b>\u001b[0m in \u001b[0;36m<module>\u001b[1;34m\u001b[0m\n\u001b[0;32m      2\u001b[0m \u001b[0mdf_airlang\u001b[0m \u001b[1;33m=\u001b[0m \u001b[0mdf_languages_by_airline\u001b[0m\u001b[1;33m.\u001b[0m\u001b[0mastype\u001b[0m\u001b[1;33m(\u001b[0m\u001b[1;33m{\u001b[0m\u001b[1;34m\"count\"\u001b[0m\u001b[1;33m:\u001b[0m\u001b[0mint\u001b[0m\u001b[1;33m}\u001b[0m\u001b[1;33m)\u001b[0m\u001b[1;33m\u001b[0m\u001b[1;33m\u001b[0m\u001b[0m\n\u001b[0;32m      3\u001b[0m \u001b[0mdf_airlang\u001b[0m\u001b[1;33m[\u001b[0m\u001b[1;34m\"log_count\"\u001b[0m\u001b[1;33m]\u001b[0m \u001b[1;33m=\u001b[0m \u001b[0mnp\u001b[0m\u001b[1;33m.\u001b[0m\u001b[0mlog2\u001b[0m\u001b[1;33m(\u001b[0m\u001b[0mdf_airlang\u001b[0m\u001b[1;33m[\u001b[0m\u001b[1;34m\"count\"\u001b[0m\u001b[1;33m]\u001b[0m\u001b[1;33m)\u001b[0m\u001b[1;33m\u001b[0m\u001b[1;33m\u001b[0m\u001b[0m\n\u001b[1;32m----> 4\u001b[1;33m \u001b[0mdf_airlang\u001b[0m\u001b[1;33m[\u001b[0m\u001b[1;34m\"airline\"\u001b[0m\u001b[1;33m]\u001b[0m \u001b[1;33m=\u001b[0m \u001b[0mdf_airlang\u001b[0m\u001b[1;33m[\u001b[0m\u001b[1;34m\"airline\"\u001b[0m\u001b[1;33m]\u001b[0m\u001b[1;33m.\u001b[0m\u001b[0mapply\u001b[0m\u001b[1;33m(\u001b[0m\u001b[1;32mlambda\u001b[0m \u001b[0mx\u001b[0m\u001b[1;33m:\u001b[0m \u001b[0mstr_to_readable\u001b[0m\u001b[1;33m(\u001b[0m\u001b[0mx\u001b[0m\u001b[1;33m)\u001b[0m\u001b[1;33m)\u001b[0m\u001b[1;33m\u001b[0m\u001b[1;33m\u001b[0m\u001b[0m\n\u001b[0m\u001b[0;32m      5\u001b[0m \u001b[0mdf_airlang\u001b[0m\u001b[1;33m[\u001b[0m\u001b[1;34m\"lang\"\u001b[0m\u001b[1;33m]\u001b[0m \u001b[1;33m=\u001b[0m \u001b[0mdf_airlang\u001b[0m\u001b[1;33m[\u001b[0m\u001b[1;34m\"lang\"\u001b[0m\u001b[1;33m]\u001b[0m\u001b[1;33m.\u001b[0m\u001b[0mreplace\u001b[0m\u001b[1;33m(\u001b[0m\u001b[0mtag_to_lang\u001b[0m\u001b[1;33m)\u001b[0m\u001b[1;33m\u001b[0m\u001b[1;33m\u001b[0m\u001b[0m\n",
      "\u001b[1;32m~\\anaconda3\\lib\\site-packages\\pandas\\core\\series.py\u001b[0m in \u001b[0;36mapply\u001b[1;34m(self, func, convert_dtype, args, **kwds)\u001b[0m\n\u001b[0;32m   4136\u001b[0m             \u001b[1;32melse\u001b[0m\u001b[1;33m:\u001b[0m\u001b[1;33m\u001b[0m\u001b[1;33m\u001b[0m\u001b[0m\n\u001b[0;32m   4137\u001b[0m                 \u001b[0mvalues\u001b[0m \u001b[1;33m=\u001b[0m \u001b[0mself\u001b[0m\u001b[1;33m.\u001b[0m\u001b[0mastype\u001b[0m\u001b[1;33m(\u001b[0m\u001b[0mobject\u001b[0m\u001b[1;33m)\u001b[0m\u001b[1;33m.\u001b[0m\u001b[0m_values\u001b[0m\u001b[1;33m\u001b[0m\u001b[1;33m\u001b[0m\u001b[0m\n\u001b[1;32m-> 4138\u001b[1;33m                 \u001b[0mmapped\u001b[0m \u001b[1;33m=\u001b[0m \u001b[0mlib\u001b[0m\u001b[1;33m.\u001b[0m\u001b[0mmap_infer\u001b[0m\u001b[1;33m(\u001b[0m\u001b[0mvalues\u001b[0m\u001b[1;33m,\u001b[0m \u001b[0mf\u001b[0m\u001b[1;33m,\u001b[0m \u001b[0mconvert\u001b[0m\u001b[1;33m=\u001b[0m\u001b[0mconvert_dtype\u001b[0m\u001b[1;33m)\u001b[0m\u001b[1;33m\u001b[0m\u001b[1;33m\u001b[0m\u001b[0m\n\u001b[0m\u001b[0;32m   4139\u001b[0m \u001b[1;33m\u001b[0m\u001b[0m\n\u001b[0;32m   4140\u001b[0m         \u001b[1;32mif\u001b[0m \u001b[0mlen\u001b[0m\u001b[1;33m(\u001b[0m\u001b[0mmapped\u001b[0m\u001b[1;33m)\u001b[0m \u001b[1;32mand\u001b[0m \u001b[0misinstance\u001b[0m\u001b[1;33m(\u001b[0m\u001b[0mmapped\u001b[0m\u001b[1;33m[\u001b[0m\u001b[1;36m0\u001b[0m\u001b[1;33m]\u001b[0m\u001b[1;33m,\u001b[0m \u001b[0mSeries\u001b[0m\u001b[1;33m)\u001b[0m\u001b[1;33m:\u001b[0m\u001b[1;33m\u001b[0m\u001b[1;33m\u001b[0m\u001b[0m\n",
      "\u001b[1;32mpandas\\_libs\\lib.pyx\u001b[0m in \u001b[0;36mpandas._libs.lib.map_infer\u001b[1;34m()\u001b[0m\n",
      "\u001b[1;32m<ipython-input-11-e9a7289e817b>\u001b[0m in \u001b[0;36m<lambda>\u001b[1;34m(x)\u001b[0m\n\u001b[0;32m      2\u001b[0m \u001b[0mdf_airlang\u001b[0m \u001b[1;33m=\u001b[0m \u001b[0mdf_languages_by_airline\u001b[0m\u001b[1;33m.\u001b[0m\u001b[0mastype\u001b[0m\u001b[1;33m(\u001b[0m\u001b[1;33m{\u001b[0m\u001b[1;34m\"count\"\u001b[0m\u001b[1;33m:\u001b[0m\u001b[0mint\u001b[0m\u001b[1;33m}\u001b[0m\u001b[1;33m)\u001b[0m\u001b[1;33m\u001b[0m\u001b[1;33m\u001b[0m\u001b[0m\n\u001b[0;32m      3\u001b[0m \u001b[0mdf_airlang\u001b[0m\u001b[1;33m[\u001b[0m\u001b[1;34m\"log_count\"\u001b[0m\u001b[1;33m]\u001b[0m \u001b[1;33m=\u001b[0m \u001b[0mnp\u001b[0m\u001b[1;33m.\u001b[0m\u001b[0mlog2\u001b[0m\u001b[1;33m(\u001b[0m\u001b[0mdf_airlang\u001b[0m\u001b[1;33m[\u001b[0m\u001b[1;34m\"count\"\u001b[0m\u001b[1;33m]\u001b[0m\u001b[1;33m)\u001b[0m\u001b[1;33m\u001b[0m\u001b[1;33m\u001b[0m\u001b[0m\n\u001b[1;32m----> 4\u001b[1;33m \u001b[0mdf_airlang\u001b[0m\u001b[1;33m[\u001b[0m\u001b[1;34m\"airline\"\u001b[0m\u001b[1;33m]\u001b[0m \u001b[1;33m=\u001b[0m \u001b[0mdf_airlang\u001b[0m\u001b[1;33m[\u001b[0m\u001b[1;34m\"airline\"\u001b[0m\u001b[1;33m]\u001b[0m\u001b[1;33m.\u001b[0m\u001b[0mapply\u001b[0m\u001b[1;33m(\u001b[0m\u001b[1;32mlambda\u001b[0m \u001b[0mx\u001b[0m\u001b[1;33m:\u001b[0m \u001b[0mstr_to_readable\u001b[0m\u001b[1;33m(\u001b[0m\u001b[0mx\u001b[0m\u001b[1;33m)\u001b[0m\u001b[1;33m)\u001b[0m\u001b[1;33m\u001b[0m\u001b[1;33m\u001b[0m\u001b[0m\n\u001b[0m\u001b[0;32m      5\u001b[0m \u001b[0mdf_airlang\u001b[0m\u001b[1;33m[\u001b[0m\u001b[1;34m\"lang\"\u001b[0m\u001b[1;33m]\u001b[0m \u001b[1;33m=\u001b[0m \u001b[0mdf_airlang\u001b[0m\u001b[1;33m[\u001b[0m\u001b[1;34m\"lang\"\u001b[0m\u001b[1;33m]\u001b[0m\u001b[1;33m.\u001b[0m\u001b[0mreplace\u001b[0m\u001b[1;33m(\u001b[0m\u001b[0mtag_to_lang\u001b[0m\u001b[1;33m)\u001b[0m\u001b[1;33m\u001b[0m\u001b[1;33m\u001b[0m\u001b[0m\n",
      "\u001b[1;31mNameError\u001b[0m: name 'str_to_readable' is not defined"
     ]
    }
   ],
   "source": [
    "# plot of tweets per airline per language\n",
    "df_airlang = df_languages_by_airline.astype({\"count\":int}) \n",
    "df_airlang[\"log_count\"] = np.log2(df_airlang[\"count\"])\n",
    "df_airlang[\"airline\"] = df_airlang[\"airline\"].apply(lambda x: str_to_readable(x))\n",
    "df_airlang[\"lang\"] = df_airlang[\"lang\"].replace(tag_to_lang)"
   ]
  },
  {
   "cell_type": "code",
   "execution_count": 12,
   "metadata": {},
   "outputs": [
    {
     "ename": "NameError",
     "evalue": "name 'px' is not defined",
     "output_type": "error",
     "traceback": [
      "\u001b[1;31m---------------------------------------------------------------------------\u001b[0m",
      "\u001b[1;31mNameError\u001b[0m                                 Traceback (most recent call last)",
      "\u001b[1;32m<ipython-input-12-937ec86c1349>\u001b[0m in \u001b[0;36m<module>\u001b[1;34m\u001b[0m\n\u001b[0;32m      1\u001b[0m \u001b[1;31m# main pie\u001b[0m\u001b[1;33m\u001b[0m\u001b[1;33m\u001b[0m\u001b[1;33m\u001b[0m\u001b[0m\n\u001b[1;32m----> 2\u001b[1;33m \u001b[0mfig1\u001b[0m \u001b[1;33m=\u001b[0m \u001b[0mpx\u001b[0m\u001b[1;33m.\u001b[0m\u001b[0mpie\u001b[0m\u001b[1;33m(\u001b[0m\u001b[0mdf_airlang\u001b[0m\u001b[1;33m,\u001b[0m \u001b[0mvalues\u001b[0m\u001b[1;33m=\u001b[0m\u001b[1;34m\"count\"\u001b[0m\u001b[1;33m,\u001b[0m\u001b[0mnames\u001b[0m\u001b[1;33m=\u001b[0m\u001b[1;34m\"airline\"\u001b[0m\u001b[1;33m,\u001b[0m \u001b[0mtitle\u001b[0m\u001b[1;33m=\u001b[0m\u001b[1;34m\"Airlines\"\u001b[0m\u001b[1;33m)\u001b[0m\u001b[1;33m\u001b[0m\u001b[1;33m\u001b[0m\u001b[0m\n\u001b[0m\u001b[0;32m      3\u001b[0m \u001b[0mfig1\u001b[0m\u001b[1;33m.\u001b[0m\u001b[0mupdate_traces\u001b[0m\u001b[1;33m(\u001b[0m\u001b[0mhoverinfo\u001b[0m\u001b[1;33m=\u001b[0m\u001b[1;34m'label+percent'\u001b[0m\u001b[1;33m,\u001b[0m \u001b[0mtextinfo\u001b[0m\u001b[1;33m=\u001b[0m\u001b[1;34m'value'\u001b[0m\u001b[1;33m,\u001b[0m \u001b[0mtextfont_size\u001b[0m\u001b[1;33m=\u001b[0m\u001b[1;36m20\u001b[0m\u001b[1;33m,\u001b[0m \u001b[1;33m)\u001b[0m\u001b[1;33m\u001b[0m\u001b[1;33m\u001b[0m\u001b[0m\n\u001b[0;32m      4\u001b[0m \u001b[0mfig1\u001b[0m\u001b[1;33m.\u001b[0m\u001b[0mshow\u001b[0m\u001b[1;33m(\u001b[0m\u001b[1;33m)\u001b[0m\u001b[1;33m\u001b[0m\u001b[1;33m\u001b[0m\u001b[0m\n",
      "\u001b[1;31mNameError\u001b[0m: name 'px' is not defined"
     ]
    }
   ],
   "source": [
    "# main pie\n",
    "fig1 = px.pie(df_airlang, values=\"count\",names=\"airline\", title=\"Airlines\")\n",
    "fig1.update_traces(hoverinfo='label+percent', textinfo='value', textfont_size=20, )\n",
    "fig1.show()"
   ]
  },
  {
   "cell_type": "code",
   "execution_count": 13,
   "metadata": {},
   "outputs": [
    {
     "ename": "NameError",
     "evalue": "name 'px' is not defined",
     "output_type": "error",
     "traceback": [
      "\u001b[1;31m---------------------------------------------------------------------------\u001b[0m",
      "\u001b[1;31mNameError\u001b[0m                                 Traceback (most recent call last)",
      "\u001b[1;32m<ipython-input-13-274ff6f69ccf>\u001b[0m in \u001b[0;36m<module>\u001b[1;34m\u001b[0m\n\u001b[0;32m      1\u001b[0m \u001b[0mdf_total_counts\u001b[0m \u001b[1;33m=\u001b[0m \u001b[0mdf_airlang\u001b[0m\u001b[1;33m.\u001b[0m\u001b[0mgroupby\u001b[0m\u001b[1;33m(\u001b[0m\u001b[1;34m\"airline\"\u001b[0m\u001b[1;33m)\u001b[0m\u001b[1;33m.\u001b[0m\u001b[0msum\u001b[0m\u001b[1;33m(\u001b[0m\u001b[1;33m)\u001b[0m\u001b[1;33m.\u001b[0m\u001b[0mreset_index\u001b[0m\u001b[1;33m(\u001b[0m\u001b[1;33m)\u001b[0m\u001b[1;33m\u001b[0m\u001b[1;33m\u001b[0m\u001b[0m\n\u001b[1;32m----> 2\u001b[1;33m fig = px.scatter(df_total_counts, x=\"airline\",y=\"airline\", size=\"count\", color=\"count\", size_max=60,\n\u001b[0m\u001b[0;32m      3\u001b[0m                 text='airline', title=\"Total amount of tweets per airlines\")\n\u001b[0;32m      4\u001b[0m \u001b[0mfig\u001b[0m\u001b[1;33m.\u001b[0m\u001b[0mshow\u001b[0m\u001b[1;33m(\u001b[0m\u001b[1;33m)\u001b[0m\u001b[1;33m\u001b[0m\u001b[1;33m\u001b[0m\u001b[0m\n",
      "\u001b[1;31mNameError\u001b[0m: name 'px' is not defined"
     ]
    }
   ],
   "source": [
    "df_total_counts = df_airlang.groupby(\"airline\").sum().reset_index()\n",
    "fig = px.scatter(df_total_counts, x=\"airline\",y=\"airline\", size=\"count\", color=\"count\", size_max=60,\n",
    "                text='airline', title=\"Total amount of tweets per airlines\")\n",
    "fig.show()"
   ]
  },
  {
   "cell_type": "code",
   "execution_count": 9,
   "metadata": {},
   "outputs": [
    {
     "data": {
      "application/vnd.plotly.v1+json": {
       "config": {
        "plotlyServerURL": "https://plot.ly"
       },
       "data": [
        {
         "automargin": true,
         "domain": {
          "x": [
           0,
           0.16799999999999998
          ],
          "y": [
           0.7333333333333333,
           1
          ]
         },
         "hole": 0.75,
         "labels": [
          "English"
         ],
         "name": "American Air",
         "title": {
          "text": "American Air"
         },
         "type": "pie",
         "values": [
          114294
         ]
        },
        {
         "automargin": true,
         "domain": {
          "x": [
           0.208,
           0.376
          ],
          "y": [
           0.7333333333333333,
           1
          ]
         },
         "hole": 0.75,
         "labels": [
          "English"
         ],
         "name": "British Airways",
         "title": {
          "text": "British Airways"
         },
         "type": "pie",
         "values": [
          106493
         ]
        },
        {
         "automargin": true,
         "domain": {
          "x": [
           0.416,
           0.584
          ],
          "y": [
           0.7333333333333333,
           1
          ]
         },
         "hole": 0.75,
         "labels": [
          "English",
          "French",
          "Spanish",
          "Italian",
          "German",
          "Dutch"
         ],
         "name": "easy Jet",
         "title": {
          "text": "easy Jet"
         },
         "type": "pie",
         "values": [
          48423,
          3348,
          1614,
          507,
          292,
          289
         ]
        },
        {
         "automargin": true,
         "domain": {
          "x": [
           0.624,
           0.792
          ],
          "y": [
           0.7333333333333333,
           1
          ]
         },
         "hole": 0.75,
         "labels": [
          "English",
          "Dutch",
          "Spanish",
          "German",
          "Portuguese"
         ],
         "name": "KLM",
         "title": {
          "text": "KLM"
         },
         "type": "pie",
         "values": [
          22941,
          8826,
          1239,
          419,
          270
         ]
        },
        {
         "automargin": true,
         "domain": {
          "x": [
           0.832,
           1
          ],
          "y": [
           0.7333333333333333,
           1
          ]
         },
         "hole": 0.75,
         "labels": [
          "English",
          "Undetermined"
         ],
         "name": "Virgin Atlantic",
         "title": {
          "text": "Virgin Atlantic"
         },
         "type": "pie",
         "values": [
          21245,
          380
         ]
        },
        {
         "automargin": true,
         "domain": {
          "x": [
           0,
           0.16799999999999998
          ],
          "y": [
           0.36666666666666664,
           0.6333333333333333
          ]
         },
         "hole": 0.75,
         "labels": [
          "English",
          "Spanish"
         ],
         "name": "Ryan Air",
         "title": {
          "text": "Ryan Air"
         },
         "type": "pie",
         "values": [
          19901,
          268
         ]
        },
        {
         "automargin": true,
         "domain": {
          "x": [
           0.208,
           0.376
          ],
          "y": [
           0.36666666666666664,
           0.6333333333333333
          ]
         },
         "hole": 0.75,
         "labels": [
          "English"
         ],
         "name": "Singapore Air",
         "title": {
          "text": "Singapore Air"
         },
         "type": "pie",
         "values": [
          12918
         ]
        },
        {
         "automargin": true,
         "domain": {
          "x": [
           0.416,
           0.584
          ],
          "y": [
           0.36666666666666664,
           0.6333333333333333
          ]
         },
         "hole": 0.75,
         "labels": [
          "English",
          "German"
         ],
         "name": "Lufthansa",
         "title": {
          "text": "Lufthansa"
         },
         "type": "pie",
         "values": [
          12559,
          478
         ]
        },
        {
         "automargin": true,
         "domain": {
          "x": [
           0.624,
           0.792
          ],
          "y": [
           0.36666666666666664,
           0.6333333333333333
          ]
         },
         "hole": 0.75,
         "labels": [
          "English"
         ],
         "name": "Qantas",
         "title": {
          "text": "Qantas"
         },
         "type": "pie",
         "values": [
          12090
         ]
        },
        {
         "automargin": true,
         "domain": {
          "x": [
           0.832,
           1
          ],
          "y": [
           0.36666666666666664,
           0.6333333333333333
          ]
         },
         "hole": 0.75,
         "labels": [
          "English",
          "French",
          "Spanish"
         ],
         "name": "Air France",
         "title": {
          "text": "Air France"
         },
         "type": "pie",
         "values": [
          7839,
          1212,
          270
         ]
        },
        {
         "automargin": true,
         "domain": {
          "x": [
           0,
           0.16799999999999998
          ],
          "y": [
           0,
           0.26666666666666666
          ]
         },
         "hole": 0.75,
         "labels": [
          "English"
         ],
         "name": "Etihad Airways",
         "title": {
          "text": "Etihad Airways"
         },
         "type": "pie",
         "values": [
          1327
         ]
        }
       ],
       "layout": {
        "height": 600,
        "legend": {
         "title": {
          "text": "Tweets per language per airline"
         },
         "x": 0.3,
         "xanchor": "left",
         "y": 0.3,
         "yanchor": "top"
        },
        "template": {
         "data": {
          "bar": [
           {
            "error_x": {
             "color": "#2a3f5f"
            },
            "error_y": {
             "color": "#2a3f5f"
            },
            "marker": {
             "line": {
              "color": "#E5ECF6",
              "width": 0.5
             },
             "pattern": {
              "fillmode": "overlay",
              "size": 10,
              "solidity": 0.2
             }
            },
            "type": "bar"
           }
          ],
          "barpolar": [
           {
            "marker": {
             "line": {
              "color": "#E5ECF6",
              "width": 0.5
             },
             "pattern": {
              "fillmode": "overlay",
              "size": 10,
              "solidity": 0.2
             }
            },
            "type": "barpolar"
           }
          ],
          "carpet": [
           {
            "aaxis": {
             "endlinecolor": "#2a3f5f",
             "gridcolor": "white",
             "linecolor": "white",
             "minorgridcolor": "white",
             "startlinecolor": "#2a3f5f"
            },
            "baxis": {
             "endlinecolor": "#2a3f5f",
             "gridcolor": "white",
             "linecolor": "white",
             "minorgridcolor": "white",
             "startlinecolor": "#2a3f5f"
            },
            "type": "carpet"
           }
          ],
          "choropleth": [
           {
            "colorbar": {
             "outlinewidth": 0,
             "ticks": ""
            },
            "type": "choropleth"
           }
          ],
          "contour": [
           {
            "colorbar": {
             "outlinewidth": 0,
             "ticks": ""
            },
            "colorscale": [
             [
              0,
              "#0d0887"
             ],
             [
              0.1111111111111111,
              "#46039f"
             ],
             [
              0.2222222222222222,
              "#7201a8"
             ],
             [
              0.3333333333333333,
              "#9c179e"
             ],
             [
              0.4444444444444444,
              "#bd3786"
             ],
             [
              0.5555555555555556,
              "#d8576b"
             ],
             [
              0.6666666666666666,
              "#ed7953"
             ],
             [
              0.7777777777777778,
              "#fb9f3a"
             ],
             [
              0.8888888888888888,
              "#fdca26"
             ],
             [
              1,
              "#f0f921"
             ]
            ],
            "type": "contour"
           }
          ],
          "contourcarpet": [
           {
            "colorbar": {
             "outlinewidth": 0,
             "ticks": ""
            },
            "type": "contourcarpet"
           }
          ],
          "heatmap": [
           {
            "colorbar": {
             "outlinewidth": 0,
             "ticks": ""
            },
            "colorscale": [
             [
              0,
              "#0d0887"
             ],
             [
              0.1111111111111111,
              "#46039f"
             ],
             [
              0.2222222222222222,
              "#7201a8"
             ],
             [
              0.3333333333333333,
              "#9c179e"
             ],
             [
              0.4444444444444444,
              "#bd3786"
             ],
             [
              0.5555555555555556,
              "#d8576b"
             ],
             [
              0.6666666666666666,
              "#ed7953"
             ],
             [
              0.7777777777777778,
              "#fb9f3a"
             ],
             [
              0.8888888888888888,
              "#fdca26"
             ],
             [
              1,
              "#f0f921"
             ]
            ],
            "type": "heatmap"
           }
          ],
          "heatmapgl": [
           {
            "colorbar": {
             "outlinewidth": 0,
             "ticks": ""
            },
            "colorscale": [
             [
              0,
              "#0d0887"
             ],
             [
              0.1111111111111111,
              "#46039f"
             ],
             [
              0.2222222222222222,
              "#7201a8"
             ],
             [
              0.3333333333333333,
              "#9c179e"
             ],
             [
              0.4444444444444444,
              "#bd3786"
             ],
             [
              0.5555555555555556,
              "#d8576b"
             ],
             [
              0.6666666666666666,
              "#ed7953"
             ],
             [
              0.7777777777777778,
              "#fb9f3a"
             ],
             [
              0.8888888888888888,
              "#fdca26"
             ],
             [
              1,
              "#f0f921"
             ]
            ],
            "type": "heatmapgl"
           }
          ],
          "histogram": [
           {
            "marker": {
             "pattern": {
              "fillmode": "overlay",
              "size": 10,
              "solidity": 0.2
             }
            },
            "type": "histogram"
           }
          ],
          "histogram2d": [
           {
            "colorbar": {
             "outlinewidth": 0,
             "ticks": ""
            },
            "colorscale": [
             [
              0,
              "#0d0887"
             ],
             [
              0.1111111111111111,
              "#46039f"
             ],
             [
              0.2222222222222222,
              "#7201a8"
             ],
             [
              0.3333333333333333,
              "#9c179e"
             ],
             [
              0.4444444444444444,
              "#bd3786"
             ],
             [
              0.5555555555555556,
              "#d8576b"
             ],
             [
              0.6666666666666666,
              "#ed7953"
             ],
             [
              0.7777777777777778,
              "#fb9f3a"
             ],
             [
              0.8888888888888888,
              "#fdca26"
             ],
             [
              1,
              "#f0f921"
             ]
            ],
            "type": "histogram2d"
           }
          ],
          "histogram2dcontour": [
           {
            "colorbar": {
             "outlinewidth": 0,
             "ticks": ""
            },
            "colorscale": [
             [
              0,
              "#0d0887"
             ],
             [
              0.1111111111111111,
              "#46039f"
             ],
             [
              0.2222222222222222,
              "#7201a8"
             ],
             [
              0.3333333333333333,
              "#9c179e"
             ],
             [
              0.4444444444444444,
              "#bd3786"
             ],
             [
              0.5555555555555556,
              "#d8576b"
             ],
             [
              0.6666666666666666,
              "#ed7953"
             ],
             [
              0.7777777777777778,
              "#fb9f3a"
             ],
             [
              0.8888888888888888,
              "#fdca26"
             ],
             [
              1,
              "#f0f921"
             ]
            ],
            "type": "histogram2dcontour"
           }
          ],
          "mesh3d": [
           {
            "colorbar": {
             "outlinewidth": 0,
             "ticks": ""
            },
            "type": "mesh3d"
           }
          ],
          "parcoords": [
           {
            "line": {
             "colorbar": {
              "outlinewidth": 0,
              "ticks": ""
             }
            },
            "type": "parcoords"
           }
          ],
          "pie": [
           {
            "automargin": true,
            "type": "pie"
           }
          ],
          "scatter": [
           {
            "fillpattern": {
             "fillmode": "overlay",
             "size": 10,
             "solidity": 0.2
            },
            "type": "scatter"
           }
          ],
          "scatter3d": [
           {
            "line": {
             "colorbar": {
              "outlinewidth": 0,
              "ticks": ""
             }
            },
            "marker": {
             "colorbar": {
              "outlinewidth": 0,
              "ticks": ""
             }
            },
            "type": "scatter3d"
           }
          ],
          "scattercarpet": [
           {
            "marker": {
             "colorbar": {
              "outlinewidth": 0,
              "ticks": ""
             }
            },
            "type": "scattercarpet"
           }
          ],
          "scattergeo": [
           {
            "marker": {
             "colorbar": {
              "outlinewidth": 0,
              "ticks": ""
             }
            },
            "type": "scattergeo"
           }
          ],
          "scattergl": [
           {
            "marker": {
             "colorbar": {
              "outlinewidth": 0,
              "ticks": ""
             }
            },
            "type": "scattergl"
           }
          ],
          "scattermapbox": [
           {
            "marker": {
             "colorbar": {
              "outlinewidth": 0,
              "ticks": ""
             }
            },
            "type": "scattermapbox"
           }
          ],
          "scatterpolar": [
           {
            "marker": {
             "colorbar": {
              "outlinewidth": 0,
              "ticks": ""
             }
            },
            "type": "scatterpolar"
           }
          ],
          "scatterpolargl": [
           {
            "marker": {
             "colorbar": {
              "outlinewidth": 0,
              "ticks": ""
             }
            },
            "type": "scatterpolargl"
           }
          ],
          "scatterternary": [
           {
            "marker": {
             "colorbar": {
              "outlinewidth": 0,
              "ticks": ""
             }
            },
            "type": "scatterternary"
           }
          ],
          "surface": [
           {
            "colorbar": {
             "outlinewidth": 0,
             "ticks": ""
            },
            "colorscale": [
             [
              0,
              "#0d0887"
             ],
             [
              0.1111111111111111,
              "#46039f"
             ],
             [
              0.2222222222222222,
              "#7201a8"
             ],
             [
              0.3333333333333333,
              "#9c179e"
             ],
             [
              0.4444444444444444,
              "#bd3786"
             ],
             [
              0.5555555555555556,
              "#d8576b"
             ],
             [
              0.6666666666666666,
              "#ed7953"
             ],
             [
              0.7777777777777778,
              "#fb9f3a"
             ],
             [
              0.8888888888888888,
              "#fdca26"
             ],
             [
              1,
              "#f0f921"
             ]
            ],
            "type": "surface"
           }
          ],
          "table": [
           {
            "cells": {
             "fill": {
              "color": "#EBF0F8"
             },
             "line": {
              "color": "white"
             }
            },
            "header": {
             "fill": {
              "color": "#C8D4E3"
             },
             "line": {
              "color": "white"
             }
            },
            "type": "table"
           }
          ]
         },
         "layout": {
          "annotationdefaults": {
           "arrowcolor": "#2a3f5f",
           "arrowhead": 0,
           "arrowwidth": 1
          },
          "autotypenumbers": "strict",
          "coloraxis": {
           "colorbar": {
            "outlinewidth": 0,
            "ticks": ""
           }
          },
          "colorscale": {
           "diverging": [
            [
             0,
             "#8e0152"
            ],
            [
             0.1,
             "#c51b7d"
            ],
            [
             0.2,
             "#de77ae"
            ],
            [
             0.3,
             "#f1b6da"
            ],
            [
             0.4,
             "#fde0ef"
            ],
            [
             0.5,
             "#f7f7f7"
            ],
            [
             0.6,
             "#e6f5d0"
            ],
            [
             0.7,
             "#b8e186"
            ],
            [
             0.8,
             "#7fbc41"
            ],
            [
             0.9,
             "#4d9221"
            ],
            [
             1,
             "#276419"
            ]
           ],
           "sequential": [
            [
             0,
             "#0d0887"
            ],
            [
             0.1111111111111111,
             "#46039f"
            ],
            [
             0.2222222222222222,
             "#7201a8"
            ],
            [
             0.3333333333333333,
             "#9c179e"
            ],
            [
             0.4444444444444444,
             "#bd3786"
            ],
            [
             0.5555555555555556,
             "#d8576b"
            ],
            [
             0.6666666666666666,
             "#ed7953"
            ],
            [
             0.7777777777777778,
             "#fb9f3a"
            ],
            [
             0.8888888888888888,
             "#fdca26"
            ],
            [
             1,
             "#f0f921"
            ]
           ],
           "sequentialminus": [
            [
             0,
             "#0d0887"
            ],
            [
             0.1111111111111111,
             "#46039f"
            ],
            [
             0.2222222222222222,
             "#7201a8"
            ],
            [
             0.3333333333333333,
             "#9c179e"
            ],
            [
             0.4444444444444444,
             "#bd3786"
            ],
            [
             0.5555555555555556,
             "#d8576b"
            ],
            [
             0.6666666666666666,
             "#ed7953"
            ],
            [
             0.7777777777777778,
             "#fb9f3a"
            ],
            [
             0.8888888888888888,
             "#fdca26"
            ],
            [
             1,
             "#f0f921"
            ]
           ]
          },
          "colorway": [
           "#636efa",
           "#EF553B",
           "#00cc96",
           "#ab63fa",
           "#FFA15A",
           "#19d3f3",
           "#FF6692",
           "#B6E880",
           "#FF97FF",
           "#FECB52"
          ],
          "font": {
           "color": "#2a3f5f"
          },
          "geo": {
           "bgcolor": "white",
           "lakecolor": "white",
           "landcolor": "#E5ECF6",
           "showlakes": true,
           "showland": true,
           "subunitcolor": "white"
          },
          "hoverlabel": {
           "align": "left"
          },
          "hovermode": "closest",
          "mapbox": {
           "style": "light"
          },
          "paper_bgcolor": "white",
          "plot_bgcolor": "#E5ECF6",
          "polar": {
           "angularaxis": {
            "gridcolor": "white",
            "linecolor": "white",
            "ticks": ""
           },
           "bgcolor": "#E5ECF6",
           "radialaxis": {
            "gridcolor": "white",
            "linecolor": "white",
            "ticks": ""
           }
          },
          "scene": {
           "xaxis": {
            "backgroundcolor": "#E5ECF6",
            "gridcolor": "white",
            "gridwidth": 2,
            "linecolor": "white",
            "showbackground": true,
            "ticks": "",
            "zerolinecolor": "white"
           },
           "yaxis": {
            "backgroundcolor": "#E5ECF6",
            "gridcolor": "white",
            "gridwidth": 2,
            "linecolor": "white",
            "showbackground": true,
            "ticks": "",
            "zerolinecolor": "white"
           },
           "zaxis": {
            "backgroundcolor": "#E5ECF6",
            "gridcolor": "white",
            "gridwidth": 2,
            "linecolor": "white",
            "showbackground": true,
            "ticks": "",
            "zerolinecolor": "white"
           }
          },
          "shapedefaults": {
           "line": {
            "color": "#2a3f5f"
           }
          },
          "ternary": {
           "aaxis": {
            "gridcolor": "white",
            "linecolor": "white",
            "ticks": ""
           },
           "baxis": {
            "gridcolor": "white",
            "linecolor": "white",
            "ticks": ""
           },
           "bgcolor": "#E5ECF6",
           "caxis": {
            "gridcolor": "white",
            "linecolor": "white",
            "ticks": ""
           }
          },
          "title": {
           "x": 0.05
          },
          "xaxis": {
           "automargin": true,
           "gridcolor": "white",
           "linecolor": "white",
           "ticks": "",
           "title": {
            "standoff": 15
           },
           "zerolinecolor": "white",
           "zerolinewidth": 2
          },
          "yaxis": {
           "automargin": true,
           "gridcolor": "white",
           "linecolor": "white",
           "ticks": "",
           "title": {
            "standoff": 15
           },
           "zerolinecolor": "white",
           "zerolinewidth": 2
          }
         }
        },
        "width": 1000
       }
      },
      "text/html": [
       "<div>                            <div id=\"0cf2c82a-17e5-4c52-adcf-fa1a20a47e29\" class=\"plotly-graph-div\" style=\"height:600px; width:1000px;\"></div>            <script type=\"text/javascript\">                require([\"plotly\"], function(Plotly) {                    window.PLOTLYENV=window.PLOTLYENV || {};                                    if (document.getElementById(\"0cf2c82a-17e5-4c52-adcf-fa1a20a47e29\")) {                    Plotly.newPlot(                        \"0cf2c82a-17e5-4c52-adcf-fa1a20a47e29\",                        [{\"automargin\":true,\"hole\":0.75,\"labels\":[\"English\"],\"name\":\"American Air\",\"title\":{\"text\":\"American Air\"},\"values\":[114294],\"type\":\"pie\",\"domain\":{\"x\":[0.0,0.16799999999999998],\"y\":[0.7333333333333333,1.0]}},{\"automargin\":true,\"hole\":0.75,\"labels\":[\"English\"],\"name\":\"British Airways\",\"title\":{\"text\":\"British Airways\"},\"values\":[106493],\"type\":\"pie\",\"domain\":{\"x\":[0.208,0.376],\"y\":[0.7333333333333333,1.0]}},{\"automargin\":true,\"hole\":0.75,\"labels\":[\"English\",\"French\",\"Spanish\",\"Italian\",\"German\",\"Dutch\"],\"name\":\"easy Jet\",\"title\":{\"text\":\"easy Jet\"},\"values\":[48423,3348,1614,507,292,289],\"type\":\"pie\",\"domain\":{\"x\":[0.416,0.584],\"y\":[0.7333333333333333,1.0]}},{\"automargin\":true,\"hole\":0.75,\"labels\":[\"English\",\"Dutch\",\"Spanish\",\"German\",\"Portuguese\"],\"name\":\"KLM\",\"title\":{\"text\":\"KLM\"},\"values\":[22941,8826,1239,419,270],\"type\":\"pie\",\"domain\":{\"x\":[0.624,0.792],\"y\":[0.7333333333333333,1.0]}},{\"automargin\":true,\"hole\":0.75,\"labels\":[\"English\",\"Undetermined\"],\"name\":\"Virgin Atlantic\",\"title\":{\"text\":\"Virgin Atlantic\"},\"values\":[21245,380],\"type\":\"pie\",\"domain\":{\"x\":[0.832,1.0],\"y\":[0.7333333333333333,1.0]}},{\"automargin\":true,\"hole\":0.75,\"labels\":[\"English\",\"Spanish\"],\"name\":\"Ryan Air\",\"title\":{\"text\":\"Ryan Air\"},\"values\":[19901,268],\"type\":\"pie\",\"domain\":{\"x\":[0.0,0.16799999999999998],\"y\":[0.36666666666666664,0.6333333333333333]}},{\"automargin\":true,\"hole\":0.75,\"labels\":[\"English\"],\"name\":\"Singapore Air\",\"title\":{\"text\":\"Singapore Air\"},\"values\":[12918],\"type\":\"pie\",\"domain\":{\"x\":[0.208,0.376],\"y\":[0.36666666666666664,0.6333333333333333]}},{\"automargin\":true,\"hole\":0.75,\"labels\":[\"English\",\"German\"],\"name\":\"Lufthansa\",\"title\":{\"text\":\"Lufthansa\"},\"values\":[12559,478],\"type\":\"pie\",\"domain\":{\"x\":[0.416,0.584],\"y\":[0.36666666666666664,0.6333333333333333]}},{\"automargin\":true,\"hole\":0.75,\"labels\":[\"English\"],\"name\":\"Qantas\",\"title\":{\"text\":\"Qantas\"},\"values\":[12090],\"type\":\"pie\",\"domain\":{\"x\":[0.624,0.792],\"y\":[0.36666666666666664,0.6333333333333333]}},{\"automargin\":true,\"hole\":0.75,\"labels\":[\"English\",\"French\",\"Spanish\"],\"name\":\"Air France\",\"title\":{\"text\":\"Air France\"},\"values\":[7839,1212,270],\"type\":\"pie\",\"domain\":{\"x\":[0.832,1.0],\"y\":[0.36666666666666664,0.6333333333333333]}},{\"automargin\":true,\"hole\":0.75,\"labels\":[\"English\"],\"name\":\"Etihad Airways\",\"title\":{\"text\":\"Etihad Airways\"},\"values\":[1327],\"type\":\"pie\",\"domain\":{\"x\":[0.0,0.16799999999999998],\"y\":[0.0,0.26666666666666666]}}],                        {\"template\":{\"data\":{\"histogram2dcontour\":[{\"type\":\"histogram2dcontour\",\"colorbar\":{\"outlinewidth\":0,\"ticks\":\"\"},\"colorscale\":[[0.0,\"#0d0887\"],[0.1111111111111111,\"#46039f\"],[0.2222222222222222,\"#7201a8\"],[0.3333333333333333,\"#9c179e\"],[0.4444444444444444,\"#bd3786\"],[0.5555555555555556,\"#d8576b\"],[0.6666666666666666,\"#ed7953\"],[0.7777777777777778,\"#fb9f3a\"],[0.8888888888888888,\"#fdca26\"],[1.0,\"#f0f921\"]]}],\"choropleth\":[{\"type\":\"choropleth\",\"colorbar\":{\"outlinewidth\":0,\"ticks\":\"\"}}],\"histogram2d\":[{\"type\":\"histogram2d\",\"colorbar\":{\"outlinewidth\":0,\"ticks\":\"\"},\"colorscale\":[[0.0,\"#0d0887\"],[0.1111111111111111,\"#46039f\"],[0.2222222222222222,\"#7201a8\"],[0.3333333333333333,\"#9c179e\"],[0.4444444444444444,\"#bd3786\"],[0.5555555555555556,\"#d8576b\"],[0.6666666666666666,\"#ed7953\"],[0.7777777777777778,\"#fb9f3a\"],[0.8888888888888888,\"#fdca26\"],[1.0,\"#f0f921\"]]}],\"heatmap\":[{\"type\":\"heatmap\",\"colorbar\":{\"outlinewidth\":0,\"ticks\":\"\"},\"colorscale\":[[0.0,\"#0d0887\"],[0.1111111111111111,\"#46039f\"],[0.2222222222222222,\"#7201a8\"],[0.3333333333333333,\"#9c179e\"],[0.4444444444444444,\"#bd3786\"],[0.5555555555555556,\"#d8576b\"],[0.6666666666666666,\"#ed7953\"],[0.7777777777777778,\"#fb9f3a\"],[0.8888888888888888,\"#fdca26\"],[1.0,\"#f0f921\"]]}],\"heatmapgl\":[{\"type\":\"heatmapgl\",\"colorbar\":{\"outlinewidth\":0,\"ticks\":\"\"},\"colorscale\":[[0.0,\"#0d0887\"],[0.1111111111111111,\"#46039f\"],[0.2222222222222222,\"#7201a8\"],[0.3333333333333333,\"#9c179e\"],[0.4444444444444444,\"#bd3786\"],[0.5555555555555556,\"#d8576b\"],[0.6666666666666666,\"#ed7953\"],[0.7777777777777778,\"#fb9f3a\"],[0.8888888888888888,\"#fdca26\"],[1.0,\"#f0f921\"]]}],\"contourcarpet\":[{\"type\":\"contourcarpet\",\"colorbar\":{\"outlinewidth\":0,\"ticks\":\"\"}}],\"contour\":[{\"type\":\"contour\",\"colorbar\":{\"outlinewidth\":0,\"ticks\":\"\"},\"colorscale\":[[0.0,\"#0d0887\"],[0.1111111111111111,\"#46039f\"],[0.2222222222222222,\"#7201a8\"],[0.3333333333333333,\"#9c179e\"],[0.4444444444444444,\"#bd3786\"],[0.5555555555555556,\"#d8576b\"],[0.6666666666666666,\"#ed7953\"],[0.7777777777777778,\"#fb9f3a\"],[0.8888888888888888,\"#fdca26\"],[1.0,\"#f0f921\"]]}],\"surface\":[{\"type\":\"surface\",\"colorbar\":{\"outlinewidth\":0,\"ticks\":\"\"},\"colorscale\":[[0.0,\"#0d0887\"],[0.1111111111111111,\"#46039f\"],[0.2222222222222222,\"#7201a8\"],[0.3333333333333333,\"#9c179e\"],[0.4444444444444444,\"#bd3786\"],[0.5555555555555556,\"#d8576b\"],[0.6666666666666666,\"#ed7953\"],[0.7777777777777778,\"#fb9f3a\"],[0.8888888888888888,\"#fdca26\"],[1.0,\"#f0f921\"]]}],\"mesh3d\":[{\"type\":\"mesh3d\",\"colorbar\":{\"outlinewidth\":0,\"ticks\":\"\"}}],\"scatter\":[{\"fillpattern\":{\"fillmode\":\"overlay\",\"size\":10,\"solidity\":0.2},\"type\":\"scatter\"}],\"parcoords\":[{\"type\":\"parcoords\",\"line\":{\"colorbar\":{\"outlinewidth\":0,\"ticks\":\"\"}}}],\"scatterpolargl\":[{\"type\":\"scatterpolargl\",\"marker\":{\"colorbar\":{\"outlinewidth\":0,\"ticks\":\"\"}}}],\"bar\":[{\"error_x\":{\"color\":\"#2a3f5f\"},\"error_y\":{\"color\":\"#2a3f5f\"},\"marker\":{\"line\":{\"color\":\"#E5ECF6\",\"width\":0.5},\"pattern\":{\"fillmode\":\"overlay\",\"size\":10,\"solidity\":0.2}},\"type\":\"bar\"}],\"scattergeo\":[{\"type\":\"scattergeo\",\"marker\":{\"colorbar\":{\"outlinewidth\":0,\"ticks\":\"\"}}}],\"scatterpolar\":[{\"type\":\"scatterpolar\",\"marker\":{\"colorbar\":{\"outlinewidth\":0,\"ticks\":\"\"}}}],\"histogram\":[{\"marker\":{\"pattern\":{\"fillmode\":\"overlay\",\"size\":10,\"solidity\":0.2}},\"type\":\"histogram\"}],\"scattergl\":[{\"type\":\"scattergl\",\"marker\":{\"colorbar\":{\"outlinewidth\":0,\"ticks\":\"\"}}}],\"scatter3d\":[{\"type\":\"scatter3d\",\"line\":{\"colorbar\":{\"outlinewidth\":0,\"ticks\":\"\"}},\"marker\":{\"colorbar\":{\"outlinewidth\":0,\"ticks\":\"\"}}}],\"scattermapbox\":[{\"type\":\"scattermapbox\",\"marker\":{\"colorbar\":{\"outlinewidth\":0,\"ticks\":\"\"}}}],\"scatterternary\":[{\"type\":\"scatterternary\",\"marker\":{\"colorbar\":{\"outlinewidth\":0,\"ticks\":\"\"}}}],\"scattercarpet\":[{\"type\":\"scattercarpet\",\"marker\":{\"colorbar\":{\"outlinewidth\":0,\"ticks\":\"\"}}}],\"carpet\":[{\"aaxis\":{\"endlinecolor\":\"#2a3f5f\",\"gridcolor\":\"white\",\"linecolor\":\"white\",\"minorgridcolor\":\"white\",\"startlinecolor\":\"#2a3f5f\"},\"baxis\":{\"endlinecolor\":\"#2a3f5f\",\"gridcolor\":\"white\",\"linecolor\":\"white\",\"minorgridcolor\":\"white\",\"startlinecolor\":\"#2a3f5f\"},\"type\":\"carpet\"}],\"table\":[{\"cells\":{\"fill\":{\"color\":\"#EBF0F8\"},\"line\":{\"color\":\"white\"}},\"header\":{\"fill\":{\"color\":\"#C8D4E3\"},\"line\":{\"color\":\"white\"}},\"type\":\"table\"}],\"barpolar\":[{\"marker\":{\"line\":{\"color\":\"#E5ECF6\",\"width\":0.5},\"pattern\":{\"fillmode\":\"overlay\",\"size\":10,\"solidity\":0.2}},\"type\":\"barpolar\"}],\"pie\":[{\"automargin\":true,\"type\":\"pie\"}]},\"layout\":{\"autotypenumbers\":\"strict\",\"colorway\":[\"#636efa\",\"#EF553B\",\"#00cc96\",\"#ab63fa\",\"#FFA15A\",\"#19d3f3\",\"#FF6692\",\"#B6E880\",\"#FF97FF\",\"#FECB52\"],\"font\":{\"color\":\"#2a3f5f\"},\"hovermode\":\"closest\",\"hoverlabel\":{\"align\":\"left\"},\"paper_bgcolor\":\"white\",\"plot_bgcolor\":\"#E5ECF6\",\"polar\":{\"bgcolor\":\"#E5ECF6\",\"angularaxis\":{\"gridcolor\":\"white\",\"linecolor\":\"white\",\"ticks\":\"\"},\"radialaxis\":{\"gridcolor\":\"white\",\"linecolor\":\"white\",\"ticks\":\"\"}},\"ternary\":{\"bgcolor\":\"#E5ECF6\",\"aaxis\":{\"gridcolor\":\"white\",\"linecolor\":\"white\",\"ticks\":\"\"},\"baxis\":{\"gridcolor\":\"white\",\"linecolor\":\"white\",\"ticks\":\"\"},\"caxis\":{\"gridcolor\":\"white\",\"linecolor\":\"white\",\"ticks\":\"\"}},\"coloraxis\":{\"colorbar\":{\"outlinewidth\":0,\"ticks\":\"\"}},\"colorscale\":{\"sequential\":[[0.0,\"#0d0887\"],[0.1111111111111111,\"#46039f\"],[0.2222222222222222,\"#7201a8\"],[0.3333333333333333,\"#9c179e\"],[0.4444444444444444,\"#bd3786\"],[0.5555555555555556,\"#d8576b\"],[0.6666666666666666,\"#ed7953\"],[0.7777777777777778,\"#fb9f3a\"],[0.8888888888888888,\"#fdca26\"],[1.0,\"#f0f921\"]],\"sequentialminus\":[[0.0,\"#0d0887\"],[0.1111111111111111,\"#46039f\"],[0.2222222222222222,\"#7201a8\"],[0.3333333333333333,\"#9c179e\"],[0.4444444444444444,\"#bd3786\"],[0.5555555555555556,\"#d8576b\"],[0.6666666666666666,\"#ed7953\"],[0.7777777777777778,\"#fb9f3a\"],[0.8888888888888888,\"#fdca26\"],[1.0,\"#f0f921\"]],\"diverging\":[[0,\"#8e0152\"],[0.1,\"#c51b7d\"],[0.2,\"#de77ae\"],[0.3,\"#f1b6da\"],[0.4,\"#fde0ef\"],[0.5,\"#f7f7f7\"],[0.6,\"#e6f5d0\"],[0.7,\"#b8e186\"],[0.8,\"#7fbc41\"],[0.9,\"#4d9221\"],[1,\"#276419\"]]},\"xaxis\":{\"gridcolor\":\"white\",\"linecolor\":\"white\",\"ticks\":\"\",\"title\":{\"standoff\":15},\"zerolinecolor\":\"white\",\"automargin\":true,\"zerolinewidth\":2},\"yaxis\":{\"gridcolor\":\"white\",\"linecolor\":\"white\",\"ticks\":\"\",\"title\":{\"standoff\":15},\"zerolinecolor\":\"white\",\"automargin\":true,\"zerolinewidth\":2},\"scene\":{\"xaxis\":{\"backgroundcolor\":\"#E5ECF6\",\"gridcolor\":\"white\",\"linecolor\":\"white\",\"showbackground\":true,\"ticks\":\"\",\"zerolinecolor\":\"white\",\"gridwidth\":2},\"yaxis\":{\"backgroundcolor\":\"#E5ECF6\",\"gridcolor\":\"white\",\"linecolor\":\"white\",\"showbackground\":true,\"ticks\":\"\",\"zerolinecolor\":\"white\",\"gridwidth\":2},\"zaxis\":{\"backgroundcolor\":\"#E5ECF6\",\"gridcolor\":\"white\",\"linecolor\":\"white\",\"showbackground\":true,\"ticks\":\"\",\"zerolinecolor\":\"white\",\"gridwidth\":2}},\"shapedefaults\":{\"line\":{\"color\":\"#2a3f5f\"}},\"annotationdefaults\":{\"arrowcolor\":\"#2a3f5f\",\"arrowhead\":0,\"arrowwidth\":1},\"geo\":{\"bgcolor\":\"white\",\"landcolor\":\"#E5ECF6\",\"subunitcolor\":\"white\",\"showland\":true,\"showlakes\":true,\"lakecolor\":\"white\"},\"title\":{\"x\":0.05},\"mapbox\":{\"style\":\"light\"}}},\"height\":600,\"width\":1000,\"legend\":{\"yanchor\":\"top\",\"y\":0.3,\"xanchor\":\"left\",\"x\":0.3,\"title\":{\"text\":\"Tweets per language per airline\"}}},                        {\"responsive\": true}                    ).then(function(){\n",
       "                            \n",
       "var gd = document.getElementById('0cf2c82a-17e5-4c52-adcf-fa1a20a47e29');\n",
       "var x = new MutationObserver(function (mutations, observer) {{\n",
       "        var display = window.getComputedStyle(gd).display;\n",
       "        if (!display || display === 'none') {{\n",
       "            console.log([gd, 'removed!']);\n",
       "            Plotly.purge(gd);\n",
       "            observer.disconnect();\n",
       "        }}\n",
       "}});\n",
       "\n",
       "// Listen for the removal of the full notebook cells\n",
       "var notebookContainer = gd.closest('#notebook-container');\n",
       "if (notebookContainer) {{\n",
       "    x.observe(notebookContainer, {childList: true});\n",
       "}}\n",
       "\n",
       "// Listen for the clearing of the current output cell\n",
       "var outputEl = gd.closest('.output');\n",
       "if (outputEl) {{\n",
       "    x.observe(outputEl, {childList: true});\n",
       "}}\n",
       "\n",
       "                        })                };                });            </script>        </div>"
      ]
     },
     "metadata": {},
     "output_type": "display_data"
    }
   ],
   "source": [
    "# fig = px.scatter(\n",
    "#     data_frame= df, \n",
    "#     x=\"airline\", \n",
    "#     y=\"lang\", \n",
    "#     size=\"count\", \n",
    "#     color=\"count\",\n",
    "#     hover_name=\"airline\",\n",
    "#     #facet_col=\"lang\",\n",
    "#     #facet_col_wrap=2,\n",
    "#     size_max=30,\n",
    "    \n",
    "#     title = \"Interactive Plot of Tweet counts per language and airline\",\n",
    "#     labels = {\"lang\":\"Language\", \"airline\": \"Airline\", \"count\":\"Tweet Count\"}\n",
    "# )\n",
    "# pie plots\n",
    "distr = (5, 3)\n",
    "\n",
    "specs = [[{'type':'domain'} for i in range(distr[0])] for i in range(distr[1])]\n",
    "\n",
    "fig = make_subplots(rows=distr[1], cols=distr[0], specs=specs)\n",
    "col = 1\n",
    "row = 1\n",
    "for airline in df_airlang[\"airline\"].unique():\n",
    "    df_air = df_airlang[df_airlang[\"airline\"]==airline].query(\"count > 250\")\n",
    "    if col > distr[0]:\n",
    "        col = 1\n",
    "        row += 1\n",
    "    fig.add_trace(\n",
    "        go.Pie(values=df_air[\"count\"], labels=df_air[\"lang\"], title=airline, automargin=True, hole=0.75, name=airline\n",
    "        ), row, col)\n",
    "    col += 1\n",
    "fig.update_layout(\n",
    "    height= 600,\n",
    "    width = 1000\n",
    "    #paper_bgcolor=\"LightSteelBlue\",\n",
    ")\n",
    "fig.update_layout(legend=dict(\n",
    "    yanchor=\"top\",\n",
    "    y=0.3,\n",
    "    xanchor=\"left\",\n",
    "    x=0.3,\n",
    "    title=\"Tweets per language per airline\"\n",
    "))\n",
    "fig.show()"
   ]
  },
  {
   "cell_type": "code",
   "execution_count": 10,
   "metadata": {},
   "outputs": [
    {
     "data": {
      "application/vnd.plotly.v1+json": {
       "config": {
        "plotlyServerURL": "https://plot.ly"
       },
       "data": [
        {
         "branchvalues": "total",
         "customdata": [
          [
           "Arabic: 57",
           57
          ],
          [
           "Basque: 1",
           1
          ],
          [
           "Basque: 2",
           2
          ],
          [
           "Catalan: 1",
           1
          ],
          [
           "Catalan: 1",
           1
          ],
          [
           "Catalan: 12",
           12
          ],
          [
           "Czech: 1",
           1
          ],
          [
           "Czech: 1",
           1
          ],
          [
           "Czech: 1",
           1
          ],
          [
           "Danish: 1",
           1
          ],
          [
           "Danish: 2",
           2
          ],
          [
           "Dutch: 1",
           1
          ],
          [
           "Dutch: 1",
           1
          ],
          [
           "Dutch: 2",
           2
          ],
          [
           "Dutch: 2",
           2
          ],
          [
           "Dutch: 289",
           289
          ],
          [
           "Dutch: 3",
           3
          ],
          [
           "Dutch: 8826",
           8826
          ],
          [
           "English: 106493",
           106493
          ],
          [
           "English: 114294",
           114294
          ],
          [
           "English: 12090",
           12090
          ],
          [
           "English: 12559",
           12559
          ],
          [
           "English: 12918",
           12918
          ],
          [
           "English: 1327",
           1327
          ],
          [
           "English: 19901",
           19901
          ],
          [
           "English: 21245",
           21245
          ],
          [
           "English: 22941",
           22941
          ],
          [
           "English: 48423",
           48423
          ],
          [
           "English: 7839",
           7839
          ],
          [
           "Estonian: 3",
           3
          ],
          [
           "Estonian: 5",
           5
          ],
          [
           "Estonian: 7",
           7
          ],
          [
           "Estonian: 7",
           7
          ],
          [
           "Estonian: 9",
           9
          ],
          [
           "Finnish: 1",
           1
          ],
          [
           "French: 1",
           1
          ],
          [
           "French: 1",
           1
          ],
          [
           "French: 1212",
           1212
          ],
          [
           "French: 162",
           162
          ],
          [
           "French: 19",
           19
          ],
          [
           "French: 2",
           2
          ],
          [
           "French: 3348",
           3348
          ],
          [
           "French: 6",
           6
          ],
          [
           "French: 7",
           7
          ],
          [
           "French: 7",
           7
          ],
          [
           "German: 10",
           10
          ],
          [
           "German: 20",
           20
          ],
          [
           "German: 292",
           292
          ],
          [
           "German: 3",
           3
          ],
          [
           "German: 3",
           3
          ],
          [
           "German: 419",
           419
          ],
          [
           "German: 478",
           478
          ],
          [
           "Haitian Creole: 2",
           2
          ],
          [
           "Haitian Creole: 3",
           3
          ],
          [
           "Haitian Creole: 5",
           5
          ],
          [
           "Hindi: 1",
           1
          ],
          [
           "Hindi: 1",
           1
          ],
          [
           "Hindi: 19",
           19
          ],
          [
           "Hindi: 2",
           2
          ],
          [
           "Hungarian: 1",
           1
          ],
          [
           "Hungarian: 1",
           1
          ],
          [
           "Hungarian: 7",
           7
          ],
          [
           "Icelandic: 1",
           1
          ],
          [
           "Icelandic: 1",
           1
          ],
          [
           "Icelandic: 3",
           3
          ],
          [
           "Indonesian: 1",
           1
          ],
          [
           "Indonesian: 2",
           2
          ],
          [
           "Indonesian: 3",
           3
          ],
          [
           "Indonesian: 4",
           4
          ],
          [
           "Indonesian: 5",
           5
          ],
          [
           "Indonesian: 5",
           5
          ],
          [
           "Indonesian: 7",
           7
          ],
          [
           "Italian: 1",
           1
          ],
          [
           "Italian: 115",
           115
          ],
          [
           "Italian: 3",
           3
          ],
          [
           "Italian: 30",
           30
          ],
          [
           "Italian: 44",
           44
          ],
          [
           "Italian: 507",
           507
          ],
          [
           "Japanese: 1",
           1
          ],
          [
           "Japanese: 152",
           152
          ],
          [
           "Japanese: 27",
           27
          ],
          [
           "Korean: 7",
           7
          ],
          [
           "Latvian: 1",
           1
          ],
          [
           "Latvian: 1",
           1
          ],
          [
           "Lithuanian: 1",
           1
          ],
          [
           "Lithuanian: 1",
           1
          ],
          [
           "Norwegian: 1",
           1
          ],
          [
           "Norwegian: 1",
           1
          ],
          [
           "Norwegian: 2",
           2
          ],
          [
           "Polish: 1",
           1
          ],
          [
           "Polish: 21",
           21
          ],
          [
           "Polish: 8",
           8
          ],
          [
           "Polish: 80",
           80
          ],
          [
           "Portuguese: 1",
           1
          ],
          [
           "Portuguese: 10",
           10
          ],
          [
           "Portuguese: 114",
           114
          ],
          [
           "Portuguese: 2",
           2
          ],
          [
           "Portuguese: 2",
           2
          ],
          [
           "Portuguese: 2",
           2
          ],
          [
           "Portuguese: 270",
           270
          ],
          [
           "Portuguese: 79",
           79
          ],
          [
           "Romanian: 1",
           1
          ],
          [
           "Romanian: 1",
           1
          ],
          [
           "Romanian: 2",
           2
          ],
          [
           "Romanian: 9",
           9
          ],
          [
           "Spanish: 1",
           1
          ],
          [
           "Spanish: 1239",
           1239
          ],
          [
           "Spanish: 1614",
           1614
          ],
          [
           "Spanish: 268",
           268
          ],
          [
           "Spanish: 270",
           270
          ],
          [
           "Spanish: 3",
           3
          ],
          [
           "Spanish: 6",
           6
          ],
          [
           "Swedish: 1",
           1
          ],
          [
           "Tagalog: 1",
           1
          ],
          [
           "Tagalog: 1",
           1
          ],
          [
           "Tagalog: 2",
           2
          ],
          [
           "Tagalog: 21",
           21
          ],
          [
           "Tagalog: 6",
           6
          ],
          [
           "Tagalog: 8",
           8
          ],
          [
           "Turkish: 2",
           2
          ],
          [
           "Undetermined: 100",
           100
          ],
          [
           "Undetermined: 108",
           108
          ],
          [
           "Undetermined: 12",
           12
          ],
          [
           "Undetermined: 15",
           15
          ],
          [
           "Undetermined: 2",
           2
          ],
          [
           "Undetermined: 380",
           380
          ],
          [
           "Undetermined: 5",
           5
          ],
          [
           "Undetermined: 63",
           63
          ],
          [
           "Undetermined: 9",
           9
          ],
          [
           "Vietnamese: 1",
           1
          ],
          [
           "Welsh: 1",
           1
          ],
          [
           "Welsh: 1",
           1
          ],
          [
           "Welsh: 1",
           1
          ],
          [
           "Welsh: 1",
           1
          ],
          [
           "Welsh: 3",
           3
          ],
          [
           "zh: 1",
           1
          ],
          [
           "zh: 2",
           2
          ],
          [
           "zh: 7",
           7
          ],
          [
           "(?)",
           6606.677047289504
          ],
          [
           "(?)",
           114215.08984637982
          ],
          [
           "(?)",
           106340.2835174315
          ],
          [
           "(?)",
           1269.2
          ],
          [
           "(?)",
           17694.20060728154
          ],
          [
           "(?)",
           12092.875976113919
          ],
          [
           "(?)",
           12077.017351069982
          ],
          [
           "(?)",
           19498.132112620595
          ],
          [
           "(?)",
           12916.000619195047
          ],
          [
           "(?)",
           20844.626315789475
          ],
          [
           "(?)",
           43107.2755230699
          ],
          [
           "(?)",
           71704.7076933436
          ]
         ],
         "domain": {
          "x": [
           0,
           1
          ],
          "y": [
           0,
           1
          ]
         },
         "hovertemplate": "<b>%{label}</b>",
         "hovertext": [
          "Etihad Airways",
          "British Airways",
          "Ryan Air",
          "British Airways",
          "easy Jet",
          "Ryan Air",
          "Air France",
          "Qantas",
          "easy Jet",
          "British Airways",
          "KLM",
          "Air France",
          "Ryan Air",
          "American Air",
          "Qantas",
          "easy Jet",
          "British Airways",
          "KLM",
          "British Airways",
          "American Air",
          "Qantas",
          "Lufthansa",
          "Singapore Air",
          "Etihad Airways",
          "Ryan Air",
          "Virgin Atlantic",
          "KLM",
          "easy Jet",
          "Air France",
          "Qantas",
          "easy Jet",
          "British Airways",
          "Virgin Atlantic",
          "KLM",
          "British Airways",
          "Lufthansa",
          "Qantas",
          "Air France",
          "KLM",
          "Ryan Air",
          "Singapore Air",
          "easy Jet",
          "Virgin Atlantic",
          "American Air",
          "British Airways",
          "Ryan Air",
          "Air France",
          "easy Jet",
          "British Airways",
          "Virgin Atlantic",
          "KLM",
          "Lufthansa",
          "Virgin Atlantic",
          "British Airways",
          "easy Jet",
          "Etihad Airways",
          "Lufthansa",
          "easy Jet",
          "British Airways",
          "British Airways",
          "easy Jet",
          "Ryan Air",
          "Ryan Air",
          "Virgin Atlantic",
          "easy Jet",
          "American Air",
          "Virgin Atlantic",
          "KLM",
          "easy Jet",
          "British Airways",
          "Lufthansa",
          "Ryan Air",
          "British Airways",
          "KLM",
          "American Air",
          "Ryan Air",
          "Air France",
          "easy Jet",
          "easy Jet",
          "KLM",
          "Air France",
          "Air France",
          "KLM",
          "Ryan Air",
          "Ryan Air",
          "easy Jet",
          "British Airways",
          "easy Jet",
          "KLM",
          "Virgin Atlantic",
          "easy Jet",
          "Ryan Air",
          "British Airways",
          "American Air",
          "British Airways",
          "Air France",
          "Lufthansa",
          "Ryan Air",
          "Virgin Atlantic",
          "KLM",
          "easy Jet",
          "Air France",
          "Etihad Airways",
          "British Airways",
          "Ryan Air",
          "American Air",
          "KLM",
          "easy Jet",
          "Ryan Air",
          "Air France",
          "Virgin Atlantic",
          "British Airways",
          "Ryan Air",
          "American Air",
          "Lufthansa",
          "KLM",
          "Ryan Air",
          "British Airways",
          "Virgin Atlantic",
          "Lufthansa",
          "KLM",
          "easy Jet",
          "Lufthansa",
          "Ryan Air",
          "Etihad Airways",
          "Virgin Atlantic",
          "Qantas",
          "American Air",
          "British Airways",
          "easy Jet",
          "KLM",
          "Lufthansa",
          "Qantas",
          "easy Jet",
          "British Airways",
          "Air France",
          "Etihad Airways",
          "KLM",
          "Air France",
          "American Air",
          "British Airways",
          "Etihad Airways",
          "KLM",
          "Lufthansa",
          "Qantas",
          "Ryan Air",
          "Singapore Air",
          "Virgin Atlantic",
          "easy Jet",
          "(?)"
         ],
         "ids": [
          "<b>Total Airline Tweets <br> 400983/Etihad Airways/Arabic: 57",
          "<b>Total Airline Tweets <br> 400983/British Airways/Basque: 1",
          "<b>Total Airline Tweets <br> 400983/Ryan Air/Basque: 2",
          "<b>Total Airline Tweets <br> 400983/British Airways/Catalan: 1",
          "<b>Total Airline Tweets <br> 400983/easy Jet/Catalan: 1",
          "<b>Total Airline Tweets <br> 400983/Ryan Air/Catalan: 12",
          "<b>Total Airline Tweets <br> 400983/Air France/Czech: 1",
          "<b>Total Airline Tweets <br> 400983/Qantas/Czech: 1",
          "<b>Total Airline Tweets <br> 400983/easy Jet/Czech: 1",
          "<b>Total Airline Tweets <br> 400983/British Airways/Danish: 1",
          "<b>Total Airline Tweets <br> 400983/KLM/Danish: 2",
          "<b>Total Airline Tweets <br> 400983/Air France/Dutch: 1",
          "<b>Total Airline Tweets <br> 400983/Ryan Air/Dutch: 1",
          "<b>Total Airline Tweets <br> 400983/American Air/Dutch: 2",
          "<b>Total Airline Tweets <br> 400983/Qantas/Dutch: 2",
          "<b>Total Airline Tweets <br> 400983/easy Jet/Dutch: 289",
          "<b>Total Airline Tweets <br> 400983/British Airways/Dutch: 3",
          "<b>Total Airline Tweets <br> 400983/KLM/Dutch: 8826",
          "<b>Total Airline Tweets <br> 400983/British Airways/English: 106493",
          "<b>Total Airline Tweets <br> 400983/American Air/English: 114294",
          "<b>Total Airline Tweets <br> 400983/Qantas/English: 12090",
          "<b>Total Airline Tweets <br> 400983/Lufthansa/English: 12559",
          "<b>Total Airline Tweets <br> 400983/Singapore Air/English: 12918",
          "<b>Total Airline Tweets <br> 400983/Etihad Airways/English: 1327",
          "<b>Total Airline Tweets <br> 400983/Ryan Air/English: 19901",
          "<b>Total Airline Tweets <br> 400983/Virgin Atlantic/English: 21245",
          "<b>Total Airline Tweets <br> 400983/KLM/English: 22941",
          "<b>Total Airline Tweets <br> 400983/easy Jet/English: 48423",
          "<b>Total Airline Tweets <br> 400983/Air France/English: 7839",
          "<b>Total Airline Tweets <br> 400983/Qantas/Estonian: 3",
          "<b>Total Airline Tweets <br> 400983/easy Jet/Estonian: 5",
          "<b>Total Airline Tweets <br> 400983/British Airways/Estonian: 7",
          "<b>Total Airline Tweets <br> 400983/Virgin Atlantic/Estonian: 7",
          "<b>Total Airline Tweets <br> 400983/KLM/Estonian: 9",
          "<b>Total Airline Tweets <br> 400983/British Airways/Finnish: 1",
          "<b>Total Airline Tweets <br> 400983/Lufthansa/French: 1",
          "<b>Total Airline Tweets <br> 400983/Qantas/French: 1",
          "<b>Total Airline Tweets <br> 400983/Air France/French: 1212",
          "<b>Total Airline Tweets <br> 400983/KLM/French: 162",
          "<b>Total Airline Tweets <br> 400983/Ryan Air/French: 19",
          "<b>Total Airline Tweets <br> 400983/Singapore Air/French: 2",
          "<b>Total Airline Tweets <br> 400983/easy Jet/French: 3348",
          "<b>Total Airline Tweets <br> 400983/Virgin Atlantic/French: 6",
          "<b>Total Airline Tweets <br> 400983/American Air/French: 7",
          "<b>Total Airline Tweets <br> 400983/British Airways/French: 7",
          "<b>Total Airline Tweets <br> 400983/Ryan Air/German: 10",
          "<b>Total Airline Tweets <br> 400983/Air France/German: 20",
          "<b>Total Airline Tweets <br> 400983/easy Jet/German: 292",
          "<b>Total Airline Tweets <br> 400983/British Airways/German: 3",
          "<b>Total Airline Tweets <br> 400983/Virgin Atlantic/German: 3",
          "<b>Total Airline Tweets <br> 400983/KLM/German: 419",
          "<b>Total Airline Tweets <br> 400983/Lufthansa/German: 478",
          "<b>Total Airline Tweets <br> 400983/Virgin Atlantic/Haitian Creole: 2",
          "<b>Total Airline Tweets <br> 400983/British Airways/Haitian Creole: 3",
          "<b>Total Airline Tweets <br> 400983/easy Jet/Haitian Creole: 5",
          "<b>Total Airline Tweets <br> 400983/Etihad Airways/Hindi: 1",
          "<b>Total Airline Tweets <br> 400983/Lufthansa/Hindi: 1",
          "<b>Total Airline Tweets <br> 400983/easy Jet/Hindi: 19",
          "<b>Total Airline Tweets <br> 400983/British Airways/Hindi: 2",
          "<b>Total Airline Tweets <br> 400983/British Airways/Hungarian: 1",
          "<b>Total Airline Tweets <br> 400983/easy Jet/Hungarian: 1",
          "<b>Total Airline Tweets <br> 400983/Ryan Air/Hungarian: 7",
          "<b>Total Airline Tweets <br> 400983/Ryan Air/Icelandic: 1",
          "<b>Total Airline Tweets <br> 400983/Virgin Atlantic/Icelandic: 1",
          "<b>Total Airline Tweets <br> 400983/easy Jet/Icelandic: 3",
          "<b>Total Airline Tweets <br> 400983/American Air/Indonesian: 1",
          "<b>Total Airline Tweets <br> 400983/Virgin Atlantic/Indonesian: 2",
          "<b>Total Airline Tweets <br> 400983/KLM/Indonesian: 3",
          "<b>Total Airline Tweets <br> 400983/easy Jet/Indonesian: 4",
          "<b>Total Airline Tweets <br> 400983/British Airways/Indonesian: 5",
          "<b>Total Airline Tweets <br> 400983/Lufthansa/Indonesian: 5",
          "<b>Total Airline Tweets <br> 400983/Ryan Air/Indonesian: 7",
          "<b>Total Airline Tweets <br> 400983/British Airways/Italian: 1",
          "<b>Total Airline Tweets <br> 400983/KLM/Italian: 115",
          "<b>Total Airline Tweets <br> 400983/American Air/Italian: 3",
          "<b>Total Airline Tweets <br> 400983/Ryan Air/Italian: 30",
          "<b>Total Airline Tweets <br> 400983/Air France/Italian: 44",
          "<b>Total Airline Tweets <br> 400983/easy Jet/Italian: 507",
          "<b>Total Airline Tweets <br> 400983/easy Jet/Japanese: 1",
          "<b>Total Airline Tweets <br> 400983/KLM/Japanese: 152",
          "<b>Total Airline Tweets <br> 400983/Air France/Japanese: 27",
          "<b>Total Airline Tweets <br> 400983/Air France/Korean: 7",
          "<b>Total Airline Tweets <br> 400983/KLM/Latvian: 1",
          "<b>Total Airline Tweets <br> 400983/Ryan Air/Latvian: 1",
          "<b>Total Airline Tweets <br> 400983/Ryan Air/Lithuanian: 1",
          "<b>Total Airline Tweets <br> 400983/easy Jet/Lithuanian: 1",
          "<b>Total Airline Tweets <br> 400983/British Airways/Norwegian: 1",
          "<b>Total Airline Tweets <br> 400983/easy Jet/Norwegian: 1",
          "<b>Total Airline Tweets <br> 400983/KLM/Norwegian: 2",
          "<b>Total Airline Tweets <br> 400983/Virgin Atlantic/Polish: 1",
          "<b>Total Airline Tweets <br> 400983/easy Jet/Polish: 21",
          "<b>Total Airline Tweets <br> 400983/Ryan Air/Polish: 8",
          "<b>Total Airline Tweets <br> 400983/British Airways/Polish: 80",
          "<b>Total Airline Tweets <br> 400983/American Air/Portuguese: 1",
          "<b>Total Airline Tweets <br> 400983/British Airways/Portuguese: 10",
          "<b>Total Airline Tweets <br> 400983/Air France/Portuguese: 114",
          "<b>Total Airline Tweets <br> 400983/Lufthansa/Portuguese: 2",
          "<b>Total Airline Tweets <br> 400983/Ryan Air/Portuguese: 2",
          "<b>Total Airline Tweets <br> 400983/Virgin Atlantic/Portuguese: 2",
          "<b>Total Airline Tweets <br> 400983/KLM/Portuguese: 270",
          "<b>Total Airline Tweets <br> 400983/easy Jet/Portuguese: 79",
          "<b>Total Airline Tweets <br> 400983/Air France/Romanian: 1",
          "<b>Total Airline Tweets <br> 400983/Etihad Airways/Romanian: 1",
          "<b>Total Airline Tweets <br> 400983/British Airways/Romanian: 2",
          "<b>Total Airline Tweets <br> 400983/Ryan Air/Romanian: 9",
          "<b>Total Airline Tweets <br> 400983/American Air/Spanish: 1",
          "<b>Total Airline Tweets <br> 400983/KLM/Spanish: 1239",
          "<b>Total Airline Tweets <br> 400983/easy Jet/Spanish: 1614",
          "<b>Total Airline Tweets <br> 400983/Ryan Air/Spanish: 268",
          "<b>Total Airline Tweets <br> 400983/Air France/Spanish: 270",
          "<b>Total Airline Tweets <br> 400983/Virgin Atlantic/Spanish: 3",
          "<b>Total Airline Tweets <br> 400983/British Airways/Spanish: 6",
          "<b>Total Airline Tweets <br> 400983/Ryan Air/Swedish: 1",
          "<b>Total Airline Tweets <br> 400983/American Air/Tagalog: 1",
          "<b>Total Airline Tweets <br> 400983/Lufthansa/Tagalog: 1",
          "<b>Total Airline Tweets <br> 400983/KLM/Tagalog: 2",
          "<b>Total Airline Tweets <br> 400983/Ryan Air/Tagalog: 21",
          "<b>Total Airline Tweets <br> 400983/British Airways/Tagalog: 6",
          "<b>Total Airline Tweets <br> 400983/Virgin Atlantic/Tagalog: 8",
          "<b>Total Airline Tweets <br> 400983/Lufthansa/Turkish: 2",
          "<b>Total Airline Tweets <br> 400983/KLM/Undetermined: 100",
          "<b>Total Airline Tweets <br> 400983/easy Jet/Undetermined: 108",
          "<b>Total Airline Tweets <br> 400983/Lufthansa/Undetermined: 12",
          "<b>Total Airline Tweets <br> 400983/Ryan Air/Undetermined: 15",
          "<b>Total Airline Tweets <br> 400983/Etihad Airways/Undetermined: 2",
          "<b>Total Airline Tweets <br> 400983/Virgin Atlantic/Undetermined: 380",
          "<b>Total Airline Tweets <br> 400983/Qantas/Undetermined: 5",
          "<b>Total Airline Tweets <br> 400983/American Air/Undetermined: 63",
          "<b>Total Airline Tweets <br> 400983/British Airways/Undetermined: 9",
          "<b>Total Airline Tweets <br> 400983/easy Jet/Vietnamese: 1",
          "<b>Total Airline Tweets <br> 400983/KLM/Welsh: 1",
          "<b>Total Airline Tweets <br> 400983/Lufthansa/Welsh: 1",
          "<b>Total Airline Tweets <br> 400983/Qantas/Welsh: 1",
          "<b>Total Airline Tweets <br> 400983/easy Jet/Welsh: 1",
          "<b>Total Airline Tweets <br> 400983/British Airways/Welsh: 3",
          "<b>Total Airline Tweets <br> 400983/Air France/zh: 1",
          "<b>Total Airline Tweets <br> 400983/Etihad Airways/zh: 2",
          "<b>Total Airline Tweets <br> 400983/KLM/zh: 7",
          "<b>Total Airline Tweets <br> 400983/Air France",
          "<b>Total Airline Tweets <br> 400983/American Air",
          "<b>Total Airline Tweets <br> 400983/British Airways",
          "<b>Total Airline Tweets <br> 400983/Etihad Airways",
          "<b>Total Airline Tweets <br> 400983/KLM",
          "<b>Total Airline Tweets <br> 400983/Lufthansa",
          "<b>Total Airline Tweets <br> 400983/Qantas",
          "<b>Total Airline Tweets <br> 400983/Ryan Air",
          "<b>Total Airline Tweets <br> 400983/Singapore Air",
          "<b>Total Airline Tweets <br> 400983/Virgin Atlantic",
          "<b>Total Airline Tweets <br> 400983/easy Jet",
          "<b>Total Airline Tweets <br> 400983"
         ],
         "labels": [
          "Arabic: 57",
          "Basque: 1",
          "Basque: 2",
          "Catalan: 1",
          "Catalan: 1",
          "Catalan: 12",
          "Czech: 1",
          "Czech: 1",
          "Czech: 1",
          "Danish: 1",
          "Danish: 2",
          "Dutch: 1",
          "Dutch: 1",
          "Dutch: 2",
          "Dutch: 2",
          "Dutch: 289",
          "Dutch: 3",
          "Dutch: 8826",
          "English: 106493",
          "English: 114294",
          "English: 12090",
          "English: 12559",
          "English: 12918",
          "English: 1327",
          "English: 19901",
          "English: 21245",
          "English: 22941",
          "English: 48423",
          "English: 7839",
          "Estonian: 3",
          "Estonian: 5",
          "Estonian: 7",
          "Estonian: 7",
          "Estonian: 9",
          "Finnish: 1",
          "French: 1",
          "French: 1",
          "French: 1212",
          "French: 162",
          "French: 19",
          "French: 2",
          "French: 3348",
          "French: 6",
          "French: 7",
          "French: 7",
          "German: 10",
          "German: 20",
          "German: 292",
          "German: 3",
          "German: 3",
          "German: 419",
          "German: 478",
          "Haitian Creole: 2",
          "Haitian Creole: 3",
          "Haitian Creole: 5",
          "Hindi: 1",
          "Hindi: 1",
          "Hindi: 19",
          "Hindi: 2",
          "Hungarian: 1",
          "Hungarian: 1",
          "Hungarian: 7",
          "Icelandic: 1",
          "Icelandic: 1",
          "Icelandic: 3",
          "Indonesian: 1",
          "Indonesian: 2",
          "Indonesian: 3",
          "Indonesian: 4",
          "Indonesian: 5",
          "Indonesian: 5",
          "Indonesian: 7",
          "Italian: 1",
          "Italian: 115",
          "Italian: 3",
          "Italian: 30",
          "Italian: 44",
          "Italian: 507",
          "Japanese: 1",
          "Japanese: 152",
          "Japanese: 27",
          "Korean: 7",
          "Latvian: 1",
          "Latvian: 1",
          "Lithuanian: 1",
          "Lithuanian: 1",
          "Norwegian: 1",
          "Norwegian: 1",
          "Norwegian: 2",
          "Polish: 1",
          "Polish: 21",
          "Polish: 8",
          "Polish: 80",
          "Portuguese: 1",
          "Portuguese: 10",
          "Portuguese: 114",
          "Portuguese: 2",
          "Portuguese: 2",
          "Portuguese: 2",
          "Portuguese: 270",
          "Portuguese: 79",
          "Romanian: 1",
          "Romanian: 1",
          "Romanian: 2",
          "Romanian: 9",
          "Spanish: 1",
          "Spanish: 1239",
          "Spanish: 1614",
          "Spanish: 268",
          "Spanish: 270",
          "Spanish: 3",
          "Spanish: 6",
          "Swedish: 1",
          "Tagalog: 1",
          "Tagalog: 1",
          "Tagalog: 2",
          "Tagalog: 21",
          "Tagalog: 6",
          "Tagalog: 8",
          "Turkish: 2",
          "Undetermined: 100",
          "Undetermined: 108",
          "Undetermined: 12",
          "Undetermined: 15",
          "Undetermined: 2",
          "Undetermined: 380",
          "Undetermined: 5",
          "Undetermined: 63",
          "Undetermined: 9",
          "Vietnamese: 1",
          "Welsh: 1",
          "Welsh: 1",
          "Welsh: 1",
          "Welsh: 1",
          "Welsh: 3",
          "zh: 1",
          "zh: 2",
          "zh: 7",
          "Air France",
          "American Air",
          "British Airways",
          "Etihad Airways",
          "KLM",
          "Lufthansa",
          "Qantas",
          "Ryan Air",
          "Singapore Air",
          "Virgin Atlantic",
          "easy Jet",
          "<b>Total Airline Tweets <br> 400983"
         ],
         "marker": {
          "coloraxis": "coloraxis",
          "colors": [
           57,
           1,
           2,
           1,
           1,
           12,
           1,
           1,
           1,
           1,
           2,
           1,
           1,
           2,
           2,
           289,
           3,
           8826,
           106493,
           114294,
           12090,
           12559,
           12918,
           1327,
           19901,
           21245,
           22941,
           48423,
           7839,
           3,
           5,
           7,
           7,
           9,
           1,
           1,
           1,
           1212,
           162,
           19,
           2,
           3348,
           6,
           7,
           7,
           10,
           20,
           292,
           3,
           3,
           419,
           478,
           2,
           3,
           5,
           1,
           1,
           19,
           2,
           1,
           1,
           7,
           1,
           1,
           3,
           1,
           2,
           3,
           4,
           5,
           5,
           7,
           1,
           115,
           3,
           30,
           44,
           507,
           1,
           152,
           27,
           7,
           1,
           1,
           1,
           1,
           1,
           1,
           2,
           1,
           21,
           8,
           80,
           1,
           10,
           114,
           2,
           2,
           2,
           270,
           79,
           1,
           1,
           2,
           9,
           1,
           1239,
           1614,
           268,
           270,
           3,
           6,
           1,
           1,
           1,
           2,
           21,
           6,
           8,
           2,
           100,
           108,
           12,
           15,
           2,
           380,
           5,
           63,
           9,
           1,
           1,
           1,
           1,
           1,
           3,
           1,
           2,
           7,
           6606.677047289504,
           114215.08984637982,
           106340.2835174315,
           1269.2,
           17694.20060728154,
           12092.875976113919,
           12077.017351069982,
           19498.132112620595,
           12916.000619195047,
           20844.626315789475,
           43107.2755230699,
           71704.7076933436
          ]
         },
         "name": "",
         "parents": [
          "<b>Total Airline Tweets <br> 400983/Etihad Airways",
          "<b>Total Airline Tweets <br> 400983/British Airways",
          "<b>Total Airline Tweets <br> 400983/Ryan Air",
          "<b>Total Airline Tweets <br> 400983/British Airways",
          "<b>Total Airline Tweets <br> 400983/easy Jet",
          "<b>Total Airline Tweets <br> 400983/Ryan Air",
          "<b>Total Airline Tweets <br> 400983/Air France",
          "<b>Total Airline Tweets <br> 400983/Qantas",
          "<b>Total Airline Tweets <br> 400983/easy Jet",
          "<b>Total Airline Tweets <br> 400983/British Airways",
          "<b>Total Airline Tweets <br> 400983/KLM",
          "<b>Total Airline Tweets <br> 400983/Air France",
          "<b>Total Airline Tweets <br> 400983/Ryan Air",
          "<b>Total Airline Tweets <br> 400983/American Air",
          "<b>Total Airline Tweets <br> 400983/Qantas",
          "<b>Total Airline Tweets <br> 400983/easy Jet",
          "<b>Total Airline Tweets <br> 400983/British Airways",
          "<b>Total Airline Tweets <br> 400983/KLM",
          "<b>Total Airline Tweets <br> 400983/British Airways",
          "<b>Total Airline Tweets <br> 400983/American Air",
          "<b>Total Airline Tweets <br> 400983/Qantas",
          "<b>Total Airline Tweets <br> 400983/Lufthansa",
          "<b>Total Airline Tweets <br> 400983/Singapore Air",
          "<b>Total Airline Tweets <br> 400983/Etihad Airways",
          "<b>Total Airline Tweets <br> 400983/Ryan Air",
          "<b>Total Airline Tweets <br> 400983/Virgin Atlantic",
          "<b>Total Airline Tweets <br> 400983/KLM",
          "<b>Total Airline Tweets <br> 400983/easy Jet",
          "<b>Total Airline Tweets <br> 400983/Air France",
          "<b>Total Airline Tweets <br> 400983/Qantas",
          "<b>Total Airline Tweets <br> 400983/easy Jet",
          "<b>Total Airline Tweets <br> 400983/British Airways",
          "<b>Total Airline Tweets <br> 400983/Virgin Atlantic",
          "<b>Total Airline Tweets <br> 400983/KLM",
          "<b>Total Airline Tweets <br> 400983/British Airways",
          "<b>Total Airline Tweets <br> 400983/Lufthansa",
          "<b>Total Airline Tweets <br> 400983/Qantas",
          "<b>Total Airline Tweets <br> 400983/Air France",
          "<b>Total Airline Tweets <br> 400983/KLM",
          "<b>Total Airline Tweets <br> 400983/Ryan Air",
          "<b>Total Airline Tweets <br> 400983/Singapore Air",
          "<b>Total Airline Tweets <br> 400983/easy Jet",
          "<b>Total Airline Tweets <br> 400983/Virgin Atlantic",
          "<b>Total Airline Tweets <br> 400983/American Air",
          "<b>Total Airline Tweets <br> 400983/British Airways",
          "<b>Total Airline Tweets <br> 400983/Ryan Air",
          "<b>Total Airline Tweets <br> 400983/Air France",
          "<b>Total Airline Tweets <br> 400983/easy Jet",
          "<b>Total Airline Tweets <br> 400983/British Airways",
          "<b>Total Airline Tweets <br> 400983/Virgin Atlantic",
          "<b>Total Airline Tweets <br> 400983/KLM",
          "<b>Total Airline Tweets <br> 400983/Lufthansa",
          "<b>Total Airline Tweets <br> 400983/Virgin Atlantic",
          "<b>Total Airline Tweets <br> 400983/British Airways",
          "<b>Total Airline Tweets <br> 400983/easy Jet",
          "<b>Total Airline Tweets <br> 400983/Etihad Airways",
          "<b>Total Airline Tweets <br> 400983/Lufthansa",
          "<b>Total Airline Tweets <br> 400983/easy Jet",
          "<b>Total Airline Tweets <br> 400983/British Airways",
          "<b>Total Airline Tweets <br> 400983/British Airways",
          "<b>Total Airline Tweets <br> 400983/easy Jet",
          "<b>Total Airline Tweets <br> 400983/Ryan Air",
          "<b>Total Airline Tweets <br> 400983/Ryan Air",
          "<b>Total Airline Tweets <br> 400983/Virgin Atlantic",
          "<b>Total Airline Tweets <br> 400983/easy Jet",
          "<b>Total Airline Tweets <br> 400983/American Air",
          "<b>Total Airline Tweets <br> 400983/Virgin Atlantic",
          "<b>Total Airline Tweets <br> 400983/KLM",
          "<b>Total Airline Tweets <br> 400983/easy Jet",
          "<b>Total Airline Tweets <br> 400983/British Airways",
          "<b>Total Airline Tweets <br> 400983/Lufthansa",
          "<b>Total Airline Tweets <br> 400983/Ryan Air",
          "<b>Total Airline Tweets <br> 400983/British Airways",
          "<b>Total Airline Tweets <br> 400983/KLM",
          "<b>Total Airline Tweets <br> 400983/American Air",
          "<b>Total Airline Tweets <br> 400983/Ryan Air",
          "<b>Total Airline Tweets <br> 400983/Air France",
          "<b>Total Airline Tweets <br> 400983/easy Jet",
          "<b>Total Airline Tweets <br> 400983/easy Jet",
          "<b>Total Airline Tweets <br> 400983/KLM",
          "<b>Total Airline Tweets <br> 400983/Air France",
          "<b>Total Airline Tweets <br> 400983/Air France",
          "<b>Total Airline Tweets <br> 400983/KLM",
          "<b>Total Airline Tweets <br> 400983/Ryan Air",
          "<b>Total Airline Tweets <br> 400983/Ryan Air",
          "<b>Total Airline Tweets <br> 400983/easy Jet",
          "<b>Total Airline Tweets <br> 400983/British Airways",
          "<b>Total Airline Tweets <br> 400983/easy Jet",
          "<b>Total Airline Tweets <br> 400983/KLM",
          "<b>Total Airline Tweets <br> 400983/Virgin Atlantic",
          "<b>Total Airline Tweets <br> 400983/easy Jet",
          "<b>Total Airline Tweets <br> 400983/Ryan Air",
          "<b>Total Airline Tweets <br> 400983/British Airways",
          "<b>Total Airline Tweets <br> 400983/American Air",
          "<b>Total Airline Tweets <br> 400983/British Airways",
          "<b>Total Airline Tweets <br> 400983/Air France",
          "<b>Total Airline Tweets <br> 400983/Lufthansa",
          "<b>Total Airline Tweets <br> 400983/Ryan Air",
          "<b>Total Airline Tweets <br> 400983/Virgin Atlantic",
          "<b>Total Airline Tweets <br> 400983/KLM",
          "<b>Total Airline Tweets <br> 400983/easy Jet",
          "<b>Total Airline Tweets <br> 400983/Air France",
          "<b>Total Airline Tweets <br> 400983/Etihad Airways",
          "<b>Total Airline Tweets <br> 400983/British Airways",
          "<b>Total Airline Tweets <br> 400983/Ryan Air",
          "<b>Total Airline Tweets <br> 400983/American Air",
          "<b>Total Airline Tweets <br> 400983/KLM",
          "<b>Total Airline Tweets <br> 400983/easy Jet",
          "<b>Total Airline Tweets <br> 400983/Ryan Air",
          "<b>Total Airline Tweets <br> 400983/Air France",
          "<b>Total Airline Tweets <br> 400983/Virgin Atlantic",
          "<b>Total Airline Tweets <br> 400983/British Airways",
          "<b>Total Airline Tweets <br> 400983/Ryan Air",
          "<b>Total Airline Tweets <br> 400983/American Air",
          "<b>Total Airline Tweets <br> 400983/Lufthansa",
          "<b>Total Airline Tweets <br> 400983/KLM",
          "<b>Total Airline Tweets <br> 400983/Ryan Air",
          "<b>Total Airline Tweets <br> 400983/British Airways",
          "<b>Total Airline Tweets <br> 400983/Virgin Atlantic",
          "<b>Total Airline Tweets <br> 400983/Lufthansa",
          "<b>Total Airline Tweets <br> 400983/KLM",
          "<b>Total Airline Tweets <br> 400983/easy Jet",
          "<b>Total Airline Tweets <br> 400983/Lufthansa",
          "<b>Total Airline Tweets <br> 400983/Ryan Air",
          "<b>Total Airline Tweets <br> 400983/Etihad Airways",
          "<b>Total Airline Tweets <br> 400983/Virgin Atlantic",
          "<b>Total Airline Tweets <br> 400983/Qantas",
          "<b>Total Airline Tweets <br> 400983/American Air",
          "<b>Total Airline Tweets <br> 400983/British Airways",
          "<b>Total Airline Tweets <br> 400983/easy Jet",
          "<b>Total Airline Tweets <br> 400983/KLM",
          "<b>Total Airline Tweets <br> 400983/Lufthansa",
          "<b>Total Airline Tweets <br> 400983/Qantas",
          "<b>Total Airline Tweets <br> 400983/easy Jet",
          "<b>Total Airline Tweets <br> 400983/British Airways",
          "<b>Total Airline Tweets <br> 400983/Air France",
          "<b>Total Airline Tweets <br> 400983/Etihad Airways",
          "<b>Total Airline Tweets <br> 400983/KLM",
          "<b>Total Airline Tweets <br> 400983",
          "<b>Total Airline Tweets <br> 400983",
          "<b>Total Airline Tweets <br> 400983",
          "<b>Total Airline Tweets <br> 400983",
          "<b>Total Airline Tweets <br> 400983",
          "<b>Total Airline Tweets <br> 400983",
          "<b>Total Airline Tweets <br> 400983",
          "<b>Total Airline Tweets <br> 400983",
          "<b>Total Airline Tweets <br> 400983",
          "<b>Total Airline Tweets <br> 400983",
          "<b>Total Airline Tweets <br> 400983",
          ""
         ],
         "type": "sunburst",
         "values": [
          57,
          1,
          2,
          1,
          1,
          12,
          1,
          1,
          1,
          1,
          2,
          1,
          1,
          2,
          2,
          289,
          3,
          8826,
          106493,
          114294,
          12090,
          12559,
          12918,
          1327,
          19901,
          21245,
          22941,
          48423,
          7839,
          3,
          5,
          7,
          7,
          9,
          1,
          1,
          1,
          1212,
          162,
          19,
          2,
          3348,
          6,
          7,
          7,
          10,
          20,
          292,
          3,
          3,
          419,
          478,
          2,
          3,
          5,
          1,
          1,
          19,
          2,
          1,
          1,
          7,
          1,
          1,
          3,
          1,
          2,
          3,
          4,
          5,
          5,
          7,
          1,
          115,
          3,
          30,
          44,
          507,
          1,
          152,
          27,
          7,
          1,
          1,
          1,
          1,
          1,
          1,
          2,
          1,
          21,
          8,
          80,
          1,
          10,
          114,
          2,
          2,
          2,
          270,
          79,
          1,
          1,
          2,
          9,
          1,
          1239,
          1614,
          268,
          270,
          3,
          6,
          1,
          1,
          1,
          2,
          21,
          6,
          8,
          2,
          100,
          108,
          12,
          15,
          2,
          380,
          5,
          63,
          9,
          1,
          1,
          1,
          1,
          1,
          3,
          1,
          2,
          7,
          9537,
          114373,
          106646,
          1390,
          34251,
          13062,
          12103,
          20316,
          12920,
          21660,
          54725,
          400983
         ]
        }
       ],
       "layout": {
        "coloraxis": {
         "cmid": 71704.7076933436,
         "colorbar": {
          "title": {
           "text": "count"
          }
         },
         "colorscale": [
          [
           0,
           "rgb(103,0,31)"
          ],
          [
           0.1,
           "rgb(178,24,43)"
          ],
          [
           0.2,
           "rgb(214,96,77)"
          ],
          [
           0.3,
           "rgb(244,165,130)"
          ],
          [
           0.4,
           "rgb(253,219,199)"
          ],
          [
           0.5,
           "rgb(247,247,247)"
          ],
          [
           0.6,
           "rgb(209,229,240)"
          ],
          [
           0.7,
           "rgb(146,197,222)"
          ],
          [
           0.8,
           "rgb(67,147,195)"
          ],
          [
           0.9,
           "rgb(33,102,172)"
          ],
          [
           1,
           "rgb(5,48,97)"
          ]
         ]
        },
        "height": 900,
        "legend": {
         "tracegroupgap": 0
        },
        "template": {
         "data": {
          "bar": [
           {
            "error_x": {
             "color": "#2a3f5f"
            },
            "error_y": {
             "color": "#2a3f5f"
            },
            "marker": {
             "line": {
              "color": "#E5ECF6",
              "width": 0.5
             },
             "pattern": {
              "fillmode": "overlay",
              "size": 10,
              "solidity": 0.2
             }
            },
            "type": "bar"
           }
          ],
          "barpolar": [
           {
            "marker": {
             "line": {
              "color": "#E5ECF6",
              "width": 0.5
             },
             "pattern": {
              "fillmode": "overlay",
              "size": 10,
              "solidity": 0.2
             }
            },
            "type": "barpolar"
           }
          ],
          "carpet": [
           {
            "aaxis": {
             "endlinecolor": "#2a3f5f",
             "gridcolor": "white",
             "linecolor": "white",
             "minorgridcolor": "white",
             "startlinecolor": "#2a3f5f"
            },
            "baxis": {
             "endlinecolor": "#2a3f5f",
             "gridcolor": "white",
             "linecolor": "white",
             "minorgridcolor": "white",
             "startlinecolor": "#2a3f5f"
            },
            "type": "carpet"
           }
          ],
          "choropleth": [
           {
            "colorbar": {
             "outlinewidth": 0,
             "ticks": ""
            },
            "type": "choropleth"
           }
          ],
          "contour": [
           {
            "colorbar": {
             "outlinewidth": 0,
             "ticks": ""
            },
            "colorscale": [
             [
              0,
              "#0d0887"
             ],
             [
              0.1111111111111111,
              "#46039f"
             ],
             [
              0.2222222222222222,
              "#7201a8"
             ],
             [
              0.3333333333333333,
              "#9c179e"
             ],
             [
              0.4444444444444444,
              "#bd3786"
             ],
             [
              0.5555555555555556,
              "#d8576b"
             ],
             [
              0.6666666666666666,
              "#ed7953"
             ],
             [
              0.7777777777777778,
              "#fb9f3a"
             ],
             [
              0.8888888888888888,
              "#fdca26"
             ],
             [
              1,
              "#f0f921"
             ]
            ],
            "type": "contour"
           }
          ],
          "contourcarpet": [
           {
            "colorbar": {
             "outlinewidth": 0,
             "ticks": ""
            },
            "type": "contourcarpet"
           }
          ],
          "heatmap": [
           {
            "colorbar": {
             "outlinewidth": 0,
             "ticks": ""
            },
            "colorscale": [
             [
              0,
              "#0d0887"
             ],
             [
              0.1111111111111111,
              "#46039f"
             ],
             [
              0.2222222222222222,
              "#7201a8"
             ],
             [
              0.3333333333333333,
              "#9c179e"
             ],
             [
              0.4444444444444444,
              "#bd3786"
             ],
             [
              0.5555555555555556,
              "#d8576b"
             ],
             [
              0.6666666666666666,
              "#ed7953"
             ],
             [
              0.7777777777777778,
              "#fb9f3a"
             ],
             [
              0.8888888888888888,
              "#fdca26"
             ],
             [
              1,
              "#f0f921"
             ]
            ],
            "type": "heatmap"
           }
          ],
          "heatmapgl": [
           {
            "colorbar": {
             "outlinewidth": 0,
             "ticks": ""
            },
            "colorscale": [
             [
              0,
              "#0d0887"
             ],
             [
              0.1111111111111111,
              "#46039f"
             ],
             [
              0.2222222222222222,
              "#7201a8"
             ],
             [
              0.3333333333333333,
              "#9c179e"
             ],
             [
              0.4444444444444444,
              "#bd3786"
             ],
             [
              0.5555555555555556,
              "#d8576b"
             ],
             [
              0.6666666666666666,
              "#ed7953"
             ],
             [
              0.7777777777777778,
              "#fb9f3a"
             ],
             [
              0.8888888888888888,
              "#fdca26"
             ],
             [
              1,
              "#f0f921"
             ]
            ],
            "type": "heatmapgl"
           }
          ],
          "histogram": [
           {
            "marker": {
             "pattern": {
              "fillmode": "overlay",
              "size": 10,
              "solidity": 0.2
             }
            },
            "type": "histogram"
           }
          ],
          "histogram2d": [
           {
            "colorbar": {
             "outlinewidth": 0,
             "ticks": ""
            },
            "colorscale": [
             [
              0,
              "#0d0887"
             ],
             [
              0.1111111111111111,
              "#46039f"
             ],
             [
              0.2222222222222222,
              "#7201a8"
             ],
             [
              0.3333333333333333,
              "#9c179e"
             ],
             [
              0.4444444444444444,
              "#bd3786"
             ],
             [
              0.5555555555555556,
              "#d8576b"
             ],
             [
              0.6666666666666666,
              "#ed7953"
             ],
             [
              0.7777777777777778,
              "#fb9f3a"
             ],
             [
              0.8888888888888888,
              "#fdca26"
             ],
             [
              1,
              "#f0f921"
             ]
            ],
            "type": "histogram2d"
           }
          ],
          "histogram2dcontour": [
           {
            "colorbar": {
             "outlinewidth": 0,
             "ticks": ""
            },
            "colorscale": [
             [
              0,
              "#0d0887"
             ],
             [
              0.1111111111111111,
              "#46039f"
             ],
             [
              0.2222222222222222,
              "#7201a8"
             ],
             [
              0.3333333333333333,
              "#9c179e"
             ],
             [
              0.4444444444444444,
              "#bd3786"
             ],
             [
              0.5555555555555556,
              "#d8576b"
             ],
             [
              0.6666666666666666,
              "#ed7953"
             ],
             [
              0.7777777777777778,
              "#fb9f3a"
             ],
             [
              0.8888888888888888,
              "#fdca26"
             ],
             [
              1,
              "#f0f921"
             ]
            ],
            "type": "histogram2dcontour"
           }
          ],
          "mesh3d": [
           {
            "colorbar": {
             "outlinewidth": 0,
             "ticks": ""
            },
            "type": "mesh3d"
           }
          ],
          "parcoords": [
           {
            "line": {
             "colorbar": {
              "outlinewidth": 0,
              "ticks": ""
             }
            },
            "type": "parcoords"
           }
          ],
          "pie": [
           {
            "automargin": true,
            "type": "pie"
           }
          ],
          "scatter": [
           {
            "fillpattern": {
             "fillmode": "overlay",
             "size": 10,
             "solidity": 0.2
            },
            "type": "scatter"
           }
          ],
          "scatter3d": [
           {
            "line": {
             "colorbar": {
              "outlinewidth": 0,
              "ticks": ""
             }
            },
            "marker": {
             "colorbar": {
              "outlinewidth": 0,
              "ticks": ""
             }
            },
            "type": "scatter3d"
           }
          ],
          "scattercarpet": [
           {
            "marker": {
             "colorbar": {
              "outlinewidth": 0,
              "ticks": ""
             }
            },
            "type": "scattercarpet"
           }
          ],
          "scattergeo": [
           {
            "marker": {
             "colorbar": {
              "outlinewidth": 0,
              "ticks": ""
             }
            },
            "type": "scattergeo"
           }
          ],
          "scattergl": [
           {
            "marker": {
             "colorbar": {
              "outlinewidth": 0,
              "ticks": ""
             }
            },
            "type": "scattergl"
           }
          ],
          "scattermapbox": [
           {
            "marker": {
             "colorbar": {
              "outlinewidth": 0,
              "ticks": ""
             }
            },
            "type": "scattermapbox"
           }
          ],
          "scatterpolar": [
           {
            "marker": {
             "colorbar": {
              "outlinewidth": 0,
              "ticks": ""
             }
            },
            "type": "scatterpolar"
           }
          ],
          "scatterpolargl": [
           {
            "marker": {
             "colorbar": {
              "outlinewidth": 0,
              "ticks": ""
             }
            },
            "type": "scatterpolargl"
           }
          ],
          "scatterternary": [
           {
            "marker": {
             "colorbar": {
              "outlinewidth": 0,
              "ticks": ""
             }
            },
            "type": "scatterternary"
           }
          ],
          "surface": [
           {
            "colorbar": {
             "outlinewidth": 0,
             "ticks": ""
            },
            "colorscale": [
             [
              0,
              "#0d0887"
             ],
             [
              0.1111111111111111,
              "#46039f"
             ],
             [
              0.2222222222222222,
              "#7201a8"
             ],
             [
              0.3333333333333333,
              "#9c179e"
             ],
             [
              0.4444444444444444,
              "#bd3786"
             ],
             [
              0.5555555555555556,
              "#d8576b"
             ],
             [
              0.6666666666666666,
              "#ed7953"
             ],
             [
              0.7777777777777778,
              "#fb9f3a"
             ],
             [
              0.8888888888888888,
              "#fdca26"
             ],
             [
              1,
              "#f0f921"
             ]
            ],
            "type": "surface"
           }
          ],
          "table": [
           {
            "cells": {
             "fill": {
              "color": "#EBF0F8"
             },
             "line": {
              "color": "white"
             }
            },
            "header": {
             "fill": {
              "color": "#C8D4E3"
             },
             "line": {
              "color": "white"
             }
            },
            "type": "table"
           }
          ]
         },
         "layout": {
          "annotationdefaults": {
           "arrowcolor": "#2a3f5f",
           "arrowhead": 0,
           "arrowwidth": 1
          },
          "autotypenumbers": "strict",
          "coloraxis": {
           "colorbar": {
            "outlinewidth": 0,
            "ticks": ""
           }
          },
          "colorscale": {
           "diverging": [
            [
             0,
             "#8e0152"
            ],
            [
             0.1,
             "#c51b7d"
            ],
            [
             0.2,
             "#de77ae"
            ],
            [
             0.3,
             "#f1b6da"
            ],
            [
             0.4,
             "#fde0ef"
            ],
            [
             0.5,
             "#f7f7f7"
            ],
            [
             0.6,
             "#e6f5d0"
            ],
            [
             0.7,
             "#b8e186"
            ],
            [
             0.8,
             "#7fbc41"
            ],
            [
             0.9,
             "#4d9221"
            ],
            [
             1,
             "#276419"
            ]
           ],
           "sequential": [
            [
             0,
             "#0d0887"
            ],
            [
             0.1111111111111111,
             "#46039f"
            ],
            [
             0.2222222222222222,
             "#7201a8"
            ],
            [
             0.3333333333333333,
             "#9c179e"
            ],
            [
             0.4444444444444444,
             "#bd3786"
            ],
            [
             0.5555555555555556,
             "#d8576b"
            ],
            [
             0.6666666666666666,
             "#ed7953"
            ],
            [
             0.7777777777777778,
             "#fb9f3a"
            ],
            [
             0.8888888888888888,
             "#fdca26"
            ],
            [
             1,
             "#f0f921"
            ]
           ],
           "sequentialminus": [
            [
             0,
             "#0d0887"
            ],
            [
             0.1111111111111111,
             "#46039f"
            ],
            [
             0.2222222222222222,
             "#7201a8"
            ],
            [
             0.3333333333333333,
             "#9c179e"
            ],
            [
             0.4444444444444444,
             "#bd3786"
            ],
            [
             0.5555555555555556,
             "#d8576b"
            ],
            [
             0.6666666666666666,
             "#ed7953"
            ],
            [
             0.7777777777777778,
             "#fb9f3a"
            ],
            [
             0.8888888888888888,
             "#fdca26"
            ],
            [
             1,
             "#f0f921"
            ]
           ]
          },
          "colorway": [
           "#636efa",
           "#EF553B",
           "#00cc96",
           "#ab63fa",
           "#FFA15A",
           "#19d3f3",
           "#FF6692",
           "#B6E880",
           "#FF97FF",
           "#FECB52"
          ],
          "font": {
           "color": "#2a3f5f"
          },
          "geo": {
           "bgcolor": "white",
           "lakecolor": "white",
           "landcolor": "#E5ECF6",
           "showlakes": true,
           "showland": true,
           "subunitcolor": "white"
          },
          "hoverlabel": {
           "align": "left"
          },
          "hovermode": "closest",
          "mapbox": {
           "style": "light"
          },
          "paper_bgcolor": "white",
          "plot_bgcolor": "#E5ECF6",
          "polar": {
           "angularaxis": {
            "gridcolor": "white",
            "linecolor": "white",
            "ticks": ""
           },
           "bgcolor": "#E5ECF6",
           "radialaxis": {
            "gridcolor": "white",
            "linecolor": "white",
            "ticks": ""
           }
          },
          "scene": {
           "xaxis": {
            "backgroundcolor": "#E5ECF6",
            "gridcolor": "white",
            "gridwidth": 2,
            "linecolor": "white",
            "showbackground": true,
            "ticks": "",
            "zerolinecolor": "white"
           },
           "yaxis": {
            "backgroundcolor": "#E5ECF6",
            "gridcolor": "white",
            "gridwidth": 2,
            "linecolor": "white",
            "showbackground": true,
            "ticks": "",
            "zerolinecolor": "white"
           },
           "zaxis": {
            "backgroundcolor": "#E5ECF6",
            "gridcolor": "white",
            "gridwidth": 2,
            "linecolor": "white",
            "showbackground": true,
            "ticks": "",
            "zerolinecolor": "white"
           }
          },
          "shapedefaults": {
           "line": {
            "color": "#2a3f5f"
           }
          },
          "ternary": {
           "aaxis": {
            "gridcolor": "white",
            "linecolor": "white",
            "ticks": ""
           },
           "baxis": {
            "gridcolor": "white",
            "linecolor": "white",
            "ticks": ""
           },
           "bgcolor": "#E5ECF6",
           "caxis": {
            "gridcolor": "white",
            "linecolor": "white",
            "ticks": ""
           }
          },
          "title": {
           "x": 0.05
          },
          "xaxis": {
           "automargin": true,
           "gridcolor": "white",
           "linecolor": "white",
           "ticks": "",
           "title": {
            "standoff": 15
           },
           "zerolinecolor": "white",
           "zerolinewidth": 2
          },
          "yaxis": {
           "automargin": true,
           "gridcolor": "white",
           "linecolor": "white",
           "ticks": "",
           "title": {
            "standoff": 15
           },
           "zerolinecolor": "white",
           "zerolinewidth": 2
          }
         }
        },
        "title": {
         "text": "Amount of tweets per airline and language <br>        From 2019-05-22 up to 2020-03-30"
        },
        "width": 900
       }
      },
      "text/html": [
       "<div>                            <div id=\"b526b34e-43db-465f-b5ae-59c78a921278\" class=\"plotly-graph-div\" style=\"height:900px; width:900px;\"></div>            <script type=\"text/javascript\">                require([\"plotly\"], function(Plotly) {                    window.PLOTLYENV=window.PLOTLYENV || {};                                    if (document.getElementById(\"b526b34e-43db-465f-b5ae-59c78a921278\")) {                    Plotly.newPlot(                        \"b526b34e-43db-465f-b5ae-59c78a921278\",                        [{\"branchvalues\":\"total\",\"customdata\":[[\"Arabic: 57\",57.0],[\"Basque: 1\",1.0],[\"Basque: 2\",2.0],[\"Catalan: 1\",1.0],[\"Catalan: 1\",1.0],[\"Catalan: 12\",12.0],[\"Czech: 1\",1.0],[\"Czech: 1\",1.0],[\"Czech: 1\",1.0],[\"Danish: 1\",1.0],[\"Danish: 2\",2.0],[\"Dutch: 1\",1.0],[\"Dutch: 1\",1.0],[\"Dutch: 2\",2.0],[\"Dutch: 2\",2.0],[\"Dutch: 289\",289.0],[\"Dutch: 3\",3.0],[\"Dutch: 8826\",8826.0],[\"English: 106493\",106493.0],[\"English: 114294\",114294.0],[\"English: 12090\",12090.0],[\"English: 12559\",12559.0],[\"English: 12918\",12918.0],[\"English: 1327\",1327.0],[\"English: 19901\",19901.0],[\"English: 21245\",21245.0],[\"English: 22941\",22941.0],[\"English: 48423\",48423.0],[\"English: 7839\",7839.0],[\"Estonian: 3\",3.0],[\"Estonian: 5\",5.0],[\"Estonian: 7\",7.0],[\"Estonian: 7\",7.0],[\"Estonian: 9\",9.0],[\"Finnish: 1\",1.0],[\"French: 1\",1.0],[\"French: 1\",1.0],[\"French: 1212\",1212.0],[\"French: 162\",162.0],[\"French: 19\",19.0],[\"French: 2\",2.0],[\"French: 3348\",3348.0],[\"French: 6\",6.0],[\"French: 7\",7.0],[\"French: 7\",7.0],[\"German: 10\",10.0],[\"German: 20\",20.0],[\"German: 292\",292.0],[\"German: 3\",3.0],[\"German: 3\",3.0],[\"German: 419\",419.0],[\"German: 478\",478.0],[\"Haitian Creole: 2\",2.0],[\"Haitian Creole: 3\",3.0],[\"Haitian Creole: 5\",5.0],[\"Hindi: 1\",1.0],[\"Hindi: 1\",1.0],[\"Hindi: 19\",19.0],[\"Hindi: 2\",2.0],[\"Hungarian: 1\",1.0],[\"Hungarian: 1\",1.0],[\"Hungarian: 7\",7.0],[\"Icelandic: 1\",1.0],[\"Icelandic: 1\",1.0],[\"Icelandic: 3\",3.0],[\"Indonesian: 1\",1.0],[\"Indonesian: 2\",2.0],[\"Indonesian: 3\",3.0],[\"Indonesian: 4\",4.0],[\"Indonesian: 5\",5.0],[\"Indonesian: 5\",5.0],[\"Indonesian: 7\",7.0],[\"Italian: 1\",1.0],[\"Italian: 115\",115.0],[\"Italian: 3\",3.0],[\"Italian: 30\",30.0],[\"Italian: 44\",44.0],[\"Italian: 507\",507.0],[\"Japanese: 1\",1.0],[\"Japanese: 152\",152.0],[\"Japanese: 27\",27.0],[\"Korean: 7\",7.0],[\"Latvian: 1\",1.0],[\"Latvian: 1\",1.0],[\"Lithuanian: 1\",1.0],[\"Lithuanian: 1\",1.0],[\"Norwegian: 1\",1.0],[\"Norwegian: 1\",1.0],[\"Norwegian: 2\",2.0],[\"Polish: 1\",1.0],[\"Polish: 21\",21.0],[\"Polish: 8\",8.0],[\"Polish: 80\",80.0],[\"Portuguese: 1\",1.0],[\"Portuguese: 10\",10.0],[\"Portuguese: 114\",114.0],[\"Portuguese: 2\",2.0],[\"Portuguese: 2\",2.0],[\"Portuguese: 2\",2.0],[\"Portuguese: 270\",270.0],[\"Portuguese: 79\",79.0],[\"Romanian: 1\",1.0],[\"Romanian: 1\",1.0],[\"Romanian: 2\",2.0],[\"Romanian: 9\",9.0],[\"Spanish: 1\",1.0],[\"Spanish: 1239\",1239.0],[\"Spanish: 1614\",1614.0],[\"Spanish: 268\",268.0],[\"Spanish: 270\",270.0],[\"Spanish: 3\",3.0],[\"Spanish: 6\",6.0],[\"Swedish: 1\",1.0],[\"Tagalog: 1\",1.0],[\"Tagalog: 1\",1.0],[\"Tagalog: 2\",2.0],[\"Tagalog: 21\",21.0],[\"Tagalog: 6\",6.0],[\"Tagalog: 8\",8.0],[\"Turkish: 2\",2.0],[\"Undetermined: 100\",100.0],[\"Undetermined: 108\",108.0],[\"Undetermined: 12\",12.0],[\"Undetermined: 15\",15.0],[\"Undetermined: 2\",2.0],[\"Undetermined: 380\",380.0],[\"Undetermined: 5\",5.0],[\"Undetermined: 63\",63.0],[\"Undetermined: 9\",9.0],[\"Vietnamese: 1\",1.0],[\"Welsh: 1\",1.0],[\"Welsh: 1\",1.0],[\"Welsh: 1\",1.0],[\"Welsh: 1\",1.0],[\"Welsh: 3\",3.0],[\"zh: 1\",1.0],[\"zh: 2\",2.0],[\"zh: 7\",7.0],[\"(?)\",6606.677047289504],[\"(?)\",114215.08984637982],[\"(?)\",106340.2835174315],[\"(?)\",1269.2],[\"(?)\",17694.20060728154],[\"(?)\",12092.875976113919],[\"(?)\",12077.017351069982],[\"(?)\",19498.132112620595],[\"(?)\",12916.000619195047],[\"(?)\",20844.626315789475],[\"(?)\",43107.2755230699],[\"(?)\",71704.7076933436]],\"domain\":{\"x\":[0.0,1.0],\"y\":[0.0,1.0]},\"hovertemplate\":\"<b>%{label}</b>\",\"hovertext\":[\"Etihad Airways\",\"British Airways\",\"Ryan Air\",\"British Airways\",\"easy Jet\",\"Ryan Air\",\"Air France\",\"Qantas\",\"easy Jet\",\"British Airways\",\"KLM\",\"Air France\",\"Ryan Air\",\"American Air\",\"Qantas\",\"easy Jet\",\"British Airways\",\"KLM\",\"British Airways\",\"American Air\",\"Qantas\",\"Lufthansa\",\"Singapore Air\",\"Etihad Airways\",\"Ryan Air\",\"Virgin Atlantic\",\"KLM\",\"easy Jet\",\"Air France\",\"Qantas\",\"easy Jet\",\"British Airways\",\"Virgin Atlantic\",\"KLM\",\"British Airways\",\"Lufthansa\",\"Qantas\",\"Air France\",\"KLM\",\"Ryan Air\",\"Singapore Air\",\"easy Jet\",\"Virgin Atlantic\",\"American Air\",\"British Airways\",\"Ryan Air\",\"Air France\",\"easy Jet\",\"British Airways\",\"Virgin Atlantic\",\"KLM\",\"Lufthansa\",\"Virgin Atlantic\",\"British Airways\",\"easy Jet\",\"Etihad Airways\",\"Lufthansa\",\"easy Jet\",\"British Airways\",\"British Airways\",\"easy Jet\",\"Ryan Air\",\"Ryan Air\",\"Virgin Atlantic\",\"easy Jet\",\"American Air\",\"Virgin Atlantic\",\"KLM\",\"easy Jet\",\"British Airways\",\"Lufthansa\",\"Ryan Air\",\"British Airways\",\"KLM\",\"American Air\",\"Ryan Air\",\"Air France\",\"easy Jet\",\"easy Jet\",\"KLM\",\"Air France\",\"Air France\",\"KLM\",\"Ryan Air\",\"Ryan Air\",\"easy Jet\",\"British Airways\",\"easy Jet\",\"KLM\",\"Virgin Atlantic\",\"easy Jet\",\"Ryan Air\",\"British Airways\",\"American Air\",\"British Airways\",\"Air France\",\"Lufthansa\",\"Ryan Air\",\"Virgin Atlantic\",\"KLM\",\"easy Jet\",\"Air France\",\"Etihad Airways\",\"British Airways\",\"Ryan Air\",\"American Air\",\"KLM\",\"easy Jet\",\"Ryan Air\",\"Air France\",\"Virgin Atlantic\",\"British Airways\",\"Ryan Air\",\"American Air\",\"Lufthansa\",\"KLM\",\"Ryan Air\",\"British Airways\",\"Virgin Atlantic\",\"Lufthansa\",\"KLM\",\"easy Jet\",\"Lufthansa\",\"Ryan Air\",\"Etihad Airways\",\"Virgin Atlantic\",\"Qantas\",\"American Air\",\"British Airways\",\"easy Jet\",\"KLM\",\"Lufthansa\",\"Qantas\",\"easy Jet\",\"British Airways\",\"Air France\",\"Etihad Airways\",\"KLM\",\"Air France\",\"American Air\",\"British Airways\",\"Etihad Airways\",\"KLM\",\"Lufthansa\",\"Qantas\",\"Ryan Air\",\"Singapore Air\",\"Virgin Atlantic\",\"easy Jet\",\"(?)\"],\"ids\":[\"<b>Total Airline Tweets <br> 400983/Etihad Airways/Arabic: 57\",\"<b>Total Airline Tweets <br> 400983/British Airways/Basque: 1\",\"<b>Total Airline Tweets <br> 400983/Ryan Air/Basque: 2\",\"<b>Total Airline Tweets <br> 400983/British Airways/Catalan: 1\",\"<b>Total Airline Tweets <br> 400983/easy Jet/Catalan: 1\",\"<b>Total Airline Tweets <br> 400983/Ryan Air/Catalan: 12\",\"<b>Total Airline Tweets <br> 400983/Air France/Czech: 1\",\"<b>Total Airline Tweets <br> 400983/Qantas/Czech: 1\",\"<b>Total Airline Tweets <br> 400983/easy Jet/Czech: 1\",\"<b>Total Airline Tweets <br> 400983/British Airways/Danish: 1\",\"<b>Total Airline Tweets <br> 400983/KLM/Danish: 2\",\"<b>Total Airline Tweets <br> 400983/Air France/Dutch: 1\",\"<b>Total Airline Tweets <br> 400983/Ryan Air/Dutch: 1\",\"<b>Total Airline Tweets <br> 400983/American Air/Dutch: 2\",\"<b>Total Airline Tweets <br> 400983/Qantas/Dutch: 2\",\"<b>Total Airline Tweets <br> 400983/easy Jet/Dutch: 289\",\"<b>Total Airline Tweets <br> 400983/British Airways/Dutch: 3\",\"<b>Total Airline Tweets <br> 400983/KLM/Dutch: 8826\",\"<b>Total Airline Tweets <br> 400983/British Airways/English: 106493\",\"<b>Total Airline Tweets <br> 400983/American Air/English: 114294\",\"<b>Total Airline Tweets <br> 400983/Qantas/English: 12090\",\"<b>Total Airline Tweets <br> 400983/Lufthansa/English: 12559\",\"<b>Total Airline Tweets <br> 400983/Singapore Air/English: 12918\",\"<b>Total Airline Tweets <br> 400983/Etihad Airways/English: 1327\",\"<b>Total Airline Tweets <br> 400983/Ryan Air/English: 19901\",\"<b>Total Airline Tweets <br> 400983/Virgin Atlantic/English: 21245\",\"<b>Total Airline Tweets <br> 400983/KLM/English: 22941\",\"<b>Total Airline Tweets <br> 400983/easy Jet/English: 48423\",\"<b>Total Airline Tweets <br> 400983/Air France/English: 7839\",\"<b>Total Airline Tweets <br> 400983/Qantas/Estonian: 3\",\"<b>Total Airline Tweets <br> 400983/easy Jet/Estonian: 5\",\"<b>Total Airline Tweets <br> 400983/British Airways/Estonian: 7\",\"<b>Total Airline Tweets <br> 400983/Virgin Atlantic/Estonian: 7\",\"<b>Total Airline Tweets <br> 400983/KLM/Estonian: 9\",\"<b>Total Airline Tweets <br> 400983/British Airways/Finnish: 1\",\"<b>Total Airline Tweets <br> 400983/Lufthansa/French: 1\",\"<b>Total Airline Tweets <br> 400983/Qantas/French: 1\",\"<b>Total Airline Tweets <br> 400983/Air France/French: 1212\",\"<b>Total Airline Tweets <br> 400983/KLM/French: 162\",\"<b>Total Airline Tweets <br> 400983/Ryan Air/French: 19\",\"<b>Total Airline Tweets <br> 400983/Singapore Air/French: 2\",\"<b>Total Airline Tweets <br> 400983/easy Jet/French: 3348\",\"<b>Total Airline Tweets <br> 400983/Virgin Atlantic/French: 6\",\"<b>Total Airline Tweets <br> 400983/American Air/French: 7\",\"<b>Total Airline Tweets <br> 400983/British Airways/French: 7\",\"<b>Total Airline Tweets <br> 400983/Ryan Air/German: 10\",\"<b>Total Airline Tweets <br> 400983/Air France/German: 20\",\"<b>Total Airline Tweets <br> 400983/easy Jet/German: 292\",\"<b>Total Airline Tweets <br> 400983/British Airways/German: 3\",\"<b>Total Airline Tweets <br> 400983/Virgin Atlantic/German: 3\",\"<b>Total Airline Tweets <br> 400983/KLM/German: 419\",\"<b>Total Airline Tweets <br> 400983/Lufthansa/German: 478\",\"<b>Total Airline Tweets <br> 400983/Virgin Atlantic/Haitian Creole: 2\",\"<b>Total Airline Tweets <br> 400983/British Airways/Haitian Creole: 3\",\"<b>Total Airline Tweets <br> 400983/easy Jet/Haitian Creole: 5\",\"<b>Total Airline Tweets <br> 400983/Etihad Airways/Hindi: 1\",\"<b>Total Airline Tweets <br> 400983/Lufthansa/Hindi: 1\",\"<b>Total Airline Tweets <br> 400983/easy Jet/Hindi: 19\",\"<b>Total Airline Tweets <br> 400983/British Airways/Hindi: 2\",\"<b>Total Airline Tweets <br> 400983/British Airways/Hungarian: 1\",\"<b>Total Airline Tweets <br> 400983/easy Jet/Hungarian: 1\",\"<b>Total Airline Tweets <br> 400983/Ryan Air/Hungarian: 7\",\"<b>Total Airline Tweets <br> 400983/Ryan Air/Icelandic: 1\",\"<b>Total Airline Tweets <br> 400983/Virgin Atlantic/Icelandic: 1\",\"<b>Total Airline Tweets <br> 400983/easy Jet/Icelandic: 3\",\"<b>Total Airline Tweets <br> 400983/American Air/Indonesian: 1\",\"<b>Total Airline Tweets <br> 400983/Virgin Atlantic/Indonesian: 2\",\"<b>Total Airline Tweets <br> 400983/KLM/Indonesian: 3\",\"<b>Total Airline Tweets <br> 400983/easy Jet/Indonesian: 4\",\"<b>Total Airline Tweets <br> 400983/British Airways/Indonesian: 5\",\"<b>Total Airline Tweets <br> 400983/Lufthansa/Indonesian: 5\",\"<b>Total Airline Tweets <br> 400983/Ryan Air/Indonesian: 7\",\"<b>Total Airline Tweets <br> 400983/British Airways/Italian: 1\",\"<b>Total Airline Tweets <br> 400983/KLM/Italian: 115\",\"<b>Total Airline Tweets <br> 400983/American Air/Italian: 3\",\"<b>Total Airline Tweets <br> 400983/Ryan Air/Italian: 30\",\"<b>Total Airline Tweets <br> 400983/Air France/Italian: 44\",\"<b>Total Airline Tweets <br> 400983/easy Jet/Italian: 507\",\"<b>Total Airline Tweets <br> 400983/easy Jet/Japanese: 1\",\"<b>Total Airline Tweets <br> 400983/KLM/Japanese: 152\",\"<b>Total Airline Tweets <br> 400983/Air France/Japanese: 27\",\"<b>Total Airline Tweets <br> 400983/Air France/Korean: 7\",\"<b>Total Airline Tweets <br> 400983/KLM/Latvian: 1\",\"<b>Total Airline Tweets <br> 400983/Ryan Air/Latvian: 1\",\"<b>Total Airline Tweets <br> 400983/Ryan Air/Lithuanian: 1\",\"<b>Total Airline Tweets <br> 400983/easy Jet/Lithuanian: 1\",\"<b>Total Airline Tweets <br> 400983/British Airways/Norwegian: 1\",\"<b>Total Airline Tweets <br> 400983/easy Jet/Norwegian: 1\",\"<b>Total Airline Tweets <br> 400983/KLM/Norwegian: 2\",\"<b>Total Airline Tweets <br> 400983/Virgin Atlantic/Polish: 1\",\"<b>Total Airline Tweets <br> 400983/easy Jet/Polish: 21\",\"<b>Total Airline Tweets <br> 400983/Ryan Air/Polish: 8\",\"<b>Total Airline Tweets <br> 400983/British Airways/Polish: 80\",\"<b>Total Airline Tweets <br> 400983/American Air/Portuguese: 1\",\"<b>Total Airline Tweets <br> 400983/British Airways/Portuguese: 10\",\"<b>Total Airline Tweets <br> 400983/Air France/Portuguese: 114\",\"<b>Total Airline Tweets <br> 400983/Lufthansa/Portuguese: 2\",\"<b>Total Airline Tweets <br> 400983/Ryan Air/Portuguese: 2\",\"<b>Total Airline Tweets <br> 400983/Virgin Atlantic/Portuguese: 2\",\"<b>Total Airline Tweets <br> 400983/KLM/Portuguese: 270\",\"<b>Total Airline Tweets <br> 400983/easy Jet/Portuguese: 79\",\"<b>Total Airline Tweets <br> 400983/Air France/Romanian: 1\",\"<b>Total Airline Tweets <br> 400983/Etihad Airways/Romanian: 1\",\"<b>Total Airline Tweets <br> 400983/British Airways/Romanian: 2\",\"<b>Total Airline Tweets <br> 400983/Ryan Air/Romanian: 9\",\"<b>Total Airline Tweets <br> 400983/American Air/Spanish: 1\",\"<b>Total Airline Tweets <br> 400983/KLM/Spanish: 1239\",\"<b>Total Airline Tweets <br> 400983/easy Jet/Spanish: 1614\",\"<b>Total Airline Tweets <br> 400983/Ryan Air/Spanish: 268\",\"<b>Total Airline Tweets <br> 400983/Air France/Spanish: 270\",\"<b>Total Airline Tweets <br> 400983/Virgin Atlantic/Spanish: 3\",\"<b>Total Airline Tweets <br> 400983/British Airways/Spanish: 6\",\"<b>Total Airline Tweets <br> 400983/Ryan Air/Swedish: 1\",\"<b>Total Airline Tweets <br> 400983/American Air/Tagalog: 1\",\"<b>Total Airline Tweets <br> 400983/Lufthansa/Tagalog: 1\",\"<b>Total Airline Tweets <br> 400983/KLM/Tagalog: 2\",\"<b>Total Airline Tweets <br> 400983/Ryan Air/Tagalog: 21\",\"<b>Total Airline Tweets <br> 400983/British Airways/Tagalog: 6\",\"<b>Total Airline Tweets <br> 400983/Virgin Atlantic/Tagalog: 8\",\"<b>Total Airline Tweets <br> 400983/Lufthansa/Turkish: 2\",\"<b>Total Airline Tweets <br> 400983/KLM/Undetermined: 100\",\"<b>Total Airline Tweets <br> 400983/easy Jet/Undetermined: 108\",\"<b>Total Airline Tweets <br> 400983/Lufthansa/Undetermined: 12\",\"<b>Total Airline Tweets <br> 400983/Ryan Air/Undetermined: 15\",\"<b>Total Airline Tweets <br> 400983/Etihad Airways/Undetermined: 2\",\"<b>Total Airline Tweets <br> 400983/Virgin Atlantic/Undetermined: 380\",\"<b>Total Airline Tweets <br> 400983/Qantas/Undetermined: 5\",\"<b>Total Airline Tweets <br> 400983/American Air/Undetermined: 63\",\"<b>Total Airline Tweets <br> 400983/British Airways/Undetermined: 9\",\"<b>Total Airline Tweets <br> 400983/easy Jet/Vietnamese: 1\",\"<b>Total Airline Tweets <br> 400983/KLM/Welsh: 1\",\"<b>Total Airline Tweets <br> 400983/Lufthansa/Welsh: 1\",\"<b>Total Airline Tweets <br> 400983/Qantas/Welsh: 1\",\"<b>Total Airline Tweets <br> 400983/easy Jet/Welsh: 1\",\"<b>Total Airline Tweets <br> 400983/British Airways/Welsh: 3\",\"<b>Total Airline Tweets <br> 400983/Air France/zh: 1\",\"<b>Total Airline Tweets <br> 400983/Etihad Airways/zh: 2\",\"<b>Total Airline Tweets <br> 400983/KLM/zh: 7\",\"<b>Total Airline Tweets <br> 400983/Air France\",\"<b>Total Airline Tweets <br> 400983/American Air\",\"<b>Total Airline Tweets <br> 400983/British Airways\",\"<b>Total Airline Tweets <br> 400983/Etihad Airways\",\"<b>Total Airline Tweets <br> 400983/KLM\",\"<b>Total Airline Tweets <br> 400983/Lufthansa\",\"<b>Total Airline Tweets <br> 400983/Qantas\",\"<b>Total Airline Tweets <br> 400983/Ryan Air\",\"<b>Total Airline Tweets <br> 400983/Singapore Air\",\"<b>Total Airline Tweets <br> 400983/Virgin Atlantic\",\"<b>Total Airline Tweets <br> 400983/easy Jet\",\"<b>Total Airline Tweets <br> 400983\"],\"labels\":[\"Arabic: 57\",\"Basque: 1\",\"Basque: 2\",\"Catalan: 1\",\"Catalan: 1\",\"Catalan: 12\",\"Czech: 1\",\"Czech: 1\",\"Czech: 1\",\"Danish: 1\",\"Danish: 2\",\"Dutch: 1\",\"Dutch: 1\",\"Dutch: 2\",\"Dutch: 2\",\"Dutch: 289\",\"Dutch: 3\",\"Dutch: 8826\",\"English: 106493\",\"English: 114294\",\"English: 12090\",\"English: 12559\",\"English: 12918\",\"English: 1327\",\"English: 19901\",\"English: 21245\",\"English: 22941\",\"English: 48423\",\"English: 7839\",\"Estonian: 3\",\"Estonian: 5\",\"Estonian: 7\",\"Estonian: 7\",\"Estonian: 9\",\"Finnish: 1\",\"French: 1\",\"French: 1\",\"French: 1212\",\"French: 162\",\"French: 19\",\"French: 2\",\"French: 3348\",\"French: 6\",\"French: 7\",\"French: 7\",\"German: 10\",\"German: 20\",\"German: 292\",\"German: 3\",\"German: 3\",\"German: 419\",\"German: 478\",\"Haitian Creole: 2\",\"Haitian Creole: 3\",\"Haitian Creole: 5\",\"Hindi: 1\",\"Hindi: 1\",\"Hindi: 19\",\"Hindi: 2\",\"Hungarian: 1\",\"Hungarian: 1\",\"Hungarian: 7\",\"Icelandic: 1\",\"Icelandic: 1\",\"Icelandic: 3\",\"Indonesian: 1\",\"Indonesian: 2\",\"Indonesian: 3\",\"Indonesian: 4\",\"Indonesian: 5\",\"Indonesian: 5\",\"Indonesian: 7\",\"Italian: 1\",\"Italian: 115\",\"Italian: 3\",\"Italian: 30\",\"Italian: 44\",\"Italian: 507\",\"Japanese: 1\",\"Japanese: 152\",\"Japanese: 27\",\"Korean: 7\",\"Latvian: 1\",\"Latvian: 1\",\"Lithuanian: 1\",\"Lithuanian: 1\",\"Norwegian: 1\",\"Norwegian: 1\",\"Norwegian: 2\",\"Polish: 1\",\"Polish: 21\",\"Polish: 8\",\"Polish: 80\",\"Portuguese: 1\",\"Portuguese: 10\",\"Portuguese: 114\",\"Portuguese: 2\",\"Portuguese: 2\",\"Portuguese: 2\",\"Portuguese: 270\",\"Portuguese: 79\",\"Romanian: 1\",\"Romanian: 1\",\"Romanian: 2\",\"Romanian: 9\",\"Spanish: 1\",\"Spanish: 1239\",\"Spanish: 1614\",\"Spanish: 268\",\"Spanish: 270\",\"Spanish: 3\",\"Spanish: 6\",\"Swedish: 1\",\"Tagalog: 1\",\"Tagalog: 1\",\"Tagalog: 2\",\"Tagalog: 21\",\"Tagalog: 6\",\"Tagalog: 8\",\"Turkish: 2\",\"Undetermined: 100\",\"Undetermined: 108\",\"Undetermined: 12\",\"Undetermined: 15\",\"Undetermined: 2\",\"Undetermined: 380\",\"Undetermined: 5\",\"Undetermined: 63\",\"Undetermined: 9\",\"Vietnamese: 1\",\"Welsh: 1\",\"Welsh: 1\",\"Welsh: 1\",\"Welsh: 1\",\"Welsh: 3\",\"zh: 1\",\"zh: 2\",\"zh: 7\",\"Air France\",\"American Air\",\"British Airways\",\"Etihad Airways\",\"KLM\",\"Lufthansa\",\"Qantas\",\"Ryan Air\",\"Singapore Air\",\"Virgin Atlantic\",\"easy Jet\",\"<b>Total Airline Tweets <br> 400983\"],\"marker\":{\"coloraxis\":\"coloraxis\",\"colors\":[57.0,1.0,2.0,1.0,1.0,12.0,1.0,1.0,1.0,1.0,2.0,1.0,1.0,2.0,2.0,289.0,3.0,8826.0,106493.0,114294.0,12090.0,12559.0,12918.0,1327.0,19901.0,21245.0,22941.0,48423.0,7839.0,3.0,5.0,7.0,7.0,9.0,1.0,1.0,1.0,1212.0,162.0,19.0,2.0,3348.0,6.0,7.0,7.0,10.0,20.0,292.0,3.0,3.0,419.0,478.0,2.0,3.0,5.0,1.0,1.0,19.0,2.0,1.0,1.0,7.0,1.0,1.0,3.0,1.0,2.0,3.0,4.0,5.0,5.0,7.0,1.0,115.0,3.0,30.0,44.0,507.0,1.0,152.0,27.0,7.0,1.0,1.0,1.0,1.0,1.0,1.0,2.0,1.0,21.0,8.0,80.0,1.0,10.0,114.0,2.0,2.0,2.0,270.0,79.0,1.0,1.0,2.0,9.0,1.0,1239.0,1614.0,268.0,270.0,3.0,6.0,1.0,1.0,1.0,2.0,21.0,6.0,8.0,2.0,100.0,108.0,12.0,15.0,2.0,380.0,5.0,63.0,9.0,1.0,1.0,1.0,1.0,1.0,3.0,1.0,2.0,7.0,6606.677047289504,114215.08984637982,106340.2835174315,1269.2,17694.20060728154,12092.875976113919,12077.017351069982,19498.132112620595,12916.000619195047,20844.626315789475,43107.2755230699,71704.7076933436]},\"name\":\"\",\"parents\":[\"<b>Total Airline Tweets <br> 400983/Etihad Airways\",\"<b>Total Airline Tweets <br> 400983/British Airways\",\"<b>Total Airline Tweets <br> 400983/Ryan Air\",\"<b>Total Airline Tweets <br> 400983/British Airways\",\"<b>Total Airline Tweets <br> 400983/easy Jet\",\"<b>Total Airline Tweets <br> 400983/Ryan Air\",\"<b>Total Airline Tweets <br> 400983/Air France\",\"<b>Total Airline Tweets <br> 400983/Qantas\",\"<b>Total Airline Tweets <br> 400983/easy Jet\",\"<b>Total Airline Tweets <br> 400983/British Airways\",\"<b>Total Airline Tweets <br> 400983/KLM\",\"<b>Total Airline Tweets <br> 400983/Air France\",\"<b>Total Airline Tweets <br> 400983/Ryan Air\",\"<b>Total Airline Tweets <br> 400983/American Air\",\"<b>Total Airline Tweets <br> 400983/Qantas\",\"<b>Total Airline Tweets <br> 400983/easy Jet\",\"<b>Total Airline Tweets <br> 400983/British Airways\",\"<b>Total Airline Tweets <br> 400983/KLM\",\"<b>Total Airline Tweets <br> 400983/British Airways\",\"<b>Total Airline Tweets <br> 400983/American Air\",\"<b>Total Airline Tweets <br> 400983/Qantas\",\"<b>Total Airline Tweets <br> 400983/Lufthansa\",\"<b>Total Airline Tweets <br> 400983/Singapore Air\",\"<b>Total Airline Tweets <br> 400983/Etihad Airways\",\"<b>Total Airline Tweets <br> 400983/Ryan Air\",\"<b>Total Airline Tweets <br> 400983/Virgin Atlantic\",\"<b>Total Airline Tweets <br> 400983/KLM\",\"<b>Total Airline Tweets <br> 400983/easy Jet\",\"<b>Total Airline Tweets <br> 400983/Air France\",\"<b>Total Airline Tweets <br> 400983/Qantas\",\"<b>Total Airline Tweets <br> 400983/easy Jet\",\"<b>Total Airline Tweets <br> 400983/British Airways\",\"<b>Total Airline Tweets <br> 400983/Virgin Atlantic\",\"<b>Total Airline Tweets <br> 400983/KLM\",\"<b>Total Airline Tweets <br> 400983/British Airways\",\"<b>Total Airline Tweets <br> 400983/Lufthansa\",\"<b>Total Airline Tweets <br> 400983/Qantas\",\"<b>Total Airline Tweets <br> 400983/Air France\",\"<b>Total Airline Tweets <br> 400983/KLM\",\"<b>Total Airline Tweets <br> 400983/Ryan Air\",\"<b>Total Airline Tweets <br> 400983/Singapore Air\",\"<b>Total Airline Tweets <br> 400983/easy Jet\",\"<b>Total Airline Tweets <br> 400983/Virgin Atlantic\",\"<b>Total Airline Tweets <br> 400983/American Air\",\"<b>Total Airline Tweets <br> 400983/British Airways\",\"<b>Total Airline Tweets <br> 400983/Ryan Air\",\"<b>Total Airline Tweets <br> 400983/Air France\",\"<b>Total Airline Tweets <br> 400983/easy Jet\",\"<b>Total Airline Tweets <br> 400983/British Airways\",\"<b>Total Airline Tweets <br> 400983/Virgin Atlantic\",\"<b>Total Airline Tweets <br> 400983/KLM\",\"<b>Total Airline Tweets <br> 400983/Lufthansa\",\"<b>Total Airline Tweets <br> 400983/Virgin Atlantic\",\"<b>Total Airline Tweets <br> 400983/British Airways\",\"<b>Total Airline Tweets <br> 400983/easy Jet\",\"<b>Total Airline Tweets <br> 400983/Etihad Airways\",\"<b>Total Airline Tweets <br> 400983/Lufthansa\",\"<b>Total Airline Tweets <br> 400983/easy Jet\",\"<b>Total Airline Tweets <br> 400983/British Airways\",\"<b>Total Airline Tweets <br> 400983/British Airways\",\"<b>Total Airline Tweets <br> 400983/easy Jet\",\"<b>Total Airline Tweets <br> 400983/Ryan Air\",\"<b>Total Airline Tweets <br> 400983/Ryan Air\",\"<b>Total Airline Tweets <br> 400983/Virgin Atlantic\",\"<b>Total Airline Tweets <br> 400983/easy Jet\",\"<b>Total Airline Tweets <br> 400983/American Air\",\"<b>Total Airline Tweets <br> 400983/Virgin Atlantic\",\"<b>Total Airline Tweets <br> 400983/KLM\",\"<b>Total Airline Tweets <br> 400983/easy Jet\",\"<b>Total Airline Tweets <br> 400983/British Airways\",\"<b>Total Airline Tweets <br> 400983/Lufthansa\",\"<b>Total Airline Tweets <br> 400983/Ryan Air\",\"<b>Total Airline Tweets <br> 400983/British Airways\",\"<b>Total Airline Tweets <br> 400983/KLM\",\"<b>Total Airline Tweets <br> 400983/American Air\",\"<b>Total Airline Tweets <br> 400983/Ryan Air\",\"<b>Total Airline Tweets <br> 400983/Air France\",\"<b>Total Airline Tweets <br> 400983/easy Jet\",\"<b>Total Airline Tweets <br> 400983/easy Jet\",\"<b>Total Airline Tweets <br> 400983/KLM\",\"<b>Total Airline Tweets <br> 400983/Air France\",\"<b>Total Airline Tweets <br> 400983/Air France\",\"<b>Total Airline Tweets <br> 400983/KLM\",\"<b>Total Airline Tweets <br> 400983/Ryan Air\",\"<b>Total Airline Tweets <br> 400983/Ryan Air\",\"<b>Total Airline Tweets <br> 400983/easy Jet\",\"<b>Total Airline Tweets <br> 400983/British Airways\",\"<b>Total Airline Tweets <br> 400983/easy Jet\",\"<b>Total Airline Tweets <br> 400983/KLM\",\"<b>Total Airline Tweets <br> 400983/Virgin Atlantic\",\"<b>Total Airline Tweets <br> 400983/easy Jet\",\"<b>Total Airline Tweets <br> 400983/Ryan Air\",\"<b>Total Airline Tweets <br> 400983/British Airways\",\"<b>Total Airline Tweets <br> 400983/American Air\",\"<b>Total Airline Tweets <br> 400983/British Airways\",\"<b>Total Airline Tweets <br> 400983/Air France\",\"<b>Total Airline Tweets <br> 400983/Lufthansa\",\"<b>Total Airline Tweets <br> 400983/Ryan Air\",\"<b>Total Airline Tweets <br> 400983/Virgin Atlantic\",\"<b>Total Airline Tweets <br> 400983/KLM\",\"<b>Total Airline Tweets <br> 400983/easy Jet\",\"<b>Total Airline Tweets <br> 400983/Air France\",\"<b>Total Airline Tweets <br> 400983/Etihad Airways\",\"<b>Total Airline Tweets <br> 400983/British Airways\",\"<b>Total Airline Tweets <br> 400983/Ryan Air\",\"<b>Total Airline Tweets <br> 400983/American Air\",\"<b>Total Airline Tweets <br> 400983/KLM\",\"<b>Total Airline Tweets <br> 400983/easy Jet\",\"<b>Total Airline Tweets <br> 400983/Ryan Air\",\"<b>Total Airline Tweets <br> 400983/Air France\",\"<b>Total Airline Tweets <br> 400983/Virgin Atlantic\",\"<b>Total Airline Tweets <br> 400983/British Airways\",\"<b>Total Airline Tweets <br> 400983/Ryan Air\",\"<b>Total Airline Tweets <br> 400983/American Air\",\"<b>Total Airline Tweets <br> 400983/Lufthansa\",\"<b>Total Airline Tweets <br> 400983/KLM\",\"<b>Total Airline Tweets <br> 400983/Ryan Air\",\"<b>Total Airline Tweets <br> 400983/British Airways\",\"<b>Total Airline Tweets <br> 400983/Virgin Atlantic\",\"<b>Total Airline Tweets <br> 400983/Lufthansa\",\"<b>Total Airline Tweets <br> 400983/KLM\",\"<b>Total Airline Tweets <br> 400983/easy Jet\",\"<b>Total Airline Tweets <br> 400983/Lufthansa\",\"<b>Total Airline Tweets <br> 400983/Ryan Air\",\"<b>Total Airline Tweets <br> 400983/Etihad Airways\",\"<b>Total Airline Tweets <br> 400983/Virgin Atlantic\",\"<b>Total Airline Tweets <br> 400983/Qantas\",\"<b>Total Airline Tweets <br> 400983/American Air\",\"<b>Total Airline Tweets <br> 400983/British Airways\",\"<b>Total Airline Tweets <br> 400983/easy Jet\",\"<b>Total Airline Tweets <br> 400983/KLM\",\"<b>Total Airline Tweets <br> 400983/Lufthansa\",\"<b>Total Airline Tweets <br> 400983/Qantas\",\"<b>Total Airline Tweets <br> 400983/easy Jet\",\"<b>Total Airline Tweets <br> 400983/British Airways\",\"<b>Total Airline Tweets <br> 400983/Air France\",\"<b>Total Airline Tweets <br> 400983/Etihad Airways\",\"<b>Total Airline Tweets <br> 400983/KLM\",\"<b>Total Airline Tweets <br> 400983\",\"<b>Total Airline Tweets <br> 400983\",\"<b>Total Airline Tweets <br> 400983\",\"<b>Total Airline Tweets <br> 400983\",\"<b>Total Airline Tweets <br> 400983\",\"<b>Total Airline Tweets <br> 400983\",\"<b>Total Airline Tweets <br> 400983\",\"<b>Total Airline Tweets <br> 400983\",\"<b>Total Airline Tweets <br> 400983\",\"<b>Total Airline Tweets <br> 400983\",\"<b>Total Airline Tweets <br> 400983\",\"\"],\"values\":[57,1,2,1,1,12,1,1,1,1,2,1,1,2,2,289,3,8826,106493,114294,12090,12559,12918,1327,19901,21245,22941,48423,7839,3,5,7,7,9,1,1,1,1212,162,19,2,3348,6,7,7,10,20,292,3,3,419,478,2,3,5,1,1,19,2,1,1,7,1,1,3,1,2,3,4,5,5,7,1,115,3,30,44,507,1,152,27,7,1,1,1,1,1,1,2,1,21,8,80,1,10,114,2,2,2,270,79,1,1,2,9,1,1239,1614,268,270,3,6,1,1,1,2,21,6,8,2,100,108,12,15,2,380,5,63,9,1,1,1,1,1,3,1,2,7,9537,114373,106646,1390,34251,13062,12103,20316,12920,21660,54725,400983],\"type\":\"sunburst\"}],                        {\"template\":{\"data\":{\"histogram2dcontour\":[{\"type\":\"histogram2dcontour\",\"colorbar\":{\"outlinewidth\":0,\"ticks\":\"\"},\"colorscale\":[[0.0,\"#0d0887\"],[0.1111111111111111,\"#46039f\"],[0.2222222222222222,\"#7201a8\"],[0.3333333333333333,\"#9c179e\"],[0.4444444444444444,\"#bd3786\"],[0.5555555555555556,\"#d8576b\"],[0.6666666666666666,\"#ed7953\"],[0.7777777777777778,\"#fb9f3a\"],[0.8888888888888888,\"#fdca26\"],[1.0,\"#f0f921\"]]}],\"choropleth\":[{\"type\":\"choropleth\",\"colorbar\":{\"outlinewidth\":0,\"ticks\":\"\"}}],\"histogram2d\":[{\"type\":\"histogram2d\",\"colorbar\":{\"outlinewidth\":0,\"ticks\":\"\"},\"colorscale\":[[0.0,\"#0d0887\"],[0.1111111111111111,\"#46039f\"],[0.2222222222222222,\"#7201a8\"],[0.3333333333333333,\"#9c179e\"],[0.4444444444444444,\"#bd3786\"],[0.5555555555555556,\"#d8576b\"],[0.6666666666666666,\"#ed7953\"],[0.7777777777777778,\"#fb9f3a\"],[0.8888888888888888,\"#fdca26\"],[1.0,\"#f0f921\"]]}],\"heatmap\":[{\"type\":\"heatmap\",\"colorbar\":{\"outlinewidth\":0,\"ticks\":\"\"},\"colorscale\":[[0.0,\"#0d0887\"],[0.1111111111111111,\"#46039f\"],[0.2222222222222222,\"#7201a8\"],[0.3333333333333333,\"#9c179e\"],[0.4444444444444444,\"#bd3786\"],[0.5555555555555556,\"#d8576b\"],[0.6666666666666666,\"#ed7953\"],[0.7777777777777778,\"#fb9f3a\"],[0.8888888888888888,\"#fdca26\"],[1.0,\"#f0f921\"]]}],\"heatmapgl\":[{\"type\":\"heatmapgl\",\"colorbar\":{\"outlinewidth\":0,\"ticks\":\"\"},\"colorscale\":[[0.0,\"#0d0887\"],[0.1111111111111111,\"#46039f\"],[0.2222222222222222,\"#7201a8\"],[0.3333333333333333,\"#9c179e\"],[0.4444444444444444,\"#bd3786\"],[0.5555555555555556,\"#d8576b\"],[0.6666666666666666,\"#ed7953\"],[0.7777777777777778,\"#fb9f3a\"],[0.8888888888888888,\"#fdca26\"],[1.0,\"#f0f921\"]]}],\"contourcarpet\":[{\"type\":\"contourcarpet\",\"colorbar\":{\"outlinewidth\":0,\"ticks\":\"\"}}],\"contour\":[{\"type\":\"contour\",\"colorbar\":{\"outlinewidth\":0,\"ticks\":\"\"},\"colorscale\":[[0.0,\"#0d0887\"],[0.1111111111111111,\"#46039f\"],[0.2222222222222222,\"#7201a8\"],[0.3333333333333333,\"#9c179e\"],[0.4444444444444444,\"#bd3786\"],[0.5555555555555556,\"#d8576b\"],[0.6666666666666666,\"#ed7953\"],[0.7777777777777778,\"#fb9f3a\"],[0.8888888888888888,\"#fdca26\"],[1.0,\"#f0f921\"]]}],\"surface\":[{\"type\":\"surface\",\"colorbar\":{\"outlinewidth\":0,\"ticks\":\"\"},\"colorscale\":[[0.0,\"#0d0887\"],[0.1111111111111111,\"#46039f\"],[0.2222222222222222,\"#7201a8\"],[0.3333333333333333,\"#9c179e\"],[0.4444444444444444,\"#bd3786\"],[0.5555555555555556,\"#d8576b\"],[0.6666666666666666,\"#ed7953\"],[0.7777777777777778,\"#fb9f3a\"],[0.8888888888888888,\"#fdca26\"],[1.0,\"#f0f921\"]]}],\"mesh3d\":[{\"type\":\"mesh3d\",\"colorbar\":{\"outlinewidth\":0,\"ticks\":\"\"}}],\"scatter\":[{\"fillpattern\":{\"fillmode\":\"overlay\",\"size\":10,\"solidity\":0.2},\"type\":\"scatter\"}],\"parcoords\":[{\"type\":\"parcoords\",\"line\":{\"colorbar\":{\"outlinewidth\":0,\"ticks\":\"\"}}}],\"scatterpolargl\":[{\"type\":\"scatterpolargl\",\"marker\":{\"colorbar\":{\"outlinewidth\":0,\"ticks\":\"\"}}}],\"bar\":[{\"error_x\":{\"color\":\"#2a3f5f\"},\"error_y\":{\"color\":\"#2a3f5f\"},\"marker\":{\"line\":{\"color\":\"#E5ECF6\",\"width\":0.5},\"pattern\":{\"fillmode\":\"overlay\",\"size\":10,\"solidity\":0.2}},\"type\":\"bar\"}],\"scattergeo\":[{\"type\":\"scattergeo\",\"marker\":{\"colorbar\":{\"outlinewidth\":0,\"ticks\":\"\"}}}],\"scatterpolar\":[{\"type\":\"scatterpolar\",\"marker\":{\"colorbar\":{\"outlinewidth\":0,\"ticks\":\"\"}}}],\"histogram\":[{\"marker\":{\"pattern\":{\"fillmode\":\"overlay\",\"size\":10,\"solidity\":0.2}},\"type\":\"histogram\"}],\"scattergl\":[{\"type\":\"scattergl\",\"marker\":{\"colorbar\":{\"outlinewidth\":0,\"ticks\":\"\"}}}],\"scatter3d\":[{\"type\":\"scatter3d\",\"line\":{\"colorbar\":{\"outlinewidth\":0,\"ticks\":\"\"}},\"marker\":{\"colorbar\":{\"outlinewidth\":0,\"ticks\":\"\"}}}],\"scattermapbox\":[{\"type\":\"scattermapbox\",\"marker\":{\"colorbar\":{\"outlinewidth\":0,\"ticks\":\"\"}}}],\"scatterternary\":[{\"type\":\"scatterternary\",\"marker\":{\"colorbar\":{\"outlinewidth\":0,\"ticks\":\"\"}}}],\"scattercarpet\":[{\"type\":\"scattercarpet\",\"marker\":{\"colorbar\":{\"outlinewidth\":0,\"ticks\":\"\"}}}],\"carpet\":[{\"aaxis\":{\"endlinecolor\":\"#2a3f5f\",\"gridcolor\":\"white\",\"linecolor\":\"white\",\"minorgridcolor\":\"white\",\"startlinecolor\":\"#2a3f5f\"},\"baxis\":{\"endlinecolor\":\"#2a3f5f\",\"gridcolor\":\"white\",\"linecolor\":\"white\",\"minorgridcolor\":\"white\",\"startlinecolor\":\"#2a3f5f\"},\"type\":\"carpet\"}],\"table\":[{\"cells\":{\"fill\":{\"color\":\"#EBF0F8\"},\"line\":{\"color\":\"white\"}},\"header\":{\"fill\":{\"color\":\"#C8D4E3\"},\"line\":{\"color\":\"white\"}},\"type\":\"table\"}],\"barpolar\":[{\"marker\":{\"line\":{\"color\":\"#E5ECF6\",\"width\":0.5},\"pattern\":{\"fillmode\":\"overlay\",\"size\":10,\"solidity\":0.2}},\"type\":\"barpolar\"}],\"pie\":[{\"automargin\":true,\"type\":\"pie\"}]},\"layout\":{\"autotypenumbers\":\"strict\",\"colorway\":[\"#636efa\",\"#EF553B\",\"#00cc96\",\"#ab63fa\",\"#FFA15A\",\"#19d3f3\",\"#FF6692\",\"#B6E880\",\"#FF97FF\",\"#FECB52\"],\"font\":{\"color\":\"#2a3f5f\"},\"hovermode\":\"closest\",\"hoverlabel\":{\"align\":\"left\"},\"paper_bgcolor\":\"white\",\"plot_bgcolor\":\"#E5ECF6\",\"polar\":{\"bgcolor\":\"#E5ECF6\",\"angularaxis\":{\"gridcolor\":\"white\",\"linecolor\":\"white\",\"ticks\":\"\"},\"radialaxis\":{\"gridcolor\":\"white\",\"linecolor\":\"white\",\"ticks\":\"\"}},\"ternary\":{\"bgcolor\":\"#E5ECF6\",\"aaxis\":{\"gridcolor\":\"white\",\"linecolor\":\"white\",\"ticks\":\"\"},\"baxis\":{\"gridcolor\":\"white\",\"linecolor\":\"white\",\"ticks\":\"\"},\"caxis\":{\"gridcolor\":\"white\",\"linecolor\":\"white\",\"ticks\":\"\"}},\"coloraxis\":{\"colorbar\":{\"outlinewidth\":0,\"ticks\":\"\"}},\"colorscale\":{\"sequential\":[[0.0,\"#0d0887\"],[0.1111111111111111,\"#46039f\"],[0.2222222222222222,\"#7201a8\"],[0.3333333333333333,\"#9c179e\"],[0.4444444444444444,\"#bd3786\"],[0.5555555555555556,\"#d8576b\"],[0.6666666666666666,\"#ed7953\"],[0.7777777777777778,\"#fb9f3a\"],[0.8888888888888888,\"#fdca26\"],[1.0,\"#f0f921\"]],\"sequentialminus\":[[0.0,\"#0d0887\"],[0.1111111111111111,\"#46039f\"],[0.2222222222222222,\"#7201a8\"],[0.3333333333333333,\"#9c179e\"],[0.4444444444444444,\"#bd3786\"],[0.5555555555555556,\"#d8576b\"],[0.6666666666666666,\"#ed7953\"],[0.7777777777777778,\"#fb9f3a\"],[0.8888888888888888,\"#fdca26\"],[1.0,\"#f0f921\"]],\"diverging\":[[0,\"#8e0152\"],[0.1,\"#c51b7d\"],[0.2,\"#de77ae\"],[0.3,\"#f1b6da\"],[0.4,\"#fde0ef\"],[0.5,\"#f7f7f7\"],[0.6,\"#e6f5d0\"],[0.7,\"#b8e186\"],[0.8,\"#7fbc41\"],[0.9,\"#4d9221\"],[1,\"#276419\"]]},\"xaxis\":{\"gridcolor\":\"white\",\"linecolor\":\"white\",\"ticks\":\"\",\"title\":{\"standoff\":15},\"zerolinecolor\":\"white\",\"automargin\":true,\"zerolinewidth\":2},\"yaxis\":{\"gridcolor\":\"white\",\"linecolor\":\"white\",\"ticks\":\"\",\"title\":{\"standoff\":15},\"zerolinecolor\":\"white\",\"automargin\":true,\"zerolinewidth\":2},\"scene\":{\"xaxis\":{\"backgroundcolor\":\"#E5ECF6\",\"gridcolor\":\"white\",\"linecolor\":\"white\",\"showbackground\":true,\"ticks\":\"\",\"zerolinecolor\":\"white\",\"gridwidth\":2},\"yaxis\":{\"backgroundcolor\":\"#E5ECF6\",\"gridcolor\":\"white\",\"linecolor\":\"white\",\"showbackground\":true,\"ticks\":\"\",\"zerolinecolor\":\"white\",\"gridwidth\":2},\"zaxis\":{\"backgroundcolor\":\"#E5ECF6\",\"gridcolor\":\"white\",\"linecolor\":\"white\",\"showbackground\":true,\"ticks\":\"\",\"zerolinecolor\":\"white\",\"gridwidth\":2}},\"shapedefaults\":{\"line\":{\"color\":\"#2a3f5f\"}},\"annotationdefaults\":{\"arrowcolor\":\"#2a3f5f\",\"arrowhead\":0,\"arrowwidth\":1},\"geo\":{\"bgcolor\":\"white\",\"landcolor\":\"#E5ECF6\",\"subunitcolor\":\"white\",\"showland\":true,\"showlakes\":true,\"lakecolor\":\"white\"},\"title\":{\"x\":0.05},\"mapbox\":{\"style\":\"light\"}}},\"coloraxis\":{\"colorbar\":{\"title\":{\"text\":\"count\"}},\"colorscale\":[[0.0,\"rgb(103,0,31)\"],[0.1,\"rgb(178,24,43)\"],[0.2,\"rgb(214,96,77)\"],[0.3,\"rgb(244,165,130)\"],[0.4,\"rgb(253,219,199)\"],[0.5,\"rgb(247,247,247)\"],[0.6,\"rgb(209,229,240)\"],[0.7,\"rgb(146,197,222)\"],[0.8,\"rgb(67,147,195)\"],[0.9,\"rgb(33,102,172)\"],[1.0,\"rgb(5,48,97)\"]],\"cmid\":71704.7076933436},\"legend\":{\"tracegroupgap\":0},\"title\":{\"text\":\"Amount of tweets per airline and language <br>        From 2019-05-22 up to 2020-03-30\"},\"height\":900,\"width\":900},                        {\"responsive\": true}                    ).then(function(){\n",
       "                            \n",
       "var gd = document.getElementById('b526b34e-43db-465f-b5ae-59c78a921278');\n",
       "var x = new MutationObserver(function (mutations, observer) {{\n",
       "        var display = window.getComputedStyle(gd).display;\n",
       "        if (!display || display === 'none') {{\n",
       "            console.log([gd, 'removed!']);\n",
       "            Plotly.purge(gd);\n",
       "            observer.disconnect();\n",
       "        }}\n",
       "}});\n",
       "\n",
       "// Listen for the removal of the full notebook cells\n",
       "var notebookContainer = gd.closest('#notebook-container');\n",
       "if (notebookContainer) {{\n",
       "    x.observe(notebookContainer, {childList: true});\n",
       "}}\n",
       "\n",
       "// Listen for the clearing of the current output cell\n",
       "var outputEl = gd.closest('.output');\n",
       "if (outputEl) {{\n",
       "    x.observe(outputEl, {childList: true});\n",
       "}}\n",
       "\n",
       "                        })                };                });            </script>        </div>"
      ]
     },
     "metadata": {},
     "output_type": "display_data"
    }
   ],
   "source": [
    "### sunburst plot\n",
    "unique_airlines = list(df_airlang[\"airline\"].unique())\n",
    "df_airlang[\"all\"] = \"<b>Total Airline Tweets <br> \"+str(df_airlang[\"count\"].sum())\n",
    "df_airlang[\"langcount\"] = df_airlang.agg('{0[lang]}: {0[count]}'.format, axis=1)\n",
    "\n",
    "fig2 = px.sunburst(df_airlang, path=['all', 'airline', 'langcount'], values='count',\n",
    "                    color='count', \n",
    "                    hover_name=df_airlang[\"airline\"],\n",
    "                    hover_data={\"langcount\": False},\n",
    "                    color_continuous_scale='RdBu',\n",
    "                    color_continuous_midpoint=np.average(df_airlang['count'], weights=df_airlang['count']),\n",
    "                    width=900,\n",
    "                    height=900,\n",
    "                    title=\"Amount of tweets per airline and language <br>        From %s up to %s\" \n",
    "                           % tuple(datetime.strftime(date, '%Y-%m-%d') for date in date_range))\n",
    "fig2.update_traces(hovertemplate=\"\"\"<b>%{label}</b>\"\"\")\n",
    "fig2.show()\n"
   ]
  },
  {
   "cell_type": "code",
   "execution_count": 11,
   "metadata": {},
   "outputs": [
    {
     "data": {
      "application/vnd.plotly.v1+json": {
       "config": {
        "plotlyServerURL": "https://plot.ly"
       },
       "data": [
        {
         "branchvalues": "total",
         "customdata": [
          [
           1
          ],
          [
           1
          ],
          [
           1
          ],
          [
           1
          ],
          [
           2
          ],
          [
           3
          ],
          [
           7
          ],
          [
           63
          ],
          [
           114294
          ],
          [
           2
          ],
          [
           114294
          ],
          [
           7
          ],
          [
           1
          ],
          [
           3
          ],
          [
           1
          ],
          [
           1
          ],
          [
           1
          ],
          [
           63
          ],
          [
           114215.08984637982
          ]
         ],
         "domain": {
          "x": [
           0,
           1
          ],
          "y": [
           0,
           1
          ]
         },
         "hovertemplate": "labels=%{label}<br>count_sum=%{value}<br>parent=%{parent}<br>id=%{id}<br>count=%{color}<extra></extra>",
         "ids": [
          "American Air<br>114373 Tweets/Indonesian/1",
          "American Air<br>114373 Tweets/Portuguese/1",
          "American Air<br>114373 Tweets/Spanish/1",
          "American Air<br>114373 Tweets/Tagalog/1",
          "American Air<br>114373 Tweets/Dutch/2",
          "American Air<br>114373 Tweets/Italian/3",
          "American Air<br>114373 Tweets/French/7",
          "American Air<br>114373 Tweets/Undetermined/63",
          "American Air<br>114373 Tweets/English/114294",
          "American Air<br>114373 Tweets/Dutch",
          "American Air<br>114373 Tweets/English",
          "American Air<br>114373 Tweets/French",
          "American Air<br>114373 Tweets/Indonesian",
          "American Air<br>114373 Tweets/Italian",
          "American Air<br>114373 Tweets/Portuguese",
          "American Air<br>114373 Tweets/Spanish",
          "American Air<br>114373 Tweets/Tagalog",
          "American Air<br>114373 Tweets/Undetermined",
          "American Air<br>114373 Tweets"
         ],
         "labels": [
          "1",
          "1",
          "1",
          "1",
          "2",
          "3",
          "7",
          "63",
          "114294",
          "Dutch",
          "English",
          "French",
          "Indonesian",
          "Italian",
          "Portuguese",
          "Spanish",
          "Tagalog",
          "Undetermined",
          "American Air<br>114373 Tweets"
         ],
         "marker": {
          "coloraxis": "coloraxis",
          "colors": [
           1,
           1,
           1,
           1,
           2,
           3,
           7,
           63,
           114294,
           2,
           114294,
           7,
           1,
           3,
           1,
           1,
           1,
           63,
           114215.08984637982
          ]
         },
         "name": "",
         "parents": [
          "American Air<br>114373 Tweets/Indonesian",
          "American Air<br>114373 Tweets/Portuguese",
          "American Air<br>114373 Tweets/Spanish",
          "American Air<br>114373 Tweets/Tagalog",
          "American Air<br>114373 Tweets/Dutch",
          "American Air<br>114373 Tweets/Italian",
          "American Air<br>114373 Tweets/French",
          "American Air<br>114373 Tweets/Undetermined",
          "American Air<br>114373 Tweets/English",
          "American Air<br>114373 Tweets",
          "American Air<br>114373 Tweets",
          "American Air<br>114373 Tweets",
          "American Air<br>114373 Tweets",
          "American Air<br>114373 Tweets",
          "American Air<br>114373 Tweets",
          "American Air<br>114373 Tweets",
          "American Air<br>114373 Tweets",
          "American Air<br>114373 Tweets",
          ""
         ],
         "type": "sunburst",
         "values": [
          1,
          1,
          1,
          1,
          2,
          3,
          7,
          63,
          114294,
          2,
          114294,
          7,
          1,
          3,
          1,
          1,
          1,
          63,
          114373
         ]
        }
       ],
       "layout": {
        "coloraxis": {
         "cmid": 71704.7076933436,
         "colorbar": {
          "title": {
           "text": "count"
          }
         },
         "colorscale": [
          [
           0,
           "rgb(103,0,31)"
          ],
          [
           0.1,
           "rgb(178,24,43)"
          ],
          [
           0.2,
           "rgb(214,96,77)"
          ],
          [
           0.3,
           "rgb(244,165,130)"
          ],
          [
           0.4,
           "rgb(253,219,199)"
          ],
          [
           0.5,
           "rgb(247,247,247)"
          ],
          [
           0.6,
           "rgb(209,229,240)"
          ],
          [
           0.7,
           "rgb(146,197,222)"
          ],
          [
           0.8,
           "rgb(67,147,195)"
          ],
          [
           0.9,
           "rgb(33,102,172)"
          ],
          [
           1,
           "rgb(5,48,97)"
          ]
         ]
        },
        "height": 900,
        "legend": {
         "tracegroupgap": 0
        },
        "margin": {
         "t": 60
        },
        "template": {
         "data": {
          "bar": [
           {
            "error_x": {
             "color": "#2a3f5f"
            },
            "error_y": {
             "color": "#2a3f5f"
            },
            "marker": {
             "line": {
              "color": "#E5ECF6",
              "width": 0.5
             },
             "pattern": {
              "fillmode": "overlay",
              "size": 10,
              "solidity": 0.2
             }
            },
            "type": "bar"
           }
          ],
          "barpolar": [
           {
            "marker": {
             "line": {
              "color": "#E5ECF6",
              "width": 0.5
             },
             "pattern": {
              "fillmode": "overlay",
              "size": 10,
              "solidity": 0.2
             }
            },
            "type": "barpolar"
           }
          ],
          "carpet": [
           {
            "aaxis": {
             "endlinecolor": "#2a3f5f",
             "gridcolor": "white",
             "linecolor": "white",
             "minorgridcolor": "white",
             "startlinecolor": "#2a3f5f"
            },
            "baxis": {
             "endlinecolor": "#2a3f5f",
             "gridcolor": "white",
             "linecolor": "white",
             "minorgridcolor": "white",
             "startlinecolor": "#2a3f5f"
            },
            "type": "carpet"
           }
          ],
          "choropleth": [
           {
            "colorbar": {
             "outlinewidth": 0,
             "ticks": ""
            },
            "type": "choropleth"
           }
          ],
          "contour": [
           {
            "colorbar": {
             "outlinewidth": 0,
             "ticks": ""
            },
            "colorscale": [
             [
              0,
              "#0d0887"
             ],
             [
              0.1111111111111111,
              "#46039f"
             ],
             [
              0.2222222222222222,
              "#7201a8"
             ],
             [
              0.3333333333333333,
              "#9c179e"
             ],
             [
              0.4444444444444444,
              "#bd3786"
             ],
             [
              0.5555555555555556,
              "#d8576b"
             ],
             [
              0.6666666666666666,
              "#ed7953"
             ],
             [
              0.7777777777777778,
              "#fb9f3a"
             ],
             [
              0.8888888888888888,
              "#fdca26"
             ],
             [
              1,
              "#f0f921"
             ]
            ],
            "type": "contour"
           }
          ],
          "contourcarpet": [
           {
            "colorbar": {
             "outlinewidth": 0,
             "ticks": ""
            },
            "type": "contourcarpet"
           }
          ],
          "heatmap": [
           {
            "colorbar": {
             "outlinewidth": 0,
             "ticks": ""
            },
            "colorscale": [
             [
              0,
              "#0d0887"
             ],
             [
              0.1111111111111111,
              "#46039f"
             ],
             [
              0.2222222222222222,
              "#7201a8"
             ],
             [
              0.3333333333333333,
              "#9c179e"
             ],
             [
              0.4444444444444444,
              "#bd3786"
             ],
             [
              0.5555555555555556,
              "#d8576b"
             ],
             [
              0.6666666666666666,
              "#ed7953"
             ],
             [
              0.7777777777777778,
              "#fb9f3a"
             ],
             [
              0.8888888888888888,
              "#fdca26"
             ],
             [
              1,
              "#f0f921"
             ]
            ],
            "type": "heatmap"
           }
          ],
          "heatmapgl": [
           {
            "colorbar": {
             "outlinewidth": 0,
             "ticks": ""
            },
            "colorscale": [
             [
              0,
              "#0d0887"
             ],
             [
              0.1111111111111111,
              "#46039f"
             ],
             [
              0.2222222222222222,
              "#7201a8"
             ],
             [
              0.3333333333333333,
              "#9c179e"
             ],
             [
              0.4444444444444444,
              "#bd3786"
             ],
             [
              0.5555555555555556,
              "#d8576b"
             ],
             [
              0.6666666666666666,
              "#ed7953"
             ],
             [
              0.7777777777777778,
              "#fb9f3a"
             ],
             [
              0.8888888888888888,
              "#fdca26"
             ],
             [
              1,
              "#f0f921"
             ]
            ],
            "type": "heatmapgl"
           }
          ],
          "histogram": [
           {
            "marker": {
             "pattern": {
              "fillmode": "overlay",
              "size": 10,
              "solidity": 0.2
             }
            },
            "type": "histogram"
           }
          ],
          "histogram2d": [
           {
            "colorbar": {
             "outlinewidth": 0,
             "ticks": ""
            },
            "colorscale": [
             [
              0,
              "#0d0887"
             ],
             [
              0.1111111111111111,
              "#46039f"
             ],
             [
              0.2222222222222222,
              "#7201a8"
             ],
             [
              0.3333333333333333,
              "#9c179e"
             ],
             [
              0.4444444444444444,
              "#bd3786"
             ],
             [
              0.5555555555555556,
              "#d8576b"
             ],
             [
              0.6666666666666666,
              "#ed7953"
             ],
             [
              0.7777777777777778,
              "#fb9f3a"
             ],
             [
              0.8888888888888888,
              "#fdca26"
             ],
             [
              1,
              "#f0f921"
             ]
            ],
            "type": "histogram2d"
           }
          ],
          "histogram2dcontour": [
           {
            "colorbar": {
             "outlinewidth": 0,
             "ticks": ""
            },
            "colorscale": [
             [
              0,
              "#0d0887"
             ],
             [
              0.1111111111111111,
              "#46039f"
             ],
             [
              0.2222222222222222,
              "#7201a8"
             ],
             [
              0.3333333333333333,
              "#9c179e"
             ],
             [
              0.4444444444444444,
              "#bd3786"
             ],
             [
              0.5555555555555556,
              "#d8576b"
             ],
             [
              0.6666666666666666,
              "#ed7953"
             ],
             [
              0.7777777777777778,
              "#fb9f3a"
             ],
             [
              0.8888888888888888,
              "#fdca26"
             ],
             [
              1,
              "#f0f921"
             ]
            ],
            "type": "histogram2dcontour"
           }
          ],
          "mesh3d": [
           {
            "colorbar": {
             "outlinewidth": 0,
             "ticks": ""
            },
            "type": "mesh3d"
           }
          ],
          "parcoords": [
           {
            "line": {
             "colorbar": {
              "outlinewidth": 0,
              "ticks": ""
             }
            },
            "type": "parcoords"
           }
          ],
          "pie": [
           {
            "automargin": true,
            "type": "pie"
           }
          ],
          "scatter": [
           {
            "fillpattern": {
             "fillmode": "overlay",
             "size": 10,
             "solidity": 0.2
            },
            "type": "scatter"
           }
          ],
          "scatter3d": [
           {
            "line": {
             "colorbar": {
              "outlinewidth": 0,
              "ticks": ""
             }
            },
            "marker": {
             "colorbar": {
              "outlinewidth": 0,
              "ticks": ""
             }
            },
            "type": "scatter3d"
           }
          ],
          "scattercarpet": [
           {
            "marker": {
             "colorbar": {
              "outlinewidth": 0,
              "ticks": ""
             }
            },
            "type": "scattercarpet"
           }
          ],
          "scattergeo": [
           {
            "marker": {
             "colorbar": {
              "outlinewidth": 0,
              "ticks": ""
             }
            },
            "type": "scattergeo"
           }
          ],
          "scattergl": [
           {
            "marker": {
             "colorbar": {
              "outlinewidth": 0,
              "ticks": ""
             }
            },
            "type": "scattergl"
           }
          ],
          "scattermapbox": [
           {
            "marker": {
             "colorbar": {
              "outlinewidth": 0,
              "ticks": ""
             }
            },
            "type": "scattermapbox"
           }
          ],
          "scatterpolar": [
           {
            "marker": {
             "colorbar": {
              "outlinewidth": 0,
              "ticks": ""
             }
            },
            "type": "scatterpolar"
           }
          ],
          "scatterpolargl": [
           {
            "marker": {
             "colorbar": {
              "outlinewidth": 0,
              "ticks": ""
             }
            },
            "type": "scatterpolargl"
           }
          ],
          "scatterternary": [
           {
            "marker": {
             "colorbar": {
              "outlinewidth": 0,
              "ticks": ""
             }
            },
            "type": "scatterternary"
           }
          ],
          "surface": [
           {
            "colorbar": {
             "outlinewidth": 0,
             "ticks": ""
            },
            "colorscale": [
             [
              0,
              "#0d0887"
             ],
             [
              0.1111111111111111,
              "#46039f"
             ],
             [
              0.2222222222222222,
              "#7201a8"
             ],
             [
              0.3333333333333333,
              "#9c179e"
             ],
             [
              0.4444444444444444,
              "#bd3786"
             ],
             [
              0.5555555555555556,
              "#d8576b"
             ],
             [
              0.6666666666666666,
              "#ed7953"
             ],
             [
              0.7777777777777778,
              "#fb9f3a"
             ],
             [
              0.8888888888888888,
              "#fdca26"
             ],
             [
              1,
              "#f0f921"
             ]
            ],
            "type": "surface"
           }
          ],
          "table": [
           {
            "cells": {
             "fill": {
              "color": "#EBF0F8"
             },
             "line": {
              "color": "white"
             }
            },
            "header": {
             "fill": {
              "color": "#C8D4E3"
             },
             "line": {
              "color": "white"
             }
            },
            "type": "table"
           }
          ]
         },
         "layout": {
          "annotationdefaults": {
           "arrowcolor": "#2a3f5f",
           "arrowhead": 0,
           "arrowwidth": 1
          },
          "autotypenumbers": "strict",
          "coloraxis": {
           "colorbar": {
            "outlinewidth": 0,
            "ticks": ""
           }
          },
          "colorscale": {
           "diverging": [
            [
             0,
             "#8e0152"
            ],
            [
             0.1,
             "#c51b7d"
            ],
            [
             0.2,
             "#de77ae"
            ],
            [
             0.3,
             "#f1b6da"
            ],
            [
             0.4,
             "#fde0ef"
            ],
            [
             0.5,
             "#f7f7f7"
            ],
            [
             0.6,
             "#e6f5d0"
            ],
            [
             0.7,
             "#b8e186"
            ],
            [
             0.8,
             "#7fbc41"
            ],
            [
             0.9,
             "#4d9221"
            ],
            [
             1,
             "#276419"
            ]
           ],
           "sequential": [
            [
             0,
             "#0d0887"
            ],
            [
             0.1111111111111111,
             "#46039f"
            ],
            [
             0.2222222222222222,
             "#7201a8"
            ],
            [
             0.3333333333333333,
             "#9c179e"
            ],
            [
             0.4444444444444444,
             "#bd3786"
            ],
            [
             0.5555555555555556,
             "#d8576b"
            ],
            [
             0.6666666666666666,
             "#ed7953"
            ],
            [
             0.7777777777777778,
             "#fb9f3a"
            ],
            [
             0.8888888888888888,
             "#fdca26"
            ],
            [
             1,
             "#f0f921"
            ]
           ],
           "sequentialminus": [
            [
             0,
             "#0d0887"
            ],
            [
             0.1111111111111111,
             "#46039f"
            ],
            [
             0.2222222222222222,
             "#7201a8"
            ],
            [
             0.3333333333333333,
             "#9c179e"
            ],
            [
             0.4444444444444444,
             "#bd3786"
            ],
            [
             0.5555555555555556,
             "#d8576b"
            ],
            [
             0.6666666666666666,
             "#ed7953"
            ],
            [
             0.7777777777777778,
             "#fb9f3a"
            ],
            [
             0.8888888888888888,
             "#fdca26"
            ],
            [
             1,
             "#f0f921"
            ]
           ]
          },
          "colorway": [
           "#636efa",
           "#EF553B",
           "#00cc96",
           "#ab63fa",
           "#FFA15A",
           "#19d3f3",
           "#FF6692",
           "#B6E880",
           "#FF97FF",
           "#FECB52"
          ],
          "font": {
           "color": "#2a3f5f"
          },
          "geo": {
           "bgcolor": "white",
           "lakecolor": "white",
           "landcolor": "#E5ECF6",
           "showlakes": true,
           "showland": true,
           "subunitcolor": "white"
          },
          "hoverlabel": {
           "align": "left"
          },
          "hovermode": "closest",
          "mapbox": {
           "style": "light"
          },
          "paper_bgcolor": "white",
          "plot_bgcolor": "#E5ECF6",
          "polar": {
           "angularaxis": {
            "gridcolor": "white",
            "linecolor": "white",
            "ticks": ""
           },
           "bgcolor": "#E5ECF6",
           "radialaxis": {
            "gridcolor": "white",
            "linecolor": "white",
            "ticks": ""
           }
          },
          "scene": {
           "xaxis": {
            "backgroundcolor": "#E5ECF6",
            "gridcolor": "white",
            "gridwidth": 2,
            "linecolor": "white",
            "showbackground": true,
            "ticks": "",
            "zerolinecolor": "white"
           },
           "yaxis": {
            "backgroundcolor": "#E5ECF6",
            "gridcolor": "white",
            "gridwidth": 2,
            "linecolor": "white",
            "showbackground": true,
            "ticks": "",
            "zerolinecolor": "white"
           },
           "zaxis": {
            "backgroundcolor": "#E5ECF6",
            "gridcolor": "white",
            "gridwidth": 2,
            "linecolor": "white",
            "showbackground": true,
            "ticks": "",
            "zerolinecolor": "white"
           }
          },
          "shapedefaults": {
           "line": {
            "color": "#2a3f5f"
           }
          },
          "ternary": {
           "aaxis": {
            "gridcolor": "white",
            "linecolor": "white",
            "ticks": ""
           },
           "baxis": {
            "gridcolor": "white",
            "linecolor": "white",
            "ticks": ""
           },
           "bgcolor": "#E5ECF6",
           "caxis": {
            "gridcolor": "white",
            "linecolor": "white",
            "ticks": ""
           }
          },
          "title": {
           "x": 0.05
          },
          "xaxis": {
           "automargin": true,
           "gridcolor": "white",
           "linecolor": "white",
           "ticks": "",
           "title": {
            "standoff": 15
           },
           "zerolinecolor": "white",
           "zerolinewidth": 2
          },
          "yaxis": {
           "automargin": true,
           "gridcolor": "white",
           "linecolor": "white",
           "ticks": "",
           "title": {
            "standoff": 15
           },
           "zerolinecolor": "white",
           "zerolinewidth": 2
          }
         }
        },
        "width": 900
       }
      },
      "text/html": [
       "<div>                            <div id=\"b3122581-6a20-4c6d-9adc-a2d3292ff87c\" class=\"plotly-graph-div\" style=\"height:900px; width:900px;\"></div>            <script type=\"text/javascript\">                require([\"plotly\"], function(Plotly) {                    window.PLOTLYENV=window.PLOTLYENV || {};                                    if (document.getElementById(\"b3122581-6a20-4c6d-9adc-a2d3292ff87c\")) {                    Plotly.newPlot(                        \"b3122581-6a20-4c6d-9adc-a2d3292ff87c\",                        [{\"branchvalues\":\"total\",\"customdata\":[[1.0],[1.0],[1.0],[1.0],[2.0],[3.0],[7.0],[63.0],[114294.0],[2.0],[114294.0],[7.0],[1.0],[3.0],[1.0],[1.0],[1.0],[63.0],[114215.08984637982]],\"domain\":{\"x\":[0.0,1.0],\"y\":[0.0,1.0]},\"hovertemplate\":\"labels=%{label}<br>count_sum=%{value}<br>parent=%{parent}<br>id=%{id}<br>count=%{color}<extra></extra>\",\"ids\":[\"American Air<br>114373 Tweets/Indonesian/1\",\"American Air<br>114373 Tweets/Portuguese/1\",\"American Air<br>114373 Tweets/Spanish/1\",\"American Air<br>114373 Tweets/Tagalog/1\",\"American Air<br>114373 Tweets/Dutch/2\",\"American Air<br>114373 Tweets/Italian/3\",\"American Air<br>114373 Tweets/French/7\",\"American Air<br>114373 Tweets/Undetermined/63\",\"American Air<br>114373 Tweets/English/114294\",\"American Air<br>114373 Tweets/Dutch\",\"American Air<br>114373 Tweets/English\",\"American Air<br>114373 Tweets/French\",\"American Air<br>114373 Tweets/Indonesian\",\"American Air<br>114373 Tweets/Italian\",\"American Air<br>114373 Tweets/Portuguese\",\"American Air<br>114373 Tweets/Spanish\",\"American Air<br>114373 Tweets/Tagalog\",\"American Air<br>114373 Tweets/Undetermined\",\"American Air<br>114373 Tweets\"],\"labels\":[\"1\",\"1\",\"1\",\"1\",\"2\",\"3\",\"7\",\"63\",\"114294\",\"Dutch\",\"English\",\"French\",\"Indonesian\",\"Italian\",\"Portuguese\",\"Spanish\",\"Tagalog\",\"Undetermined\",\"American Air<br>114373 Tweets\"],\"marker\":{\"coloraxis\":\"coloraxis\",\"colors\":[1.0,1.0,1.0,1.0,2.0,3.0,7.0,63.0,114294.0,2.0,114294.0,7.0,1.0,3.0,1.0,1.0,1.0,63.0,114215.08984637982]},\"name\":\"\",\"parents\":[\"American Air<br>114373 Tweets/Indonesian\",\"American Air<br>114373 Tweets/Portuguese\",\"American Air<br>114373 Tweets/Spanish\",\"American Air<br>114373 Tweets/Tagalog\",\"American Air<br>114373 Tweets/Dutch\",\"American Air<br>114373 Tweets/Italian\",\"American Air<br>114373 Tweets/French\",\"American Air<br>114373 Tweets/Undetermined\",\"American Air<br>114373 Tweets/English\",\"American Air<br>114373 Tweets\",\"American Air<br>114373 Tweets\",\"American Air<br>114373 Tweets\",\"American Air<br>114373 Tweets\",\"American Air<br>114373 Tweets\",\"American Air<br>114373 Tweets\",\"American Air<br>114373 Tweets\",\"American Air<br>114373 Tweets\",\"American Air<br>114373 Tweets\",\"\"],\"values\":[1,1,1,1,2,3,7,63,114294,2,114294,7,1,3,1,1,1,63,114373],\"type\":\"sunburst\"}],                        {\"template\":{\"data\":{\"histogram2dcontour\":[{\"type\":\"histogram2dcontour\",\"colorbar\":{\"outlinewidth\":0,\"ticks\":\"\"},\"colorscale\":[[0.0,\"#0d0887\"],[0.1111111111111111,\"#46039f\"],[0.2222222222222222,\"#7201a8\"],[0.3333333333333333,\"#9c179e\"],[0.4444444444444444,\"#bd3786\"],[0.5555555555555556,\"#d8576b\"],[0.6666666666666666,\"#ed7953\"],[0.7777777777777778,\"#fb9f3a\"],[0.8888888888888888,\"#fdca26\"],[1.0,\"#f0f921\"]]}],\"choropleth\":[{\"type\":\"choropleth\",\"colorbar\":{\"outlinewidth\":0,\"ticks\":\"\"}}],\"histogram2d\":[{\"type\":\"histogram2d\",\"colorbar\":{\"outlinewidth\":0,\"ticks\":\"\"},\"colorscale\":[[0.0,\"#0d0887\"],[0.1111111111111111,\"#46039f\"],[0.2222222222222222,\"#7201a8\"],[0.3333333333333333,\"#9c179e\"],[0.4444444444444444,\"#bd3786\"],[0.5555555555555556,\"#d8576b\"],[0.6666666666666666,\"#ed7953\"],[0.7777777777777778,\"#fb9f3a\"],[0.8888888888888888,\"#fdca26\"],[1.0,\"#f0f921\"]]}],\"heatmap\":[{\"type\":\"heatmap\",\"colorbar\":{\"outlinewidth\":0,\"ticks\":\"\"},\"colorscale\":[[0.0,\"#0d0887\"],[0.1111111111111111,\"#46039f\"],[0.2222222222222222,\"#7201a8\"],[0.3333333333333333,\"#9c179e\"],[0.4444444444444444,\"#bd3786\"],[0.5555555555555556,\"#d8576b\"],[0.6666666666666666,\"#ed7953\"],[0.7777777777777778,\"#fb9f3a\"],[0.8888888888888888,\"#fdca26\"],[1.0,\"#f0f921\"]]}],\"heatmapgl\":[{\"type\":\"heatmapgl\",\"colorbar\":{\"outlinewidth\":0,\"ticks\":\"\"},\"colorscale\":[[0.0,\"#0d0887\"],[0.1111111111111111,\"#46039f\"],[0.2222222222222222,\"#7201a8\"],[0.3333333333333333,\"#9c179e\"],[0.4444444444444444,\"#bd3786\"],[0.5555555555555556,\"#d8576b\"],[0.6666666666666666,\"#ed7953\"],[0.7777777777777778,\"#fb9f3a\"],[0.8888888888888888,\"#fdca26\"],[1.0,\"#f0f921\"]]}],\"contourcarpet\":[{\"type\":\"contourcarpet\",\"colorbar\":{\"outlinewidth\":0,\"ticks\":\"\"}}],\"contour\":[{\"type\":\"contour\",\"colorbar\":{\"outlinewidth\":0,\"ticks\":\"\"},\"colorscale\":[[0.0,\"#0d0887\"],[0.1111111111111111,\"#46039f\"],[0.2222222222222222,\"#7201a8\"],[0.3333333333333333,\"#9c179e\"],[0.4444444444444444,\"#bd3786\"],[0.5555555555555556,\"#d8576b\"],[0.6666666666666666,\"#ed7953\"],[0.7777777777777778,\"#fb9f3a\"],[0.8888888888888888,\"#fdca26\"],[1.0,\"#f0f921\"]]}],\"surface\":[{\"type\":\"surface\",\"colorbar\":{\"outlinewidth\":0,\"ticks\":\"\"},\"colorscale\":[[0.0,\"#0d0887\"],[0.1111111111111111,\"#46039f\"],[0.2222222222222222,\"#7201a8\"],[0.3333333333333333,\"#9c179e\"],[0.4444444444444444,\"#bd3786\"],[0.5555555555555556,\"#d8576b\"],[0.6666666666666666,\"#ed7953\"],[0.7777777777777778,\"#fb9f3a\"],[0.8888888888888888,\"#fdca26\"],[1.0,\"#f0f921\"]]}],\"mesh3d\":[{\"type\":\"mesh3d\",\"colorbar\":{\"outlinewidth\":0,\"ticks\":\"\"}}],\"scatter\":[{\"fillpattern\":{\"fillmode\":\"overlay\",\"size\":10,\"solidity\":0.2},\"type\":\"scatter\"}],\"parcoords\":[{\"type\":\"parcoords\",\"line\":{\"colorbar\":{\"outlinewidth\":0,\"ticks\":\"\"}}}],\"scatterpolargl\":[{\"type\":\"scatterpolargl\",\"marker\":{\"colorbar\":{\"outlinewidth\":0,\"ticks\":\"\"}}}],\"bar\":[{\"error_x\":{\"color\":\"#2a3f5f\"},\"error_y\":{\"color\":\"#2a3f5f\"},\"marker\":{\"line\":{\"color\":\"#E5ECF6\",\"width\":0.5},\"pattern\":{\"fillmode\":\"overlay\",\"size\":10,\"solidity\":0.2}},\"type\":\"bar\"}],\"scattergeo\":[{\"type\":\"scattergeo\",\"marker\":{\"colorbar\":{\"outlinewidth\":0,\"ticks\":\"\"}}}],\"scatterpolar\":[{\"type\":\"scatterpolar\",\"marker\":{\"colorbar\":{\"outlinewidth\":0,\"ticks\":\"\"}}}],\"histogram\":[{\"marker\":{\"pattern\":{\"fillmode\":\"overlay\",\"size\":10,\"solidity\":0.2}},\"type\":\"histogram\"}],\"scattergl\":[{\"type\":\"scattergl\",\"marker\":{\"colorbar\":{\"outlinewidth\":0,\"ticks\":\"\"}}}],\"scatter3d\":[{\"type\":\"scatter3d\",\"line\":{\"colorbar\":{\"outlinewidth\":0,\"ticks\":\"\"}},\"marker\":{\"colorbar\":{\"outlinewidth\":0,\"ticks\":\"\"}}}],\"scattermapbox\":[{\"type\":\"scattermapbox\",\"marker\":{\"colorbar\":{\"outlinewidth\":0,\"ticks\":\"\"}}}],\"scatterternary\":[{\"type\":\"scatterternary\",\"marker\":{\"colorbar\":{\"outlinewidth\":0,\"ticks\":\"\"}}}],\"scattercarpet\":[{\"type\":\"scattercarpet\",\"marker\":{\"colorbar\":{\"outlinewidth\":0,\"ticks\":\"\"}}}],\"carpet\":[{\"aaxis\":{\"endlinecolor\":\"#2a3f5f\",\"gridcolor\":\"white\",\"linecolor\":\"white\",\"minorgridcolor\":\"white\",\"startlinecolor\":\"#2a3f5f\"},\"baxis\":{\"endlinecolor\":\"#2a3f5f\",\"gridcolor\":\"white\",\"linecolor\":\"white\",\"minorgridcolor\":\"white\",\"startlinecolor\":\"#2a3f5f\"},\"type\":\"carpet\"}],\"table\":[{\"cells\":{\"fill\":{\"color\":\"#EBF0F8\"},\"line\":{\"color\":\"white\"}},\"header\":{\"fill\":{\"color\":\"#C8D4E3\"},\"line\":{\"color\":\"white\"}},\"type\":\"table\"}],\"barpolar\":[{\"marker\":{\"line\":{\"color\":\"#E5ECF6\",\"width\":0.5},\"pattern\":{\"fillmode\":\"overlay\",\"size\":10,\"solidity\":0.2}},\"type\":\"barpolar\"}],\"pie\":[{\"automargin\":true,\"type\":\"pie\"}]},\"layout\":{\"autotypenumbers\":\"strict\",\"colorway\":[\"#636efa\",\"#EF553B\",\"#00cc96\",\"#ab63fa\",\"#FFA15A\",\"#19d3f3\",\"#FF6692\",\"#B6E880\",\"#FF97FF\",\"#FECB52\"],\"font\":{\"color\":\"#2a3f5f\"},\"hovermode\":\"closest\",\"hoverlabel\":{\"align\":\"left\"},\"paper_bgcolor\":\"white\",\"plot_bgcolor\":\"#E5ECF6\",\"polar\":{\"bgcolor\":\"#E5ECF6\",\"angularaxis\":{\"gridcolor\":\"white\",\"linecolor\":\"white\",\"ticks\":\"\"},\"radialaxis\":{\"gridcolor\":\"white\",\"linecolor\":\"white\",\"ticks\":\"\"}},\"ternary\":{\"bgcolor\":\"#E5ECF6\",\"aaxis\":{\"gridcolor\":\"white\",\"linecolor\":\"white\",\"ticks\":\"\"},\"baxis\":{\"gridcolor\":\"white\",\"linecolor\":\"white\",\"ticks\":\"\"},\"caxis\":{\"gridcolor\":\"white\",\"linecolor\":\"white\",\"ticks\":\"\"}},\"coloraxis\":{\"colorbar\":{\"outlinewidth\":0,\"ticks\":\"\"}},\"colorscale\":{\"sequential\":[[0.0,\"#0d0887\"],[0.1111111111111111,\"#46039f\"],[0.2222222222222222,\"#7201a8\"],[0.3333333333333333,\"#9c179e\"],[0.4444444444444444,\"#bd3786\"],[0.5555555555555556,\"#d8576b\"],[0.6666666666666666,\"#ed7953\"],[0.7777777777777778,\"#fb9f3a\"],[0.8888888888888888,\"#fdca26\"],[1.0,\"#f0f921\"]],\"sequentialminus\":[[0.0,\"#0d0887\"],[0.1111111111111111,\"#46039f\"],[0.2222222222222222,\"#7201a8\"],[0.3333333333333333,\"#9c179e\"],[0.4444444444444444,\"#bd3786\"],[0.5555555555555556,\"#d8576b\"],[0.6666666666666666,\"#ed7953\"],[0.7777777777777778,\"#fb9f3a\"],[0.8888888888888888,\"#fdca26\"],[1.0,\"#f0f921\"]],\"diverging\":[[0,\"#8e0152\"],[0.1,\"#c51b7d\"],[0.2,\"#de77ae\"],[0.3,\"#f1b6da\"],[0.4,\"#fde0ef\"],[0.5,\"#f7f7f7\"],[0.6,\"#e6f5d0\"],[0.7,\"#b8e186\"],[0.8,\"#7fbc41\"],[0.9,\"#4d9221\"],[1,\"#276419\"]]},\"xaxis\":{\"gridcolor\":\"white\",\"linecolor\":\"white\",\"ticks\":\"\",\"title\":{\"standoff\":15},\"zerolinecolor\":\"white\",\"automargin\":true,\"zerolinewidth\":2},\"yaxis\":{\"gridcolor\":\"white\",\"linecolor\":\"white\",\"ticks\":\"\",\"title\":{\"standoff\":15},\"zerolinecolor\":\"white\",\"automargin\":true,\"zerolinewidth\":2},\"scene\":{\"xaxis\":{\"backgroundcolor\":\"#E5ECF6\",\"gridcolor\":\"white\",\"linecolor\":\"white\",\"showbackground\":true,\"ticks\":\"\",\"zerolinecolor\":\"white\",\"gridwidth\":2},\"yaxis\":{\"backgroundcolor\":\"#E5ECF6\",\"gridcolor\":\"white\",\"linecolor\":\"white\",\"showbackground\":true,\"ticks\":\"\",\"zerolinecolor\":\"white\",\"gridwidth\":2},\"zaxis\":{\"backgroundcolor\":\"#E5ECF6\",\"gridcolor\":\"white\",\"linecolor\":\"white\",\"showbackground\":true,\"ticks\":\"\",\"zerolinecolor\":\"white\",\"gridwidth\":2}},\"shapedefaults\":{\"line\":{\"color\":\"#2a3f5f\"}},\"annotationdefaults\":{\"arrowcolor\":\"#2a3f5f\",\"arrowhead\":0,\"arrowwidth\":1},\"geo\":{\"bgcolor\":\"white\",\"landcolor\":\"#E5ECF6\",\"subunitcolor\":\"white\",\"showland\":true,\"showlakes\":true,\"lakecolor\":\"white\"},\"title\":{\"x\":0.05},\"mapbox\":{\"style\":\"light\"}}},\"coloraxis\":{\"colorbar\":{\"title\":{\"text\":\"count\"}},\"colorscale\":[[0.0,\"rgb(103,0,31)\"],[0.1,\"rgb(178,24,43)\"],[0.2,\"rgb(214,96,77)\"],[0.3,\"rgb(244,165,130)\"],[0.4,\"rgb(253,219,199)\"],[0.5,\"rgb(247,247,247)\"],[0.6,\"rgb(209,229,240)\"],[0.7,\"rgb(146,197,222)\"],[0.8,\"rgb(67,147,195)\"],[0.9,\"rgb(33,102,172)\"],[1.0,\"rgb(5,48,97)\"]],\"cmid\":71704.7076933436},\"legend\":{\"tracegroupgap\":0},\"margin\":{\"t\":60},\"height\":900,\"width\":900},                        {\"responsive\": true}                    ).then(function(){\n",
       "                            \n",
       "var gd = document.getElementById('b3122581-6a20-4c6d-9adc-a2d3292ff87c');\n",
       "var x = new MutationObserver(function (mutations, observer) {{\n",
       "        var display = window.getComputedStyle(gd).display;\n",
       "        if (!display || display === 'none') {{\n",
       "            console.log([gd, 'removed!']);\n",
       "            Plotly.purge(gd);\n",
       "            observer.disconnect();\n",
       "        }}\n",
       "}});\n",
       "\n",
       "// Listen for the removal of the full notebook cells\n",
       "var notebookContainer = gd.closest('#notebook-container');\n",
       "if (notebookContainer) {{\n",
       "    x.observe(notebookContainer, {childList: true});\n",
       "}}\n",
       "\n",
       "// Listen for the clearing of the current output cell\n",
       "var outputEl = gd.closest('.output');\n",
       "if (outputEl) {{\n",
       "    x.observe(outputEl, {childList: true});\n",
       "}}\n",
       "\n",
       "                        })                };                });            </script>        </div>"
      ]
     },
     "metadata": {},
     "output_type": "display_data"
    },
    {
     "data": {
      "application/vnd.plotly.v1+json": {
       "config": {
        "plotlyServerURL": "https://plot.ly"
       },
       "data": [
        {
         "branchvalues": "total",
         "customdata": [
          [
           1
          ],
          [
           1
          ],
          [
           1
          ],
          [
           1
          ],
          [
           1
          ],
          [
           1
          ],
          [
           1
          ],
          [
           2
          ],
          [
           2
          ],
          [
           3
          ],
          [
           3
          ],
          [
           3
          ],
          [
           3
          ],
          [
           5
          ],
          [
           6
          ],
          [
           6
          ],
          [
           7
          ],
          [
           7
          ],
          [
           9
          ],
          [
           10
          ],
          [
           80
          ],
          [
           106493
          ],
          [
           1
          ],
          [
           1
          ],
          [
           1
          ],
          [
           3
          ],
          [
           106493
          ],
          [
           7
          ],
          [
           1
          ],
          [
           7
          ],
          [
           3
          ],
          [
           3
          ],
          [
           2
          ],
          [
           1
          ],
          [
           5
          ],
          [
           1
          ],
          [
           1
          ],
          [
           80
          ],
          [
           10
          ],
          [
           2
          ],
          [
           6
          ],
          [
           6
          ],
          [
           9
          ],
          [
           3
          ],
          [
           106340.2835174315
          ]
         ],
         "domain": {
          "x": [
           0,
           1
          ],
          "y": [
           0,
           1
          ]
         },
         "hovertemplate": "labels=%{label}<br>count_sum=%{value}<br>parent=%{parent}<br>id=%{id}<br>count=%{color}<extra></extra>",
         "ids": [
          "British Airways<br>106646 Tweets/Basque/1",
          "British Airways<br>106646 Tweets/Catalan/1",
          "British Airways<br>106646 Tweets/Danish/1",
          "British Airways<br>106646 Tweets/Finnish/1",
          "British Airways<br>106646 Tweets/Hungarian/1",
          "British Airways<br>106646 Tweets/Italian/1",
          "British Airways<br>106646 Tweets/Norwegian/1",
          "British Airways<br>106646 Tweets/Hindi/2",
          "British Airways<br>106646 Tweets/Romanian/2",
          "British Airways<br>106646 Tweets/Dutch/3",
          "British Airways<br>106646 Tweets/German/3",
          "British Airways<br>106646 Tweets/Haitian Creole/3",
          "British Airways<br>106646 Tweets/Welsh/3",
          "British Airways<br>106646 Tweets/Indonesian/5",
          "British Airways<br>106646 Tweets/Spanish/6",
          "British Airways<br>106646 Tweets/Tagalog/6",
          "British Airways<br>106646 Tweets/Estonian/7",
          "British Airways<br>106646 Tweets/French/7",
          "British Airways<br>106646 Tweets/Undetermined/9",
          "British Airways<br>106646 Tweets/Portuguese/10",
          "British Airways<br>106646 Tweets/Polish/80",
          "British Airways<br>106646 Tweets/English/106493",
          "British Airways<br>106646 Tweets/Basque",
          "British Airways<br>106646 Tweets/Catalan",
          "British Airways<br>106646 Tweets/Danish",
          "British Airways<br>106646 Tweets/Dutch",
          "British Airways<br>106646 Tweets/English",
          "British Airways<br>106646 Tweets/Estonian",
          "British Airways<br>106646 Tweets/Finnish",
          "British Airways<br>106646 Tweets/French",
          "British Airways<br>106646 Tweets/German",
          "British Airways<br>106646 Tweets/Haitian Creole",
          "British Airways<br>106646 Tweets/Hindi",
          "British Airways<br>106646 Tweets/Hungarian",
          "British Airways<br>106646 Tweets/Indonesian",
          "British Airways<br>106646 Tweets/Italian",
          "British Airways<br>106646 Tweets/Norwegian",
          "British Airways<br>106646 Tweets/Polish",
          "British Airways<br>106646 Tweets/Portuguese",
          "British Airways<br>106646 Tweets/Romanian",
          "British Airways<br>106646 Tweets/Spanish",
          "British Airways<br>106646 Tweets/Tagalog",
          "British Airways<br>106646 Tweets/Undetermined",
          "British Airways<br>106646 Tweets/Welsh",
          "British Airways<br>106646 Tweets"
         ],
         "labels": [
          "1",
          "1",
          "1",
          "1",
          "1",
          "1",
          "1",
          "2",
          "2",
          "3",
          "3",
          "3",
          "3",
          "5",
          "6",
          "6",
          "7",
          "7",
          "9",
          "10",
          "80",
          "106493",
          "Basque",
          "Catalan",
          "Danish",
          "Dutch",
          "English",
          "Estonian",
          "Finnish",
          "French",
          "German",
          "Haitian Creole",
          "Hindi",
          "Hungarian",
          "Indonesian",
          "Italian",
          "Norwegian",
          "Polish",
          "Portuguese",
          "Romanian",
          "Spanish",
          "Tagalog",
          "Undetermined",
          "Welsh",
          "British Airways<br>106646 Tweets"
         ],
         "marker": {
          "coloraxis": "coloraxis",
          "colors": [
           1,
           1,
           1,
           1,
           1,
           1,
           1,
           2,
           2,
           3,
           3,
           3,
           3,
           5,
           6,
           6,
           7,
           7,
           9,
           10,
           80,
           106493,
           1,
           1,
           1,
           3,
           106493,
           7,
           1,
           7,
           3,
           3,
           2,
           1,
           5,
           1,
           1,
           80,
           10,
           2,
           6,
           6,
           9,
           3,
           106340.2835174315
          ]
         },
         "name": "",
         "parents": [
          "British Airways<br>106646 Tweets/Basque",
          "British Airways<br>106646 Tweets/Catalan",
          "British Airways<br>106646 Tweets/Danish",
          "British Airways<br>106646 Tweets/Finnish",
          "British Airways<br>106646 Tweets/Hungarian",
          "British Airways<br>106646 Tweets/Italian",
          "British Airways<br>106646 Tweets/Norwegian",
          "British Airways<br>106646 Tweets/Hindi",
          "British Airways<br>106646 Tweets/Romanian",
          "British Airways<br>106646 Tweets/Dutch",
          "British Airways<br>106646 Tweets/German",
          "British Airways<br>106646 Tweets/Haitian Creole",
          "British Airways<br>106646 Tweets/Welsh",
          "British Airways<br>106646 Tweets/Indonesian",
          "British Airways<br>106646 Tweets/Spanish",
          "British Airways<br>106646 Tweets/Tagalog",
          "British Airways<br>106646 Tweets/Estonian",
          "British Airways<br>106646 Tweets/French",
          "British Airways<br>106646 Tweets/Undetermined",
          "British Airways<br>106646 Tweets/Portuguese",
          "British Airways<br>106646 Tweets/Polish",
          "British Airways<br>106646 Tweets/English",
          "British Airways<br>106646 Tweets",
          "British Airways<br>106646 Tweets",
          "British Airways<br>106646 Tweets",
          "British Airways<br>106646 Tweets",
          "British Airways<br>106646 Tweets",
          "British Airways<br>106646 Tweets",
          "British Airways<br>106646 Tweets",
          "British Airways<br>106646 Tweets",
          "British Airways<br>106646 Tweets",
          "British Airways<br>106646 Tweets",
          "British Airways<br>106646 Tweets",
          "British Airways<br>106646 Tweets",
          "British Airways<br>106646 Tweets",
          "British Airways<br>106646 Tweets",
          "British Airways<br>106646 Tweets",
          "British Airways<br>106646 Tweets",
          "British Airways<br>106646 Tweets",
          "British Airways<br>106646 Tweets",
          "British Airways<br>106646 Tweets",
          "British Airways<br>106646 Tweets",
          "British Airways<br>106646 Tweets",
          "British Airways<br>106646 Tweets",
          ""
         ],
         "type": "sunburst",
         "values": [
          1,
          1,
          1,
          1,
          1,
          1,
          1,
          2,
          2,
          3,
          3,
          3,
          3,
          5,
          6,
          6,
          7,
          7,
          9,
          10,
          80,
          106493,
          1,
          1,
          1,
          3,
          106493,
          7,
          1,
          7,
          3,
          3,
          2,
          1,
          5,
          1,
          1,
          80,
          10,
          2,
          6,
          6,
          9,
          3,
          106646
         ]
        }
       ],
       "layout": {
        "coloraxis": {
         "cmid": 71704.7076933436,
         "colorbar": {
          "title": {
           "text": "count"
          }
         },
         "colorscale": [
          [
           0,
           "rgb(103,0,31)"
          ],
          [
           0.1,
           "rgb(178,24,43)"
          ],
          [
           0.2,
           "rgb(214,96,77)"
          ],
          [
           0.3,
           "rgb(244,165,130)"
          ],
          [
           0.4,
           "rgb(253,219,199)"
          ],
          [
           0.5,
           "rgb(247,247,247)"
          ],
          [
           0.6,
           "rgb(209,229,240)"
          ],
          [
           0.7,
           "rgb(146,197,222)"
          ],
          [
           0.8,
           "rgb(67,147,195)"
          ],
          [
           0.9,
           "rgb(33,102,172)"
          ],
          [
           1,
           "rgb(5,48,97)"
          ]
         ]
        },
        "height": 900,
        "legend": {
         "tracegroupgap": 0
        },
        "margin": {
         "t": 60
        },
        "template": {
         "data": {
          "bar": [
           {
            "error_x": {
             "color": "#2a3f5f"
            },
            "error_y": {
             "color": "#2a3f5f"
            },
            "marker": {
             "line": {
              "color": "#E5ECF6",
              "width": 0.5
             },
             "pattern": {
              "fillmode": "overlay",
              "size": 10,
              "solidity": 0.2
             }
            },
            "type": "bar"
           }
          ],
          "barpolar": [
           {
            "marker": {
             "line": {
              "color": "#E5ECF6",
              "width": 0.5
             },
             "pattern": {
              "fillmode": "overlay",
              "size": 10,
              "solidity": 0.2
             }
            },
            "type": "barpolar"
           }
          ],
          "carpet": [
           {
            "aaxis": {
             "endlinecolor": "#2a3f5f",
             "gridcolor": "white",
             "linecolor": "white",
             "minorgridcolor": "white",
             "startlinecolor": "#2a3f5f"
            },
            "baxis": {
             "endlinecolor": "#2a3f5f",
             "gridcolor": "white",
             "linecolor": "white",
             "minorgridcolor": "white",
             "startlinecolor": "#2a3f5f"
            },
            "type": "carpet"
           }
          ],
          "choropleth": [
           {
            "colorbar": {
             "outlinewidth": 0,
             "ticks": ""
            },
            "type": "choropleth"
           }
          ],
          "contour": [
           {
            "colorbar": {
             "outlinewidth": 0,
             "ticks": ""
            },
            "colorscale": [
             [
              0,
              "#0d0887"
             ],
             [
              0.1111111111111111,
              "#46039f"
             ],
             [
              0.2222222222222222,
              "#7201a8"
             ],
             [
              0.3333333333333333,
              "#9c179e"
             ],
             [
              0.4444444444444444,
              "#bd3786"
             ],
             [
              0.5555555555555556,
              "#d8576b"
             ],
             [
              0.6666666666666666,
              "#ed7953"
             ],
             [
              0.7777777777777778,
              "#fb9f3a"
             ],
             [
              0.8888888888888888,
              "#fdca26"
             ],
             [
              1,
              "#f0f921"
             ]
            ],
            "type": "contour"
           }
          ],
          "contourcarpet": [
           {
            "colorbar": {
             "outlinewidth": 0,
             "ticks": ""
            },
            "type": "contourcarpet"
           }
          ],
          "heatmap": [
           {
            "colorbar": {
             "outlinewidth": 0,
             "ticks": ""
            },
            "colorscale": [
             [
              0,
              "#0d0887"
             ],
             [
              0.1111111111111111,
              "#46039f"
             ],
             [
              0.2222222222222222,
              "#7201a8"
             ],
             [
              0.3333333333333333,
              "#9c179e"
             ],
             [
              0.4444444444444444,
              "#bd3786"
             ],
             [
              0.5555555555555556,
              "#d8576b"
             ],
             [
              0.6666666666666666,
              "#ed7953"
             ],
             [
              0.7777777777777778,
              "#fb9f3a"
             ],
             [
              0.8888888888888888,
              "#fdca26"
             ],
             [
              1,
              "#f0f921"
             ]
            ],
            "type": "heatmap"
           }
          ],
          "heatmapgl": [
           {
            "colorbar": {
             "outlinewidth": 0,
             "ticks": ""
            },
            "colorscale": [
             [
              0,
              "#0d0887"
             ],
             [
              0.1111111111111111,
              "#46039f"
             ],
             [
              0.2222222222222222,
              "#7201a8"
             ],
             [
              0.3333333333333333,
              "#9c179e"
             ],
             [
              0.4444444444444444,
              "#bd3786"
             ],
             [
              0.5555555555555556,
              "#d8576b"
             ],
             [
              0.6666666666666666,
              "#ed7953"
             ],
             [
              0.7777777777777778,
              "#fb9f3a"
             ],
             [
              0.8888888888888888,
              "#fdca26"
             ],
             [
              1,
              "#f0f921"
             ]
            ],
            "type": "heatmapgl"
           }
          ],
          "histogram": [
           {
            "marker": {
             "pattern": {
              "fillmode": "overlay",
              "size": 10,
              "solidity": 0.2
             }
            },
            "type": "histogram"
           }
          ],
          "histogram2d": [
           {
            "colorbar": {
             "outlinewidth": 0,
             "ticks": ""
            },
            "colorscale": [
             [
              0,
              "#0d0887"
             ],
             [
              0.1111111111111111,
              "#46039f"
             ],
             [
              0.2222222222222222,
              "#7201a8"
             ],
             [
              0.3333333333333333,
              "#9c179e"
             ],
             [
              0.4444444444444444,
              "#bd3786"
             ],
             [
              0.5555555555555556,
              "#d8576b"
             ],
             [
              0.6666666666666666,
              "#ed7953"
             ],
             [
              0.7777777777777778,
              "#fb9f3a"
             ],
             [
              0.8888888888888888,
              "#fdca26"
             ],
             [
              1,
              "#f0f921"
             ]
            ],
            "type": "histogram2d"
           }
          ],
          "histogram2dcontour": [
           {
            "colorbar": {
             "outlinewidth": 0,
             "ticks": ""
            },
            "colorscale": [
             [
              0,
              "#0d0887"
             ],
             [
              0.1111111111111111,
              "#46039f"
             ],
             [
              0.2222222222222222,
              "#7201a8"
             ],
             [
              0.3333333333333333,
              "#9c179e"
             ],
             [
              0.4444444444444444,
              "#bd3786"
             ],
             [
              0.5555555555555556,
              "#d8576b"
             ],
             [
              0.6666666666666666,
              "#ed7953"
             ],
             [
              0.7777777777777778,
              "#fb9f3a"
             ],
             [
              0.8888888888888888,
              "#fdca26"
             ],
             [
              1,
              "#f0f921"
             ]
            ],
            "type": "histogram2dcontour"
           }
          ],
          "mesh3d": [
           {
            "colorbar": {
             "outlinewidth": 0,
             "ticks": ""
            },
            "type": "mesh3d"
           }
          ],
          "parcoords": [
           {
            "line": {
             "colorbar": {
              "outlinewidth": 0,
              "ticks": ""
             }
            },
            "type": "parcoords"
           }
          ],
          "pie": [
           {
            "automargin": true,
            "type": "pie"
           }
          ],
          "scatter": [
           {
            "fillpattern": {
             "fillmode": "overlay",
             "size": 10,
             "solidity": 0.2
            },
            "type": "scatter"
           }
          ],
          "scatter3d": [
           {
            "line": {
             "colorbar": {
              "outlinewidth": 0,
              "ticks": ""
             }
            },
            "marker": {
             "colorbar": {
              "outlinewidth": 0,
              "ticks": ""
             }
            },
            "type": "scatter3d"
           }
          ],
          "scattercarpet": [
           {
            "marker": {
             "colorbar": {
              "outlinewidth": 0,
              "ticks": ""
             }
            },
            "type": "scattercarpet"
           }
          ],
          "scattergeo": [
           {
            "marker": {
             "colorbar": {
              "outlinewidth": 0,
              "ticks": ""
             }
            },
            "type": "scattergeo"
           }
          ],
          "scattergl": [
           {
            "marker": {
             "colorbar": {
              "outlinewidth": 0,
              "ticks": ""
             }
            },
            "type": "scattergl"
           }
          ],
          "scattermapbox": [
           {
            "marker": {
             "colorbar": {
              "outlinewidth": 0,
              "ticks": ""
             }
            },
            "type": "scattermapbox"
           }
          ],
          "scatterpolar": [
           {
            "marker": {
             "colorbar": {
              "outlinewidth": 0,
              "ticks": ""
             }
            },
            "type": "scatterpolar"
           }
          ],
          "scatterpolargl": [
           {
            "marker": {
             "colorbar": {
              "outlinewidth": 0,
              "ticks": ""
             }
            },
            "type": "scatterpolargl"
           }
          ],
          "scatterternary": [
           {
            "marker": {
             "colorbar": {
              "outlinewidth": 0,
              "ticks": ""
             }
            },
            "type": "scatterternary"
           }
          ],
          "surface": [
           {
            "colorbar": {
             "outlinewidth": 0,
             "ticks": ""
            },
            "colorscale": [
             [
              0,
              "#0d0887"
             ],
             [
              0.1111111111111111,
              "#46039f"
             ],
             [
              0.2222222222222222,
              "#7201a8"
             ],
             [
              0.3333333333333333,
              "#9c179e"
             ],
             [
              0.4444444444444444,
              "#bd3786"
             ],
             [
              0.5555555555555556,
              "#d8576b"
             ],
             [
              0.6666666666666666,
              "#ed7953"
             ],
             [
              0.7777777777777778,
              "#fb9f3a"
             ],
             [
              0.8888888888888888,
              "#fdca26"
             ],
             [
              1,
              "#f0f921"
             ]
            ],
            "type": "surface"
           }
          ],
          "table": [
           {
            "cells": {
             "fill": {
              "color": "#EBF0F8"
             },
             "line": {
              "color": "white"
             }
            },
            "header": {
             "fill": {
              "color": "#C8D4E3"
             },
             "line": {
              "color": "white"
             }
            },
            "type": "table"
           }
          ]
         },
         "layout": {
          "annotationdefaults": {
           "arrowcolor": "#2a3f5f",
           "arrowhead": 0,
           "arrowwidth": 1
          },
          "autotypenumbers": "strict",
          "coloraxis": {
           "colorbar": {
            "outlinewidth": 0,
            "ticks": ""
           }
          },
          "colorscale": {
           "diverging": [
            [
             0,
             "#8e0152"
            ],
            [
             0.1,
             "#c51b7d"
            ],
            [
             0.2,
             "#de77ae"
            ],
            [
             0.3,
             "#f1b6da"
            ],
            [
             0.4,
             "#fde0ef"
            ],
            [
             0.5,
             "#f7f7f7"
            ],
            [
             0.6,
             "#e6f5d0"
            ],
            [
             0.7,
             "#b8e186"
            ],
            [
             0.8,
             "#7fbc41"
            ],
            [
             0.9,
             "#4d9221"
            ],
            [
             1,
             "#276419"
            ]
           ],
           "sequential": [
            [
             0,
             "#0d0887"
            ],
            [
             0.1111111111111111,
             "#46039f"
            ],
            [
             0.2222222222222222,
             "#7201a8"
            ],
            [
             0.3333333333333333,
             "#9c179e"
            ],
            [
             0.4444444444444444,
             "#bd3786"
            ],
            [
             0.5555555555555556,
             "#d8576b"
            ],
            [
             0.6666666666666666,
             "#ed7953"
            ],
            [
             0.7777777777777778,
             "#fb9f3a"
            ],
            [
             0.8888888888888888,
             "#fdca26"
            ],
            [
             1,
             "#f0f921"
            ]
           ],
           "sequentialminus": [
            [
             0,
             "#0d0887"
            ],
            [
             0.1111111111111111,
             "#46039f"
            ],
            [
             0.2222222222222222,
             "#7201a8"
            ],
            [
             0.3333333333333333,
             "#9c179e"
            ],
            [
             0.4444444444444444,
             "#bd3786"
            ],
            [
             0.5555555555555556,
             "#d8576b"
            ],
            [
             0.6666666666666666,
             "#ed7953"
            ],
            [
             0.7777777777777778,
             "#fb9f3a"
            ],
            [
             0.8888888888888888,
             "#fdca26"
            ],
            [
             1,
             "#f0f921"
            ]
           ]
          },
          "colorway": [
           "#636efa",
           "#EF553B",
           "#00cc96",
           "#ab63fa",
           "#FFA15A",
           "#19d3f3",
           "#FF6692",
           "#B6E880",
           "#FF97FF",
           "#FECB52"
          ],
          "font": {
           "color": "#2a3f5f"
          },
          "geo": {
           "bgcolor": "white",
           "lakecolor": "white",
           "landcolor": "#E5ECF6",
           "showlakes": true,
           "showland": true,
           "subunitcolor": "white"
          },
          "hoverlabel": {
           "align": "left"
          },
          "hovermode": "closest",
          "mapbox": {
           "style": "light"
          },
          "paper_bgcolor": "white",
          "plot_bgcolor": "#E5ECF6",
          "polar": {
           "angularaxis": {
            "gridcolor": "white",
            "linecolor": "white",
            "ticks": ""
           },
           "bgcolor": "#E5ECF6",
           "radialaxis": {
            "gridcolor": "white",
            "linecolor": "white",
            "ticks": ""
           }
          },
          "scene": {
           "xaxis": {
            "backgroundcolor": "#E5ECF6",
            "gridcolor": "white",
            "gridwidth": 2,
            "linecolor": "white",
            "showbackground": true,
            "ticks": "",
            "zerolinecolor": "white"
           },
           "yaxis": {
            "backgroundcolor": "#E5ECF6",
            "gridcolor": "white",
            "gridwidth": 2,
            "linecolor": "white",
            "showbackground": true,
            "ticks": "",
            "zerolinecolor": "white"
           },
           "zaxis": {
            "backgroundcolor": "#E5ECF6",
            "gridcolor": "white",
            "gridwidth": 2,
            "linecolor": "white",
            "showbackground": true,
            "ticks": "",
            "zerolinecolor": "white"
           }
          },
          "shapedefaults": {
           "line": {
            "color": "#2a3f5f"
           }
          },
          "ternary": {
           "aaxis": {
            "gridcolor": "white",
            "linecolor": "white",
            "ticks": ""
           },
           "baxis": {
            "gridcolor": "white",
            "linecolor": "white",
            "ticks": ""
           },
           "bgcolor": "#E5ECF6",
           "caxis": {
            "gridcolor": "white",
            "linecolor": "white",
            "ticks": ""
           }
          },
          "title": {
           "x": 0.05
          },
          "xaxis": {
           "automargin": true,
           "gridcolor": "white",
           "linecolor": "white",
           "ticks": "",
           "title": {
            "standoff": 15
           },
           "zerolinecolor": "white",
           "zerolinewidth": 2
          },
          "yaxis": {
           "automargin": true,
           "gridcolor": "white",
           "linecolor": "white",
           "ticks": "",
           "title": {
            "standoff": 15
           },
           "zerolinecolor": "white",
           "zerolinewidth": 2
          }
         }
        },
        "width": 900
       }
      },
      "text/html": [
       "<div>                            <div id=\"05a3fc94-5eb5-4890-8cc8-d2d57194ddd1\" class=\"plotly-graph-div\" style=\"height:900px; width:900px;\"></div>            <script type=\"text/javascript\">                require([\"plotly\"], function(Plotly) {                    window.PLOTLYENV=window.PLOTLYENV || {};                                    if (document.getElementById(\"05a3fc94-5eb5-4890-8cc8-d2d57194ddd1\")) {                    Plotly.newPlot(                        \"05a3fc94-5eb5-4890-8cc8-d2d57194ddd1\",                        [{\"branchvalues\":\"total\",\"customdata\":[[1.0],[1.0],[1.0],[1.0],[1.0],[1.0],[1.0],[2.0],[2.0],[3.0],[3.0],[3.0],[3.0],[5.0],[6.0],[6.0],[7.0],[7.0],[9.0],[10.0],[80.0],[106493.0],[1.0],[1.0],[1.0],[3.0],[106493.0],[7.0],[1.0],[7.0],[3.0],[3.0],[2.0],[1.0],[5.0],[1.0],[1.0],[80.0],[10.0],[2.0],[6.0],[6.0],[9.0],[3.0],[106340.2835174315]],\"domain\":{\"x\":[0.0,1.0],\"y\":[0.0,1.0]},\"hovertemplate\":\"labels=%{label}<br>count_sum=%{value}<br>parent=%{parent}<br>id=%{id}<br>count=%{color}<extra></extra>\",\"ids\":[\"British Airways<br>106646 Tweets/Basque/1\",\"British Airways<br>106646 Tweets/Catalan/1\",\"British Airways<br>106646 Tweets/Danish/1\",\"British Airways<br>106646 Tweets/Finnish/1\",\"British Airways<br>106646 Tweets/Hungarian/1\",\"British Airways<br>106646 Tweets/Italian/1\",\"British Airways<br>106646 Tweets/Norwegian/1\",\"British Airways<br>106646 Tweets/Hindi/2\",\"British Airways<br>106646 Tweets/Romanian/2\",\"British Airways<br>106646 Tweets/Dutch/3\",\"British Airways<br>106646 Tweets/German/3\",\"British Airways<br>106646 Tweets/Haitian Creole/3\",\"British Airways<br>106646 Tweets/Welsh/3\",\"British Airways<br>106646 Tweets/Indonesian/5\",\"British Airways<br>106646 Tweets/Spanish/6\",\"British Airways<br>106646 Tweets/Tagalog/6\",\"British Airways<br>106646 Tweets/Estonian/7\",\"British Airways<br>106646 Tweets/French/7\",\"British Airways<br>106646 Tweets/Undetermined/9\",\"British Airways<br>106646 Tweets/Portuguese/10\",\"British Airways<br>106646 Tweets/Polish/80\",\"British Airways<br>106646 Tweets/English/106493\",\"British Airways<br>106646 Tweets/Basque\",\"British Airways<br>106646 Tweets/Catalan\",\"British Airways<br>106646 Tweets/Danish\",\"British Airways<br>106646 Tweets/Dutch\",\"British Airways<br>106646 Tweets/English\",\"British Airways<br>106646 Tweets/Estonian\",\"British Airways<br>106646 Tweets/Finnish\",\"British Airways<br>106646 Tweets/French\",\"British Airways<br>106646 Tweets/German\",\"British Airways<br>106646 Tweets/Haitian Creole\",\"British Airways<br>106646 Tweets/Hindi\",\"British Airways<br>106646 Tweets/Hungarian\",\"British Airways<br>106646 Tweets/Indonesian\",\"British Airways<br>106646 Tweets/Italian\",\"British Airways<br>106646 Tweets/Norwegian\",\"British Airways<br>106646 Tweets/Polish\",\"British Airways<br>106646 Tweets/Portuguese\",\"British Airways<br>106646 Tweets/Romanian\",\"British Airways<br>106646 Tweets/Spanish\",\"British Airways<br>106646 Tweets/Tagalog\",\"British Airways<br>106646 Tweets/Undetermined\",\"British Airways<br>106646 Tweets/Welsh\",\"British Airways<br>106646 Tweets\"],\"labels\":[\"1\",\"1\",\"1\",\"1\",\"1\",\"1\",\"1\",\"2\",\"2\",\"3\",\"3\",\"3\",\"3\",\"5\",\"6\",\"6\",\"7\",\"7\",\"9\",\"10\",\"80\",\"106493\",\"Basque\",\"Catalan\",\"Danish\",\"Dutch\",\"English\",\"Estonian\",\"Finnish\",\"French\",\"German\",\"Haitian Creole\",\"Hindi\",\"Hungarian\",\"Indonesian\",\"Italian\",\"Norwegian\",\"Polish\",\"Portuguese\",\"Romanian\",\"Spanish\",\"Tagalog\",\"Undetermined\",\"Welsh\",\"British Airways<br>106646 Tweets\"],\"marker\":{\"coloraxis\":\"coloraxis\",\"colors\":[1.0,1.0,1.0,1.0,1.0,1.0,1.0,2.0,2.0,3.0,3.0,3.0,3.0,5.0,6.0,6.0,7.0,7.0,9.0,10.0,80.0,106493.0,1.0,1.0,1.0,3.0,106493.0,7.0,1.0,7.0,3.0,3.0,2.0,1.0,5.0,1.0,1.0,80.0,10.0,2.0,6.0,6.0,9.0,3.0,106340.2835174315]},\"name\":\"\",\"parents\":[\"British Airways<br>106646 Tweets/Basque\",\"British Airways<br>106646 Tweets/Catalan\",\"British Airways<br>106646 Tweets/Danish\",\"British Airways<br>106646 Tweets/Finnish\",\"British Airways<br>106646 Tweets/Hungarian\",\"British Airways<br>106646 Tweets/Italian\",\"British Airways<br>106646 Tweets/Norwegian\",\"British Airways<br>106646 Tweets/Hindi\",\"British Airways<br>106646 Tweets/Romanian\",\"British Airways<br>106646 Tweets/Dutch\",\"British Airways<br>106646 Tweets/German\",\"British Airways<br>106646 Tweets/Haitian Creole\",\"British Airways<br>106646 Tweets/Welsh\",\"British Airways<br>106646 Tweets/Indonesian\",\"British Airways<br>106646 Tweets/Spanish\",\"British Airways<br>106646 Tweets/Tagalog\",\"British Airways<br>106646 Tweets/Estonian\",\"British Airways<br>106646 Tweets/French\",\"British Airways<br>106646 Tweets/Undetermined\",\"British Airways<br>106646 Tweets/Portuguese\",\"British Airways<br>106646 Tweets/Polish\",\"British Airways<br>106646 Tweets/English\",\"British Airways<br>106646 Tweets\",\"British Airways<br>106646 Tweets\",\"British Airways<br>106646 Tweets\",\"British Airways<br>106646 Tweets\",\"British Airways<br>106646 Tweets\",\"British Airways<br>106646 Tweets\",\"British Airways<br>106646 Tweets\",\"British Airways<br>106646 Tweets\",\"British Airways<br>106646 Tweets\",\"British Airways<br>106646 Tweets\",\"British Airways<br>106646 Tweets\",\"British Airways<br>106646 Tweets\",\"British Airways<br>106646 Tweets\",\"British Airways<br>106646 Tweets\",\"British Airways<br>106646 Tweets\",\"British Airways<br>106646 Tweets\",\"British Airways<br>106646 Tweets\",\"British Airways<br>106646 Tweets\",\"British Airways<br>106646 Tweets\",\"British Airways<br>106646 Tweets\",\"British Airways<br>106646 Tweets\",\"British Airways<br>106646 Tweets\",\"\"],\"values\":[1,1,1,1,1,1,1,2,2,3,3,3,3,5,6,6,7,7,9,10,80,106493,1,1,1,3,106493,7,1,7,3,3,2,1,5,1,1,80,10,2,6,6,9,3,106646],\"type\":\"sunburst\"}],                        {\"template\":{\"data\":{\"histogram2dcontour\":[{\"type\":\"histogram2dcontour\",\"colorbar\":{\"outlinewidth\":0,\"ticks\":\"\"},\"colorscale\":[[0.0,\"#0d0887\"],[0.1111111111111111,\"#46039f\"],[0.2222222222222222,\"#7201a8\"],[0.3333333333333333,\"#9c179e\"],[0.4444444444444444,\"#bd3786\"],[0.5555555555555556,\"#d8576b\"],[0.6666666666666666,\"#ed7953\"],[0.7777777777777778,\"#fb9f3a\"],[0.8888888888888888,\"#fdca26\"],[1.0,\"#f0f921\"]]}],\"choropleth\":[{\"type\":\"choropleth\",\"colorbar\":{\"outlinewidth\":0,\"ticks\":\"\"}}],\"histogram2d\":[{\"type\":\"histogram2d\",\"colorbar\":{\"outlinewidth\":0,\"ticks\":\"\"},\"colorscale\":[[0.0,\"#0d0887\"],[0.1111111111111111,\"#46039f\"],[0.2222222222222222,\"#7201a8\"],[0.3333333333333333,\"#9c179e\"],[0.4444444444444444,\"#bd3786\"],[0.5555555555555556,\"#d8576b\"],[0.6666666666666666,\"#ed7953\"],[0.7777777777777778,\"#fb9f3a\"],[0.8888888888888888,\"#fdca26\"],[1.0,\"#f0f921\"]]}],\"heatmap\":[{\"type\":\"heatmap\",\"colorbar\":{\"outlinewidth\":0,\"ticks\":\"\"},\"colorscale\":[[0.0,\"#0d0887\"],[0.1111111111111111,\"#46039f\"],[0.2222222222222222,\"#7201a8\"],[0.3333333333333333,\"#9c179e\"],[0.4444444444444444,\"#bd3786\"],[0.5555555555555556,\"#d8576b\"],[0.6666666666666666,\"#ed7953\"],[0.7777777777777778,\"#fb9f3a\"],[0.8888888888888888,\"#fdca26\"],[1.0,\"#f0f921\"]]}],\"heatmapgl\":[{\"type\":\"heatmapgl\",\"colorbar\":{\"outlinewidth\":0,\"ticks\":\"\"},\"colorscale\":[[0.0,\"#0d0887\"],[0.1111111111111111,\"#46039f\"],[0.2222222222222222,\"#7201a8\"],[0.3333333333333333,\"#9c179e\"],[0.4444444444444444,\"#bd3786\"],[0.5555555555555556,\"#d8576b\"],[0.6666666666666666,\"#ed7953\"],[0.7777777777777778,\"#fb9f3a\"],[0.8888888888888888,\"#fdca26\"],[1.0,\"#f0f921\"]]}],\"contourcarpet\":[{\"type\":\"contourcarpet\",\"colorbar\":{\"outlinewidth\":0,\"ticks\":\"\"}}],\"contour\":[{\"type\":\"contour\",\"colorbar\":{\"outlinewidth\":0,\"ticks\":\"\"},\"colorscale\":[[0.0,\"#0d0887\"],[0.1111111111111111,\"#46039f\"],[0.2222222222222222,\"#7201a8\"],[0.3333333333333333,\"#9c179e\"],[0.4444444444444444,\"#bd3786\"],[0.5555555555555556,\"#d8576b\"],[0.6666666666666666,\"#ed7953\"],[0.7777777777777778,\"#fb9f3a\"],[0.8888888888888888,\"#fdca26\"],[1.0,\"#f0f921\"]]}],\"surface\":[{\"type\":\"surface\",\"colorbar\":{\"outlinewidth\":0,\"ticks\":\"\"},\"colorscale\":[[0.0,\"#0d0887\"],[0.1111111111111111,\"#46039f\"],[0.2222222222222222,\"#7201a8\"],[0.3333333333333333,\"#9c179e\"],[0.4444444444444444,\"#bd3786\"],[0.5555555555555556,\"#d8576b\"],[0.6666666666666666,\"#ed7953\"],[0.7777777777777778,\"#fb9f3a\"],[0.8888888888888888,\"#fdca26\"],[1.0,\"#f0f921\"]]}],\"mesh3d\":[{\"type\":\"mesh3d\",\"colorbar\":{\"outlinewidth\":0,\"ticks\":\"\"}}],\"scatter\":[{\"fillpattern\":{\"fillmode\":\"overlay\",\"size\":10,\"solidity\":0.2},\"type\":\"scatter\"}],\"parcoords\":[{\"type\":\"parcoords\",\"line\":{\"colorbar\":{\"outlinewidth\":0,\"ticks\":\"\"}}}],\"scatterpolargl\":[{\"type\":\"scatterpolargl\",\"marker\":{\"colorbar\":{\"outlinewidth\":0,\"ticks\":\"\"}}}],\"bar\":[{\"error_x\":{\"color\":\"#2a3f5f\"},\"error_y\":{\"color\":\"#2a3f5f\"},\"marker\":{\"line\":{\"color\":\"#E5ECF6\",\"width\":0.5},\"pattern\":{\"fillmode\":\"overlay\",\"size\":10,\"solidity\":0.2}},\"type\":\"bar\"}],\"scattergeo\":[{\"type\":\"scattergeo\",\"marker\":{\"colorbar\":{\"outlinewidth\":0,\"ticks\":\"\"}}}],\"scatterpolar\":[{\"type\":\"scatterpolar\",\"marker\":{\"colorbar\":{\"outlinewidth\":0,\"ticks\":\"\"}}}],\"histogram\":[{\"marker\":{\"pattern\":{\"fillmode\":\"overlay\",\"size\":10,\"solidity\":0.2}},\"type\":\"histogram\"}],\"scattergl\":[{\"type\":\"scattergl\",\"marker\":{\"colorbar\":{\"outlinewidth\":0,\"ticks\":\"\"}}}],\"scatter3d\":[{\"type\":\"scatter3d\",\"line\":{\"colorbar\":{\"outlinewidth\":0,\"ticks\":\"\"}},\"marker\":{\"colorbar\":{\"outlinewidth\":0,\"ticks\":\"\"}}}],\"scattermapbox\":[{\"type\":\"scattermapbox\",\"marker\":{\"colorbar\":{\"outlinewidth\":0,\"ticks\":\"\"}}}],\"scatterternary\":[{\"type\":\"scatterternary\",\"marker\":{\"colorbar\":{\"outlinewidth\":0,\"ticks\":\"\"}}}],\"scattercarpet\":[{\"type\":\"scattercarpet\",\"marker\":{\"colorbar\":{\"outlinewidth\":0,\"ticks\":\"\"}}}],\"carpet\":[{\"aaxis\":{\"endlinecolor\":\"#2a3f5f\",\"gridcolor\":\"white\",\"linecolor\":\"white\",\"minorgridcolor\":\"white\",\"startlinecolor\":\"#2a3f5f\"},\"baxis\":{\"endlinecolor\":\"#2a3f5f\",\"gridcolor\":\"white\",\"linecolor\":\"white\",\"minorgridcolor\":\"white\",\"startlinecolor\":\"#2a3f5f\"},\"type\":\"carpet\"}],\"table\":[{\"cells\":{\"fill\":{\"color\":\"#EBF0F8\"},\"line\":{\"color\":\"white\"}},\"header\":{\"fill\":{\"color\":\"#C8D4E3\"},\"line\":{\"color\":\"white\"}},\"type\":\"table\"}],\"barpolar\":[{\"marker\":{\"line\":{\"color\":\"#E5ECF6\",\"width\":0.5},\"pattern\":{\"fillmode\":\"overlay\",\"size\":10,\"solidity\":0.2}},\"type\":\"barpolar\"}],\"pie\":[{\"automargin\":true,\"type\":\"pie\"}]},\"layout\":{\"autotypenumbers\":\"strict\",\"colorway\":[\"#636efa\",\"#EF553B\",\"#00cc96\",\"#ab63fa\",\"#FFA15A\",\"#19d3f3\",\"#FF6692\",\"#B6E880\",\"#FF97FF\",\"#FECB52\"],\"font\":{\"color\":\"#2a3f5f\"},\"hovermode\":\"closest\",\"hoverlabel\":{\"align\":\"left\"},\"paper_bgcolor\":\"white\",\"plot_bgcolor\":\"#E5ECF6\",\"polar\":{\"bgcolor\":\"#E5ECF6\",\"angularaxis\":{\"gridcolor\":\"white\",\"linecolor\":\"white\",\"ticks\":\"\"},\"radialaxis\":{\"gridcolor\":\"white\",\"linecolor\":\"white\",\"ticks\":\"\"}},\"ternary\":{\"bgcolor\":\"#E5ECF6\",\"aaxis\":{\"gridcolor\":\"white\",\"linecolor\":\"white\",\"ticks\":\"\"},\"baxis\":{\"gridcolor\":\"white\",\"linecolor\":\"white\",\"ticks\":\"\"},\"caxis\":{\"gridcolor\":\"white\",\"linecolor\":\"white\",\"ticks\":\"\"}},\"coloraxis\":{\"colorbar\":{\"outlinewidth\":0,\"ticks\":\"\"}},\"colorscale\":{\"sequential\":[[0.0,\"#0d0887\"],[0.1111111111111111,\"#46039f\"],[0.2222222222222222,\"#7201a8\"],[0.3333333333333333,\"#9c179e\"],[0.4444444444444444,\"#bd3786\"],[0.5555555555555556,\"#d8576b\"],[0.6666666666666666,\"#ed7953\"],[0.7777777777777778,\"#fb9f3a\"],[0.8888888888888888,\"#fdca26\"],[1.0,\"#f0f921\"]],\"sequentialminus\":[[0.0,\"#0d0887\"],[0.1111111111111111,\"#46039f\"],[0.2222222222222222,\"#7201a8\"],[0.3333333333333333,\"#9c179e\"],[0.4444444444444444,\"#bd3786\"],[0.5555555555555556,\"#d8576b\"],[0.6666666666666666,\"#ed7953\"],[0.7777777777777778,\"#fb9f3a\"],[0.8888888888888888,\"#fdca26\"],[1.0,\"#f0f921\"]],\"diverging\":[[0,\"#8e0152\"],[0.1,\"#c51b7d\"],[0.2,\"#de77ae\"],[0.3,\"#f1b6da\"],[0.4,\"#fde0ef\"],[0.5,\"#f7f7f7\"],[0.6,\"#e6f5d0\"],[0.7,\"#b8e186\"],[0.8,\"#7fbc41\"],[0.9,\"#4d9221\"],[1,\"#276419\"]]},\"xaxis\":{\"gridcolor\":\"white\",\"linecolor\":\"white\",\"ticks\":\"\",\"title\":{\"standoff\":15},\"zerolinecolor\":\"white\",\"automargin\":true,\"zerolinewidth\":2},\"yaxis\":{\"gridcolor\":\"white\",\"linecolor\":\"white\",\"ticks\":\"\",\"title\":{\"standoff\":15},\"zerolinecolor\":\"white\",\"automargin\":true,\"zerolinewidth\":2},\"scene\":{\"xaxis\":{\"backgroundcolor\":\"#E5ECF6\",\"gridcolor\":\"white\",\"linecolor\":\"white\",\"showbackground\":true,\"ticks\":\"\",\"zerolinecolor\":\"white\",\"gridwidth\":2},\"yaxis\":{\"backgroundcolor\":\"#E5ECF6\",\"gridcolor\":\"white\",\"linecolor\":\"white\",\"showbackground\":true,\"ticks\":\"\",\"zerolinecolor\":\"white\",\"gridwidth\":2},\"zaxis\":{\"backgroundcolor\":\"#E5ECF6\",\"gridcolor\":\"white\",\"linecolor\":\"white\",\"showbackground\":true,\"ticks\":\"\",\"zerolinecolor\":\"white\",\"gridwidth\":2}},\"shapedefaults\":{\"line\":{\"color\":\"#2a3f5f\"}},\"annotationdefaults\":{\"arrowcolor\":\"#2a3f5f\",\"arrowhead\":0,\"arrowwidth\":1},\"geo\":{\"bgcolor\":\"white\",\"landcolor\":\"#E5ECF6\",\"subunitcolor\":\"white\",\"showland\":true,\"showlakes\":true,\"lakecolor\":\"white\"},\"title\":{\"x\":0.05},\"mapbox\":{\"style\":\"light\"}}},\"coloraxis\":{\"colorbar\":{\"title\":{\"text\":\"count\"}},\"colorscale\":[[0.0,\"rgb(103,0,31)\"],[0.1,\"rgb(178,24,43)\"],[0.2,\"rgb(214,96,77)\"],[0.3,\"rgb(244,165,130)\"],[0.4,\"rgb(253,219,199)\"],[0.5,\"rgb(247,247,247)\"],[0.6,\"rgb(209,229,240)\"],[0.7,\"rgb(146,197,222)\"],[0.8,\"rgb(67,147,195)\"],[0.9,\"rgb(33,102,172)\"],[1.0,\"rgb(5,48,97)\"]],\"cmid\":71704.7076933436},\"legend\":{\"tracegroupgap\":0},\"margin\":{\"t\":60},\"height\":900,\"width\":900},                        {\"responsive\": true}                    ).then(function(){\n",
       "                            \n",
       "var gd = document.getElementById('05a3fc94-5eb5-4890-8cc8-d2d57194ddd1');\n",
       "var x = new MutationObserver(function (mutations, observer) {{\n",
       "        var display = window.getComputedStyle(gd).display;\n",
       "        if (!display || display === 'none') {{\n",
       "            console.log([gd, 'removed!']);\n",
       "            Plotly.purge(gd);\n",
       "            observer.disconnect();\n",
       "        }}\n",
       "}});\n",
       "\n",
       "// Listen for the removal of the full notebook cells\n",
       "var notebookContainer = gd.closest('#notebook-container');\n",
       "if (notebookContainer) {{\n",
       "    x.observe(notebookContainer, {childList: true});\n",
       "}}\n",
       "\n",
       "// Listen for the clearing of the current output cell\n",
       "var outputEl = gd.closest('.output');\n",
       "if (outputEl) {{\n",
       "    x.observe(outputEl, {childList: true});\n",
       "}}\n",
       "\n",
       "                        })                };                });            </script>        </div>"
      ]
     },
     "metadata": {},
     "output_type": "display_data"
    },
    {
     "data": {
      "application/vnd.plotly.v1+json": {
       "config": {
        "plotlyServerURL": "https://plot.ly"
       },
       "data": [
        {
         "branchvalues": "total",
         "customdata": [
          [
           1
          ],
          [
           1
          ],
          [
           1
          ],
          [
           1
          ],
          [
           1
          ],
          [
           1
          ],
          [
           1
          ],
          [
           1
          ],
          [
           3
          ],
          [
           4
          ],
          [
           5
          ],
          [
           5
          ],
          [
           19
          ],
          [
           21
          ],
          [
           79
          ],
          [
           108
          ],
          [
           289
          ],
          [
           292
          ],
          [
           507
          ],
          [
           1614
          ],
          [
           3348
          ],
          [
           48423
          ],
          [
           1
          ],
          [
           1
          ],
          [
           289
          ],
          [
           48423
          ],
          [
           5
          ],
          [
           3348
          ],
          [
           292
          ],
          [
           5
          ],
          [
           19
          ],
          [
           1
          ],
          [
           3
          ],
          [
           4
          ],
          [
           507
          ],
          [
           1
          ],
          [
           1
          ],
          [
           1
          ],
          [
           21
          ],
          [
           79
          ],
          [
           1614
          ],
          [
           108
          ],
          [
           1
          ],
          [
           1
          ],
          [
           43107.2755230699
          ]
         ],
         "domain": {
          "x": [
           0,
           1
          ],
          "y": [
           0,
           1
          ]
         },
         "hovertemplate": "labels=%{label}<br>count_sum=%{value}<br>parent=%{parent}<br>id=%{id}<br>count=%{color}<extra></extra>",
         "ids": [
          "easy Jet<br>54725 Tweets/Catalan/1",
          "easy Jet<br>54725 Tweets/Czech/1",
          "easy Jet<br>54725 Tweets/Hungarian/1",
          "easy Jet<br>54725 Tweets/Japanese/1",
          "easy Jet<br>54725 Tweets/Lithuanian/1",
          "easy Jet<br>54725 Tweets/Norwegian/1",
          "easy Jet<br>54725 Tweets/Vietnamese/1",
          "easy Jet<br>54725 Tweets/Welsh/1",
          "easy Jet<br>54725 Tweets/Icelandic/3",
          "easy Jet<br>54725 Tweets/Indonesian/4",
          "easy Jet<br>54725 Tweets/Estonian/5",
          "easy Jet<br>54725 Tweets/Haitian Creole/5",
          "easy Jet<br>54725 Tweets/Hindi/19",
          "easy Jet<br>54725 Tweets/Polish/21",
          "easy Jet<br>54725 Tweets/Portuguese/79",
          "easy Jet<br>54725 Tweets/Undetermined/108",
          "easy Jet<br>54725 Tweets/Dutch/289",
          "easy Jet<br>54725 Tweets/German/292",
          "easy Jet<br>54725 Tweets/Italian/507",
          "easy Jet<br>54725 Tweets/Spanish/1614",
          "easy Jet<br>54725 Tweets/French/3348",
          "easy Jet<br>54725 Tweets/English/48423",
          "easy Jet<br>54725 Tweets/Catalan",
          "easy Jet<br>54725 Tweets/Czech",
          "easy Jet<br>54725 Tweets/Dutch",
          "easy Jet<br>54725 Tweets/English",
          "easy Jet<br>54725 Tweets/Estonian",
          "easy Jet<br>54725 Tweets/French",
          "easy Jet<br>54725 Tweets/German",
          "easy Jet<br>54725 Tweets/Haitian Creole",
          "easy Jet<br>54725 Tweets/Hindi",
          "easy Jet<br>54725 Tweets/Hungarian",
          "easy Jet<br>54725 Tweets/Icelandic",
          "easy Jet<br>54725 Tweets/Indonesian",
          "easy Jet<br>54725 Tweets/Italian",
          "easy Jet<br>54725 Tweets/Japanese",
          "easy Jet<br>54725 Tweets/Lithuanian",
          "easy Jet<br>54725 Tweets/Norwegian",
          "easy Jet<br>54725 Tweets/Polish",
          "easy Jet<br>54725 Tweets/Portuguese",
          "easy Jet<br>54725 Tweets/Spanish",
          "easy Jet<br>54725 Tweets/Undetermined",
          "easy Jet<br>54725 Tweets/Vietnamese",
          "easy Jet<br>54725 Tweets/Welsh",
          "easy Jet<br>54725 Tweets"
         ],
         "labels": [
          "1",
          "1",
          "1",
          "1",
          "1",
          "1",
          "1",
          "1",
          "3",
          "4",
          "5",
          "5",
          "19",
          "21",
          "79",
          "108",
          "289",
          "292",
          "507",
          "1614",
          "3348",
          "48423",
          "Catalan",
          "Czech",
          "Dutch",
          "English",
          "Estonian",
          "French",
          "German",
          "Haitian Creole",
          "Hindi",
          "Hungarian",
          "Icelandic",
          "Indonesian",
          "Italian",
          "Japanese",
          "Lithuanian",
          "Norwegian",
          "Polish",
          "Portuguese",
          "Spanish",
          "Undetermined",
          "Vietnamese",
          "Welsh",
          "easy Jet<br>54725 Tweets"
         ],
         "marker": {
          "coloraxis": "coloraxis",
          "colors": [
           1,
           1,
           1,
           1,
           1,
           1,
           1,
           1,
           3,
           4,
           5,
           5,
           19,
           21,
           79,
           108,
           289,
           292,
           507,
           1614,
           3348,
           48423,
           1,
           1,
           289,
           48423,
           5,
           3348,
           292,
           5,
           19,
           1,
           3,
           4,
           507,
           1,
           1,
           1,
           21,
           79,
           1614,
           108,
           1,
           1,
           43107.2755230699
          ]
         },
         "name": "",
         "parents": [
          "easy Jet<br>54725 Tweets/Catalan",
          "easy Jet<br>54725 Tweets/Czech",
          "easy Jet<br>54725 Tweets/Hungarian",
          "easy Jet<br>54725 Tweets/Japanese",
          "easy Jet<br>54725 Tweets/Lithuanian",
          "easy Jet<br>54725 Tweets/Norwegian",
          "easy Jet<br>54725 Tweets/Vietnamese",
          "easy Jet<br>54725 Tweets/Welsh",
          "easy Jet<br>54725 Tweets/Icelandic",
          "easy Jet<br>54725 Tweets/Indonesian",
          "easy Jet<br>54725 Tweets/Estonian",
          "easy Jet<br>54725 Tweets/Haitian Creole",
          "easy Jet<br>54725 Tweets/Hindi",
          "easy Jet<br>54725 Tweets/Polish",
          "easy Jet<br>54725 Tweets/Portuguese",
          "easy Jet<br>54725 Tweets/Undetermined",
          "easy Jet<br>54725 Tweets/Dutch",
          "easy Jet<br>54725 Tweets/German",
          "easy Jet<br>54725 Tweets/Italian",
          "easy Jet<br>54725 Tweets/Spanish",
          "easy Jet<br>54725 Tweets/French",
          "easy Jet<br>54725 Tweets/English",
          "easy Jet<br>54725 Tweets",
          "easy Jet<br>54725 Tweets",
          "easy Jet<br>54725 Tweets",
          "easy Jet<br>54725 Tweets",
          "easy Jet<br>54725 Tweets",
          "easy Jet<br>54725 Tweets",
          "easy Jet<br>54725 Tweets",
          "easy Jet<br>54725 Tweets",
          "easy Jet<br>54725 Tweets",
          "easy Jet<br>54725 Tweets",
          "easy Jet<br>54725 Tweets",
          "easy Jet<br>54725 Tweets",
          "easy Jet<br>54725 Tweets",
          "easy Jet<br>54725 Tweets",
          "easy Jet<br>54725 Tweets",
          "easy Jet<br>54725 Tweets",
          "easy Jet<br>54725 Tweets",
          "easy Jet<br>54725 Tweets",
          "easy Jet<br>54725 Tweets",
          "easy Jet<br>54725 Tweets",
          "easy Jet<br>54725 Tweets",
          "easy Jet<br>54725 Tweets",
          ""
         ],
         "type": "sunburst",
         "values": [
          1,
          1,
          1,
          1,
          1,
          1,
          1,
          1,
          3,
          4,
          5,
          5,
          19,
          21,
          79,
          108,
          289,
          292,
          507,
          1614,
          3348,
          48423,
          1,
          1,
          289,
          48423,
          5,
          3348,
          292,
          5,
          19,
          1,
          3,
          4,
          507,
          1,
          1,
          1,
          21,
          79,
          1614,
          108,
          1,
          1,
          54725
         ]
        }
       ],
       "layout": {
        "coloraxis": {
         "cmid": 71704.7076933436,
         "colorbar": {
          "title": {
           "text": "count"
          }
         },
         "colorscale": [
          [
           0,
           "rgb(103,0,31)"
          ],
          [
           0.1,
           "rgb(178,24,43)"
          ],
          [
           0.2,
           "rgb(214,96,77)"
          ],
          [
           0.3,
           "rgb(244,165,130)"
          ],
          [
           0.4,
           "rgb(253,219,199)"
          ],
          [
           0.5,
           "rgb(247,247,247)"
          ],
          [
           0.6,
           "rgb(209,229,240)"
          ],
          [
           0.7,
           "rgb(146,197,222)"
          ],
          [
           0.8,
           "rgb(67,147,195)"
          ],
          [
           0.9,
           "rgb(33,102,172)"
          ],
          [
           1,
           "rgb(5,48,97)"
          ]
         ]
        },
        "height": 900,
        "legend": {
         "tracegroupgap": 0
        },
        "margin": {
         "t": 60
        },
        "template": {
         "data": {
          "bar": [
           {
            "error_x": {
             "color": "#2a3f5f"
            },
            "error_y": {
             "color": "#2a3f5f"
            },
            "marker": {
             "line": {
              "color": "#E5ECF6",
              "width": 0.5
             },
             "pattern": {
              "fillmode": "overlay",
              "size": 10,
              "solidity": 0.2
             }
            },
            "type": "bar"
           }
          ],
          "barpolar": [
           {
            "marker": {
             "line": {
              "color": "#E5ECF6",
              "width": 0.5
             },
             "pattern": {
              "fillmode": "overlay",
              "size": 10,
              "solidity": 0.2
             }
            },
            "type": "barpolar"
           }
          ],
          "carpet": [
           {
            "aaxis": {
             "endlinecolor": "#2a3f5f",
             "gridcolor": "white",
             "linecolor": "white",
             "minorgridcolor": "white",
             "startlinecolor": "#2a3f5f"
            },
            "baxis": {
             "endlinecolor": "#2a3f5f",
             "gridcolor": "white",
             "linecolor": "white",
             "minorgridcolor": "white",
             "startlinecolor": "#2a3f5f"
            },
            "type": "carpet"
           }
          ],
          "choropleth": [
           {
            "colorbar": {
             "outlinewidth": 0,
             "ticks": ""
            },
            "type": "choropleth"
           }
          ],
          "contour": [
           {
            "colorbar": {
             "outlinewidth": 0,
             "ticks": ""
            },
            "colorscale": [
             [
              0,
              "#0d0887"
             ],
             [
              0.1111111111111111,
              "#46039f"
             ],
             [
              0.2222222222222222,
              "#7201a8"
             ],
             [
              0.3333333333333333,
              "#9c179e"
             ],
             [
              0.4444444444444444,
              "#bd3786"
             ],
             [
              0.5555555555555556,
              "#d8576b"
             ],
             [
              0.6666666666666666,
              "#ed7953"
             ],
             [
              0.7777777777777778,
              "#fb9f3a"
             ],
             [
              0.8888888888888888,
              "#fdca26"
             ],
             [
              1,
              "#f0f921"
             ]
            ],
            "type": "contour"
           }
          ],
          "contourcarpet": [
           {
            "colorbar": {
             "outlinewidth": 0,
             "ticks": ""
            },
            "type": "contourcarpet"
           }
          ],
          "heatmap": [
           {
            "colorbar": {
             "outlinewidth": 0,
             "ticks": ""
            },
            "colorscale": [
             [
              0,
              "#0d0887"
             ],
             [
              0.1111111111111111,
              "#46039f"
             ],
             [
              0.2222222222222222,
              "#7201a8"
             ],
             [
              0.3333333333333333,
              "#9c179e"
             ],
             [
              0.4444444444444444,
              "#bd3786"
             ],
             [
              0.5555555555555556,
              "#d8576b"
             ],
             [
              0.6666666666666666,
              "#ed7953"
             ],
             [
              0.7777777777777778,
              "#fb9f3a"
             ],
             [
              0.8888888888888888,
              "#fdca26"
             ],
             [
              1,
              "#f0f921"
             ]
            ],
            "type": "heatmap"
           }
          ],
          "heatmapgl": [
           {
            "colorbar": {
             "outlinewidth": 0,
             "ticks": ""
            },
            "colorscale": [
             [
              0,
              "#0d0887"
             ],
             [
              0.1111111111111111,
              "#46039f"
             ],
             [
              0.2222222222222222,
              "#7201a8"
             ],
             [
              0.3333333333333333,
              "#9c179e"
             ],
             [
              0.4444444444444444,
              "#bd3786"
             ],
             [
              0.5555555555555556,
              "#d8576b"
             ],
             [
              0.6666666666666666,
              "#ed7953"
             ],
             [
              0.7777777777777778,
              "#fb9f3a"
             ],
             [
              0.8888888888888888,
              "#fdca26"
             ],
             [
              1,
              "#f0f921"
             ]
            ],
            "type": "heatmapgl"
           }
          ],
          "histogram": [
           {
            "marker": {
             "pattern": {
              "fillmode": "overlay",
              "size": 10,
              "solidity": 0.2
             }
            },
            "type": "histogram"
           }
          ],
          "histogram2d": [
           {
            "colorbar": {
             "outlinewidth": 0,
             "ticks": ""
            },
            "colorscale": [
             [
              0,
              "#0d0887"
             ],
             [
              0.1111111111111111,
              "#46039f"
             ],
             [
              0.2222222222222222,
              "#7201a8"
             ],
             [
              0.3333333333333333,
              "#9c179e"
             ],
             [
              0.4444444444444444,
              "#bd3786"
             ],
             [
              0.5555555555555556,
              "#d8576b"
             ],
             [
              0.6666666666666666,
              "#ed7953"
             ],
             [
              0.7777777777777778,
              "#fb9f3a"
             ],
             [
              0.8888888888888888,
              "#fdca26"
             ],
             [
              1,
              "#f0f921"
             ]
            ],
            "type": "histogram2d"
           }
          ],
          "histogram2dcontour": [
           {
            "colorbar": {
             "outlinewidth": 0,
             "ticks": ""
            },
            "colorscale": [
             [
              0,
              "#0d0887"
             ],
             [
              0.1111111111111111,
              "#46039f"
             ],
             [
              0.2222222222222222,
              "#7201a8"
             ],
             [
              0.3333333333333333,
              "#9c179e"
             ],
             [
              0.4444444444444444,
              "#bd3786"
             ],
             [
              0.5555555555555556,
              "#d8576b"
             ],
             [
              0.6666666666666666,
              "#ed7953"
             ],
             [
              0.7777777777777778,
              "#fb9f3a"
             ],
             [
              0.8888888888888888,
              "#fdca26"
             ],
             [
              1,
              "#f0f921"
             ]
            ],
            "type": "histogram2dcontour"
           }
          ],
          "mesh3d": [
           {
            "colorbar": {
             "outlinewidth": 0,
             "ticks": ""
            },
            "type": "mesh3d"
           }
          ],
          "parcoords": [
           {
            "line": {
             "colorbar": {
              "outlinewidth": 0,
              "ticks": ""
             }
            },
            "type": "parcoords"
           }
          ],
          "pie": [
           {
            "automargin": true,
            "type": "pie"
           }
          ],
          "scatter": [
           {
            "fillpattern": {
             "fillmode": "overlay",
             "size": 10,
             "solidity": 0.2
            },
            "type": "scatter"
           }
          ],
          "scatter3d": [
           {
            "line": {
             "colorbar": {
              "outlinewidth": 0,
              "ticks": ""
             }
            },
            "marker": {
             "colorbar": {
              "outlinewidth": 0,
              "ticks": ""
             }
            },
            "type": "scatter3d"
           }
          ],
          "scattercarpet": [
           {
            "marker": {
             "colorbar": {
              "outlinewidth": 0,
              "ticks": ""
             }
            },
            "type": "scattercarpet"
           }
          ],
          "scattergeo": [
           {
            "marker": {
             "colorbar": {
              "outlinewidth": 0,
              "ticks": ""
             }
            },
            "type": "scattergeo"
           }
          ],
          "scattergl": [
           {
            "marker": {
             "colorbar": {
              "outlinewidth": 0,
              "ticks": ""
             }
            },
            "type": "scattergl"
           }
          ],
          "scattermapbox": [
           {
            "marker": {
             "colorbar": {
              "outlinewidth": 0,
              "ticks": ""
             }
            },
            "type": "scattermapbox"
           }
          ],
          "scatterpolar": [
           {
            "marker": {
             "colorbar": {
              "outlinewidth": 0,
              "ticks": ""
             }
            },
            "type": "scatterpolar"
           }
          ],
          "scatterpolargl": [
           {
            "marker": {
             "colorbar": {
              "outlinewidth": 0,
              "ticks": ""
             }
            },
            "type": "scatterpolargl"
           }
          ],
          "scatterternary": [
           {
            "marker": {
             "colorbar": {
              "outlinewidth": 0,
              "ticks": ""
             }
            },
            "type": "scatterternary"
           }
          ],
          "surface": [
           {
            "colorbar": {
             "outlinewidth": 0,
             "ticks": ""
            },
            "colorscale": [
             [
              0,
              "#0d0887"
             ],
             [
              0.1111111111111111,
              "#46039f"
             ],
             [
              0.2222222222222222,
              "#7201a8"
             ],
             [
              0.3333333333333333,
              "#9c179e"
             ],
             [
              0.4444444444444444,
              "#bd3786"
             ],
             [
              0.5555555555555556,
              "#d8576b"
             ],
             [
              0.6666666666666666,
              "#ed7953"
             ],
             [
              0.7777777777777778,
              "#fb9f3a"
             ],
             [
              0.8888888888888888,
              "#fdca26"
             ],
             [
              1,
              "#f0f921"
             ]
            ],
            "type": "surface"
           }
          ],
          "table": [
           {
            "cells": {
             "fill": {
              "color": "#EBF0F8"
             },
             "line": {
              "color": "white"
             }
            },
            "header": {
             "fill": {
              "color": "#C8D4E3"
             },
             "line": {
              "color": "white"
             }
            },
            "type": "table"
           }
          ]
         },
         "layout": {
          "annotationdefaults": {
           "arrowcolor": "#2a3f5f",
           "arrowhead": 0,
           "arrowwidth": 1
          },
          "autotypenumbers": "strict",
          "coloraxis": {
           "colorbar": {
            "outlinewidth": 0,
            "ticks": ""
           }
          },
          "colorscale": {
           "diverging": [
            [
             0,
             "#8e0152"
            ],
            [
             0.1,
             "#c51b7d"
            ],
            [
             0.2,
             "#de77ae"
            ],
            [
             0.3,
             "#f1b6da"
            ],
            [
             0.4,
             "#fde0ef"
            ],
            [
             0.5,
             "#f7f7f7"
            ],
            [
             0.6,
             "#e6f5d0"
            ],
            [
             0.7,
             "#b8e186"
            ],
            [
             0.8,
             "#7fbc41"
            ],
            [
             0.9,
             "#4d9221"
            ],
            [
             1,
             "#276419"
            ]
           ],
           "sequential": [
            [
             0,
             "#0d0887"
            ],
            [
             0.1111111111111111,
             "#46039f"
            ],
            [
             0.2222222222222222,
             "#7201a8"
            ],
            [
             0.3333333333333333,
             "#9c179e"
            ],
            [
             0.4444444444444444,
             "#bd3786"
            ],
            [
             0.5555555555555556,
             "#d8576b"
            ],
            [
             0.6666666666666666,
             "#ed7953"
            ],
            [
             0.7777777777777778,
             "#fb9f3a"
            ],
            [
             0.8888888888888888,
             "#fdca26"
            ],
            [
             1,
             "#f0f921"
            ]
           ],
           "sequentialminus": [
            [
             0,
             "#0d0887"
            ],
            [
             0.1111111111111111,
             "#46039f"
            ],
            [
             0.2222222222222222,
             "#7201a8"
            ],
            [
             0.3333333333333333,
             "#9c179e"
            ],
            [
             0.4444444444444444,
             "#bd3786"
            ],
            [
             0.5555555555555556,
             "#d8576b"
            ],
            [
             0.6666666666666666,
             "#ed7953"
            ],
            [
             0.7777777777777778,
             "#fb9f3a"
            ],
            [
             0.8888888888888888,
             "#fdca26"
            ],
            [
             1,
             "#f0f921"
            ]
           ]
          },
          "colorway": [
           "#636efa",
           "#EF553B",
           "#00cc96",
           "#ab63fa",
           "#FFA15A",
           "#19d3f3",
           "#FF6692",
           "#B6E880",
           "#FF97FF",
           "#FECB52"
          ],
          "font": {
           "color": "#2a3f5f"
          },
          "geo": {
           "bgcolor": "white",
           "lakecolor": "white",
           "landcolor": "#E5ECF6",
           "showlakes": true,
           "showland": true,
           "subunitcolor": "white"
          },
          "hoverlabel": {
           "align": "left"
          },
          "hovermode": "closest",
          "mapbox": {
           "style": "light"
          },
          "paper_bgcolor": "white",
          "plot_bgcolor": "#E5ECF6",
          "polar": {
           "angularaxis": {
            "gridcolor": "white",
            "linecolor": "white",
            "ticks": ""
           },
           "bgcolor": "#E5ECF6",
           "radialaxis": {
            "gridcolor": "white",
            "linecolor": "white",
            "ticks": ""
           }
          },
          "scene": {
           "xaxis": {
            "backgroundcolor": "#E5ECF6",
            "gridcolor": "white",
            "gridwidth": 2,
            "linecolor": "white",
            "showbackground": true,
            "ticks": "",
            "zerolinecolor": "white"
           },
           "yaxis": {
            "backgroundcolor": "#E5ECF6",
            "gridcolor": "white",
            "gridwidth": 2,
            "linecolor": "white",
            "showbackground": true,
            "ticks": "",
            "zerolinecolor": "white"
           },
           "zaxis": {
            "backgroundcolor": "#E5ECF6",
            "gridcolor": "white",
            "gridwidth": 2,
            "linecolor": "white",
            "showbackground": true,
            "ticks": "",
            "zerolinecolor": "white"
           }
          },
          "shapedefaults": {
           "line": {
            "color": "#2a3f5f"
           }
          },
          "ternary": {
           "aaxis": {
            "gridcolor": "white",
            "linecolor": "white",
            "ticks": ""
           },
           "baxis": {
            "gridcolor": "white",
            "linecolor": "white",
            "ticks": ""
           },
           "bgcolor": "#E5ECF6",
           "caxis": {
            "gridcolor": "white",
            "linecolor": "white",
            "ticks": ""
           }
          },
          "title": {
           "x": 0.05
          },
          "xaxis": {
           "automargin": true,
           "gridcolor": "white",
           "linecolor": "white",
           "ticks": "",
           "title": {
            "standoff": 15
           },
           "zerolinecolor": "white",
           "zerolinewidth": 2
          },
          "yaxis": {
           "automargin": true,
           "gridcolor": "white",
           "linecolor": "white",
           "ticks": "",
           "title": {
            "standoff": 15
           },
           "zerolinecolor": "white",
           "zerolinewidth": 2
          }
         }
        },
        "width": 900
       }
      },
      "text/html": [
       "<div>                            <div id=\"c27fb6a0-0ec6-4e35-94c3-4fee1c9c1591\" class=\"plotly-graph-div\" style=\"height:900px; width:900px;\"></div>            <script type=\"text/javascript\">                require([\"plotly\"], function(Plotly) {                    window.PLOTLYENV=window.PLOTLYENV || {};                                    if (document.getElementById(\"c27fb6a0-0ec6-4e35-94c3-4fee1c9c1591\")) {                    Plotly.newPlot(                        \"c27fb6a0-0ec6-4e35-94c3-4fee1c9c1591\",                        [{\"branchvalues\":\"total\",\"customdata\":[[1.0],[1.0],[1.0],[1.0],[1.0],[1.0],[1.0],[1.0],[3.0],[4.0],[5.0],[5.0],[19.0],[21.0],[79.0],[108.0],[289.0],[292.0],[507.0],[1614.0],[3348.0],[48423.0],[1.0],[1.0],[289.0],[48423.0],[5.0],[3348.0],[292.0],[5.0],[19.0],[1.0],[3.0],[4.0],[507.0],[1.0],[1.0],[1.0],[21.0],[79.0],[1614.0],[108.0],[1.0],[1.0],[43107.2755230699]],\"domain\":{\"x\":[0.0,1.0],\"y\":[0.0,1.0]},\"hovertemplate\":\"labels=%{label}<br>count_sum=%{value}<br>parent=%{parent}<br>id=%{id}<br>count=%{color}<extra></extra>\",\"ids\":[\"easy Jet<br>54725 Tweets/Catalan/1\",\"easy Jet<br>54725 Tweets/Czech/1\",\"easy Jet<br>54725 Tweets/Hungarian/1\",\"easy Jet<br>54725 Tweets/Japanese/1\",\"easy Jet<br>54725 Tweets/Lithuanian/1\",\"easy Jet<br>54725 Tweets/Norwegian/1\",\"easy Jet<br>54725 Tweets/Vietnamese/1\",\"easy Jet<br>54725 Tweets/Welsh/1\",\"easy Jet<br>54725 Tweets/Icelandic/3\",\"easy Jet<br>54725 Tweets/Indonesian/4\",\"easy Jet<br>54725 Tweets/Estonian/5\",\"easy Jet<br>54725 Tweets/Haitian Creole/5\",\"easy Jet<br>54725 Tweets/Hindi/19\",\"easy Jet<br>54725 Tweets/Polish/21\",\"easy Jet<br>54725 Tweets/Portuguese/79\",\"easy Jet<br>54725 Tweets/Undetermined/108\",\"easy Jet<br>54725 Tweets/Dutch/289\",\"easy Jet<br>54725 Tweets/German/292\",\"easy Jet<br>54725 Tweets/Italian/507\",\"easy Jet<br>54725 Tweets/Spanish/1614\",\"easy Jet<br>54725 Tweets/French/3348\",\"easy Jet<br>54725 Tweets/English/48423\",\"easy Jet<br>54725 Tweets/Catalan\",\"easy Jet<br>54725 Tweets/Czech\",\"easy Jet<br>54725 Tweets/Dutch\",\"easy Jet<br>54725 Tweets/English\",\"easy Jet<br>54725 Tweets/Estonian\",\"easy Jet<br>54725 Tweets/French\",\"easy Jet<br>54725 Tweets/German\",\"easy Jet<br>54725 Tweets/Haitian Creole\",\"easy Jet<br>54725 Tweets/Hindi\",\"easy Jet<br>54725 Tweets/Hungarian\",\"easy Jet<br>54725 Tweets/Icelandic\",\"easy Jet<br>54725 Tweets/Indonesian\",\"easy Jet<br>54725 Tweets/Italian\",\"easy Jet<br>54725 Tweets/Japanese\",\"easy Jet<br>54725 Tweets/Lithuanian\",\"easy Jet<br>54725 Tweets/Norwegian\",\"easy Jet<br>54725 Tweets/Polish\",\"easy Jet<br>54725 Tweets/Portuguese\",\"easy Jet<br>54725 Tweets/Spanish\",\"easy Jet<br>54725 Tweets/Undetermined\",\"easy Jet<br>54725 Tweets/Vietnamese\",\"easy Jet<br>54725 Tweets/Welsh\",\"easy Jet<br>54725 Tweets\"],\"labels\":[\"1\",\"1\",\"1\",\"1\",\"1\",\"1\",\"1\",\"1\",\"3\",\"4\",\"5\",\"5\",\"19\",\"21\",\"79\",\"108\",\"289\",\"292\",\"507\",\"1614\",\"3348\",\"48423\",\"Catalan\",\"Czech\",\"Dutch\",\"English\",\"Estonian\",\"French\",\"German\",\"Haitian Creole\",\"Hindi\",\"Hungarian\",\"Icelandic\",\"Indonesian\",\"Italian\",\"Japanese\",\"Lithuanian\",\"Norwegian\",\"Polish\",\"Portuguese\",\"Spanish\",\"Undetermined\",\"Vietnamese\",\"Welsh\",\"easy Jet<br>54725 Tweets\"],\"marker\":{\"coloraxis\":\"coloraxis\",\"colors\":[1.0,1.0,1.0,1.0,1.0,1.0,1.0,1.0,3.0,4.0,5.0,5.0,19.0,21.0,79.0,108.0,289.0,292.0,507.0,1614.0,3348.0,48423.0,1.0,1.0,289.0,48423.0,5.0,3348.0,292.0,5.0,19.0,1.0,3.0,4.0,507.0,1.0,1.0,1.0,21.0,79.0,1614.0,108.0,1.0,1.0,43107.2755230699]},\"name\":\"\",\"parents\":[\"easy Jet<br>54725 Tweets/Catalan\",\"easy Jet<br>54725 Tweets/Czech\",\"easy Jet<br>54725 Tweets/Hungarian\",\"easy Jet<br>54725 Tweets/Japanese\",\"easy Jet<br>54725 Tweets/Lithuanian\",\"easy Jet<br>54725 Tweets/Norwegian\",\"easy Jet<br>54725 Tweets/Vietnamese\",\"easy Jet<br>54725 Tweets/Welsh\",\"easy Jet<br>54725 Tweets/Icelandic\",\"easy Jet<br>54725 Tweets/Indonesian\",\"easy Jet<br>54725 Tweets/Estonian\",\"easy Jet<br>54725 Tweets/Haitian Creole\",\"easy Jet<br>54725 Tweets/Hindi\",\"easy Jet<br>54725 Tweets/Polish\",\"easy Jet<br>54725 Tweets/Portuguese\",\"easy Jet<br>54725 Tweets/Undetermined\",\"easy Jet<br>54725 Tweets/Dutch\",\"easy Jet<br>54725 Tweets/German\",\"easy Jet<br>54725 Tweets/Italian\",\"easy Jet<br>54725 Tweets/Spanish\",\"easy Jet<br>54725 Tweets/French\",\"easy Jet<br>54725 Tweets/English\",\"easy Jet<br>54725 Tweets\",\"easy Jet<br>54725 Tweets\",\"easy Jet<br>54725 Tweets\",\"easy Jet<br>54725 Tweets\",\"easy Jet<br>54725 Tweets\",\"easy Jet<br>54725 Tweets\",\"easy Jet<br>54725 Tweets\",\"easy Jet<br>54725 Tweets\",\"easy Jet<br>54725 Tweets\",\"easy Jet<br>54725 Tweets\",\"easy Jet<br>54725 Tweets\",\"easy Jet<br>54725 Tweets\",\"easy Jet<br>54725 Tweets\",\"easy Jet<br>54725 Tweets\",\"easy Jet<br>54725 Tweets\",\"easy Jet<br>54725 Tweets\",\"easy Jet<br>54725 Tweets\",\"easy Jet<br>54725 Tweets\",\"easy Jet<br>54725 Tweets\",\"easy Jet<br>54725 Tweets\",\"easy Jet<br>54725 Tweets\",\"easy Jet<br>54725 Tweets\",\"\"],\"values\":[1,1,1,1,1,1,1,1,3,4,5,5,19,21,79,108,289,292,507,1614,3348,48423,1,1,289,48423,5,3348,292,5,19,1,3,4,507,1,1,1,21,79,1614,108,1,1,54725],\"type\":\"sunburst\"}],                        {\"template\":{\"data\":{\"histogram2dcontour\":[{\"type\":\"histogram2dcontour\",\"colorbar\":{\"outlinewidth\":0,\"ticks\":\"\"},\"colorscale\":[[0.0,\"#0d0887\"],[0.1111111111111111,\"#46039f\"],[0.2222222222222222,\"#7201a8\"],[0.3333333333333333,\"#9c179e\"],[0.4444444444444444,\"#bd3786\"],[0.5555555555555556,\"#d8576b\"],[0.6666666666666666,\"#ed7953\"],[0.7777777777777778,\"#fb9f3a\"],[0.8888888888888888,\"#fdca26\"],[1.0,\"#f0f921\"]]}],\"choropleth\":[{\"type\":\"choropleth\",\"colorbar\":{\"outlinewidth\":0,\"ticks\":\"\"}}],\"histogram2d\":[{\"type\":\"histogram2d\",\"colorbar\":{\"outlinewidth\":0,\"ticks\":\"\"},\"colorscale\":[[0.0,\"#0d0887\"],[0.1111111111111111,\"#46039f\"],[0.2222222222222222,\"#7201a8\"],[0.3333333333333333,\"#9c179e\"],[0.4444444444444444,\"#bd3786\"],[0.5555555555555556,\"#d8576b\"],[0.6666666666666666,\"#ed7953\"],[0.7777777777777778,\"#fb9f3a\"],[0.8888888888888888,\"#fdca26\"],[1.0,\"#f0f921\"]]}],\"heatmap\":[{\"type\":\"heatmap\",\"colorbar\":{\"outlinewidth\":0,\"ticks\":\"\"},\"colorscale\":[[0.0,\"#0d0887\"],[0.1111111111111111,\"#46039f\"],[0.2222222222222222,\"#7201a8\"],[0.3333333333333333,\"#9c179e\"],[0.4444444444444444,\"#bd3786\"],[0.5555555555555556,\"#d8576b\"],[0.6666666666666666,\"#ed7953\"],[0.7777777777777778,\"#fb9f3a\"],[0.8888888888888888,\"#fdca26\"],[1.0,\"#f0f921\"]]}],\"heatmapgl\":[{\"type\":\"heatmapgl\",\"colorbar\":{\"outlinewidth\":0,\"ticks\":\"\"},\"colorscale\":[[0.0,\"#0d0887\"],[0.1111111111111111,\"#46039f\"],[0.2222222222222222,\"#7201a8\"],[0.3333333333333333,\"#9c179e\"],[0.4444444444444444,\"#bd3786\"],[0.5555555555555556,\"#d8576b\"],[0.6666666666666666,\"#ed7953\"],[0.7777777777777778,\"#fb9f3a\"],[0.8888888888888888,\"#fdca26\"],[1.0,\"#f0f921\"]]}],\"contourcarpet\":[{\"type\":\"contourcarpet\",\"colorbar\":{\"outlinewidth\":0,\"ticks\":\"\"}}],\"contour\":[{\"type\":\"contour\",\"colorbar\":{\"outlinewidth\":0,\"ticks\":\"\"},\"colorscale\":[[0.0,\"#0d0887\"],[0.1111111111111111,\"#46039f\"],[0.2222222222222222,\"#7201a8\"],[0.3333333333333333,\"#9c179e\"],[0.4444444444444444,\"#bd3786\"],[0.5555555555555556,\"#d8576b\"],[0.6666666666666666,\"#ed7953\"],[0.7777777777777778,\"#fb9f3a\"],[0.8888888888888888,\"#fdca26\"],[1.0,\"#f0f921\"]]}],\"surface\":[{\"type\":\"surface\",\"colorbar\":{\"outlinewidth\":0,\"ticks\":\"\"},\"colorscale\":[[0.0,\"#0d0887\"],[0.1111111111111111,\"#46039f\"],[0.2222222222222222,\"#7201a8\"],[0.3333333333333333,\"#9c179e\"],[0.4444444444444444,\"#bd3786\"],[0.5555555555555556,\"#d8576b\"],[0.6666666666666666,\"#ed7953\"],[0.7777777777777778,\"#fb9f3a\"],[0.8888888888888888,\"#fdca26\"],[1.0,\"#f0f921\"]]}],\"mesh3d\":[{\"type\":\"mesh3d\",\"colorbar\":{\"outlinewidth\":0,\"ticks\":\"\"}}],\"scatter\":[{\"fillpattern\":{\"fillmode\":\"overlay\",\"size\":10,\"solidity\":0.2},\"type\":\"scatter\"}],\"parcoords\":[{\"type\":\"parcoords\",\"line\":{\"colorbar\":{\"outlinewidth\":0,\"ticks\":\"\"}}}],\"scatterpolargl\":[{\"type\":\"scatterpolargl\",\"marker\":{\"colorbar\":{\"outlinewidth\":0,\"ticks\":\"\"}}}],\"bar\":[{\"error_x\":{\"color\":\"#2a3f5f\"},\"error_y\":{\"color\":\"#2a3f5f\"},\"marker\":{\"line\":{\"color\":\"#E5ECF6\",\"width\":0.5},\"pattern\":{\"fillmode\":\"overlay\",\"size\":10,\"solidity\":0.2}},\"type\":\"bar\"}],\"scattergeo\":[{\"type\":\"scattergeo\",\"marker\":{\"colorbar\":{\"outlinewidth\":0,\"ticks\":\"\"}}}],\"scatterpolar\":[{\"type\":\"scatterpolar\",\"marker\":{\"colorbar\":{\"outlinewidth\":0,\"ticks\":\"\"}}}],\"histogram\":[{\"marker\":{\"pattern\":{\"fillmode\":\"overlay\",\"size\":10,\"solidity\":0.2}},\"type\":\"histogram\"}],\"scattergl\":[{\"type\":\"scattergl\",\"marker\":{\"colorbar\":{\"outlinewidth\":0,\"ticks\":\"\"}}}],\"scatter3d\":[{\"type\":\"scatter3d\",\"line\":{\"colorbar\":{\"outlinewidth\":0,\"ticks\":\"\"}},\"marker\":{\"colorbar\":{\"outlinewidth\":0,\"ticks\":\"\"}}}],\"scattermapbox\":[{\"type\":\"scattermapbox\",\"marker\":{\"colorbar\":{\"outlinewidth\":0,\"ticks\":\"\"}}}],\"scatterternary\":[{\"type\":\"scatterternary\",\"marker\":{\"colorbar\":{\"outlinewidth\":0,\"ticks\":\"\"}}}],\"scattercarpet\":[{\"type\":\"scattercarpet\",\"marker\":{\"colorbar\":{\"outlinewidth\":0,\"ticks\":\"\"}}}],\"carpet\":[{\"aaxis\":{\"endlinecolor\":\"#2a3f5f\",\"gridcolor\":\"white\",\"linecolor\":\"white\",\"minorgridcolor\":\"white\",\"startlinecolor\":\"#2a3f5f\"},\"baxis\":{\"endlinecolor\":\"#2a3f5f\",\"gridcolor\":\"white\",\"linecolor\":\"white\",\"minorgridcolor\":\"white\",\"startlinecolor\":\"#2a3f5f\"},\"type\":\"carpet\"}],\"table\":[{\"cells\":{\"fill\":{\"color\":\"#EBF0F8\"},\"line\":{\"color\":\"white\"}},\"header\":{\"fill\":{\"color\":\"#C8D4E3\"},\"line\":{\"color\":\"white\"}},\"type\":\"table\"}],\"barpolar\":[{\"marker\":{\"line\":{\"color\":\"#E5ECF6\",\"width\":0.5},\"pattern\":{\"fillmode\":\"overlay\",\"size\":10,\"solidity\":0.2}},\"type\":\"barpolar\"}],\"pie\":[{\"automargin\":true,\"type\":\"pie\"}]},\"layout\":{\"autotypenumbers\":\"strict\",\"colorway\":[\"#636efa\",\"#EF553B\",\"#00cc96\",\"#ab63fa\",\"#FFA15A\",\"#19d3f3\",\"#FF6692\",\"#B6E880\",\"#FF97FF\",\"#FECB52\"],\"font\":{\"color\":\"#2a3f5f\"},\"hovermode\":\"closest\",\"hoverlabel\":{\"align\":\"left\"},\"paper_bgcolor\":\"white\",\"plot_bgcolor\":\"#E5ECF6\",\"polar\":{\"bgcolor\":\"#E5ECF6\",\"angularaxis\":{\"gridcolor\":\"white\",\"linecolor\":\"white\",\"ticks\":\"\"},\"radialaxis\":{\"gridcolor\":\"white\",\"linecolor\":\"white\",\"ticks\":\"\"}},\"ternary\":{\"bgcolor\":\"#E5ECF6\",\"aaxis\":{\"gridcolor\":\"white\",\"linecolor\":\"white\",\"ticks\":\"\"},\"baxis\":{\"gridcolor\":\"white\",\"linecolor\":\"white\",\"ticks\":\"\"},\"caxis\":{\"gridcolor\":\"white\",\"linecolor\":\"white\",\"ticks\":\"\"}},\"coloraxis\":{\"colorbar\":{\"outlinewidth\":0,\"ticks\":\"\"}},\"colorscale\":{\"sequential\":[[0.0,\"#0d0887\"],[0.1111111111111111,\"#46039f\"],[0.2222222222222222,\"#7201a8\"],[0.3333333333333333,\"#9c179e\"],[0.4444444444444444,\"#bd3786\"],[0.5555555555555556,\"#d8576b\"],[0.6666666666666666,\"#ed7953\"],[0.7777777777777778,\"#fb9f3a\"],[0.8888888888888888,\"#fdca26\"],[1.0,\"#f0f921\"]],\"sequentialminus\":[[0.0,\"#0d0887\"],[0.1111111111111111,\"#46039f\"],[0.2222222222222222,\"#7201a8\"],[0.3333333333333333,\"#9c179e\"],[0.4444444444444444,\"#bd3786\"],[0.5555555555555556,\"#d8576b\"],[0.6666666666666666,\"#ed7953\"],[0.7777777777777778,\"#fb9f3a\"],[0.8888888888888888,\"#fdca26\"],[1.0,\"#f0f921\"]],\"diverging\":[[0,\"#8e0152\"],[0.1,\"#c51b7d\"],[0.2,\"#de77ae\"],[0.3,\"#f1b6da\"],[0.4,\"#fde0ef\"],[0.5,\"#f7f7f7\"],[0.6,\"#e6f5d0\"],[0.7,\"#b8e186\"],[0.8,\"#7fbc41\"],[0.9,\"#4d9221\"],[1,\"#276419\"]]},\"xaxis\":{\"gridcolor\":\"white\",\"linecolor\":\"white\",\"ticks\":\"\",\"title\":{\"standoff\":15},\"zerolinecolor\":\"white\",\"automargin\":true,\"zerolinewidth\":2},\"yaxis\":{\"gridcolor\":\"white\",\"linecolor\":\"white\",\"ticks\":\"\",\"title\":{\"standoff\":15},\"zerolinecolor\":\"white\",\"automargin\":true,\"zerolinewidth\":2},\"scene\":{\"xaxis\":{\"backgroundcolor\":\"#E5ECF6\",\"gridcolor\":\"white\",\"linecolor\":\"white\",\"showbackground\":true,\"ticks\":\"\",\"zerolinecolor\":\"white\",\"gridwidth\":2},\"yaxis\":{\"backgroundcolor\":\"#E5ECF6\",\"gridcolor\":\"white\",\"linecolor\":\"white\",\"showbackground\":true,\"ticks\":\"\",\"zerolinecolor\":\"white\",\"gridwidth\":2},\"zaxis\":{\"backgroundcolor\":\"#E5ECF6\",\"gridcolor\":\"white\",\"linecolor\":\"white\",\"showbackground\":true,\"ticks\":\"\",\"zerolinecolor\":\"white\",\"gridwidth\":2}},\"shapedefaults\":{\"line\":{\"color\":\"#2a3f5f\"}},\"annotationdefaults\":{\"arrowcolor\":\"#2a3f5f\",\"arrowhead\":0,\"arrowwidth\":1},\"geo\":{\"bgcolor\":\"white\",\"landcolor\":\"#E5ECF6\",\"subunitcolor\":\"white\",\"showland\":true,\"showlakes\":true,\"lakecolor\":\"white\"},\"title\":{\"x\":0.05},\"mapbox\":{\"style\":\"light\"}}},\"coloraxis\":{\"colorbar\":{\"title\":{\"text\":\"count\"}},\"colorscale\":[[0.0,\"rgb(103,0,31)\"],[0.1,\"rgb(178,24,43)\"],[0.2,\"rgb(214,96,77)\"],[0.3,\"rgb(244,165,130)\"],[0.4,\"rgb(253,219,199)\"],[0.5,\"rgb(247,247,247)\"],[0.6,\"rgb(209,229,240)\"],[0.7,\"rgb(146,197,222)\"],[0.8,\"rgb(67,147,195)\"],[0.9,\"rgb(33,102,172)\"],[1.0,\"rgb(5,48,97)\"]],\"cmid\":71704.7076933436},\"legend\":{\"tracegroupgap\":0},\"margin\":{\"t\":60},\"height\":900,\"width\":900},                        {\"responsive\": true}                    ).then(function(){\n",
       "                            \n",
       "var gd = document.getElementById('c27fb6a0-0ec6-4e35-94c3-4fee1c9c1591');\n",
       "var x = new MutationObserver(function (mutations, observer) {{\n",
       "        var display = window.getComputedStyle(gd).display;\n",
       "        if (!display || display === 'none') {{\n",
       "            console.log([gd, 'removed!']);\n",
       "            Plotly.purge(gd);\n",
       "            observer.disconnect();\n",
       "        }}\n",
       "}});\n",
       "\n",
       "// Listen for the removal of the full notebook cells\n",
       "var notebookContainer = gd.closest('#notebook-container');\n",
       "if (notebookContainer) {{\n",
       "    x.observe(notebookContainer, {childList: true});\n",
       "}}\n",
       "\n",
       "// Listen for the clearing of the current output cell\n",
       "var outputEl = gd.closest('.output');\n",
       "if (outputEl) {{\n",
       "    x.observe(outputEl, {childList: true});\n",
       "}}\n",
       "\n",
       "                        })                };                });            </script>        </div>"
      ]
     },
     "metadata": {},
     "output_type": "display_data"
    },
    {
     "data": {
      "application/vnd.plotly.v1+json": {
       "config": {
        "plotlyServerURL": "https://plot.ly"
       },
       "data": [
        {
         "branchvalues": "total",
         "customdata": [
          [
           1
          ],
          [
           1
          ],
          [
           2
          ],
          [
           2
          ],
          [
           2
          ],
          [
           3
          ],
          [
           7
          ],
          [
           9
          ],
          [
           100
          ],
          [
           115
          ],
          [
           152
          ],
          [
           162
          ],
          [
           270
          ],
          [
           419
          ],
          [
           1239
          ],
          [
           8826
          ],
          [
           22941
          ],
          [
           2
          ],
          [
           8826
          ],
          [
           22941
          ],
          [
           9
          ],
          [
           162
          ],
          [
           419
          ],
          [
           3
          ],
          [
           115
          ],
          [
           152
          ],
          [
           1
          ],
          [
           2
          ],
          [
           270
          ],
          [
           1239
          ],
          [
           2
          ],
          [
           100
          ],
          [
           1
          ],
          [
           7
          ],
          [
           17694.20060728154
          ]
         ],
         "domain": {
          "x": [
           0,
           1
          ],
          "y": [
           0,
           1
          ]
         },
         "hovertemplate": "labels=%{label}<br>count_sum=%{value}<br>parent=%{parent}<br>id=%{id}<br>count=%{color}<extra></extra>",
         "ids": [
          "KLM<br>34251 Tweets/Latvian/1",
          "KLM<br>34251 Tweets/Welsh/1",
          "KLM<br>34251 Tweets/Danish/2",
          "KLM<br>34251 Tweets/Norwegian/2",
          "KLM<br>34251 Tweets/Tagalog/2",
          "KLM<br>34251 Tweets/Indonesian/3",
          "KLM<br>34251 Tweets/zh/7",
          "KLM<br>34251 Tweets/Estonian/9",
          "KLM<br>34251 Tweets/Undetermined/100",
          "KLM<br>34251 Tweets/Italian/115",
          "KLM<br>34251 Tweets/Japanese/152",
          "KLM<br>34251 Tweets/French/162",
          "KLM<br>34251 Tweets/Portuguese/270",
          "KLM<br>34251 Tweets/German/419",
          "KLM<br>34251 Tweets/Spanish/1239",
          "KLM<br>34251 Tweets/Dutch/8826",
          "KLM<br>34251 Tweets/English/22941",
          "KLM<br>34251 Tweets/Danish",
          "KLM<br>34251 Tweets/Dutch",
          "KLM<br>34251 Tweets/English",
          "KLM<br>34251 Tweets/Estonian",
          "KLM<br>34251 Tweets/French",
          "KLM<br>34251 Tweets/German",
          "KLM<br>34251 Tweets/Indonesian",
          "KLM<br>34251 Tweets/Italian",
          "KLM<br>34251 Tweets/Japanese",
          "KLM<br>34251 Tweets/Latvian",
          "KLM<br>34251 Tweets/Norwegian",
          "KLM<br>34251 Tweets/Portuguese",
          "KLM<br>34251 Tweets/Spanish",
          "KLM<br>34251 Tweets/Tagalog",
          "KLM<br>34251 Tweets/Undetermined",
          "KLM<br>34251 Tweets/Welsh",
          "KLM<br>34251 Tweets/zh",
          "KLM<br>34251 Tweets"
         ],
         "labels": [
          "1",
          "1",
          "2",
          "2",
          "2",
          "3",
          "7",
          "9",
          "100",
          "115",
          "152",
          "162",
          "270",
          "419",
          "1239",
          "8826",
          "22941",
          "Danish",
          "Dutch",
          "English",
          "Estonian",
          "French",
          "German",
          "Indonesian",
          "Italian",
          "Japanese",
          "Latvian",
          "Norwegian",
          "Portuguese",
          "Spanish",
          "Tagalog",
          "Undetermined",
          "Welsh",
          "zh",
          "KLM<br>34251 Tweets"
         ],
         "marker": {
          "coloraxis": "coloraxis",
          "colors": [
           1,
           1,
           2,
           2,
           2,
           3,
           7,
           9,
           100,
           115,
           152,
           162,
           270,
           419,
           1239,
           8826,
           22941,
           2,
           8826,
           22941,
           9,
           162,
           419,
           3,
           115,
           152,
           1,
           2,
           270,
           1239,
           2,
           100,
           1,
           7,
           17694.20060728154
          ]
         },
         "name": "",
         "parents": [
          "KLM<br>34251 Tweets/Latvian",
          "KLM<br>34251 Tweets/Welsh",
          "KLM<br>34251 Tweets/Danish",
          "KLM<br>34251 Tweets/Norwegian",
          "KLM<br>34251 Tweets/Tagalog",
          "KLM<br>34251 Tweets/Indonesian",
          "KLM<br>34251 Tweets/zh",
          "KLM<br>34251 Tweets/Estonian",
          "KLM<br>34251 Tweets/Undetermined",
          "KLM<br>34251 Tweets/Italian",
          "KLM<br>34251 Tweets/Japanese",
          "KLM<br>34251 Tweets/French",
          "KLM<br>34251 Tweets/Portuguese",
          "KLM<br>34251 Tweets/German",
          "KLM<br>34251 Tweets/Spanish",
          "KLM<br>34251 Tweets/Dutch",
          "KLM<br>34251 Tweets/English",
          "KLM<br>34251 Tweets",
          "KLM<br>34251 Tweets",
          "KLM<br>34251 Tweets",
          "KLM<br>34251 Tweets",
          "KLM<br>34251 Tweets",
          "KLM<br>34251 Tweets",
          "KLM<br>34251 Tweets",
          "KLM<br>34251 Tweets",
          "KLM<br>34251 Tweets",
          "KLM<br>34251 Tweets",
          "KLM<br>34251 Tweets",
          "KLM<br>34251 Tweets",
          "KLM<br>34251 Tweets",
          "KLM<br>34251 Tweets",
          "KLM<br>34251 Tweets",
          "KLM<br>34251 Tweets",
          "KLM<br>34251 Tweets",
          ""
         ],
         "type": "sunburst",
         "values": [
          1,
          1,
          2,
          2,
          2,
          3,
          7,
          9,
          100,
          115,
          152,
          162,
          270,
          419,
          1239,
          8826,
          22941,
          2,
          8826,
          22941,
          9,
          162,
          419,
          3,
          115,
          152,
          1,
          2,
          270,
          1239,
          2,
          100,
          1,
          7,
          34251
         ]
        }
       ],
       "layout": {
        "coloraxis": {
         "cmid": 71704.7076933436,
         "colorbar": {
          "title": {
           "text": "count"
          }
         },
         "colorscale": [
          [
           0,
           "rgb(103,0,31)"
          ],
          [
           0.1,
           "rgb(178,24,43)"
          ],
          [
           0.2,
           "rgb(214,96,77)"
          ],
          [
           0.3,
           "rgb(244,165,130)"
          ],
          [
           0.4,
           "rgb(253,219,199)"
          ],
          [
           0.5,
           "rgb(247,247,247)"
          ],
          [
           0.6,
           "rgb(209,229,240)"
          ],
          [
           0.7,
           "rgb(146,197,222)"
          ],
          [
           0.8,
           "rgb(67,147,195)"
          ],
          [
           0.9,
           "rgb(33,102,172)"
          ],
          [
           1,
           "rgb(5,48,97)"
          ]
         ]
        },
        "height": 900,
        "legend": {
         "tracegroupgap": 0
        },
        "margin": {
         "t": 60
        },
        "template": {
         "data": {
          "bar": [
           {
            "error_x": {
             "color": "#2a3f5f"
            },
            "error_y": {
             "color": "#2a3f5f"
            },
            "marker": {
             "line": {
              "color": "#E5ECF6",
              "width": 0.5
             },
             "pattern": {
              "fillmode": "overlay",
              "size": 10,
              "solidity": 0.2
             }
            },
            "type": "bar"
           }
          ],
          "barpolar": [
           {
            "marker": {
             "line": {
              "color": "#E5ECF6",
              "width": 0.5
             },
             "pattern": {
              "fillmode": "overlay",
              "size": 10,
              "solidity": 0.2
             }
            },
            "type": "barpolar"
           }
          ],
          "carpet": [
           {
            "aaxis": {
             "endlinecolor": "#2a3f5f",
             "gridcolor": "white",
             "linecolor": "white",
             "minorgridcolor": "white",
             "startlinecolor": "#2a3f5f"
            },
            "baxis": {
             "endlinecolor": "#2a3f5f",
             "gridcolor": "white",
             "linecolor": "white",
             "minorgridcolor": "white",
             "startlinecolor": "#2a3f5f"
            },
            "type": "carpet"
           }
          ],
          "choropleth": [
           {
            "colorbar": {
             "outlinewidth": 0,
             "ticks": ""
            },
            "type": "choropleth"
           }
          ],
          "contour": [
           {
            "colorbar": {
             "outlinewidth": 0,
             "ticks": ""
            },
            "colorscale": [
             [
              0,
              "#0d0887"
             ],
             [
              0.1111111111111111,
              "#46039f"
             ],
             [
              0.2222222222222222,
              "#7201a8"
             ],
             [
              0.3333333333333333,
              "#9c179e"
             ],
             [
              0.4444444444444444,
              "#bd3786"
             ],
             [
              0.5555555555555556,
              "#d8576b"
             ],
             [
              0.6666666666666666,
              "#ed7953"
             ],
             [
              0.7777777777777778,
              "#fb9f3a"
             ],
             [
              0.8888888888888888,
              "#fdca26"
             ],
             [
              1,
              "#f0f921"
             ]
            ],
            "type": "contour"
           }
          ],
          "contourcarpet": [
           {
            "colorbar": {
             "outlinewidth": 0,
             "ticks": ""
            },
            "type": "contourcarpet"
           }
          ],
          "heatmap": [
           {
            "colorbar": {
             "outlinewidth": 0,
             "ticks": ""
            },
            "colorscale": [
             [
              0,
              "#0d0887"
             ],
             [
              0.1111111111111111,
              "#46039f"
             ],
             [
              0.2222222222222222,
              "#7201a8"
             ],
             [
              0.3333333333333333,
              "#9c179e"
             ],
             [
              0.4444444444444444,
              "#bd3786"
             ],
             [
              0.5555555555555556,
              "#d8576b"
             ],
             [
              0.6666666666666666,
              "#ed7953"
             ],
             [
              0.7777777777777778,
              "#fb9f3a"
             ],
             [
              0.8888888888888888,
              "#fdca26"
             ],
             [
              1,
              "#f0f921"
             ]
            ],
            "type": "heatmap"
           }
          ],
          "heatmapgl": [
           {
            "colorbar": {
             "outlinewidth": 0,
             "ticks": ""
            },
            "colorscale": [
             [
              0,
              "#0d0887"
             ],
             [
              0.1111111111111111,
              "#46039f"
             ],
             [
              0.2222222222222222,
              "#7201a8"
             ],
             [
              0.3333333333333333,
              "#9c179e"
             ],
             [
              0.4444444444444444,
              "#bd3786"
             ],
             [
              0.5555555555555556,
              "#d8576b"
             ],
             [
              0.6666666666666666,
              "#ed7953"
             ],
             [
              0.7777777777777778,
              "#fb9f3a"
             ],
             [
              0.8888888888888888,
              "#fdca26"
             ],
             [
              1,
              "#f0f921"
             ]
            ],
            "type": "heatmapgl"
           }
          ],
          "histogram": [
           {
            "marker": {
             "pattern": {
              "fillmode": "overlay",
              "size": 10,
              "solidity": 0.2
             }
            },
            "type": "histogram"
           }
          ],
          "histogram2d": [
           {
            "colorbar": {
             "outlinewidth": 0,
             "ticks": ""
            },
            "colorscale": [
             [
              0,
              "#0d0887"
             ],
             [
              0.1111111111111111,
              "#46039f"
             ],
             [
              0.2222222222222222,
              "#7201a8"
             ],
             [
              0.3333333333333333,
              "#9c179e"
             ],
             [
              0.4444444444444444,
              "#bd3786"
             ],
             [
              0.5555555555555556,
              "#d8576b"
             ],
             [
              0.6666666666666666,
              "#ed7953"
             ],
             [
              0.7777777777777778,
              "#fb9f3a"
             ],
             [
              0.8888888888888888,
              "#fdca26"
             ],
             [
              1,
              "#f0f921"
             ]
            ],
            "type": "histogram2d"
           }
          ],
          "histogram2dcontour": [
           {
            "colorbar": {
             "outlinewidth": 0,
             "ticks": ""
            },
            "colorscale": [
             [
              0,
              "#0d0887"
             ],
             [
              0.1111111111111111,
              "#46039f"
             ],
             [
              0.2222222222222222,
              "#7201a8"
             ],
             [
              0.3333333333333333,
              "#9c179e"
             ],
             [
              0.4444444444444444,
              "#bd3786"
             ],
             [
              0.5555555555555556,
              "#d8576b"
             ],
             [
              0.6666666666666666,
              "#ed7953"
             ],
             [
              0.7777777777777778,
              "#fb9f3a"
             ],
             [
              0.8888888888888888,
              "#fdca26"
             ],
             [
              1,
              "#f0f921"
             ]
            ],
            "type": "histogram2dcontour"
           }
          ],
          "mesh3d": [
           {
            "colorbar": {
             "outlinewidth": 0,
             "ticks": ""
            },
            "type": "mesh3d"
           }
          ],
          "parcoords": [
           {
            "line": {
             "colorbar": {
              "outlinewidth": 0,
              "ticks": ""
             }
            },
            "type": "parcoords"
           }
          ],
          "pie": [
           {
            "automargin": true,
            "type": "pie"
           }
          ],
          "scatter": [
           {
            "fillpattern": {
             "fillmode": "overlay",
             "size": 10,
             "solidity": 0.2
            },
            "type": "scatter"
           }
          ],
          "scatter3d": [
           {
            "line": {
             "colorbar": {
              "outlinewidth": 0,
              "ticks": ""
             }
            },
            "marker": {
             "colorbar": {
              "outlinewidth": 0,
              "ticks": ""
             }
            },
            "type": "scatter3d"
           }
          ],
          "scattercarpet": [
           {
            "marker": {
             "colorbar": {
              "outlinewidth": 0,
              "ticks": ""
             }
            },
            "type": "scattercarpet"
           }
          ],
          "scattergeo": [
           {
            "marker": {
             "colorbar": {
              "outlinewidth": 0,
              "ticks": ""
             }
            },
            "type": "scattergeo"
           }
          ],
          "scattergl": [
           {
            "marker": {
             "colorbar": {
              "outlinewidth": 0,
              "ticks": ""
             }
            },
            "type": "scattergl"
           }
          ],
          "scattermapbox": [
           {
            "marker": {
             "colorbar": {
              "outlinewidth": 0,
              "ticks": ""
             }
            },
            "type": "scattermapbox"
           }
          ],
          "scatterpolar": [
           {
            "marker": {
             "colorbar": {
              "outlinewidth": 0,
              "ticks": ""
             }
            },
            "type": "scatterpolar"
           }
          ],
          "scatterpolargl": [
           {
            "marker": {
             "colorbar": {
              "outlinewidth": 0,
              "ticks": ""
             }
            },
            "type": "scatterpolargl"
           }
          ],
          "scatterternary": [
           {
            "marker": {
             "colorbar": {
              "outlinewidth": 0,
              "ticks": ""
             }
            },
            "type": "scatterternary"
           }
          ],
          "surface": [
           {
            "colorbar": {
             "outlinewidth": 0,
             "ticks": ""
            },
            "colorscale": [
             [
              0,
              "#0d0887"
             ],
             [
              0.1111111111111111,
              "#46039f"
             ],
             [
              0.2222222222222222,
              "#7201a8"
             ],
             [
              0.3333333333333333,
              "#9c179e"
             ],
             [
              0.4444444444444444,
              "#bd3786"
             ],
             [
              0.5555555555555556,
              "#d8576b"
             ],
             [
              0.6666666666666666,
              "#ed7953"
             ],
             [
              0.7777777777777778,
              "#fb9f3a"
             ],
             [
              0.8888888888888888,
              "#fdca26"
             ],
             [
              1,
              "#f0f921"
             ]
            ],
            "type": "surface"
           }
          ],
          "table": [
           {
            "cells": {
             "fill": {
              "color": "#EBF0F8"
             },
             "line": {
              "color": "white"
             }
            },
            "header": {
             "fill": {
              "color": "#C8D4E3"
             },
             "line": {
              "color": "white"
             }
            },
            "type": "table"
           }
          ]
         },
         "layout": {
          "annotationdefaults": {
           "arrowcolor": "#2a3f5f",
           "arrowhead": 0,
           "arrowwidth": 1
          },
          "autotypenumbers": "strict",
          "coloraxis": {
           "colorbar": {
            "outlinewidth": 0,
            "ticks": ""
           }
          },
          "colorscale": {
           "diverging": [
            [
             0,
             "#8e0152"
            ],
            [
             0.1,
             "#c51b7d"
            ],
            [
             0.2,
             "#de77ae"
            ],
            [
             0.3,
             "#f1b6da"
            ],
            [
             0.4,
             "#fde0ef"
            ],
            [
             0.5,
             "#f7f7f7"
            ],
            [
             0.6,
             "#e6f5d0"
            ],
            [
             0.7,
             "#b8e186"
            ],
            [
             0.8,
             "#7fbc41"
            ],
            [
             0.9,
             "#4d9221"
            ],
            [
             1,
             "#276419"
            ]
           ],
           "sequential": [
            [
             0,
             "#0d0887"
            ],
            [
             0.1111111111111111,
             "#46039f"
            ],
            [
             0.2222222222222222,
             "#7201a8"
            ],
            [
             0.3333333333333333,
             "#9c179e"
            ],
            [
             0.4444444444444444,
             "#bd3786"
            ],
            [
             0.5555555555555556,
             "#d8576b"
            ],
            [
             0.6666666666666666,
             "#ed7953"
            ],
            [
             0.7777777777777778,
             "#fb9f3a"
            ],
            [
             0.8888888888888888,
             "#fdca26"
            ],
            [
             1,
             "#f0f921"
            ]
           ],
           "sequentialminus": [
            [
             0,
             "#0d0887"
            ],
            [
             0.1111111111111111,
             "#46039f"
            ],
            [
             0.2222222222222222,
             "#7201a8"
            ],
            [
             0.3333333333333333,
             "#9c179e"
            ],
            [
             0.4444444444444444,
             "#bd3786"
            ],
            [
             0.5555555555555556,
             "#d8576b"
            ],
            [
             0.6666666666666666,
             "#ed7953"
            ],
            [
             0.7777777777777778,
             "#fb9f3a"
            ],
            [
             0.8888888888888888,
             "#fdca26"
            ],
            [
             1,
             "#f0f921"
            ]
           ]
          },
          "colorway": [
           "#636efa",
           "#EF553B",
           "#00cc96",
           "#ab63fa",
           "#FFA15A",
           "#19d3f3",
           "#FF6692",
           "#B6E880",
           "#FF97FF",
           "#FECB52"
          ],
          "font": {
           "color": "#2a3f5f"
          },
          "geo": {
           "bgcolor": "white",
           "lakecolor": "white",
           "landcolor": "#E5ECF6",
           "showlakes": true,
           "showland": true,
           "subunitcolor": "white"
          },
          "hoverlabel": {
           "align": "left"
          },
          "hovermode": "closest",
          "mapbox": {
           "style": "light"
          },
          "paper_bgcolor": "white",
          "plot_bgcolor": "#E5ECF6",
          "polar": {
           "angularaxis": {
            "gridcolor": "white",
            "linecolor": "white",
            "ticks": ""
           },
           "bgcolor": "#E5ECF6",
           "radialaxis": {
            "gridcolor": "white",
            "linecolor": "white",
            "ticks": ""
           }
          },
          "scene": {
           "xaxis": {
            "backgroundcolor": "#E5ECF6",
            "gridcolor": "white",
            "gridwidth": 2,
            "linecolor": "white",
            "showbackground": true,
            "ticks": "",
            "zerolinecolor": "white"
           },
           "yaxis": {
            "backgroundcolor": "#E5ECF6",
            "gridcolor": "white",
            "gridwidth": 2,
            "linecolor": "white",
            "showbackground": true,
            "ticks": "",
            "zerolinecolor": "white"
           },
           "zaxis": {
            "backgroundcolor": "#E5ECF6",
            "gridcolor": "white",
            "gridwidth": 2,
            "linecolor": "white",
            "showbackground": true,
            "ticks": "",
            "zerolinecolor": "white"
           }
          },
          "shapedefaults": {
           "line": {
            "color": "#2a3f5f"
           }
          },
          "ternary": {
           "aaxis": {
            "gridcolor": "white",
            "linecolor": "white",
            "ticks": ""
           },
           "baxis": {
            "gridcolor": "white",
            "linecolor": "white",
            "ticks": ""
           },
           "bgcolor": "#E5ECF6",
           "caxis": {
            "gridcolor": "white",
            "linecolor": "white",
            "ticks": ""
           }
          },
          "title": {
           "x": 0.05
          },
          "xaxis": {
           "automargin": true,
           "gridcolor": "white",
           "linecolor": "white",
           "ticks": "",
           "title": {
            "standoff": 15
           },
           "zerolinecolor": "white",
           "zerolinewidth": 2
          },
          "yaxis": {
           "automargin": true,
           "gridcolor": "white",
           "linecolor": "white",
           "ticks": "",
           "title": {
            "standoff": 15
           },
           "zerolinecolor": "white",
           "zerolinewidth": 2
          }
         }
        },
        "width": 900
       }
      },
      "text/html": [
       "<div>                            <div id=\"16b920f4-004f-4c04-9d42-397e5e313abe\" class=\"plotly-graph-div\" style=\"height:900px; width:900px;\"></div>            <script type=\"text/javascript\">                require([\"plotly\"], function(Plotly) {                    window.PLOTLYENV=window.PLOTLYENV || {};                                    if (document.getElementById(\"16b920f4-004f-4c04-9d42-397e5e313abe\")) {                    Plotly.newPlot(                        \"16b920f4-004f-4c04-9d42-397e5e313abe\",                        [{\"branchvalues\":\"total\",\"customdata\":[[1.0],[1.0],[2.0],[2.0],[2.0],[3.0],[7.0],[9.0],[100.0],[115.0],[152.0],[162.0],[270.0],[419.0],[1239.0],[8826.0],[22941.0],[2.0],[8826.0],[22941.0],[9.0],[162.0],[419.0],[3.0],[115.0],[152.0],[1.0],[2.0],[270.0],[1239.0],[2.0],[100.0],[1.0],[7.0],[17694.20060728154]],\"domain\":{\"x\":[0.0,1.0],\"y\":[0.0,1.0]},\"hovertemplate\":\"labels=%{label}<br>count_sum=%{value}<br>parent=%{parent}<br>id=%{id}<br>count=%{color}<extra></extra>\",\"ids\":[\"KLM<br>34251 Tweets/Latvian/1\",\"KLM<br>34251 Tweets/Welsh/1\",\"KLM<br>34251 Tweets/Danish/2\",\"KLM<br>34251 Tweets/Norwegian/2\",\"KLM<br>34251 Tweets/Tagalog/2\",\"KLM<br>34251 Tweets/Indonesian/3\",\"KLM<br>34251 Tweets/zh/7\",\"KLM<br>34251 Tweets/Estonian/9\",\"KLM<br>34251 Tweets/Undetermined/100\",\"KLM<br>34251 Tweets/Italian/115\",\"KLM<br>34251 Tweets/Japanese/152\",\"KLM<br>34251 Tweets/French/162\",\"KLM<br>34251 Tweets/Portuguese/270\",\"KLM<br>34251 Tweets/German/419\",\"KLM<br>34251 Tweets/Spanish/1239\",\"KLM<br>34251 Tweets/Dutch/8826\",\"KLM<br>34251 Tweets/English/22941\",\"KLM<br>34251 Tweets/Danish\",\"KLM<br>34251 Tweets/Dutch\",\"KLM<br>34251 Tweets/English\",\"KLM<br>34251 Tweets/Estonian\",\"KLM<br>34251 Tweets/French\",\"KLM<br>34251 Tweets/German\",\"KLM<br>34251 Tweets/Indonesian\",\"KLM<br>34251 Tweets/Italian\",\"KLM<br>34251 Tweets/Japanese\",\"KLM<br>34251 Tweets/Latvian\",\"KLM<br>34251 Tweets/Norwegian\",\"KLM<br>34251 Tweets/Portuguese\",\"KLM<br>34251 Tweets/Spanish\",\"KLM<br>34251 Tweets/Tagalog\",\"KLM<br>34251 Tweets/Undetermined\",\"KLM<br>34251 Tweets/Welsh\",\"KLM<br>34251 Tweets/zh\",\"KLM<br>34251 Tweets\"],\"labels\":[\"1\",\"1\",\"2\",\"2\",\"2\",\"3\",\"7\",\"9\",\"100\",\"115\",\"152\",\"162\",\"270\",\"419\",\"1239\",\"8826\",\"22941\",\"Danish\",\"Dutch\",\"English\",\"Estonian\",\"French\",\"German\",\"Indonesian\",\"Italian\",\"Japanese\",\"Latvian\",\"Norwegian\",\"Portuguese\",\"Spanish\",\"Tagalog\",\"Undetermined\",\"Welsh\",\"zh\",\"KLM<br>34251 Tweets\"],\"marker\":{\"coloraxis\":\"coloraxis\",\"colors\":[1.0,1.0,2.0,2.0,2.0,3.0,7.0,9.0,100.0,115.0,152.0,162.0,270.0,419.0,1239.0,8826.0,22941.0,2.0,8826.0,22941.0,9.0,162.0,419.0,3.0,115.0,152.0,1.0,2.0,270.0,1239.0,2.0,100.0,1.0,7.0,17694.20060728154]},\"name\":\"\",\"parents\":[\"KLM<br>34251 Tweets/Latvian\",\"KLM<br>34251 Tweets/Welsh\",\"KLM<br>34251 Tweets/Danish\",\"KLM<br>34251 Tweets/Norwegian\",\"KLM<br>34251 Tweets/Tagalog\",\"KLM<br>34251 Tweets/Indonesian\",\"KLM<br>34251 Tweets/zh\",\"KLM<br>34251 Tweets/Estonian\",\"KLM<br>34251 Tweets/Undetermined\",\"KLM<br>34251 Tweets/Italian\",\"KLM<br>34251 Tweets/Japanese\",\"KLM<br>34251 Tweets/French\",\"KLM<br>34251 Tweets/Portuguese\",\"KLM<br>34251 Tweets/German\",\"KLM<br>34251 Tweets/Spanish\",\"KLM<br>34251 Tweets/Dutch\",\"KLM<br>34251 Tweets/English\",\"KLM<br>34251 Tweets\",\"KLM<br>34251 Tweets\",\"KLM<br>34251 Tweets\",\"KLM<br>34251 Tweets\",\"KLM<br>34251 Tweets\",\"KLM<br>34251 Tweets\",\"KLM<br>34251 Tweets\",\"KLM<br>34251 Tweets\",\"KLM<br>34251 Tweets\",\"KLM<br>34251 Tweets\",\"KLM<br>34251 Tweets\",\"KLM<br>34251 Tweets\",\"KLM<br>34251 Tweets\",\"KLM<br>34251 Tweets\",\"KLM<br>34251 Tweets\",\"KLM<br>34251 Tweets\",\"KLM<br>34251 Tweets\",\"\"],\"values\":[1,1,2,2,2,3,7,9,100,115,152,162,270,419,1239,8826,22941,2,8826,22941,9,162,419,3,115,152,1,2,270,1239,2,100,1,7,34251],\"type\":\"sunburst\"}],                        {\"template\":{\"data\":{\"histogram2dcontour\":[{\"type\":\"histogram2dcontour\",\"colorbar\":{\"outlinewidth\":0,\"ticks\":\"\"},\"colorscale\":[[0.0,\"#0d0887\"],[0.1111111111111111,\"#46039f\"],[0.2222222222222222,\"#7201a8\"],[0.3333333333333333,\"#9c179e\"],[0.4444444444444444,\"#bd3786\"],[0.5555555555555556,\"#d8576b\"],[0.6666666666666666,\"#ed7953\"],[0.7777777777777778,\"#fb9f3a\"],[0.8888888888888888,\"#fdca26\"],[1.0,\"#f0f921\"]]}],\"choropleth\":[{\"type\":\"choropleth\",\"colorbar\":{\"outlinewidth\":0,\"ticks\":\"\"}}],\"histogram2d\":[{\"type\":\"histogram2d\",\"colorbar\":{\"outlinewidth\":0,\"ticks\":\"\"},\"colorscale\":[[0.0,\"#0d0887\"],[0.1111111111111111,\"#46039f\"],[0.2222222222222222,\"#7201a8\"],[0.3333333333333333,\"#9c179e\"],[0.4444444444444444,\"#bd3786\"],[0.5555555555555556,\"#d8576b\"],[0.6666666666666666,\"#ed7953\"],[0.7777777777777778,\"#fb9f3a\"],[0.8888888888888888,\"#fdca26\"],[1.0,\"#f0f921\"]]}],\"heatmap\":[{\"type\":\"heatmap\",\"colorbar\":{\"outlinewidth\":0,\"ticks\":\"\"},\"colorscale\":[[0.0,\"#0d0887\"],[0.1111111111111111,\"#46039f\"],[0.2222222222222222,\"#7201a8\"],[0.3333333333333333,\"#9c179e\"],[0.4444444444444444,\"#bd3786\"],[0.5555555555555556,\"#d8576b\"],[0.6666666666666666,\"#ed7953\"],[0.7777777777777778,\"#fb9f3a\"],[0.8888888888888888,\"#fdca26\"],[1.0,\"#f0f921\"]]}],\"heatmapgl\":[{\"type\":\"heatmapgl\",\"colorbar\":{\"outlinewidth\":0,\"ticks\":\"\"},\"colorscale\":[[0.0,\"#0d0887\"],[0.1111111111111111,\"#46039f\"],[0.2222222222222222,\"#7201a8\"],[0.3333333333333333,\"#9c179e\"],[0.4444444444444444,\"#bd3786\"],[0.5555555555555556,\"#d8576b\"],[0.6666666666666666,\"#ed7953\"],[0.7777777777777778,\"#fb9f3a\"],[0.8888888888888888,\"#fdca26\"],[1.0,\"#f0f921\"]]}],\"contourcarpet\":[{\"type\":\"contourcarpet\",\"colorbar\":{\"outlinewidth\":0,\"ticks\":\"\"}}],\"contour\":[{\"type\":\"contour\",\"colorbar\":{\"outlinewidth\":0,\"ticks\":\"\"},\"colorscale\":[[0.0,\"#0d0887\"],[0.1111111111111111,\"#46039f\"],[0.2222222222222222,\"#7201a8\"],[0.3333333333333333,\"#9c179e\"],[0.4444444444444444,\"#bd3786\"],[0.5555555555555556,\"#d8576b\"],[0.6666666666666666,\"#ed7953\"],[0.7777777777777778,\"#fb9f3a\"],[0.8888888888888888,\"#fdca26\"],[1.0,\"#f0f921\"]]}],\"surface\":[{\"type\":\"surface\",\"colorbar\":{\"outlinewidth\":0,\"ticks\":\"\"},\"colorscale\":[[0.0,\"#0d0887\"],[0.1111111111111111,\"#46039f\"],[0.2222222222222222,\"#7201a8\"],[0.3333333333333333,\"#9c179e\"],[0.4444444444444444,\"#bd3786\"],[0.5555555555555556,\"#d8576b\"],[0.6666666666666666,\"#ed7953\"],[0.7777777777777778,\"#fb9f3a\"],[0.8888888888888888,\"#fdca26\"],[1.0,\"#f0f921\"]]}],\"mesh3d\":[{\"type\":\"mesh3d\",\"colorbar\":{\"outlinewidth\":0,\"ticks\":\"\"}}],\"scatter\":[{\"fillpattern\":{\"fillmode\":\"overlay\",\"size\":10,\"solidity\":0.2},\"type\":\"scatter\"}],\"parcoords\":[{\"type\":\"parcoords\",\"line\":{\"colorbar\":{\"outlinewidth\":0,\"ticks\":\"\"}}}],\"scatterpolargl\":[{\"type\":\"scatterpolargl\",\"marker\":{\"colorbar\":{\"outlinewidth\":0,\"ticks\":\"\"}}}],\"bar\":[{\"error_x\":{\"color\":\"#2a3f5f\"},\"error_y\":{\"color\":\"#2a3f5f\"},\"marker\":{\"line\":{\"color\":\"#E5ECF6\",\"width\":0.5},\"pattern\":{\"fillmode\":\"overlay\",\"size\":10,\"solidity\":0.2}},\"type\":\"bar\"}],\"scattergeo\":[{\"type\":\"scattergeo\",\"marker\":{\"colorbar\":{\"outlinewidth\":0,\"ticks\":\"\"}}}],\"scatterpolar\":[{\"type\":\"scatterpolar\",\"marker\":{\"colorbar\":{\"outlinewidth\":0,\"ticks\":\"\"}}}],\"histogram\":[{\"marker\":{\"pattern\":{\"fillmode\":\"overlay\",\"size\":10,\"solidity\":0.2}},\"type\":\"histogram\"}],\"scattergl\":[{\"type\":\"scattergl\",\"marker\":{\"colorbar\":{\"outlinewidth\":0,\"ticks\":\"\"}}}],\"scatter3d\":[{\"type\":\"scatter3d\",\"line\":{\"colorbar\":{\"outlinewidth\":0,\"ticks\":\"\"}},\"marker\":{\"colorbar\":{\"outlinewidth\":0,\"ticks\":\"\"}}}],\"scattermapbox\":[{\"type\":\"scattermapbox\",\"marker\":{\"colorbar\":{\"outlinewidth\":0,\"ticks\":\"\"}}}],\"scatterternary\":[{\"type\":\"scatterternary\",\"marker\":{\"colorbar\":{\"outlinewidth\":0,\"ticks\":\"\"}}}],\"scattercarpet\":[{\"type\":\"scattercarpet\",\"marker\":{\"colorbar\":{\"outlinewidth\":0,\"ticks\":\"\"}}}],\"carpet\":[{\"aaxis\":{\"endlinecolor\":\"#2a3f5f\",\"gridcolor\":\"white\",\"linecolor\":\"white\",\"minorgridcolor\":\"white\",\"startlinecolor\":\"#2a3f5f\"},\"baxis\":{\"endlinecolor\":\"#2a3f5f\",\"gridcolor\":\"white\",\"linecolor\":\"white\",\"minorgridcolor\":\"white\",\"startlinecolor\":\"#2a3f5f\"},\"type\":\"carpet\"}],\"table\":[{\"cells\":{\"fill\":{\"color\":\"#EBF0F8\"},\"line\":{\"color\":\"white\"}},\"header\":{\"fill\":{\"color\":\"#C8D4E3\"},\"line\":{\"color\":\"white\"}},\"type\":\"table\"}],\"barpolar\":[{\"marker\":{\"line\":{\"color\":\"#E5ECF6\",\"width\":0.5},\"pattern\":{\"fillmode\":\"overlay\",\"size\":10,\"solidity\":0.2}},\"type\":\"barpolar\"}],\"pie\":[{\"automargin\":true,\"type\":\"pie\"}]},\"layout\":{\"autotypenumbers\":\"strict\",\"colorway\":[\"#636efa\",\"#EF553B\",\"#00cc96\",\"#ab63fa\",\"#FFA15A\",\"#19d3f3\",\"#FF6692\",\"#B6E880\",\"#FF97FF\",\"#FECB52\"],\"font\":{\"color\":\"#2a3f5f\"},\"hovermode\":\"closest\",\"hoverlabel\":{\"align\":\"left\"},\"paper_bgcolor\":\"white\",\"plot_bgcolor\":\"#E5ECF6\",\"polar\":{\"bgcolor\":\"#E5ECF6\",\"angularaxis\":{\"gridcolor\":\"white\",\"linecolor\":\"white\",\"ticks\":\"\"},\"radialaxis\":{\"gridcolor\":\"white\",\"linecolor\":\"white\",\"ticks\":\"\"}},\"ternary\":{\"bgcolor\":\"#E5ECF6\",\"aaxis\":{\"gridcolor\":\"white\",\"linecolor\":\"white\",\"ticks\":\"\"},\"baxis\":{\"gridcolor\":\"white\",\"linecolor\":\"white\",\"ticks\":\"\"},\"caxis\":{\"gridcolor\":\"white\",\"linecolor\":\"white\",\"ticks\":\"\"}},\"coloraxis\":{\"colorbar\":{\"outlinewidth\":0,\"ticks\":\"\"}},\"colorscale\":{\"sequential\":[[0.0,\"#0d0887\"],[0.1111111111111111,\"#46039f\"],[0.2222222222222222,\"#7201a8\"],[0.3333333333333333,\"#9c179e\"],[0.4444444444444444,\"#bd3786\"],[0.5555555555555556,\"#d8576b\"],[0.6666666666666666,\"#ed7953\"],[0.7777777777777778,\"#fb9f3a\"],[0.8888888888888888,\"#fdca26\"],[1.0,\"#f0f921\"]],\"sequentialminus\":[[0.0,\"#0d0887\"],[0.1111111111111111,\"#46039f\"],[0.2222222222222222,\"#7201a8\"],[0.3333333333333333,\"#9c179e\"],[0.4444444444444444,\"#bd3786\"],[0.5555555555555556,\"#d8576b\"],[0.6666666666666666,\"#ed7953\"],[0.7777777777777778,\"#fb9f3a\"],[0.8888888888888888,\"#fdca26\"],[1.0,\"#f0f921\"]],\"diverging\":[[0,\"#8e0152\"],[0.1,\"#c51b7d\"],[0.2,\"#de77ae\"],[0.3,\"#f1b6da\"],[0.4,\"#fde0ef\"],[0.5,\"#f7f7f7\"],[0.6,\"#e6f5d0\"],[0.7,\"#b8e186\"],[0.8,\"#7fbc41\"],[0.9,\"#4d9221\"],[1,\"#276419\"]]},\"xaxis\":{\"gridcolor\":\"white\",\"linecolor\":\"white\",\"ticks\":\"\",\"title\":{\"standoff\":15},\"zerolinecolor\":\"white\",\"automargin\":true,\"zerolinewidth\":2},\"yaxis\":{\"gridcolor\":\"white\",\"linecolor\":\"white\",\"ticks\":\"\",\"title\":{\"standoff\":15},\"zerolinecolor\":\"white\",\"automargin\":true,\"zerolinewidth\":2},\"scene\":{\"xaxis\":{\"backgroundcolor\":\"#E5ECF6\",\"gridcolor\":\"white\",\"linecolor\":\"white\",\"showbackground\":true,\"ticks\":\"\",\"zerolinecolor\":\"white\",\"gridwidth\":2},\"yaxis\":{\"backgroundcolor\":\"#E5ECF6\",\"gridcolor\":\"white\",\"linecolor\":\"white\",\"showbackground\":true,\"ticks\":\"\",\"zerolinecolor\":\"white\",\"gridwidth\":2},\"zaxis\":{\"backgroundcolor\":\"#E5ECF6\",\"gridcolor\":\"white\",\"linecolor\":\"white\",\"showbackground\":true,\"ticks\":\"\",\"zerolinecolor\":\"white\",\"gridwidth\":2}},\"shapedefaults\":{\"line\":{\"color\":\"#2a3f5f\"}},\"annotationdefaults\":{\"arrowcolor\":\"#2a3f5f\",\"arrowhead\":0,\"arrowwidth\":1},\"geo\":{\"bgcolor\":\"white\",\"landcolor\":\"#E5ECF6\",\"subunitcolor\":\"white\",\"showland\":true,\"showlakes\":true,\"lakecolor\":\"white\"},\"title\":{\"x\":0.05},\"mapbox\":{\"style\":\"light\"}}},\"coloraxis\":{\"colorbar\":{\"title\":{\"text\":\"count\"}},\"colorscale\":[[0.0,\"rgb(103,0,31)\"],[0.1,\"rgb(178,24,43)\"],[0.2,\"rgb(214,96,77)\"],[0.3,\"rgb(244,165,130)\"],[0.4,\"rgb(253,219,199)\"],[0.5,\"rgb(247,247,247)\"],[0.6,\"rgb(209,229,240)\"],[0.7,\"rgb(146,197,222)\"],[0.8,\"rgb(67,147,195)\"],[0.9,\"rgb(33,102,172)\"],[1.0,\"rgb(5,48,97)\"]],\"cmid\":71704.7076933436},\"legend\":{\"tracegroupgap\":0},\"margin\":{\"t\":60},\"height\":900,\"width\":900},                        {\"responsive\": true}                    ).then(function(){\n",
       "                            \n",
       "var gd = document.getElementById('16b920f4-004f-4c04-9d42-397e5e313abe');\n",
       "var x = new MutationObserver(function (mutations, observer) {{\n",
       "        var display = window.getComputedStyle(gd).display;\n",
       "        if (!display || display === 'none') {{\n",
       "            console.log([gd, 'removed!']);\n",
       "            Plotly.purge(gd);\n",
       "            observer.disconnect();\n",
       "        }}\n",
       "}});\n",
       "\n",
       "// Listen for the removal of the full notebook cells\n",
       "var notebookContainer = gd.closest('#notebook-container');\n",
       "if (notebookContainer) {{\n",
       "    x.observe(notebookContainer, {childList: true});\n",
       "}}\n",
       "\n",
       "// Listen for the clearing of the current output cell\n",
       "var outputEl = gd.closest('.output');\n",
       "if (outputEl) {{\n",
       "    x.observe(outputEl, {childList: true});\n",
       "}}\n",
       "\n",
       "                        })                };                });            </script>        </div>"
      ]
     },
     "metadata": {},
     "output_type": "display_data"
    },
    {
     "data": {
      "application/vnd.plotly.v1+json": {
       "config": {
        "plotlyServerURL": "https://plot.ly"
       },
       "data": [
        {
         "branchvalues": "total",
         "customdata": [
          [
           1
          ],
          [
           1
          ],
          [
           2
          ],
          [
           2
          ],
          [
           2
          ],
          [
           3
          ],
          [
           3
          ],
          [
           6
          ],
          [
           7
          ],
          [
           8
          ],
          [
           380
          ],
          [
           21245
          ],
          [
           21245
          ],
          [
           7
          ],
          [
           6
          ],
          [
           3
          ],
          [
           2
          ],
          [
           1
          ],
          [
           2
          ],
          [
           1
          ],
          [
           2
          ],
          [
           3
          ],
          [
           8
          ],
          [
           380
          ],
          [
           20844.626315789475
          ]
         ],
         "domain": {
          "x": [
           0,
           1
          ],
          "y": [
           0,
           1
          ]
         },
         "hovertemplate": "labels=%{label}<br>count_sum=%{value}<br>parent=%{parent}<br>id=%{id}<br>count=%{color}<extra></extra>",
         "ids": [
          "Virgin Atlantic<br>21660 Tweets/Icelandic/1",
          "Virgin Atlantic<br>21660 Tweets/Polish/1",
          "Virgin Atlantic<br>21660 Tweets/Haitian Creole/2",
          "Virgin Atlantic<br>21660 Tweets/Indonesian/2",
          "Virgin Atlantic<br>21660 Tweets/Portuguese/2",
          "Virgin Atlantic<br>21660 Tweets/German/3",
          "Virgin Atlantic<br>21660 Tweets/Spanish/3",
          "Virgin Atlantic<br>21660 Tweets/French/6",
          "Virgin Atlantic<br>21660 Tweets/Estonian/7",
          "Virgin Atlantic<br>21660 Tweets/Tagalog/8",
          "Virgin Atlantic<br>21660 Tweets/Undetermined/380",
          "Virgin Atlantic<br>21660 Tweets/English/21245",
          "Virgin Atlantic<br>21660 Tweets/English",
          "Virgin Atlantic<br>21660 Tweets/Estonian",
          "Virgin Atlantic<br>21660 Tweets/French",
          "Virgin Atlantic<br>21660 Tweets/German",
          "Virgin Atlantic<br>21660 Tweets/Haitian Creole",
          "Virgin Atlantic<br>21660 Tweets/Icelandic",
          "Virgin Atlantic<br>21660 Tweets/Indonesian",
          "Virgin Atlantic<br>21660 Tweets/Polish",
          "Virgin Atlantic<br>21660 Tweets/Portuguese",
          "Virgin Atlantic<br>21660 Tweets/Spanish",
          "Virgin Atlantic<br>21660 Tweets/Tagalog",
          "Virgin Atlantic<br>21660 Tweets/Undetermined",
          "Virgin Atlantic<br>21660 Tweets"
         ],
         "labels": [
          "1",
          "1",
          "2",
          "2",
          "2",
          "3",
          "3",
          "6",
          "7",
          "8",
          "380",
          "21245",
          "English",
          "Estonian",
          "French",
          "German",
          "Haitian Creole",
          "Icelandic",
          "Indonesian",
          "Polish",
          "Portuguese",
          "Spanish",
          "Tagalog",
          "Undetermined",
          "Virgin Atlantic<br>21660 Tweets"
         ],
         "marker": {
          "coloraxis": "coloraxis",
          "colors": [
           1,
           1,
           2,
           2,
           2,
           3,
           3,
           6,
           7,
           8,
           380,
           21245,
           21245,
           7,
           6,
           3,
           2,
           1,
           2,
           1,
           2,
           3,
           8,
           380,
           20844.626315789475
          ]
         },
         "name": "",
         "parents": [
          "Virgin Atlantic<br>21660 Tweets/Icelandic",
          "Virgin Atlantic<br>21660 Tweets/Polish",
          "Virgin Atlantic<br>21660 Tweets/Haitian Creole",
          "Virgin Atlantic<br>21660 Tweets/Indonesian",
          "Virgin Atlantic<br>21660 Tweets/Portuguese",
          "Virgin Atlantic<br>21660 Tweets/German",
          "Virgin Atlantic<br>21660 Tweets/Spanish",
          "Virgin Atlantic<br>21660 Tweets/French",
          "Virgin Atlantic<br>21660 Tweets/Estonian",
          "Virgin Atlantic<br>21660 Tweets/Tagalog",
          "Virgin Atlantic<br>21660 Tweets/Undetermined",
          "Virgin Atlantic<br>21660 Tweets/English",
          "Virgin Atlantic<br>21660 Tweets",
          "Virgin Atlantic<br>21660 Tweets",
          "Virgin Atlantic<br>21660 Tweets",
          "Virgin Atlantic<br>21660 Tweets",
          "Virgin Atlantic<br>21660 Tweets",
          "Virgin Atlantic<br>21660 Tweets",
          "Virgin Atlantic<br>21660 Tweets",
          "Virgin Atlantic<br>21660 Tweets",
          "Virgin Atlantic<br>21660 Tweets",
          "Virgin Atlantic<br>21660 Tweets",
          "Virgin Atlantic<br>21660 Tweets",
          "Virgin Atlantic<br>21660 Tweets",
          ""
         ],
         "type": "sunburst",
         "values": [
          1,
          1,
          2,
          2,
          2,
          3,
          3,
          6,
          7,
          8,
          380,
          21245,
          21245,
          7,
          6,
          3,
          2,
          1,
          2,
          1,
          2,
          3,
          8,
          380,
          21660
         ]
        }
       ],
       "layout": {
        "coloraxis": {
         "cmid": 71704.7076933436,
         "colorbar": {
          "title": {
           "text": "count"
          }
         },
         "colorscale": [
          [
           0,
           "rgb(103,0,31)"
          ],
          [
           0.1,
           "rgb(178,24,43)"
          ],
          [
           0.2,
           "rgb(214,96,77)"
          ],
          [
           0.3,
           "rgb(244,165,130)"
          ],
          [
           0.4,
           "rgb(253,219,199)"
          ],
          [
           0.5,
           "rgb(247,247,247)"
          ],
          [
           0.6,
           "rgb(209,229,240)"
          ],
          [
           0.7,
           "rgb(146,197,222)"
          ],
          [
           0.8,
           "rgb(67,147,195)"
          ],
          [
           0.9,
           "rgb(33,102,172)"
          ],
          [
           1,
           "rgb(5,48,97)"
          ]
         ]
        },
        "height": 900,
        "legend": {
         "tracegroupgap": 0
        },
        "margin": {
         "t": 60
        },
        "template": {
         "data": {
          "bar": [
           {
            "error_x": {
             "color": "#2a3f5f"
            },
            "error_y": {
             "color": "#2a3f5f"
            },
            "marker": {
             "line": {
              "color": "#E5ECF6",
              "width": 0.5
             },
             "pattern": {
              "fillmode": "overlay",
              "size": 10,
              "solidity": 0.2
             }
            },
            "type": "bar"
           }
          ],
          "barpolar": [
           {
            "marker": {
             "line": {
              "color": "#E5ECF6",
              "width": 0.5
             },
             "pattern": {
              "fillmode": "overlay",
              "size": 10,
              "solidity": 0.2
             }
            },
            "type": "barpolar"
           }
          ],
          "carpet": [
           {
            "aaxis": {
             "endlinecolor": "#2a3f5f",
             "gridcolor": "white",
             "linecolor": "white",
             "minorgridcolor": "white",
             "startlinecolor": "#2a3f5f"
            },
            "baxis": {
             "endlinecolor": "#2a3f5f",
             "gridcolor": "white",
             "linecolor": "white",
             "minorgridcolor": "white",
             "startlinecolor": "#2a3f5f"
            },
            "type": "carpet"
           }
          ],
          "choropleth": [
           {
            "colorbar": {
             "outlinewidth": 0,
             "ticks": ""
            },
            "type": "choropleth"
           }
          ],
          "contour": [
           {
            "colorbar": {
             "outlinewidth": 0,
             "ticks": ""
            },
            "colorscale": [
             [
              0,
              "#0d0887"
             ],
             [
              0.1111111111111111,
              "#46039f"
             ],
             [
              0.2222222222222222,
              "#7201a8"
             ],
             [
              0.3333333333333333,
              "#9c179e"
             ],
             [
              0.4444444444444444,
              "#bd3786"
             ],
             [
              0.5555555555555556,
              "#d8576b"
             ],
             [
              0.6666666666666666,
              "#ed7953"
             ],
             [
              0.7777777777777778,
              "#fb9f3a"
             ],
             [
              0.8888888888888888,
              "#fdca26"
             ],
             [
              1,
              "#f0f921"
             ]
            ],
            "type": "contour"
           }
          ],
          "contourcarpet": [
           {
            "colorbar": {
             "outlinewidth": 0,
             "ticks": ""
            },
            "type": "contourcarpet"
           }
          ],
          "heatmap": [
           {
            "colorbar": {
             "outlinewidth": 0,
             "ticks": ""
            },
            "colorscale": [
             [
              0,
              "#0d0887"
             ],
             [
              0.1111111111111111,
              "#46039f"
             ],
             [
              0.2222222222222222,
              "#7201a8"
             ],
             [
              0.3333333333333333,
              "#9c179e"
             ],
             [
              0.4444444444444444,
              "#bd3786"
             ],
             [
              0.5555555555555556,
              "#d8576b"
             ],
             [
              0.6666666666666666,
              "#ed7953"
             ],
             [
              0.7777777777777778,
              "#fb9f3a"
             ],
             [
              0.8888888888888888,
              "#fdca26"
             ],
             [
              1,
              "#f0f921"
             ]
            ],
            "type": "heatmap"
           }
          ],
          "heatmapgl": [
           {
            "colorbar": {
             "outlinewidth": 0,
             "ticks": ""
            },
            "colorscale": [
             [
              0,
              "#0d0887"
             ],
             [
              0.1111111111111111,
              "#46039f"
             ],
             [
              0.2222222222222222,
              "#7201a8"
             ],
             [
              0.3333333333333333,
              "#9c179e"
             ],
             [
              0.4444444444444444,
              "#bd3786"
             ],
             [
              0.5555555555555556,
              "#d8576b"
             ],
             [
              0.6666666666666666,
              "#ed7953"
             ],
             [
              0.7777777777777778,
              "#fb9f3a"
             ],
             [
              0.8888888888888888,
              "#fdca26"
             ],
             [
              1,
              "#f0f921"
             ]
            ],
            "type": "heatmapgl"
           }
          ],
          "histogram": [
           {
            "marker": {
             "pattern": {
              "fillmode": "overlay",
              "size": 10,
              "solidity": 0.2
             }
            },
            "type": "histogram"
           }
          ],
          "histogram2d": [
           {
            "colorbar": {
             "outlinewidth": 0,
             "ticks": ""
            },
            "colorscale": [
             [
              0,
              "#0d0887"
             ],
             [
              0.1111111111111111,
              "#46039f"
             ],
             [
              0.2222222222222222,
              "#7201a8"
             ],
             [
              0.3333333333333333,
              "#9c179e"
             ],
             [
              0.4444444444444444,
              "#bd3786"
             ],
             [
              0.5555555555555556,
              "#d8576b"
             ],
             [
              0.6666666666666666,
              "#ed7953"
             ],
             [
              0.7777777777777778,
              "#fb9f3a"
             ],
             [
              0.8888888888888888,
              "#fdca26"
             ],
             [
              1,
              "#f0f921"
             ]
            ],
            "type": "histogram2d"
           }
          ],
          "histogram2dcontour": [
           {
            "colorbar": {
             "outlinewidth": 0,
             "ticks": ""
            },
            "colorscale": [
             [
              0,
              "#0d0887"
             ],
             [
              0.1111111111111111,
              "#46039f"
             ],
             [
              0.2222222222222222,
              "#7201a8"
             ],
             [
              0.3333333333333333,
              "#9c179e"
             ],
             [
              0.4444444444444444,
              "#bd3786"
             ],
             [
              0.5555555555555556,
              "#d8576b"
             ],
             [
              0.6666666666666666,
              "#ed7953"
             ],
             [
              0.7777777777777778,
              "#fb9f3a"
             ],
             [
              0.8888888888888888,
              "#fdca26"
             ],
             [
              1,
              "#f0f921"
             ]
            ],
            "type": "histogram2dcontour"
           }
          ],
          "mesh3d": [
           {
            "colorbar": {
             "outlinewidth": 0,
             "ticks": ""
            },
            "type": "mesh3d"
           }
          ],
          "parcoords": [
           {
            "line": {
             "colorbar": {
              "outlinewidth": 0,
              "ticks": ""
             }
            },
            "type": "parcoords"
           }
          ],
          "pie": [
           {
            "automargin": true,
            "type": "pie"
           }
          ],
          "scatter": [
           {
            "fillpattern": {
             "fillmode": "overlay",
             "size": 10,
             "solidity": 0.2
            },
            "type": "scatter"
           }
          ],
          "scatter3d": [
           {
            "line": {
             "colorbar": {
              "outlinewidth": 0,
              "ticks": ""
             }
            },
            "marker": {
             "colorbar": {
              "outlinewidth": 0,
              "ticks": ""
             }
            },
            "type": "scatter3d"
           }
          ],
          "scattercarpet": [
           {
            "marker": {
             "colorbar": {
              "outlinewidth": 0,
              "ticks": ""
             }
            },
            "type": "scattercarpet"
           }
          ],
          "scattergeo": [
           {
            "marker": {
             "colorbar": {
              "outlinewidth": 0,
              "ticks": ""
             }
            },
            "type": "scattergeo"
           }
          ],
          "scattergl": [
           {
            "marker": {
             "colorbar": {
              "outlinewidth": 0,
              "ticks": ""
             }
            },
            "type": "scattergl"
           }
          ],
          "scattermapbox": [
           {
            "marker": {
             "colorbar": {
              "outlinewidth": 0,
              "ticks": ""
             }
            },
            "type": "scattermapbox"
           }
          ],
          "scatterpolar": [
           {
            "marker": {
             "colorbar": {
              "outlinewidth": 0,
              "ticks": ""
             }
            },
            "type": "scatterpolar"
           }
          ],
          "scatterpolargl": [
           {
            "marker": {
             "colorbar": {
              "outlinewidth": 0,
              "ticks": ""
             }
            },
            "type": "scatterpolargl"
           }
          ],
          "scatterternary": [
           {
            "marker": {
             "colorbar": {
              "outlinewidth": 0,
              "ticks": ""
             }
            },
            "type": "scatterternary"
           }
          ],
          "surface": [
           {
            "colorbar": {
             "outlinewidth": 0,
             "ticks": ""
            },
            "colorscale": [
             [
              0,
              "#0d0887"
             ],
             [
              0.1111111111111111,
              "#46039f"
             ],
             [
              0.2222222222222222,
              "#7201a8"
             ],
             [
              0.3333333333333333,
              "#9c179e"
             ],
             [
              0.4444444444444444,
              "#bd3786"
             ],
             [
              0.5555555555555556,
              "#d8576b"
             ],
             [
              0.6666666666666666,
              "#ed7953"
             ],
             [
              0.7777777777777778,
              "#fb9f3a"
             ],
             [
              0.8888888888888888,
              "#fdca26"
             ],
             [
              1,
              "#f0f921"
             ]
            ],
            "type": "surface"
           }
          ],
          "table": [
           {
            "cells": {
             "fill": {
              "color": "#EBF0F8"
             },
             "line": {
              "color": "white"
             }
            },
            "header": {
             "fill": {
              "color": "#C8D4E3"
             },
             "line": {
              "color": "white"
             }
            },
            "type": "table"
           }
          ]
         },
         "layout": {
          "annotationdefaults": {
           "arrowcolor": "#2a3f5f",
           "arrowhead": 0,
           "arrowwidth": 1
          },
          "autotypenumbers": "strict",
          "coloraxis": {
           "colorbar": {
            "outlinewidth": 0,
            "ticks": ""
           }
          },
          "colorscale": {
           "diverging": [
            [
             0,
             "#8e0152"
            ],
            [
             0.1,
             "#c51b7d"
            ],
            [
             0.2,
             "#de77ae"
            ],
            [
             0.3,
             "#f1b6da"
            ],
            [
             0.4,
             "#fde0ef"
            ],
            [
             0.5,
             "#f7f7f7"
            ],
            [
             0.6,
             "#e6f5d0"
            ],
            [
             0.7,
             "#b8e186"
            ],
            [
             0.8,
             "#7fbc41"
            ],
            [
             0.9,
             "#4d9221"
            ],
            [
             1,
             "#276419"
            ]
           ],
           "sequential": [
            [
             0,
             "#0d0887"
            ],
            [
             0.1111111111111111,
             "#46039f"
            ],
            [
             0.2222222222222222,
             "#7201a8"
            ],
            [
             0.3333333333333333,
             "#9c179e"
            ],
            [
             0.4444444444444444,
             "#bd3786"
            ],
            [
             0.5555555555555556,
             "#d8576b"
            ],
            [
             0.6666666666666666,
             "#ed7953"
            ],
            [
             0.7777777777777778,
             "#fb9f3a"
            ],
            [
             0.8888888888888888,
             "#fdca26"
            ],
            [
             1,
             "#f0f921"
            ]
           ],
           "sequentialminus": [
            [
             0,
             "#0d0887"
            ],
            [
             0.1111111111111111,
             "#46039f"
            ],
            [
             0.2222222222222222,
             "#7201a8"
            ],
            [
             0.3333333333333333,
             "#9c179e"
            ],
            [
             0.4444444444444444,
             "#bd3786"
            ],
            [
             0.5555555555555556,
             "#d8576b"
            ],
            [
             0.6666666666666666,
             "#ed7953"
            ],
            [
             0.7777777777777778,
             "#fb9f3a"
            ],
            [
             0.8888888888888888,
             "#fdca26"
            ],
            [
             1,
             "#f0f921"
            ]
           ]
          },
          "colorway": [
           "#636efa",
           "#EF553B",
           "#00cc96",
           "#ab63fa",
           "#FFA15A",
           "#19d3f3",
           "#FF6692",
           "#B6E880",
           "#FF97FF",
           "#FECB52"
          ],
          "font": {
           "color": "#2a3f5f"
          },
          "geo": {
           "bgcolor": "white",
           "lakecolor": "white",
           "landcolor": "#E5ECF6",
           "showlakes": true,
           "showland": true,
           "subunitcolor": "white"
          },
          "hoverlabel": {
           "align": "left"
          },
          "hovermode": "closest",
          "mapbox": {
           "style": "light"
          },
          "paper_bgcolor": "white",
          "plot_bgcolor": "#E5ECF6",
          "polar": {
           "angularaxis": {
            "gridcolor": "white",
            "linecolor": "white",
            "ticks": ""
           },
           "bgcolor": "#E5ECF6",
           "radialaxis": {
            "gridcolor": "white",
            "linecolor": "white",
            "ticks": ""
           }
          },
          "scene": {
           "xaxis": {
            "backgroundcolor": "#E5ECF6",
            "gridcolor": "white",
            "gridwidth": 2,
            "linecolor": "white",
            "showbackground": true,
            "ticks": "",
            "zerolinecolor": "white"
           },
           "yaxis": {
            "backgroundcolor": "#E5ECF6",
            "gridcolor": "white",
            "gridwidth": 2,
            "linecolor": "white",
            "showbackground": true,
            "ticks": "",
            "zerolinecolor": "white"
           },
           "zaxis": {
            "backgroundcolor": "#E5ECF6",
            "gridcolor": "white",
            "gridwidth": 2,
            "linecolor": "white",
            "showbackground": true,
            "ticks": "",
            "zerolinecolor": "white"
           }
          },
          "shapedefaults": {
           "line": {
            "color": "#2a3f5f"
           }
          },
          "ternary": {
           "aaxis": {
            "gridcolor": "white",
            "linecolor": "white",
            "ticks": ""
           },
           "baxis": {
            "gridcolor": "white",
            "linecolor": "white",
            "ticks": ""
           },
           "bgcolor": "#E5ECF6",
           "caxis": {
            "gridcolor": "white",
            "linecolor": "white",
            "ticks": ""
           }
          },
          "title": {
           "x": 0.05
          },
          "xaxis": {
           "automargin": true,
           "gridcolor": "white",
           "linecolor": "white",
           "ticks": "",
           "title": {
            "standoff": 15
           },
           "zerolinecolor": "white",
           "zerolinewidth": 2
          },
          "yaxis": {
           "automargin": true,
           "gridcolor": "white",
           "linecolor": "white",
           "ticks": "",
           "title": {
            "standoff": 15
           },
           "zerolinecolor": "white",
           "zerolinewidth": 2
          }
         }
        },
        "width": 900
       }
      },
      "text/html": [
       "<div>                            <div id=\"cbfa59ad-6ec3-4d2b-bcac-8403f0332997\" class=\"plotly-graph-div\" style=\"height:900px; width:900px;\"></div>            <script type=\"text/javascript\">                require([\"plotly\"], function(Plotly) {                    window.PLOTLYENV=window.PLOTLYENV || {};                                    if (document.getElementById(\"cbfa59ad-6ec3-4d2b-bcac-8403f0332997\")) {                    Plotly.newPlot(                        \"cbfa59ad-6ec3-4d2b-bcac-8403f0332997\",                        [{\"branchvalues\":\"total\",\"customdata\":[[1.0],[1.0],[2.0],[2.0],[2.0],[3.0],[3.0],[6.0],[7.0],[8.0],[380.0],[21245.0],[21245.0],[7.0],[6.0],[3.0],[2.0],[1.0],[2.0],[1.0],[2.0],[3.0],[8.0],[380.0],[20844.626315789475]],\"domain\":{\"x\":[0.0,1.0],\"y\":[0.0,1.0]},\"hovertemplate\":\"labels=%{label}<br>count_sum=%{value}<br>parent=%{parent}<br>id=%{id}<br>count=%{color}<extra></extra>\",\"ids\":[\"Virgin Atlantic<br>21660 Tweets/Icelandic/1\",\"Virgin Atlantic<br>21660 Tweets/Polish/1\",\"Virgin Atlantic<br>21660 Tweets/Haitian Creole/2\",\"Virgin Atlantic<br>21660 Tweets/Indonesian/2\",\"Virgin Atlantic<br>21660 Tweets/Portuguese/2\",\"Virgin Atlantic<br>21660 Tweets/German/3\",\"Virgin Atlantic<br>21660 Tweets/Spanish/3\",\"Virgin Atlantic<br>21660 Tweets/French/6\",\"Virgin Atlantic<br>21660 Tweets/Estonian/7\",\"Virgin Atlantic<br>21660 Tweets/Tagalog/8\",\"Virgin Atlantic<br>21660 Tweets/Undetermined/380\",\"Virgin Atlantic<br>21660 Tweets/English/21245\",\"Virgin Atlantic<br>21660 Tweets/English\",\"Virgin Atlantic<br>21660 Tweets/Estonian\",\"Virgin Atlantic<br>21660 Tweets/French\",\"Virgin Atlantic<br>21660 Tweets/German\",\"Virgin Atlantic<br>21660 Tweets/Haitian Creole\",\"Virgin Atlantic<br>21660 Tweets/Icelandic\",\"Virgin Atlantic<br>21660 Tweets/Indonesian\",\"Virgin Atlantic<br>21660 Tweets/Polish\",\"Virgin Atlantic<br>21660 Tweets/Portuguese\",\"Virgin Atlantic<br>21660 Tweets/Spanish\",\"Virgin Atlantic<br>21660 Tweets/Tagalog\",\"Virgin Atlantic<br>21660 Tweets/Undetermined\",\"Virgin Atlantic<br>21660 Tweets\"],\"labels\":[\"1\",\"1\",\"2\",\"2\",\"2\",\"3\",\"3\",\"6\",\"7\",\"8\",\"380\",\"21245\",\"English\",\"Estonian\",\"French\",\"German\",\"Haitian Creole\",\"Icelandic\",\"Indonesian\",\"Polish\",\"Portuguese\",\"Spanish\",\"Tagalog\",\"Undetermined\",\"Virgin Atlantic<br>21660 Tweets\"],\"marker\":{\"coloraxis\":\"coloraxis\",\"colors\":[1.0,1.0,2.0,2.0,2.0,3.0,3.0,6.0,7.0,8.0,380.0,21245.0,21245.0,7.0,6.0,3.0,2.0,1.0,2.0,1.0,2.0,3.0,8.0,380.0,20844.626315789475]},\"name\":\"\",\"parents\":[\"Virgin Atlantic<br>21660 Tweets/Icelandic\",\"Virgin Atlantic<br>21660 Tweets/Polish\",\"Virgin Atlantic<br>21660 Tweets/Haitian Creole\",\"Virgin Atlantic<br>21660 Tweets/Indonesian\",\"Virgin Atlantic<br>21660 Tweets/Portuguese\",\"Virgin Atlantic<br>21660 Tweets/German\",\"Virgin Atlantic<br>21660 Tweets/Spanish\",\"Virgin Atlantic<br>21660 Tweets/French\",\"Virgin Atlantic<br>21660 Tweets/Estonian\",\"Virgin Atlantic<br>21660 Tweets/Tagalog\",\"Virgin Atlantic<br>21660 Tweets/Undetermined\",\"Virgin Atlantic<br>21660 Tweets/English\",\"Virgin Atlantic<br>21660 Tweets\",\"Virgin Atlantic<br>21660 Tweets\",\"Virgin Atlantic<br>21660 Tweets\",\"Virgin Atlantic<br>21660 Tweets\",\"Virgin Atlantic<br>21660 Tweets\",\"Virgin Atlantic<br>21660 Tweets\",\"Virgin Atlantic<br>21660 Tweets\",\"Virgin Atlantic<br>21660 Tweets\",\"Virgin Atlantic<br>21660 Tweets\",\"Virgin Atlantic<br>21660 Tweets\",\"Virgin Atlantic<br>21660 Tweets\",\"Virgin Atlantic<br>21660 Tweets\",\"\"],\"values\":[1,1,2,2,2,3,3,6,7,8,380,21245,21245,7,6,3,2,1,2,1,2,3,8,380,21660],\"type\":\"sunburst\"}],                        {\"template\":{\"data\":{\"histogram2dcontour\":[{\"type\":\"histogram2dcontour\",\"colorbar\":{\"outlinewidth\":0,\"ticks\":\"\"},\"colorscale\":[[0.0,\"#0d0887\"],[0.1111111111111111,\"#46039f\"],[0.2222222222222222,\"#7201a8\"],[0.3333333333333333,\"#9c179e\"],[0.4444444444444444,\"#bd3786\"],[0.5555555555555556,\"#d8576b\"],[0.6666666666666666,\"#ed7953\"],[0.7777777777777778,\"#fb9f3a\"],[0.8888888888888888,\"#fdca26\"],[1.0,\"#f0f921\"]]}],\"choropleth\":[{\"type\":\"choropleth\",\"colorbar\":{\"outlinewidth\":0,\"ticks\":\"\"}}],\"histogram2d\":[{\"type\":\"histogram2d\",\"colorbar\":{\"outlinewidth\":0,\"ticks\":\"\"},\"colorscale\":[[0.0,\"#0d0887\"],[0.1111111111111111,\"#46039f\"],[0.2222222222222222,\"#7201a8\"],[0.3333333333333333,\"#9c179e\"],[0.4444444444444444,\"#bd3786\"],[0.5555555555555556,\"#d8576b\"],[0.6666666666666666,\"#ed7953\"],[0.7777777777777778,\"#fb9f3a\"],[0.8888888888888888,\"#fdca26\"],[1.0,\"#f0f921\"]]}],\"heatmap\":[{\"type\":\"heatmap\",\"colorbar\":{\"outlinewidth\":0,\"ticks\":\"\"},\"colorscale\":[[0.0,\"#0d0887\"],[0.1111111111111111,\"#46039f\"],[0.2222222222222222,\"#7201a8\"],[0.3333333333333333,\"#9c179e\"],[0.4444444444444444,\"#bd3786\"],[0.5555555555555556,\"#d8576b\"],[0.6666666666666666,\"#ed7953\"],[0.7777777777777778,\"#fb9f3a\"],[0.8888888888888888,\"#fdca26\"],[1.0,\"#f0f921\"]]}],\"heatmapgl\":[{\"type\":\"heatmapgl\",\"colorbar\":{\"outlinewidth\":0,\"ticks\":\"\"},\"colorscale\":[[0.0,\"#0d0887\"],[0.1111111111111111,\"#46039f\"],[0.2222222222222222,\"#7201a8\"],[0.3333333333333333,\"#9c179e\"],[0.4444444444444444,\"#bd3786\"],[0.5555555555555556,\"#d8576b\"],[0.6666666666666666,\"#ed7953\"],[0.7777777777777778,\"#fb9f3a\"],[0.8888888888888888,\"#fdca26\"],[1.0,\"#f0f921\"]]}],\"contourcarpet\":[{\"type\":\"contourcarpet\",\"colorbar\":{\"outlinewidth\":0,\"ticks\":\"\"}}],\"contour\":[{\"type\":\"contour\",\"colorbar\":{\"outlinewidth\":0,\"ticks\":\"\"},\"colorscale\":[[0.0,\"#0d0887\"],[0.1111111111111111,\"#46039f\"],[0.2222222222222222,\"#7201a8\"],[0.3333333333333333,\"#9c179e\"],[0.4444444444444444,\"#bd3786\"],[0.5555555555555556,\"#d8576b\"],[0.6666666666666666,\"#ed7953\"],[0.7777777777777778,\"#fb9f3a\"],[0.8888888888888888,\"#fdca26\"],[1.0,\"#f0f921\"]]}],\"surface\":[{\"type\":\"surface\",\"colorbar\":{\"outlinewidth\":0,\"ticks\":\"\"},\"colorscale\":[[0.0,\"#0d0887\"],[0.1111111111111111,\"#46039f\"],[0.2222222222222222,\"#7201a8\"],[0.3333333333333333,\"#9c179e\"],[0.4444444444444444,\"#bd3786\"],[0.5555555555555556,\"#d8576b\"],[0.6666666666666666,\"#ed7953\"],[0.7777777777777778,\"#fb9f3a\"],[0.8888888888888888,\"#fdca26\"],[1.0,\"#f0f921\"]]}],\"mesh3d\":[{\"type\":\"mesh3d\",\"colorbar\":{\"outlinewidth\":0,\"ticks\":\"\"}}],\"scatter\":[{\"fillpattern\":{\"fillmode\":\"overlay\",\"size\":10,\"solidity\":0.2},\"type\":\"scatter\"}],\"parcoords\":[{\"type\":\"parcoords\",\"line\":{\"colorbar\":{\"outlinewidth\":0,\"ticks\":\"\"}}}],\"scatterpolargl\":[{\"type\":\"scatterpolargl\",\"marker\":{\"colorbar\":{\"outlinewidth\":0,\"ticks\":\"\"}}}],\"bar\":[{\"error_x\":{\"color\":\"#2a3f5f\"},\"error_y\":{\"color\":\"#2a3f5f\"},\"marker\":{\"line\":{\"color\":\"#E5ECF6\",\"width\":0.5},\"pattern\":{\"fillmode\":\"overlay\",\"size\":10,\"solidity\":0.2}},\"type\":\"bar\"}],\"scattergeo\":[{\"type\":\"scattergeo\",\"marker\":{\"colorbar\":{\"outlinewidth\":0,\"ticks\":\"\"}}}],\"scatterpolar\":[{\"type\":\"scatterpolar\",\"marker\":{\"colorbar\":{\"outlinewidth\":0,\"ticks\":\"\"}}}],\"histogram\":[{\"marker\":{\"pattern\":{\"fillmode\":\"overlay\",\"size\":10,\"solidity\":0.2}},\"type\":\"histogram\"}],\"scattergl\":[{\"type\":\"scattergl\",\"marker\":{\"colorbar\":{\"outlinewidth\":0,\"ticks\":\"\"}}}],\"scatter3d\":[{\"type\":\"scatter3d\",\"line\":{\"colorbar\":{\"outlinewidth\":0,\"ticks\":\"\"}},\"marker\":{\"colorbar\":{\"outlinewidth\":0,\"ticks\":\"\"}}}],\"scattermapbox\":[{\"type\":\"scattermapbox\",\"marker\":{\"colorbar\":{\"outlinewidth\":0,\"ticks\":\"\"}}}],\"scatterternary\":[{\"type\":\"scatterternary\",\"marker\":{\"colorbar\":{\"outlinewidth\":0,\"ticks\":\"\"}}}],\"scattercarpet\":[{\"type\":\"scattercarpet\",\"marker\":{\"colorbar\":{\"outlinewidth\":0,\"ticks\":\"\"}}}],\"carpet\":[{\"aaxis\":{\"endlinecolor\":\"#2a3f5f\",\"gridcolor\":\"white\",\"linecolor\":\"white\",\"minorgridcolor\":\"white\",\"startlinecolor\":\"#2a3f5f\"},\"baxis\":{\"endlinecolor\":\"#2a3f5f\",\"gridcolor\":\"white\",\"linecolor\":\"white\",\"minorgridcolor\":\"white\",\"startlinecolor\":\"#2a3f5f\"},\"type\":\"carpet\"}],\"table\":[{\"cells\":{\"fill\":{\"color\":\"#EBF0F8\"},\"line\":{\"color\":\"white\"}},\"header\":{\"fill\":{\"color\":\"#C8D4E3\"},\"line\":{\"color\":\"white\"}},\"type\":\"table\"}],\"barpolar\":[{\"marker\":{\"line\":{\"color\":\"#E5ECF6\",\"width\":0.5},\"pattern\":{\"fillmode\":\"overlay\",\"size\":10,\"solidity\":0.2}},\"type\":\"barpolar\"}],\"pie\":[{\"automargin\":true,\"type\":\"pie\"}]},\"layout\":{\"autotypenumbers\":\"strict\",\"colorway\":[\"#636efa\",\"#EF553B\",\"#00cc96\",\"#ab63fa\",\"#FFA15A\",\"#19d3f3\",\"#FF6692\",\"#B6E880\",\"#FF97FF\",\"#FECB52\"],\"font\":{\"color\":\"#2a3f5f\"},\"hovermode\":\"closest\",\"hoverlabel\":{\"align\":\"left\"},\"paper_bgcolor\":\"white\",\"plot_bgcolor\":\"#E5ECF6\",\"polar\":{\"bgcolor\":\"#E5ECF6\",\"angularaxis\":{\"gridcolor\":\"white\",\"linecolor\":\"white\",\"ticks\":\"\"},\"radialaxis\":{\"gridcolor\":\"white\",\"linecolor\":\"white\",\"ticks\":\"\"}},\"ternary\":{\"bgcolor\":\"#E5ECF6\",\"aaxis\":{\"gridcolor\":\"white\",\"linecolor\":\"white\",\"ticks\":\"\"},\"baxis\":{\"gridcolor\":\"white\",\"linecolor\":\"white\",\"ticks\":\"\"},\"caxis\":{\"gridcolor\":\"white\",\"linecolor\":\"white\",\"ticks\":\"\"}},\"coloraxis\":{\"colorbar\":{\"outlinewidth\":0,\"ticks\":\"\"}},\"colorscale\":{\"sequential\":[[0.0,\"#0d0887\"],[0.1111111111111111,\"#46039f\"],[0.2222222222222222,\"#7201a8\"],[0.3333333333333333,\"#9c179e\"],[0.4444444444444444,\"#bd3786\"],[0.5555555555555556,\"#d8576b\"],[0.6666666666666666,\"#ed7953\"],[0.7777777777777778,\"#fb9f3a\"],[0.8888888888888888,\"#fdca26\"],[1.0,\"#f0f921\"]],\"sequentialminus\":[[0.0,\"#0d0887\"],[0.1111111111111111,\"#46039f\"],[0.2222222222222222,\"#7201a8\"],[0.3333333333333333,\"#9c179e\"],[0.4444444444444444,\"#bd3786\"],[0.5555555555555556,\"#d8576b\"],[0.6666666666666666,\"#ed7953\"],[0.7777777777777778,\"#fb9f3a\"],[0.8888888888888888,\"#fdca26\"],[1.0,\"#f0f921\"]],\"diverging\":[[0,\"#8e0152\"],[0.1,\"#c51b7d\"],[0.2,\"#de77ae\"],[0.3,\"#f1b6da\"],[0.4,\"#fde0ef\"],[0.5,\"#f7f7f7\"],[0.6,\"#e6f5d0\"],[0.7,\"#b8e186\"],[0.8,\"#7fbc41\"],[0.9,\"#4d9221\"],[1,\"#276419\"]]},\"xaxis\":{\"gridcolor\":\"white\",\"linecolor\":\"white\",\"ticks\":\"\",\"title\":{\"standoff\":15},\"zerolinecolor\":\"white\",\"automargin\":true,\"zerolinewidth\":2},\"yaxis\":{\"gridcolor\":\"white\",\"linecolor\":\"white\",\"ticks\":\"\",\"title\":{\"standoff\":15},\"zerolinecolor\":\"white\",\"automargin\":true,\"zerolinewidth\":2},\"scene\":{\"xaxis\":{\"backgroundcolor\":\"#E5ECF6\",\"gridcolor\":\"white\",\"linecolor\":\"white\",\"showbackground\":true,\"ticks\":\"\",\"zerolinecolor\":\"white\",\"gridwidth\":2},\"yaxis\":{\"backgroundcolor\":\"#E5ECF6\",\"gridcolor\":\"white\",\"linecolor\":\"white\",\"showbackground\":true,\"ticks\":\"\",\"zerolinecolor\":\"white\",\"gridwidth\":2},\"zaxis\":{\"backgroundcolor\":\"#E5ECF6\",\"gridcolor\":\"white\",\"linecolor\":\"white\",\"showbackground\":true,\"ticks\":\"\",\"zerolinecolor\":\"white\",\"gridwidth\":2}},\"shapedefaults\":{\"line\":{\"color\":\"#2a3f5f\"}},\"annotationdefaults\":{\"arrowcolor\":\"#2a3f5f\",\"arrowhead\":0,\"arrowwidth\":1},\"geo\":{\"bgcolor\":\"white\",\"landcolor\":\"#E5ECF6\",\"subunitcolor\":\"white\",\"showland\":true,\"showlakes\":true,\"lakecolor\":\"white\"},\"title\":{\"x\":0.05},\"mapbox\":{\"style\":\"light\"}}},\"coloraxis\":{\"colorbar\":{\"title\":{\"text\":\"count\"}},\"colorscale\":[[0.0,\"rgb(103,0,31)\"],[0.1,\"rgb(178,24,43)\"],[0.2,\"rgb(214,96,77)\"],[0.3,\"rgb(244,165,130)\"],[0.4,\"rgb(253,219,199)\"],[0.5,\"rgb(247,247,247)\"],[0.6,\"rgb(209,229,240)\"],[0.7,\"rgb(146,197,222)\"],[0.8,\"rgb(67,147,195)\"],[0.9,\"rgb(33,102,172)\"],[1.0,\"rgb(5,48,97)\"]],\"cmid\":71704.7076933436},\"legend\":{\"tracegroupgap\":0},\"margin\":{\"t\":60},\"height\":900,\"width\":900},                        {\"responsive\": true}                    ).then(function(){\n",
       "                            \n",
       "var gd = document.getElementById('cbfa59ad-6ec3-4d2b-bcac-8403f0332997');\n",
       "var x = new MutationObserver(function (mutations, observer) {{\n",
       "        var display = window.getComputedStyle(gd).display;\n",
       "        if (!display || display === 'none') {{\n",
       "            console.log([gd, 'removed!']);\n",
       "            Plotly.purge(gd);\n",
       "            observer.disconnect();\n",
       "        }}\n",
       "}});\n",
       "\n",
       "// Listen for the removal of the full notebook cells\n",
       "var notebookContainer = gd.closest('#notebook-container');\n",
       "if (notebookContainer) {{\n",
       "    x.observe(notebookContainer, {childList: true});\n",
       "}}\n",
       "\n",
       "// Listen for the clearing of the current output cell\n",
       "var outputEl = gd.closest('.output');\n",
       "if (outputEl) {{\n",
       "    x.observe(outputEl, {childList: true});\n",
       "}}\n",
       "\n",
       "                        })                };                });            </script>        </div>"
      ]
     },
     "metadata": {},
     "output_type": "display_data"
    },
    {
     "data": {
      "application/vnd.plotly.v1+json": {
       "config": {
        "plotlyServerURL": "https://plot.ly"
       },
       "data": [
        {
         "branchvalues": "total",
         "customdata": [
          [
           1
          ],
          [
           1
          ],
          [
           1
          ],
          [
           1
          ],
          [
           1
          ],
          [
           2
          ],
          [
           2
          ],
          [
           7
          ],
          [
           7
          ],
          [
           8
          ],
          [
           9
          ],
          [
           10
          ],
          [
           12
          ],
          [
           15
          ],
          [
           19
          ],
          [
           21
          ],
          [
           30
          ],
          [
           268
          ],
          [
           19901
          ],
          [
           2
          ],
          [
           12
          ],
          [
           1
          ],
          [
           19901
          ],
          [
           19
          ],
          [
           10
          ],
          [
           7
          ],
          [
           1
          ],
          [
           7
          ],
          [
           30
          ],
          [
           1
          ],
          [
           1
          ],
          [
           8
          ],
          [
           2
          ],
          [
           9
          ],
          [
           268
          ],
          [
           1
          ],
          [
           21
          ],
          [
           15
          ],
          [
           19498.132112620595
          ]
         ],
         "domain": {
          "x": [
           0,
           1
          ],
          "y": [
           0,
           1
          ]
         },
         "hovertemplate": "labels=%{label}<br>count_sum=%{value}<br>parent=%{parent}<br>id=%{id}<br>count=%{color}<extra></extra>",
         "ids": [
          "Ryan Air<br>20316 Tweets/Dutch/1",
          "Ryan Air<br>20316 Tweets/Icelandic/1",
          "Ryan Air<br>20316 Tweets/Latvian/1",
          "Ryan Air<br>20316 Tweets/Lithuanian/1",
          "Ryan Air<br>20316 Tweets/Swedish/1",
          "Ryan Air<br>20316 Tweets/Basque/2",
          "Ryan Air<br>20316 Tweets/Portuguese/2",
          "Ryan Air<br>20316 Tweets/Hungarian/7",
          "Ryan Air<br>20316 Tweets/Indonesian/7",
          "Ryan Air<br>20316 Tweets/Polish/8",
          "Ryan Air<br>20316 Tweets/Romanian/9",
          "Ryan Air<br>20316 Tweets/German/10",
          "Ryan Air<br>20316 Tweets/Catalan/12",
          "Ryan Air<br>20316 Tweets/Undetermined/15",
          "Ryan Air<br>20316 Tweets/French/19",
          "Ryan Air<br>20316 Tweets/Tagalog/21",
          "Ryan Air<br>20316 Tweets/Italian/30",
          "Ryan Air<br>20316 Tweets/Spanish/268",
          "Ryan Air<br>20316 Tweets/English/19901",
          "Ryan Air<br>20316 Tweets/Basque",
          "Ryan Air<br>20316 Tweets/Catalan",
          "Ryan Air<br>20316 Tweets/Dutch",
          "Ryan Air<br>20316 Tweets/English",
          "Ryan Air<br>20316 Tweets/French",
          "Ryan Air<br>20316 Tweets/German",
          "Ryan Air<br>20316 Tweets/Hungarian",
          "Ryan Air<br>20316 Tweets/Icelandic",
          "Ryan Air<br>20316 Tweets/Indonesian",
          "Ryan Air<br>20316 Tweets/Italian",
          "Ryan Air<br>20316 Tweets/Latvian",
          "Ryan Air<br>20316 Tweets/Lithuanian",
          "Ryan Air<br>20316 Tweets/Polish",
          "Ryan Air<br>20316 Tweets/Portuguese",
          "Ryan Air<br>20316 Tweets/Romanian",
          "Ryan Air<br>20316 Tweets/Spanish",
          "Ryan Air<br>20316 Tweets/Swedish",
          "Ryan Air<br>20316 Tweets/Tagalog",
          "Ryan Air<br>20316 Tweets/Undetermined",
          "Ryan Air<br>20316 Tweets"
         ],
         "labels": [
          "1",
          "1",
          "1",
          "1",
          "1",
          "2",
          "2",
          "7",
          "7",
          "8",
          "9",
          "10",
          "12",
          "15",
          "19",
          "21",
          "30",
          "268",
          "19901",
          "Basque",
          "Catalan",
          "Dutch",
          "English",
          "French",
          "German",
          "Hungarian",
          "Icelandic",
          "Indonesian",
          "Italian",
          "Latvian",
          "Lithuanian",
          "Polish",
          "Portuguese",
          "Romanian",
          "Spanish",
          "Swedish",
          "Tagalog",
          "Undetermined",
          "Ryan Air<br>20316 Tweets"
         ],
         "marker": {
          "coloraxis": "coloraxis",
          "colors": [
           1,
           1,
           1,
           1,
           1,
           2,
           2,
           7,
           7,
           8,
           9,
           10,
           12,
           15,
           19,
           21,
           30,
           268,
           19901,
           2,
           12,
           1,
           19901,
           19,
           10,
           7,
           1,
           7,
           30,
           1,
           1,
           8,
           2,
           9,
           268,
           1,
           21,
           15,
           19498.132112620595
          ]
         },
         "name": "",
         "parents": [
          "Ryan Air<br>20316 Tweets/Dutch",
          "Ryan Air<br>20316 Tweets/Icelandic",
          "Ryan Air<br>20316 Tweets/Latvian",
          "Ryan Air<br>20316 Tweets/Lithuanian",
          "Ryan Air<br>20316 Tweets/Swedish",
          "Ryan Air<br>20316 Tweets/Basque",
          "Ryan Air<br>20316 Tweets/Portuguese",
          "Ryan Air<br>20316 Tweets/Hungarian",
          "Ryan Air<br>20316 Tweets/Indonesian",
          "Ryan Air<br>20316 Tweets/Polish",
          "Ryan Air<br>20316 Tweets/Romanian",
          "Ryan Air<br>20316 Tweets/German",
          "Ryan Air<br>20316 Tweets/Catalan",
          "Ryan Air<br>20316 Tweets/Undetermined",
          "Ryan Air<br>20316 Tweets/French",
          "Ryan Air<br>20316 Tweets/Tagalog",
          "Ryan Air<br>20316 Tweets/Italian",
          "Ryan Air<br>20316 Tweets/Spanish",
          "Ryan Air<br>20316 Tweets/English",
          "Ryan Air<br>20316 Tweets",
          "Ryan Air<br>20316 Tweets",
          "Ryan Air<br>20316 Tweets",
          "Ryan Air<br>20316 Tweets",
          "Ryan Air<br>20316 Tweets",
          "Ryan Air<br>20316 Tweets",
          "Ryan Air<br>20316 Tweets",
          "Ryan Air<br>20316 Tweets",
          "Ryan Air<br>20316 Tweets",
          "Ryan Air<br>20316 Tweets",
          "Ryan Air<br>20316 Tweets",
          "Ryan Air<br>20316 Tweets",
          "Ryan Air<br>20316 Tweets",
          "Ryan Air<br>20316 Tweets",
          "Ryan Air<br>20316 Tweets",
          "Ryan Air<br>20316 Tweets",
          "Ryan Air<br>20316 Tweets",
          "Ryan Air<br>20316 Tweets",
          "Ryan Air<br>20316 Tweets",
          ""
         ],
         "type": "sunburst",
         "values": [
          1,
          1,
          1,
          1,
          1,
          2,
          2,
          7,
          7,
          8,
          9,
          10,
          12,
          15,
          19,
          21,
          30,
          268,
          19901,
          2,
          12,
          1,
          19901,
          19,
          10,
          7,
          1,
          7,
          30,
          1,
          1,
          8,
          2,
          9,
          268,
          1,
          21,
          15,
          20316
         ]
        }
       ],
       "layout": {
        "coloraxis": {
         "cmid": 71704.7076933436,
         "colorbar": {
          "title": {
           "text": "count"
          }
         },
         "colorscale": [
          [
           0,
           "rgb(103,0,31)"
          ],
          [
           0.1,
           "rgb(178,24,43)"
          ],
          [
           0.2,
           "rgb(214,96,77)"
          ],
          [
           0.3,
           "rgb(244,165,130)"
          ],
          [
           0.4,
           "rgb(253,219,199)"
          ],
          [
           0.5,
           "rgb(247,247,247)"
          ],
          [
           0.6,
           "rgb(209,229,240)"
          ],
          [
           0.7,
           "rgb(146,197,222)"
          ],
          [
           0.8,
           "rgb(67,147,195)"
          ],
          [
           0.9,
           "rgb(33,102,172)"
          ],
          [
           1,
           "rgb(5,48,97)"
          ]
         ]
        },
        "height": 900,
        "legend": {
         "tracegroupgap": 0
        },
        "margin": {
         "t": 60
        },
        "template": {
         "data": {
          "bar": [
           {
            "error_x": {
             "color": "#2a3f5f"
            },
            "error_y": {
             "color": "#2a3f5f"
            },
            "marker": {
             "line": {
              "color": "#E5ECF6",
              "width": 0.5
             },
             "pattern": {
              "fillmode": "overlay",
              "size": 10,
              "solidity": 0.2
             }
            },
            "type": "bar"
           }
          ],
          "barpolar": [
           {
            "marker": {
             "line": {
              "color": "#E5ECF6",
              "width": 0.5
             },
             "pattern": {
              "fillmode": "overlay",
              "size": 10,
              "solidity": 0.2
             }
            },
            "type": "barpolar"
           }
          ],
          "carpet": [
           {
            "aaxis": {
             "endlinecolor": "#2a3f5f",
             "gridcolor": "white",
             "linecolor": "white",
             "minorgridcolor": "white",
             "startlinecolor": "#2a3f5f"
            },
            "baxis": {
             "endlinecolor": "#2a3f5f",
             "gridcolor": "white",
             "linecolor": "white",
             "minorgridcolor": "white",
             "startlinecolor": "#2a3f5f"
            },
            "type": "carpet"
           }
          ],
          "choropleth": [
           {
            "colorbar": {
             "outlinewidth": 0,
             "ticks": ""
            },
            "type": "choropleth"
           }
          ],
          "contour": [
           {
            "colorbar": {
             "outlinewidth": 0,
             "ticks": ""
            },
            "colorscale": [
             [
              0,
              "#0d0887"
             ],
             [
              0.1111111111111111,
              "#46039f"
             ],
             [
              0.2222222222222222,
              "#7201a8"
             ],
             [
              0.3333333333333333,
              "#9c179e"
             ],
             [
              0.4444444444444444,
              "#bd3786"
             ],
             [
              0.5555555555555556,
              "#d8576b"
             ],
             [
              0.6666666666666666,
              "#ed7953"
             ],
             [
              0.7777777777777778,
              "#fb9f3a"
             ],
             [
              0.8888888888888888,
              "#fdca26"
             ],
             [
              1,
              "#f0f921"
             ]
            ],
            "type": "contour"
           }
          ],
          "contourcarpet": [
           {
            "colorbar": {
             "outlinewidth": 0,
             "ticks": ""
            },
            "type": "contourcarpet"
           }
          ],
          "heatmap": [
           {
            "colorbar": {
             "outlinewidth": 0,
             "ticks": ""
            },
            "colorscale": [
             [
              0,
              "#0d0887"
             ],
             [
              0.1111111111111111,
              "#46039f"
             ],
             [
              0.2222222222222222,
              "#7201a8"
             ],
             [
              0.3333333333333333,
              "#9c179e"
             ],
             [
              0.4444444444444444,
              "#bd3786"
             ],
             [
              0.5555555555555556,
              "#d8576b"
             ],
             [
              0.6666666666666666,
              "#ed7953"
             ],
             [
              0.7777777777777778,
              "#fb9f3a"
             ],
             [
              0.8888888888888888,
              "#fdca26"
             ],
             [
              1,
              "#f0f921"
             ]
            ],
            "type": "heatmap"
           }
          ],
          "heatmapgl": [
           {
            "colorbar": {
             "outlinewidth": 0,
             "ticks": ""
            },
            "colorscale": [
             [
              0,
              "#0d0887"
             ],
             [
              0.1111111111111111,
              "#46039f"
             ],
             [
              0.2222222222222222,
              "#7201a8"
             ],
             [
              0.3333333333333333,
              "#9c179e"
             ],
             [
              0.4444444444444444,
              "#bd3786"
             ],
             [
              0.5555555555555556,
              "#d8576b"
             ],
             [
              0.6666666666666666,
              "#ed7953"
             ],
             [
              0.7777777777777778,
              "#fb9f3a"
             ],
             [
              0.8888888888888888,
              "#fdca26"
             ],
             [
              1,
              "#f0f921"
             ]
            ],
            "type": "heatmapgl"
           }
          ],
          "histogram": [
           {
            "marker": {
             "pattern": {
              "fillmode": "overlay",
              "size": 10,
              "solidity": 0.2
             }
            },
            "type": "histogram"
           }
          ],
          "histogram2d": [
           {
            "colorbar": {
             "outlinewidth": 0,
             "ticks": ""
            },
            "colorscale": [
             [
              0,
              "#0d0887"
             ],
             [
              0.1111111111111111,
              "#46039f"
             ],
             [
              0.2222222222222222,
              "#7201a8"
             ],
             [
              0.3333333333333333,
              "#9c179e"
             ],
             [
              0.4444444444444444,
              "#bd3786"
             ],
             [
              0.5555555555555556,
              "#d8576b"
             ],
             [
              0.6666666666666666,
              "#ed7953"
             ],
             [
              0.7777777777777778,
              "#fb9f3a"
             ],
             [
              0.8888888888888888,
              "#fdca26"
             ],
             [
              1,
              "#f0f921"
             ]
            ],
            "type": "histogram2d"
           }
          ],
          "histogram2dcontour": [
           {
            "colorbar": {
             "outlinewidth": 0,
             "ticks": ""
            },
            "colorscale": [
             [
              0,
              "#0d0887"
             ],
             [
              0.1111111111111111,
              "#46039f"
             ],
             [
              0.2222222222222222,
              "#7201a8"
             ],
             [
              0.3333333333333333,
              "#9c179e"
             ],
             [
              0.4444444444444444,
              "#bd3786"
             ],
             [
              0.5555555555555556,
              "#d8576b"
             ],
             [
              0.6666666666666666,
              "#ed7953"
             ],
             [
              0.7777777777777778,
              "#fb9f3a"
             ],
             [
              0.8888888888888888,
              "#fdca26"
             ],
             [
              1,
              "#f0f921"
             ]
            ],
            "type": "histogram2dcontour"
           }
          ],
          "mesh3d": [
           {
            "colorbar": {
             "outlinewidth": 0,
             "ticks": ""
            },
            "type": "mesh3d"
           }
          ],
          "parcoords": [
           {
            "line": {
             "colorbar": {
              "outlinewidth": 0,
              "ticks": ""
             }
            },
            "type": "parcoords"
           }
          ],
          "pie": [
           {
            "automargin": true,
            "type": "pie"
           }
          ],
          "scatter": [
           {
            "fillpattern": {
             "fillmode": "overlay",
             "size": 10,
             "solidity": 0.2
            },
            "type": "scatter"
           }
          ],
          "scatter3d": [
           {
            "line": {
             "colorbar": {
              "outlinewidth": 0,
              "ticks": ""
             }
            },
            "marker": {
             "colorbar": {
              "outlinewidth": 0,
              "ticks": ""
             }
            },
            "type": "scatter3d"
           }
          ],
          "scattercarpet": [
           {
            "marker": {
             "colorbar": {
              "outlinewidth": 0,
              "ticks": ""
             }
            },
            "type": "scattercarpet"
           }
          ],
          "scattergeo": [
           {
            "marker": {
             "colorbar": {
              "outlinewidth": 0,
              "ticks": ""
             }
            },
            "type": "scattergeo"
           }
          ],
          "scattergl": [
           {
            "marker": {
             "colorbar": {
              "outlinewidth": 0,
              "ticks": ""
             }
            },
            "type": "scattergl"
           }
          ],
          "scattermapbox": [
           {
            "marker": {
             "colorbar": {
              "outlinewidth": 0,
              "ticks": ""
             }
            },
            "type": "scattermapbox"
           }
          ],
          "scatterpolar": [
           {
            "marker": {
             "colorbar": {
              "outlinewidth": 0,
              "ticks": ""
             }
            },
            "type": "scatterpolar"
           }
          ],
          "scatterpolargl": [
           {
            "marker": {
             "colorbar": {
              "outlinewidth": 0,
              "ticks": ""
             }
            },
            "type": "scatterpolargl"
           }
          ],
          "scatterternary": [
           {
            "marker": {
             "colorbar": {
              "outlinewidth": 0,
              "ticks": ""
             }
            },
            "type": "scatterternary"
           }
          ],
          "surface": [
           {
            "colorbar": {
             "outlinewidth": 0,
             "ticks": ""
            },
            "colorscale": [
             [
              0,
              "#0d0887"
             ],
             [
              0.1111111111111111,
              "#46039f"
             ],
             [
              0.2222222222222222,
              "#7201a8"
             ],
             [
              0.3333333333333333,
              "#9c179e"
             ],
             [
              0.4444444444444444,
              "#bd3786"
             ],
             [
              0.5555555555555556,
              "#d8576b"
             ],
             [
              0.6666666666666666,
              "#ed7953"
             ],
             [
              0.7777777777777778,
              "#fb9f3a"
             ],
             [
              0.8888888888888888,
              "#fdca26"
             ],
             [
              1,
              "#f0f921"
             ]
            ],
            "type": "surface"
           }
          ],
          "table": [
           {
            "cells": {
             "fill": {
              "color": "#EBF0F8"
             },
             "line": {
              "color": "white"
             }
            },
            "header": {
             "fill": {
              "color": "#C8D4E3"
             },
             "line": {
              "color": "white"
             }
            },
            "type": "table"
           }
          ]
         },
         "layout": {
          "annotationdefaults": {
           "arrowcolor": "#2a3f5f",
           "arrowhead": 0,
           "arrowwidth": 1
          },
          "autotypenumbers": "strict",
          "coloraxis": {
           "colorbar": {
            "outlinewidth": 0,
            "ticks": ""
           }
          },
          "colorscale": {
           "diverging": [
            [
             0,
             "#8e0152"
            ],
            [
             0.1,
             "#c51b7d"
            ],
            [
             0.2,
             "#de77ae"
            ],
            [
             0.3,
             "#f1b6da"
            ],
            [
             0.4,
             "#fde0ef"
            ],
            [
             0.5,
             "#f7f7f7"
            ],
            [
             0.6,
             "#e6f5d0"
            ],
            [
             0.7,
             "#b8e186"
            ],
            [
             0.8,
             "#7fbc41"
            ],
            [
             0.9,
             "#4d9221"
            ],
            [
             1,
             "#276419"
            ]
           ],
           "sequential": [
            [
             0,
             "#0d0887"
            ],
            [
             0.1111111111111111,
             "#46039f"
            ],
            [
             0.2222222222222222,
             "#7201a8"
            ],
            [
             0.3333333333333333,
             "#9c179e"
            ],
            [
             0.4444444444444444,
             "#bd3786"
            ],
            [
             0.5555555555555556,
             "#d8576b"
            ],
            [
             0.6666666666666666,
             "#ed7953"
            ],
            [
             0.7777777777777778,
             "#fb9f3a"
            ],
            [
             0.8888888888888888,
             "#fdca26"
            ],
            [
             1,
             "#f0f921"
            ]
           ],
           "sequentialminus": [
            [
             0,
             "#0d0887"
            ],
            [
             0.1111111111111111,
             "#46039f"
            ],
            [
             0.2222222222222222,
             "#7201a8"
            ],
            [
             0.3333333333333333,
             "#9c179e"
            ],
            [
             0.4444444444444444,
             "#bd3786"
            ],
            [
             0.5555555555555556,
             "#d8576b"
            ],
            [
             0.6666666666666666,
             "#ed7953"
            ],
            [
             0.7777777777777778,
             "#fb9f3a"
            ],
            [
             0.8888888888888888,
             "#fdca26"
            ],
            [
             1,
             "#f0f921"
            ]
           ]
          },
          "colorway": [
           "#636efa",
           "#EF553B",
           "#00cc96",
           "#ab63fa",
           "#FFA15A",
           "#19d3f3",
           "#FF6692",
           "#B6E880",
           "#FF97FF",
           "#FECB52"
          ],
          "font": {
           "color": "#2a3f5f"
          },
          "geo": {
           "bgcolor": "white",
           "lakecolor": "white",
           "landcolor": "#E5ECF6",
           "showlakes": true,
           "showland": true,
           "subunitcolor": "white"
          },
          "hoverlabel": {
           "align": "left"
          },
          "hovermode": "closest",
          "mapbox": {
           "style": "light"
          },
          "paper_bgcolor": "white",
          "plot_bgcolor": "#E5ECF6",
          "polar": {
           "angularaxis": {
            "gridcolor": "white",
            "linecolor": "white",
            "ticks": ""
           },
           "bgcolor": "#E5ECF6",
           "radialaxis": {
            "gridcolor": "white",
            "linecolor": "white",
            "ticks": ""
           }
          },
          "scene": {
           "xaxis": {
            "backgroundcolor": "#E5ECF6",
            "gridcolor": "white",
            "gridwidth": 2,
            "linecolor": "white",
            "showbackground": true,
            "ticks": "",
            "zerolinecolor": "white"
           },
           "yaxis": {
            "backgroundcolor": "#E5ECF6",
            "gridcolor": "white",
            "gridwidth": 2,
            "linecolor": "white",
            "showbackground": true,
            "ticks": "",
            "zerolinecolor": "white"
           },
           "zaxis": {
            "backgroundcolor": "#E5ECF6",
            "gridcolor": "white",
            "gridwidth": 2,
            "linecolor": "white",
            "showbackground": true,
            "ticks": "",
            "zerolinecolor": "white"
           }
          },
          "shapedefaults": {
           "line": {
            "color": "#2a3f5f"
           }
          },
          "ternary": {
           "aaxis": {
            "gridcolor": "white",
            "linecolor": "white",
            "ticks": ""
           },
           "baxis": {
            "gridcolor": "white",
            "linecolor": "white",
            "ticks": ""
           },
           "bgcolor": "#E5ECF6",
           "caxis": {
            "gridcolor": "white",
            "linecolor": "white",
            "ticks": ""
           }
          },
          "title": {
           "x": 0.05
          },
          "xaxis": {
           "automargin": true,
           "gridcolor": "white",
           "linecolor": "white",
           "ticks": "",
           "title": {
            "standoff": 15
           },
           "zerolinecolor": "white",
           "zerolinewidth": 2
          },
          "yaxis": {
           "automargin": true,
           "gridcolor": "white",
           "linecolor": "white",
           "ticks": "",
           "title": {
            "standoff": 15
           },
           "zerolinecolor": "white",
           "zerolinewidth": 2
          }
         }
        },
        "width": 900
       }
      },
      "text/html": [
       "<div>                            <div id=\"a5fdf887-a54b-43d1-af86-16bdd8d1b6f7\" class=\"plotly-graph-div\" style=\"height:900px; width:900px;\"></div>            <script type=\"text/javascript\">                require([\"plotly\"], function(Plotly) {                    window.PLOTLYENV=window.PLOTLYENV || {};                                    if (document.getElementById(\"a5fdf887-a54b-43d1-af86-16bdd8d1b6f7\")) {                    Plotly.newPlot(                        \"a5fdf887-a54b-43d1-af86-16bdd8d1b6f7\",                        [{\"branchvalues\":\"total\",\"customdata\":[[1.0],[1.0],[1.0],[1.0],[1.0],[2.0],[2.0],[7.0],[7.0],[8.0],[9.0],[10.0],[12.0],[15.0],[19.0],[21.0],[30.0],[268.0],[19901.0],[2.0],[12.0],[1.0],[19901.0],[19.0],[10.0],[7.0],[1.0],[7.0],[30.0],[1.0],[1.0],[8.0],[2.0],[9.0],[268.0],[1.0],[21.0],[15.0],[19498.132112620595]],\"domain\":{\"x\":[0.0,1.0],\"y\":[0.0,1.0]},\"hovertemplate\":\"labels=%{label}<br>count_sum=%{value}<br>parent=%{parent}<br>id=%{id}<br>count=%{color}<extra></extra>\",\"ids\":[\"Ryan Air<br>20316 Tweets/Dutch/1\",\"Ryan Air<br>20316 Tweets/Icelandic/1\",\"Ryan Air<br>20316 Tweets/Latvian/1\",\"Ryan Air<br>20316 Tweets/Lithuanian/1\",\"Ryan Air<br>20316 Tweets/Swedish/1\",\"Ryan Air<br>20316 Tweets/Basque/2\",\"Ryan Air<br>20316 Tweets/Portuguese/2\",\"Ryan Air<br>20316 Tweets/Hungarian/7\",\"Ryan Air<br>20316 Tweets/Indonesian/7\",\"Ryan Air<br>20316 Tweets/Polish/8\",\"Ryan Air<br>20316 Tweets/Romanian/9\",\"Ryan Air<br>20316 Tweets/German/10\",\"Ryan Air<br>20316 Tweets/Catalan/12\",\"Ryan Air<br>20316 Tweets/Undetermined/15\",\"Ryan Air<br>20316 Tweets/French/19\",\"Ryan Air<br>20316 Tweets/Tagalog/21\",\"Ryan Air<br>20316 Tweets/Italian/30\",\"Ryan Air<br>20316 Tweets/Spanish/268\",\"Ryan Air<br>20316 Tweets/English/19901\",\"Ryan Air<br>20316 Tweets/Basque\",\"Ryan Air<br>20316 Tweets/Catalan\",\"Ryan Air<br>20316 Tweets/Dutch\",\"Ryan Air<br>20316 Tweets/English\",\"Ryan Air<br>20316 Tweets/French\",\"Ryan Air<br>20316 Tweets/German\",\"Ryan Air<br>20316 Tweets/Hungarian\",\"Ryan Air<br>20316 Tweets/Icelandic\",\"Ryan Air<br>20316 Tweets/Indonesian\",\"Ryan Air<br>20316 Tweets/Italian\",\"Ryan Air<br>20316 Tweets/Latvian\",\"Ryan Air<br>20316 Tweets/Lithuanian\",\"Ryan Air<br>20316 Tweets/Polish\",\"Ryan Air<br>20316 Tweets/Portuguese\",\"Ryan Air<br>20316 Tweets/Romanian\",\"Ryan Air<br>20316 Tweets/Spanish\",\"Ryan Air<br>20316 Tweets/Swedish\",\"Ryan Air<br>20316 Tweets/Tagalog\",\"Ryan Air<br>20316 Tweets/Undetermined\",\"Ryan Air<br>20316 Tweets\"],\"labels\":[\"1\",\"1\",\"1\",\"1\",\"1\",\"2\",\"2\",\"7\",\"7\",\"8\",\"9\",\"10\",\"12\",\"15\",\"19\",\"21\",\"30\",\"268\",\"19901\",\"Basque\",\"Catalan\",\"Dutch\",\"English\",\"French\",\"German\",\"Hungarian\",\"Icelandic\",\"Indonesian\",\"Italian\",\"Latvian\",\"Lithuanian\",\"Polish\",\"Portuguese\",\"Romanian\",\"Spanish\",\"Swedish\",\"Tagalog\",\"Undetermined\",\"Ryan Air<br>20316 Tweets\"],\"marker\":{\"coloraxis\":\"coloraxis\",\"colors\":[1.0,1.0,1.0,1.0,1.0,2.0,2.0,7.0,7.0,8.0,9.0,10.0,12.0,15.0,19.0,21.0,30.0,268.0,19901.0,2.0,12.0,1.0,19901.0,19.0,10.0,7.0,1.0,7.0,30.0,1.0,1.0,8.0,2.0,9.0,268.0,1.0,21.0,15.0,19498.132112620595]},\"name\":\"\",\"parents\":[\"Ryan Air<br>20316 Tweets/Dutch\",\"Ryan Air<br>20316 Tweets/Icelandic\",\"Ryan Air<br>20316 Tweets/Latvian\",\"Ryan Air<br>20316 Tweets/Lithuanian\",\"Ryan Air<br>20316 Tweets/Swedish\",\"Ryan Air<br>20316 Tweets/Basque\",\"Ryan Air<br>20316 Tweets/Portuguese\",\"Ryan Air<br>20316 Tweets/Hungarian\",\"Ryan Air<br>20316 Tweets/Indonesian\",\"Ryan Air<br>20316 Tweets/Polish\",\"Ryan Air<br>20316 Tweets/Romanian\",\"Ryan Air<br>20316 Tweets/German\",\"Ryan Air<br>20316 Tweets/Catalan\",\"Ryan Air<br>20316 Tweets/Undetermined\",\"Ryan Air<br>20316 Tweets/French\",\"Ryan Air<br>20316 Tweets/Tagalog\",\"Ryan Air<br>20316 Tweets/Italian\",\"Ryan Air<br>20316 Tweets/Spanish\",\"Ryan Air<br>20316 Tweets/English\",\"Ryan Air<br>20316 Tweets\",\"Ryan Air<br>20316 Tweets\",\"Ryan Air<br>20316 Tweets\",\"Ryan Air<br>20316 Tweets\",\"Ryan Air<br>20316 Tweets\",\"Ryan Air<br>20316 Tweets\",\"Ryan Air<br>20316 Tweets\",\"Ryan Air<br>20316 Tweets\",\"Ryan Air<br>20316 Tweets\",\"Ryan Air<br>20316 Tweets\",\"Ryan Air<br>20316 Tweets\",\"Ryan Air<br>20316 Tweets\",\"Ryan Air<br>20316 Tweets\",\"Ryan Air<br>20316 Tweets\",\"Ryan Air<br>20316 Tweets\",\"Ryan Air<br>20316 Tweets\",\"Ryan Air<br>20316 Tweets\",\"Ryan Air<br>20316 Tweets\",\"Ryan Air<br>20316 Tweets\",\"\"],\"values\":[1,1,1,1,1,2,2,7,7,8,9,10,12,15,19,21,30,268,19901,2,12,1,19901,19,10,7,1,7,30,1,1,8,2,9,268,1,21,15,20316],\"type\":\"sunburst\"}],                        {\"template\":{\"data\":{\"histogram2dcontour\":[{\"type\":\"histogram2dcontour\",\"colorbar\":{\"outlinewidth\":0,\"ticks\":\"\"},\"colorscale\":[[0.0,\"#0d0887\"],[0.1111111111111111,\"#46039f\"],[0.2222222222222222,\"#7201a8\"],[0.3333333333333333,\"#9c179e\"],[0.4444444444444444,\"#bd3786\"],[0.5555555555555556,\"#d8576b\"],[0.6666666666666666,\"#ed7953\"],[0.7777777777777778,\"#fb9f3a\"],[0.8888888888888888,\"#fdca26\"],[1.0,\"#f0f921\"]]}],\"choropleth\":[{\"type\":\"choropleth\",\"colorbar\":{\"outlinewidth\":0,\"ticks\":\"\"}}],\"histogram2d\":[{\"type\":\"histogram2d\",\"colorbar\":{\"outlinewidth\":0,\"ticks\":\"\"},\"colorscale\":[[0.0,\"#0d0887\"],[0.1111111111111111,\"#46039f\"],[0.2222222222222222,\"#7201a8\"],[0.3333333333333333,\"#9c179e\"],[0.4444444444444444,\"#bd3786\"],[0.5555555555555556,\"#d8576b\"],[0.6666666666666666,\"#ed7953\"],[0.7777777777777778,\"#fb9f3a\"],[0.8888888888888888,\"#fdca26\"],[1.0,\"#f0f921\"]]}],\"heatmap\":[{\"type\":\"heatmap\",\"colorbar\":{\"outlinewidth\":0,\"ticks\":\"\"},\"colorscale\":[[0.0,\"#0d0887\"],[0.1111111111111111,\"#46039f\"],[0.2222222222222222,\"#7201a8\"],[0.3333333333333333,\"#9c179e\"],[0.4444444444444444,\"#bd3786\"],[0.5555555555555556,\"#d8576b\"],[0.6666666666666666,\"#ed7953\"],[0.7777777777777778,\"#fb9f3a\"],[0.8888888888888888,\"#fdca26\"],[1.0,\"#f0f921\"]]}],\"heatmapgl\":[{\"type\":\"heatmapgl\",\"colorbar\":{\"outlinewidth\":0,\"ticks\":\"\"},\"colorscale\":[[0.0,\"#0d0887\"],[0.1111111111111111,\"#46039f\"],[0.2222222222222222,\"#7201a8\"],[0.3333333333333333,\"#9c179e\"],[0.4444444444444444,\"#bd3786\"],[0.5555555555555556,\"#d8576b\"],[0.6666666666666666,\"#ed7953\"],[0.7777777777777778,\"#fb9f3a\"],[0.8888888888888888,\"#fdca26\"],[1.0,\"#f0f921\"]]}],\"contourcarpet\":[{\"type\":\"contourcarpet\",\"colorbar\":{\"outlinewidth\":0,\"ticks\":\"\"}}],\"contour\":[{\"type\":\"contour\",\"colorbar\":{\"outlinewidth\":0,\"ticks\":\"\"},\"colorscale\":[[0.0,\"#0d0887\"],[0.1111111111111111,\"#46039f\"],[0.2222222222222222,\"#7201a8\"],[0.3333333333333333,\"#9c179e\"],[0.4444444444444444,\"#bd3786\"],[0.5555555555555556,\"#d8576b\"],[0.6666666666666666,\"#ed7953\"],[0.7777777777777778,\"#fb9f3a\"],[0.8888888888888888,\"#fdca26\"],[1.0,\"#f0f921\"]]}],\"surface\":[{\"type\":\"surface\",\"colorbar\":{\"outlinewidth\":0,\"ticks\":\"\"},\"colorscale\":[[0.0,\"#0d0887\"],[0.1111111111111111,\"#46039f\"],[0.2222222222222222,\"#7201a8\"],[0.3333333333333333,\"#9c179e\"],[0.4444444444444444,\"#bd3786\"],[0.5555555555555556,\"#d8576b\"],[0.6666666666666666,\"#ed7953\"],[0.7777777777777778,\"#fb9f3a\"],[0.8888888888888888,\"#fdca26\"],[1.0,\"#f0f921\"]]}],\"mesh3d\":[{\"type\":\"mesh3d\",\"colorbar\":{\"outlinewidth\":0,\"ticks\":\"\"}}],\"scatter\":[{\"fillpattern\":{\"fillmode\":\"overlay\",\"size\":10,\"solidity\":0.2},\"type\":\"scatter\"}],\"parcoords\":[{\"type\":\"parcoords\",\"line\":{\"colorbar\":{\"outlinewidth\":0,\"ticks\":\"\"}}}],\"scatterpolargl\":[{\"type\":\"scatterpolargl\",\"marker\":{\"colorbar\":{\"outlinewidth\":0,\"ticks\":\"\"}}}],\"bar\":[{\"error_x\":{\"color\":\"#2a3f5f\"},\"error_y\":{\"color\":\"#2a3f5f\"},\"marker\":{\"line\":{\"color\":\"#E5ECF6\",\"width\":0.5},\"pattern\":{\"fillmode\":\"overlay\",\"size\":10,\"solidity\":0.2}},\"type\":\"bar\"}],\"scattergeo\":[{\"type\":\"scattergeo\",\"marker\":{\"colorbar\":{\"outlinewidth\":0,\"ticks\":\"\"}}}],\"scatterpolar\":[{\"type\":\"scatterpolar\",\"marker\":{\"colorbar\":{\"outlinewidth\":0,\"ticks\":\"\"}}}],\"histogram\":[{\"marker\":{\"pattern\":{\"fillmode\":\"overlay\",\"size\":10,\"solidity\":0.2}},\"type\":\"histogram\"}],\"scattergl\":[{\"type\":\"scattergl\",\"marker\":{\"colorbar\":{\"outlinewidth\":0,\"ticks\":\"\"}}}],\"scatter3d\":[{\"type\":\"scatter3d\",\"line\":{\"colorbar\":{\"outlinewidth\":0,\"ticks\":\"\"}},\"marker\":{\"colorbar\":{\"outlinewidth\":0,\"ticks\":\"\"}}}],\"scattermapbox\":[{\"type\":\"scattermapbox\",\"marker\":{\"colorbar\":{\"outlinewidth\":0,\"ticks\":\"\"}}}],\"scatterternary\":[{\"type\":\"scatterternary\",\"marker\":{\"colorbar\":{\"outlinewidth\":0,\"ticks\":\"\"}}}],\"scattercarpet\":[{\"type\":\"scattercarpet\",\"marker\":{\"colorbar\":{\"outlinewidth\":0,\"ticks\":\"\"}}}],\"carpet\":[{\"aaxis\":{\"endlinecolor\":\"#2a3f5f\",\"gridcolor\":\"white\",\"linecolor\":\"white\",\"minorgridcolor\":\"white\",\"startlinecolor\":\"#2a3f5f\"},\"baxis\":{\"endlinecolor\":\"#2a3f5f\",\"gridcolor\":\"white\",\"linecolor\":\"white\",\"minorgridcolor\":\"white\",\"startlinecolor\":\"#2a3f5f\"},\"type\":\"carpet\"}],\"table\":[{\"cells\":{\"fill\":{\"color\":\"#EBF0F8\"},\"line\":{\"color\":\"white\"}},\"header\":{\"fill\":{\"color\":\"#C8D4E3\"},\"line\":{\"color\":\"white\"}},\"type\":\"table\"}],\"barpolar\":[{\"marker\":{\"line\":{\"color\":\"#E5ECF6\",\"width\":0.5},\"pattern\":{\"fillmode\":\"overlay\",\"size\":10,\"solidity\":0.2}},\"type\":\"barpolar\"}],\"pie\":[{\"automargin\":true,\"type\":\"pie\"}]},\"layout\":{\"autotypenumbers\":\"strict\",\"colorway\":[\"#636efa\",\"#EF553B\",\"#00cc96\",\"#ab63fa\",\"#FFA15A\",\"#19d3f3\",\"#FF6692\",\"#B6E880\",\"#FF97FF\",\"#FECB52\"],\"font\":{\"color\":\"#2a3f5f\"},\"hovermode\":\"closest\",\"hoverlabel\":{\"align\":\"left\"},\"paper_bgcolor\":\"white\",\"plot_bgcolor\":\"#E5ECF6\",\"polar\":{\"bgcolor\":\"#E5ECF6\",\"angularaxis\":{\"gridcolor\":\"white\",\"linecolor\":\"white\",\"ticks\":\"\"},\"radialaxis\":{\"gridcolor\":\"white\",\"linecolor\":\"white\",\"ticks\":\"\"}},\"ternary\":{\"bgcolor\":\"#E5ECF6\",\"aaxis\":{\"gridcolor\":\"white\",\"linecolor\":\"white\",\"ticks\":\"\"},\"baxis\":{\"gridcolor\":\"white\",\"linecolor\":\"white\",\"ticks\":\"\"},\"caxis\":{\"gridcolor\":\"white\",\"linecolor\":\"white\",\"ticks\":\"\"}},\"coloraxis\":{\"colorbar\":{\"outlinewidth\":0,\"ticks\":\"\"}},\"colorscale\":{\"sequential\":[[0.0,\"#0d0887\"],[0.1111111111111111,\"#46039f\"],[0.2222222222222222,\"#7201a8\"],[0.3333333333333333,\"#9c179e\"],[0.4444444444444444,\"#bd3786\"],[0.5555555555555556,\"#d8576b\"],[0.6666666666666666,\"#ed7953\"],[0.7777777777777778,\"#fb9f3a\"],[0.8888888888888888,\"#fdca26\"],[1.0,\"#f0f921\"]],\"sequentialminus\":[[0.0,\"#0d0887\"],[0.1111111111111111,\"#46039f\"],[0.2222222222222222,\"#7201a8\"],[0.3333333333333333,\"#9c179e\"],[0.4444444444444444,\"#bd3786\"],[0.5555555555555556,\"#d8576b\"],[0.6666666666666666,\"#ed7953\"],[0.7777777777777778,\"#fb9f3a\"],[0.8888888888888888,\"#fdca26\"],[1.0,\"#f0f921\"]],\"diverging\":[[0,\"#8e0152\"],[0.1,\"#c51b7d\"],[0.2,\"#de77ae\"],[0.3,\"#f1b6da\"],[0.4,\"#fde0ef\"],[0.5,\"#f7f7f7\"],[0.6,\"#e6f5d0\"],[0.7,\"#b8e186\"],[0.8,\"#7fbc41\"],[0.9,\"#4d9221\"],[1,\"#276419\"]]},\"xaxis\":{\"gridcolor\":\"white\",\"linecolor\":\"white\",\"ticks\":\"\",\"title\":{\"standoff\":15},\"zerolinecolor\":\"white\",\"automargin\":true,\"zerolinewidth\":2},\"yaxis\":{\"gridcolor\":\"white\",\"linecolor\":\"white\",\"ticks\":\"\",\"title\":{\"standoff\":15},\"zerolinecolor\":\"white\",\"automargin\":true,\"zerolinewidth\":2},\"scene\":{\"xaxis\":{\"backgroundcolor\":\"#E5ECF6\",\"gridcolor\":\"white\",\"linecolor\":\"white\",\"showbackground\":true,\"ticks\":\"\",\"zerolinecolor\":\"white\",\"gridwidth\":2},\"yaxis\":{\"backgroundcolor\":\"#E5ECF6\",\"gridcolor\":\"white\",\"linecolor\":\"white\",\"showbackground\":true,\"ticks\":\"\",\"zerolinecolor\":\"white\",\"gridwidth\":2},\"zaxis\":{\"backgroundcolor\":\"#E5ECF6\",\"gridcolor\":\"white\",\"linecolor\":\"white\",\"showbackground\":true,\"ticks\":\"\",\"zerolinecolor\":\"white\",\"gridwidth\":2}},\"shapedefaults\":{\"line\":{\"color\":\"#2a3f5f\"}},\"annotationdefaults\":{\"arrowcolor\":\"#2a3f5f\",\"arrowhead\":0,\"arrowwidth\":1},\"geo\":{\"bgcolor\":\"white\",\"landcolor\":\"#E5ECF6\",\"subunitcolor\":\"white\",\"showland\":true,\"showlakes\":true,\"lakecolor\":\"white\"},\"title\":{\"x\":0.05},\"mapbox\":{\"style\":\"light\"}}},\"coloraxis\":{\"colorbar\":{\"title\":{\"text\":\"count\"}},\"colorscale\":[[0.0,\"rgb(103,0,31)\"],[0.1,\"rgb(178,24,43)\"],[0.2,\"rgb(214,96,77)\"],[0.3,\"rgb(244,165,130)\"],[0.4,\"rgb(253,219,199)\"],[0.5,\"rgb(247,247,247)\"],[0.6,\"rgb(209,229,240)\"],[0.7,\"rgb(146,197,222)\"],[0.8,\"rgb(67,147,195)\"],[0.9,\"rgb(33,102,172)\"],[1.0,\"rgb(5,48,97)\"]],\"cmid\":71704.7076933436},\"legend\":{\"tracegroupgap\":0},\"margin\":{\"t\":60},\"height\":900,\"width\":900},                        {\"responsive\": true}                    ).then(function(){\n",
       "                            \n",
       "var gd = document.getElementById('a5fdf887-a54b-43d1-af86-16bdd8d1b6f7');\n",
       "var x = new MutationObserver(function (mutations, observer) {{\n",
       "        var display = window.getComputedStyle(gd).display;\n",
       "        if (!display || display === 'none') {{\n",
       "            console.log([gd, 'removed!']);\n",
       "            Plotly.purge(gd);\n",
       "            observer.disconnect();\n",
       "        }}\n",
       "}});\n",
       "\n",
       "// Listen for the removal of the full notebook cells\n",
       "var notebookContainer = gd.closest('#notebook-container');\n",
       "if (notebookContainer) {{\n",
       "    x.observe(notebookContainer, {childList: true});\n",
       "}}\n",
       "\n",
       "// Listen for the clearing of the current output cell\n",
       "var outputEl = gd.closest('.output');\n",
       "if (outputEl) {{\n",
       "    x.observe(outputEl, {childList: true});\n",
       "}}\n",
       "\n",
       "                        })                };                });            </script>        </div>"
      ]
     },
     "metadata": {},
     "output_type": "display_data"
    },
    {
     "data": {
      "application/vnd.plotly.v1+json": {
       "config": {
        "plotlyServerURL": "https://plot.ly"
       },
       "data": [
        {
         "branchvalues": "total",
         "customdata": [
          [
           2
          ],
          [
           12918
          ],
          [
           12918
          ],
          [
           2
          ],
          [
           12916.000619195047
          ]
         ],
         "domain": {
          "x": [
           0,
           1
          ],
          "y": [
           0,
           1
          ]
         },
         "hovertemplate": "labels=%{label}<br>count_sum=%{value}<br>parent=%{parent}<br>id=%{id}<br>count=%{color}<extra></extra>",
         "ids": [
          "Singapore Air<br>12920 Tweets/French/2",
          "Singapore Air<br>12920 Tweets/English/12918",
          "Singapore Air<br>12920 Tweets/English",
          "Singapore Air<br>12920 Tweets/French",
          "Singapore Air<br>12920 Tweets"
         ],
         "labels": [
          "2",
          "12918",
          "English",
          "French",
          "Singapore Air<br>12920 Tweets"
         ],
         "marker": {
          "coloraxis": "coloraxis",
          "colors": [
           2,
           12918,
           12918,
           2,
           12916.000619195047
          ]
         },
         "name": "",
         "parents": [
          "Singapore Air<br>12920 Tweets/French",
          "Singapore Air<br>12920 Tweets/English",
          "Singapore Air<br>12920 Tweets",
          "Singapore Air<br>12920 Tweets",
          ""
         ],
         "type": "sunburst",
         "values": [
          2,
          12918,
          12918,
          2,
          12920
         ]
        }
       ],
       "layout": {
        "coloraxis": {
         "cmid": 71704.7076933436,
         "colorbar": {
          "title": {
           "text": "count"
          }
         },
         "colorscale": [
          [
           0,
           "rgb(103,0,31)"
          ],
          [
           0.1,
           "rgb(178,24,43)"
          ],
          [
           0.2,
           "rgb(214,96,77)"
          ],
          [
           0.3,
           "rgb(244,165,130)"
          ],
          [
           0.4,
           "rgb(253,219,199)"
          ],
          [
           0.5,
           "rgb(247,247,247)"
          ],
          [
           0.6,
           "rgb(209,229,240)"
          ],
          [
           0.7,
           "rgb(146,197,222)"
          ],
          [
           0.8,
           "rgb(67,147,195)"
          ],
          [
           0.9,
           "rgb(33,102,172)"
          ],
          [
           1,
           "rgb(5,48,97)"
          ]
         ]
        },
        "height": 900,
        "legend": {
         "tracegroupgap": 0
        },
        "margin": {
         "t": 60
        },
        "template": {
         "data": {
          "bar": [
           {
            "error_x": {
             "color": "#2a3f5f"
            },
            "error_y": {
             "color": "#2a3f5f"
            },
            "marker": {
             "line": {
              "color": "#E5ECF6",
              "width": 0.5
             },
             "pattern": {
              "fillmode": "overlay",
              "size": 10,
              "solidity": 0.2
             }
            },
            "type": "bar"
           }
          ],
          "barpolar": [
           {
            "marker": {
             "line": {
              "color": "#E5ECF6",
              "width": 0.5
             },
             "pattern": {
              "fillmode": "overlay",
              "size": 10,
              "solidity": 0.2
             }
            },
            "type": "barpolar"
           }
          ],
          "carpet": [
           {
            "aaxis": {
             "endlinecolor": "#2a3f5f",
             "gridcolor": "white",
             "linecolor": "white",
             "minorgridcolor": "white",
             "startlinecolor": "#2a3f5f"
            },
            "baxis": {
             "endlinecolor": "#2a3f5f",
             "gridcolor": "white",
             "linecolor": "white",
             "minorgridcolor": "white",
             "startlinecolor": "#2a3f5f"
            },
            "type": "carpet"
           }
          ],
          "choropleth": [
           {
            "colorbar": {
             "outlinewidth": 0,
             "ticks": ""
            },
            "type": "choropleth"
           }
          ],
          "contour": [
           {
            "colorbar": {
             "outlinewidth": 0,
             "ticks": ""
            },
            "colorscale": [
             [
              0,
              "#0d0887"
             ],
             [
              0.1111111111111111,
              "#46039f"
             ],
             [
              0.2222222222222222,
              "#7201a8"
             ],
             [
              0.3333333333333333,
              "#9c179e"
             ],
             [
              0.4444444444444444,
              "#bd3786"
             ],
             [
              0.5555555555555556,
              "#d8576b"
             ],
             [
              0.6666666666666666,
              "#ed7953"
             ],
             [
              0.7777777777777778,
              "#fb9f3a"
             ],
             [
              0.8888888888888888,
              "#fdca26"
             ],
             [
              1,
              "#f0f921"
             ]
            ],
            "type": "contour"
           }
          ],
          "contourcarpet": [
           {
            "colorbar": {
             "outlinewidth": 0,
             "ticks": ""
            },
            "type": "contourcarpet"
           }
          ],
          "heatmap": [
           {
            "colorbar": {
             "outlinewidth": 0,
             "ticks": ""
            },
            "colorscale": [
             [
              0,
              "#0d0887"
             ],
             [
              0.1111111111111111,
              "#46039f"
             ],
             [
              0.2222222222222222,
              "#7201a8"
             ],
             [
              0.3333333333333333,
              "#9c179e"
             ],
             [
              0.4444444444444444,
              "#bd3786"
             ],
             [
              0.5555555555555556,
              "#d8576b"
             ],
             [
              0.6666666666666666,
              "#ed7953"
             ],
             [
              0.7777777777777778,
              "#fb9f3a"
             ],
             [
              0.8888888888888888,
              "#fdca26"
             ],
             [
              1,
              "#f0f921"
             ]
            ],
            "type": "heatmap"
           }
          ],
          "heatmapgl": [
           {
            "colorbar": {
             "outlinewidth": 0,
             "ticks": ""
            },
            "colorscale": [
             [
              0,
              "#0d0887"
             ],
             [
              0.1111111111111111,
              "#46039f"
             ],
             [
              0.2222222222222222,
              "#7201a8"
             ],
             [
              0.3333333333333333,
              "#9c179e"
             ],
             [
              0.4444444444444444,
              "#bd3786"
             ],
             [
              0.5555555555555556,
              "#d8576b"
             ],
             [
              0.6666666666666666,
              "#ed7953"
             ],
             [
              0.7777777777777778,
              "#fb9f3a"
             ],
             [
              0.8888888888888888,
              "#fdca26"
             ],
             [
              1,
              "#f0f921"
             ]
            ],
            "type": "heatmapgl"
           }
          ],
          "histogram": [
           {
            "marker": {
             "pattern": {
              "fillmode": "overlay",
              "size": 10,
              "solidity": 0.2
             }
            },
            "type": "histogram"
           }
          ],
          "histogram2d": [
           {
            "colorbar": {
             "outlinewidth": 0,
             "ticks": ""
            },
            "colorscale": [
             [
              0,
              "#0d0887"
             ],
             [
              0.1111111111111111,
              "#46039f"
             ],
             [
              0.2222222222222222,
              "#7201a8"
             ],
             [
              0.3333333333333333,
              "#9c179e"
             ],
             [
              0.4444444444444444,
              "#bd3786"
             ],
             [
              0.5555555555555556,
              "#d8576b"
             ],
             [
              0.6666666666666666,
              "#ed7953"
             ],
             [
              0.7777777777777778,
              "#fb9f3a"
             ],
             [
              0.8888888888888888,
              "#fdca26"
             ],
             [
              1,
              "#f0f921"
             ]
            ],
            "type": "histogram2d"
           }
          ],
          "histogram2dcontour": [
           {
            "colorbar": {
             "outlinewidth": 0,
             "ticks": ""
            },
            "colorscale": [
             [
              0,
              "#0d0887"
             ],
             [
              0.1111111111111111,
              "#46039f"
             ],
             [
              0.2222222222222222,
              "#7201a8"
             ],
             [
              0.3333333333333333,
              "#9c179e"
             ],
             [
              0.4444444444444444,
              "#bd3786"
             ],
             [
              0.5555555555555556,
              "#d8576b"
             ],
             [
              0.6666666666666666,
              "#ed7953"
             ],
             [
              0.7777777777777778,
              "#fb9f3a"
             ],
             [
              0.8888888888888888,
              "#fdca26"
             ],
             [
              1,
              "#f0f921"
             ]
            ],
            "type": "histogram2dcontour"
           }
          ],
          "mesh3d": [
           {
            "colorbar": {
             "outlinewidth": 0,
             "ticks": ""
            },
            "type": "mesh3d"
           }
          ],
          "parcoords": [
           {
            "line": {
             "colorbar": {
              "outlinewidth": 0,
              "ticks": ""
             }
            },
            "type": "parcoords"
           }
          ],
          "pie": [
           {
            "automargin": true,
            "type": "pie"
           }
          ],
          "scatter": [
           {
            "fillpattern": {
             "fillmode": "overlay",
             "size": 10,
             "solidity": 0.2
            },
            "type": "scatter"
           }
          ],
          "scatter3d": [
           {
            "line": {
             "colorbar": {
              "outlinewidth": 0,
              "ticks": ""
             }
            },
            "marker": {
             "colorbar": {
              "outlinewidth": 0,
              "ticks": ""
             }
            },
            "type": "scatter3d"
           }
          ],
          "scattercarpet": [
           {
            "marker": {
             "colorbar": {
              "outlinewidth": 0,
              "ticks": ""
             }
            },
            "type": "scattercarpet"
           }
          ],
          "scattergeo": [
           {
            "marker": {
             "colorbar": {
              "outlinewidth": 0,
              "ticks": ""
             }
            },
            "type": "scattergeo"
           }
          ],
          "scattergl": [
           {
            "marker": {
             "colorbar": {
              "outlinewidth": 0,
              "ticks": ""
             }
            },
            "type": "scattergl"
           }
          ],
          "scattermapbox": [
           {
            "marker": {
             "colorbar": {
              "outlinewidth": 0,
              "ticks": ""
             }
            },
            "type": "scattermapbox"
           }
          ],
          "scatterpolar": [
           {
            "marker": {
             "colorbar": {
              "outlinewidth": 0,
              "ticks": ""
             }
            },
            "type": "scatterpolar"
           }
          ],
          "scatterpolargl": [
           {
            "marker": {
             "colorbar": {
              "outlinewidth": 0,
              "ticks": ""
             }
            },
            "type": "scatterpolargl"
           }
          ],
          "scatterternary": [
           {
            "marker": {
             "colorbar": {
              "outlinewidth": 0,
              "ticks": ""
             }
            },
            "type": "scatterternary"
           }
          ],
          "surface": [
           {
            "colorbar": {
             "outlinewidth": 0,
             "ticks": ""
            },
            "colorscale": [
             [
              0,
              "#0d0887"
             ],
             [
              0.1111111111111111,
              "#46039f"
             ],
             [
              0.2222222222222222,
              "#7201a8"
             ],
             [
              0.3333333333333333,
              "#9c179e"
             ],
             [
              0.4444444444444444,
              "#bd3786"
             ],
             [
              0.5555555555555556,
              "#d8576b"
             ],
             [
              0.6666666666666666,
              "#ed7953"
             ],
             [
              0.7777777777777778,
              "#fb9f3a"
             ],
             [
              0.8888888888888888,
              "#fdca26"
             ],
             [
              1,
              "#f0f921"
             ]
            ],
            "type": "surface"
           }
          ],
          "table": [
           {
            "cells": {
             "fill": {
              "color": "#EBF0F8"
             },
             "line": {
              "color": "white"
             }
            },
            "header": {
             "fill": {
              "color": "#C8D4E3"
             },
             "line": {
              "color": "white"
             }
            },
            "type": "table"
           }
          ]
         },
         "layout": {
          "annotationdefaults": {
           "arrowcolor": "#2a3f5f",
           "arrowhead": 0,
           "arrowwidth": 1
          },
          "autotypenumbers": "strict",
          "coloraxis": {
           "colorbar": {
            "outlinewidth": 0,
            "ticks": ""
           }
          },
          "colorscale": {
           "diverging": [
            [
             0,
             "#8e0152"
            ],
            [
             0.1,
             "#c51b7d"
            ],
            [
             0.2,
             "#de77ae"
            ],
            [
             0.3,
             "#f1b6da"
            ],
            [
             0.4,
             "#fde0ef"
            ],
            [
             0.5,
             "#f7f7f7"
            ],
            [
             0.6,
             "#e6f5d0"
            ],
            [
             0.7,
             "#b8e186"
            ],
            [
             0.8,
             "#7fbc41"
            ],
            [
             0.9,
             "#4d9221"
            ],
            [
             1,
             "#276419"
            ]
           ],
           "sequential": [
            [
             0,
             "#0d0887"
            ],
            [
             0.1111111111111111,
             "#46039f"
            ],
            [
             0.2222222222222222,
             "#7201a8"
            ],
            [
             0.3333333333333333,
             "#9c179e"
            ],
            [
             0.4444444444444444,
             "#bd3786"
            ],
            [
             0.5555555555555556,
             "#d8576b"
            ],
            [
             0.6666666666666666,
             "#ed7953"
            ],
            [
             0.7777777777777778,
             "#fb9f3a"
            ],
            [
             0.8888888888888888,
             "#fdca26"
            ],
            [
             1,
             "#f0f921"
            ]
           ],
           "sequentialminus": [
            [
             0,
             "#0d0887"
            ],
            [
             0.1111111111111111,
             "#46039f"
            ],
            [
             0.2222222222222222,
             "#7201a8"
            ],
            [
             0.3333333333333333,
             "#9c179e"
            ],
            [
             0.4444444444444444,
             "#bd3786"
            ],
            [
             0.5555555555555556,
             "#d8576b"
            ],
            [
             0.6666666666666666,
             "#ed7953"
            ],
            [
             0.7777777777777778,
             "#fb9f3a"
            ],
            [
             0.8888888888888888,
             "#fdca26"
            ],
            [
             1,
             "#f0f921"
            ]
           ]
          },
          "colorway": [
           "#636efa",
           "#EF553B",
           "#00cc96",
           "#ab63fa",
           "#FFA15A",
           "#19d3f3",
           "#FF6692",
           "#B6E880",
           "#FF97FF",
           "#FECB52"
          ],
          "font": {
           "color": "#2a3f5f"
          },
          "geo": {
           "bgcolor": "white",
           "lakecolor": "white",
           "landcolor": "#E5ECF6",
           "showlakes": true,
           "showland": true,
           "subunitcolor": "white"
          },
          "hoverlabel": {
           "align": "left"
          },
          "hovermode": "closest",
          "mapbox": {
           "style": "light"
          },
          "paper_bgcolor": "white",
          "plot_bgcolor": "#E5ECF6",
          "polar": {
           "angularaxis": {
            "gridcolor": "white",
            "linecolor": "white",
            "ticks": ""
           },
           "bgcolor": "#E5ECF6",
           "radialaxis": {
            "gridcolor": "white",
            "linecolor": "white",
            "ticks": ""
           }
          },
          "scene": {
           "xaxis": {
            "backgroundcolor": "#E5ECF6",
            "gridcolor": "white",
            "gridwidth": 2,
            "linecolor": "white",
            "showbackground": true,
            "ticks": "",
            "zerolinecolor": "white"
           },
           "yaxis": {
            "backgroundcolor": "#E5ECF6",
            "gridcolor": "white",
            "gridwidth": 2,
            "linecolor": "white",
            "showbackground": true,
            "ticks": "",
            "zerolinecolor": "white"
           },
           "zaxis": {
            "backgroundcolor": "#E5ECF6",
            "gridcolor": "white",
            "gridwidth": 2,
            "linecolor": "white",
            "showbackground": true,
            "ticks": "",
            "zerolinecolor": "white"
           }
          },
          "shapedefaults": {
           "line": {
            "color": "#2a3f5f"
           }
          },
          "ternary": {
           "aaxis": {
            "gridcolor": "white",
            "linecolor": "white",
            "ticks": ""
           },
           "baxis": {
            "gridcolor": "white",
            "linecolor": "white",
            "ticks": ""
           },
           "bgcolor": "#E5ECF6",
           "caxis": {
            "gridcolor": "white",
            "linecolor": "white",
            "ticks": ""
           }
          },
          "title": {
           "x": 0.05
          },
          "xaxis": {
           "automargin": true,
           "gridcolor": "white",
           "linecolor": "white",
           "ticks": "",
           "title": {
            "standoff": 15
           },
           "zerolinecolor": "white",
           "zerolinewidth": 2
          },
          "yaxis": {
           "automargin": true,
           "gridcolor": "white",
           "linecolor": "white",
           "ticks": "",
           "title": {
            "standoff": 15
           },
           "zerolinecolor": "white",
           "zerolinewidth": 2
          }
         }
        },
        "width": 900
       }
      },
      "text/html": [
       "<div>                            <div id=\"ed813361-8524-4548-b2a6-b9c6bee7c1db\" class=\"plotly-graph-div\" style=\"height:900px; width:900px;\"></div>            <script type=\"text/javascript\">                require([\"plotly\"], function(Plotly) {                    window.PLOTLYENV=window.PLOTLYENV || {};                                    if (document.getElementById(\"ed813361-8524-4548-b2a6-b9c6bee7c1db\")) {                    Plotly.newPlot(                        \"ed813361-8524-4548-b2a6-b9c6bee7c1db\",                        [{\"branchvalues\":\"total\",\"customdata\":[[2.0],[12918.0],[12918.0],[2.0],[12916.000619195047]],\"domain\":{\"x\":[0.0,1.0],\"y\":[0.0,1.0]},\"hovertemplate\":\"labels=%{label}<br>count_sum=%{value}<br>parent=%{parent}<br>id=%{id}<br>count=%{color}<extra></extra>\",\"ids\":[\"Singapore Air<br>12920 Tweets/French/2\",\"Singapore Air<br>12920 Tweets/English/12918\",\"Singapore Air<br>12920 Tweets/English\",\"Singapore Air<br>12920 Tweets/French\",\"Singapore Air<br>12920 Tweets\"],\"labels\":[\"2\",\"12918\",\"English\",\"French\",\"Singapore Air<br>12920 Tweets\"],\"marker\":{\"coloraxis\":\"coloraxis\",\"colors\":[2.0,12918.0,12918.0,2.0,12916.000619195047]},\"name\":\"\",\"parents\":[\"Singapore Air<br>12920 Tweets/French\",\"Singapore Air<br>12920 Tweets/English\",\"Singapore Air<br>12920 Tweets\",\"Singapore Air<br>12920 Tweets\",\"\"],\"values\":[2,12918,12918,2,12920],\"type\":\"sunburst\"}],                        {\"template\":{\"data\":{\"histogram2dcontour\":[{\"type\":\"histogram2dcontour\",\"colorbar\":{\"outlinewidth\":0,\"ticks\":\"\"},\"colorscale\":[[0.0,\"#0d0887\"],[0.1111111111111111,\"#46039f\"],[0.2222222222222222,\"#7201a8\"],[0.3333333333333333,\"#9c179e\"],[0.4444444444444444,\"#bd3786\"],[0.5555555555555556,\"#d8576b\"],[0.6666666666666666,\"#ed7953\"],[0.7777777777777778,\"#fb9f3a\"],[0.8888888888888888,\"#fdca26\"],[1.0,\"#f0f921\"]]}],\"choropleth\":[{\"type\":\"choropleth\",\"colorbar\":{\"outlinewidth\":0,\"ticks\":\"\"}}],\"histogram2d\":[{\"type\":\"histogram2d\",\"colorbar\":{\"outlinewidth\":0,\"ticks\":\"\"},\"colorscale\":[[0.0,\"#0d0887\"],[0.1111111111111111,\"#46039f\"],[0.2222222222222222,\"#7201a8\"],[0.3333333333333333,\"#9c179e\"],[0.4444444444444444,\"#bd3786\"],[0.5555555555555556,\"#d8576b\"],[0.6666666666666666,\"#ed7953\"],[0.7777777777777778,\"#fb9f3a\"],[0.8888888888888888,\"#fdca26\"],[1.0,\"#f0f921\"]]}],\"heatmap\":[{\"type\":\"heatmap\",\"colorbar\":{\"outlinewidth\":0,\"ticks\":\"\"},\"colorscale\":[[0.0,\"#0d0887\"],[0.1111111111111111,\"#46039f\"],[0.2222222222222222,\"#7201a8\"],[0.3333333333333333,\"#9c179e\"],[0.4444444444444444,\"#bd3786\"],[0.5555555555555556,\"#d8576b\"],[0.6666666666666666,\"#ed7953\"],[0.7777777777777778,\"#fb9f3a\"],[0.8888888888888888,\"#fdca26\"],[1.0,\"#f0f921\"]]}],\"heatmapgl\":[{\"type\":\"heatmapgl\",\"colorbar\":{\"outlinewidth\":0,\"ticks\":\"\"},\"colorscale\":[[0.0,\"#0d0887\"],[0.1111111111111111,\"#46039f\"],[0.2222222222222222,\"#7201a8\"],[0.3333333333333333,\"#9c179e\"],[0.4444444444444444,\"#bd3786\"],[0.5555555555555556,\"#d8576b\"],[0.6666666666666666,\"#ed7953\"],[0.7777777777777778,\"#fb9f3a\"],[0.8888888888888888,\"#fdca26\"],[1.0,\"#f0f921\"]]}],\"contourcarpet\":[{\"type\":\"contourcarpet\",\"colorbar\":{\"outlinewidth\":0,\"ticks\":\"\"}}],\"contour\":[{\"type\":\"contour\",\"colorbar\":{\"outlinewidth\":0,\"ticks\":\"\"},\"colorscale\":[[0.0,\"#0d0887\"],[0.1111111111111111,\"#46039f\"],[0.2222222222222222,\"#7201a8\"],[0.3333333333333333,\"#9c179e\"],[0.4444444444444444,\"#bd3786\"],[0.5555555555555556,\"#d8576b\"],[0.6666666666666666,\"#ed7953\"],[0.7777777777777778,\"#fb9f3a\"],[0.8888888888888888,\"#fdca26\"],[1.0,\"#f0f921\"]]}],\"surface\":[{\"type\":\"surface\",\"colorbar\":{\"outlinewidth\":0,\"ticks\":\"\"},\"colorscale\":[[0.0,\"#0d0887\"],[0.1111111111111111,\"#46039f\"],[0.2222222222222222,\"#7201a8\"],[0.3333333333333333,\"#9c179e\"],[0.4444444444444444,\"#bd3786\"],[0.5555555555555556,\"#d8576b\"],[0.6666666666666666,\"#ed7953\"],[0.7777777777777778,\"#fb9f3a\"],[0.8888888888888888,\"#fdca26\"],[1.0,\"#f0f921\"]]}],\"mesh3d\":[{\"type\":\"mesh3d\",\"colorbar\":{\"outlinewidth\":0,\"ticks\":\"\"}}],\"scatter\":[{\"fillpattern\":{\"fillmode\":\"overlay\",\"size\":10,\"solidity\":0.2},\"type\":\"scatter\"}],\"parcoords\":[{\"type\":\"parcoords\",\"line\":{\"colorbar\":{\"outlinewidth\":0,\"ticks\":\"\"}}}],\"scatterpolargl\":[{\"type\":\"scatterpolargl\",\"marker\":{\"colorbar\":{\"outlinewidth\":0,\"ticks\":\"\"}}}],\"bar\":[{\"error_x\":{\"color\":\"#2a3f5f\"},\"error_y\":{\"color\":\"#2a3f5f\"},\"marker\":{\"line\":{\"color\":\"#E5ECF6\",\"width\":0.5},\"pattern\":{\"fillmode\":\"overlay\",\"size\":10,\"solidity\":0.2}},\"type\":\"bar\"}],\"scattergeo\":[{\"type\":\"scattergeo\",\"marker\":{\"colorbar\":{\"outlinewidth\":0,\"ticks\":\"\"}}}],\"scatterpolar\":[{\"type\":\"scatterpolar\",\"marker\":{\"colorbar\":{\"outlinewidth\":0,\"ticks\":\"\"}}}],\"histogram\":[{\"marker\":{\"pattern\":{\"fillmode\":\"overlay\",\"size\":10,\"solidity\":0.2}},\"type\":\"histogram\"}],\"scattergl\":[{\"type\":\"scattergl\",\"marker\":{\"colorbar\":{\"outlinewidth\":0,\"ticks\":\"\"}}}],\"scatter3d\":[{\"type\":\"scatter3d\",\"line\":{\"colorbar\":{\"outlinewidth\":0,\"ticks\":\"\"}},\"marker\":{\"colorbar\":{\"outlinewidth\":0,\"ticks\":\"\"}}}],\"scattermapbox\":[{\"type\":\"scattermapbox\",\"marker\":{\"colorbar\":{\"outlinewidth\":0,\"ticks\":\"\"}}}],\"scatterternary\":[{\"type\":\"scatterternary\",\"marker\":{\"colorbar\":{\"outlinewidth\":0,\"ticks\":\"\"}}}],\"scattercarpet\":[{\"type\":\"scattercarpet\",\"marker\":{\"colorbar\":{\"outlinewidth\":0,\"ticks\":\"\"}}}],\"carpet\":[{\"aaxis\":{\"endlinecolor\":\"#2a3f5f\",\"gridcolor\":\"white\",\"linecolor\":\"white\",\"minorgridcolor\":\"white\",\"startlinecolor\":\"#2a3f5f\"},\"baxis\":{\"endlinecolor\":\"#2a3f5f\",\"gridcolor\":\"white\",\"linecolor\":\"white\",\"minorgridcolor\":\"white\",\"startlinecolor\":\"#2a3f5f\"},\"type\":\"carpet\"}],\"table\":[{\"cells\":{\"fill\":{\"color\":\"#EBF0F8\"},\"line\":{\"color\":\"white\"}},\"header\":{\"fill\":{\"color\":\"#C8D4E3\"},\"line\":{\"color\":\"white\"}},\"type\":\"table\"}],\"barpolar\":[{\"marker\":{\"line\":{\"color\":\"#E5ECF6\",\"width\":0.5},\"pattern\":{\"fillmode\":\"overlay\",\"size\":10,\"solidity\":0.2}},\"type\":\"barpolar\"}],\"pie\":[{\"automargin\":true,\"type\":\"pie\"}]},\"layout\":{\"autotypenumbers\":\"strict\",\"colorway\":[\"#636efa\",\"#EF553B\",\"#00cc96\",\"#ab63fa\",\"#FFA15A\",\"#19d3f3\",\"#FF6692\",\"#B6E880\",\"#FF97FF\",\"#FECB52\"],\"font\":{\"color\":\"#2a3f5f\"},\"hovermode\":\"closest\",\"hoverlabel\":{\"align\":\"left\"},\"paper_bgcolor\":\"white\",\"plot_bgcolor\":\"#E5ECF6\",\"polar\":{\"bgcolor\":\"#E5ECF6\",\"angularaxis\":{\"gridcolor\":\"white\",\"linecolor\":\"white\",\"ticks\":\"\"},\"radialaxis\":{\"gridcolor\":\"white\",\"linecolor\":\"white\",\"ticks\":\"\"}},\"ternary\":{\"bgcolor\":\"#E5ECF6\",\"aaxis\":{\"gridcolor\":\"white\",\"linecolor\":\"white\",\"ticks\":\"\"},\"baxis\":{\"gridcolor\":\"white\",\"linecolor\":\"white\",\"ticks\":\"\"},\"caxis\":{\"gridcolor\":\"white\",\"linecolor\":\"white\",\"ticks\":\"\"}},\"coloraxis\":{\"colorbar\":{\"outlinewidth\":0,\"ticks\":\"\"}},\"colorscale\":{\"sequential\":[[0.0,\"#0d0887\"],[0.1111111111111111,\"#46039f\"],[0.2222222222222222,\"#7201a8\"],[0.3333333333333333,\"#9c179e\"],[0.4444444444444444,\"#bd3786\"],[0.5555555555555556,\"#d8576b\"],[0.6666666666666666,\"#ed7953\"],[0.7777777777777778,\"#fb9f3a\"],[0.8888888888888888,\"#fdca26\"],[1.0,\"#f0f921\"]],\"sequentialminus\":[[0.0,\"#0d0887\"],[0.1111111111111111,\"#46039f\"],[0.2222222222222222,\"#7201a8\"],[0.3333333333333333,\"#9c179e\"],[0.4444444444444444,\"#bd3786\"],[0.5555555555555556,\"#d8576b\"],[0.6666666666666666,\"#ed7953\"],[0.7777777777777778,\"#fb9f3a\"],[0.8888888888888888,\"#fdca26\"],[1.0,\"#f0f921\"]],\"diverging\":[[0,\"#8e0152\"],[0.1,\"#c51b7d\"],[0.2,\"#de77ae\"],[0.3,\"#f1b6da\"],[0.4,\"#fde0ef\"],[0.5,\"#f7f7f7\"],[0.6,\"#e6f5d0\"],[0.7,\"#b8e186\"],[0.8,\"#7fbc41\"],[0.9,\"#4d9221\"],[1,\"#276419\"]]},\"xaxis\":{\"gridcolor\":\"white\",\"linecolor\":\"white\",\"ticks\":\"\",\"title\":{\"standoff\":15},\"zerolinecolor\":\"white\",\"automargin\":true,\"zerolinewidth\":2},\"yaxis\":{\"gridcolor\":\"white\",\"linecolor\":\"white\",\"ticks\":\"\",\"title\":{\"standoff\":15},\"zerolinecolor\":\"white\",\"automargin\":true,\"zerolinewidth\":2},\"scene\":{\"xaxis\":{\"backgroundcolor\":\"#E5ECF6\",\"gridcolor\":\"white\",\"linecolor\":\"white\",\"showbackground\":true,\"ticks\":\"\",\"zerolinecolor\":\"white\",\"gridwidth\":2},\"yaxis\":{\"backgroundcolor\":\"#E5ECF6\",\"gridcolor\":\"white\",\"linecolor\":\"white\",\"showbackground\":true,\"ticks\":\"\",\"zerolinecolor\":\"white\",\"gridwidth\":2},\"zaxis\":{\"backgroundcolor\":\"#E5ECF6\",\"gridcolor\":\"white\",\"linecolor\":\"white\",\"showbackground\":true,\"ticks\":\"\",\"zerolinecolor\":\"white\",\"gridwidth\":2}},\"shapedefaults\":{\"line\":{\"color\":\"#2a3f5f\"}},\"annotationdefaults\":{\"arrowcolor\":\"#2a3f5f\",\"arrowhead\":0,\"arrowwidth\":1},\"geo\":{\"bgcolor\":\"white\",\"landcolor\":\"#E5ECF6\",\"subunitcolor\":\"white\",\"showland\":true,\"showlakes\":true,\"lakecolor\":\"white\"},\"title\":{\"x\":0.05},\"mapbox\":{\"style\":\"light\"}}},\"coloraxis\":{\"colorbar\":{\"title\":{\"text\":\"count\"}},\"colorscale\":[[0.0,\"rgb(103,0,31)\"],[0.1,\"rgb(178,24,43)\"],[0.2,\"rgb(214,96,77)\"],[0.3,\"rgb(244,165,130)\"],[0.4,\"rgb(253,219,199)\"],[0.5,\"rgb(247,247,247)\"],[0.6,\"rgb(209,229,240)\"],[0.7,\"rgb(146,197,222)\"],[0.8,\"rgb(67,147,195)\"],[0.9,\"rgb(33,102,172)\"],[1.0,\"rgb(5,48,97)\"]],\"cmid\":71704.7076933436},\"legend\":{\"tracegroupgap\":0},\"margin\":{\"t\":60},\"height\":900,\"width\":900},                        {\"responsive\": true}                    ).then(function(){\n",
       "                            \n",
       "var gd = document.getElementById('ed813361-8524-4548-b2a6-b9c6bee7c1db');\n",
       "var x = new MutationObserver(function (mutations, observer) {{\n",
       "        var display = window.getComputedStyle(gd).display;\n",
       "        if (!display || display === 'none') {{\n",
       "            console.log([gd, 'removed!']);\n",
       "            Plotly.purge(gd);\n",
       "            observer.disconnect();\n",
       "        }}\n",
       "}});\n",
       "\n",
       "// Listen for the removal of the full notebook cells\n",
       "var notebookContainer = gd.closest('#notebook-container');\n",
       "if (notebookContainer) {{\n",
       "    x.observe(notebookContainer, {childList: true});\n",
       "}}\n",
       "\n",
       "// Listen for the clearing of the current output cell\n",
       "var outputEl = gd.closest('.output');\n",
       "if (outputEl) {{\n",
       "    x.observe(outputEl, {childList: true});\n",
       "}}\n",
       "\n",
       "                        })                };                });            </script>        </div>"
      ]
     },
     "metadata": {},
     "output_type": "display_data"
    },
    {
     "data": {
      "application/vnd.plotly.v1+json": {
       "config": {
        "plotlyServerURL": "https://plot.ly"
       },
       "data": [
        {
         "branchvalues": "total",
         "customdata": [
          [
           1
          ],
          [
           1
          ],
          [
           1
          ],
          [
           1
          ],
          [
           2
          ],
          [
           2
          ],
          [
           5
          ],
          [
           12
          ],
          [
           478
          ],
          [
           12559
          ],
          [
           12559
          ],
          [
           1
          ],
          [
           478
          ],
          [
           1
          ],
          [
           5
          ],
          [
           2
          ],
          [
           1
          ],
          [
           2
          ],
          [
           12
          ],
          [
           1
          ],
          [
           12092.875976113919
          ]
         ],
         "domain": {
          "x": [
           0,
           1
          ],
          "y": [
           0,
           1
          ]
         },
         "hovertemplate": "labels=%{label}<br>count_sum=%{value}<br>parent=%{parent}<br>id=%{id}<br>count=%{color}<extra></extra>",
         "ids": [
          "Lufthansa<br>13062 Tweets/French/1",
          "Lufthansa<br>13062 Tweets/Hindi/1",
          "Lufthansa<br>13062 Tweets/Tagalog/1",
          "Lufthansa<br>13062 Tweets/Welsh/1",
          "Lufthansa<br>13062 Tweets/Portuguese/2",
          "Lufthansa<br>13062 Tweets/Turkish/2",
          "Lufthansa<br>13062 Tweets/Indonesian/5",
          "Lufthansa<br>13062 Tweets/Undetermined/12",
          "Lufthansa<br>13062 Tweets/German/478",
          "Lufthansa<br>13062 Tweets/English/12559",
          "Lufthansa<br>13062 Tweets/English",
          "Lufthansa<br>13062 Tweets/French",
          "Lufthansa<br>13062 Tweets/German",
          "Lufthansa<br>13062 Tweets/Hindi",
          "Lufthansa<br>13062 Tweets/Indonesian",
          "Lufthansa<br>13062 Tweets/Portuguese",
          "Lufthansa<br>13062 Tweets/Tagalog",
          "Lufthansa<br>13062 Tweets/Turkish",
          "Lufthansa<br>13062 Tweets/Undetermined",
          "Lufthansa<br>13062 Tweets/Welsh",
          "Lufthansa<br>13062 Tweets"
         ],
         "labels": [
          "1",
          "1",
          "1",
          "1",
          "2",
          "2",
          "5",
          "12",
          "478",
          "12559",
          "English",
          "French",
          "German",
          "Hindi",
          "Indonesian",
          "Portuguese",
          "Tagalog",
          "Turkish",
          "Undetermined",
          "Welsh",
          "Lufthansa<br>13062 Tweets"
         ],
         "marker": {
          "coloraxis": "coloraxis",
          "colors": [
           1,
           1,
           1,
           1,
           2,
           2,
           5,
           12,
           478,
           12559,
           12559,
           1,
           478,
           1,
           5,
           2,
           1,
           2,
           12,
           1,
           12092.875976113919
          ]
         },
         "name": "",
         "parents": [
          "Lufthansa<br>13062 Tweets/French",
          "Lufthansa<br>13062 Tweets/Hindi",
          "Lufthansa<br>13062 Tweets/Tagalog",
          "Lufthansa<br>13062 Tweets/Welsh",
          "Lufthansa<br>13062 Tweets/Portuguese",
          "Lufthansa<br>13062 Tweets/Turkish",
          "Lufthansa<br>13062 Tweets/Indonesian",
          "Lufthansa<br>13062 Tweets/Undetermined",
          "Lufthansa<br>13062 Tweets/German",
          "Lufthansa<br>13062 Tweets/English",
          "Lufthansa<br>13062 Tweets",
          "Lufthansa<br>13062 Tweets",
          "Lufthansa<br>13062 Tweets",
          "Lufthansa<br>13062 Tweets",
          "Lufthansa<br>13062 Tweets",
          "Lufthansa<br>13062 Tweets",
          "Lufthansa<br>13062 Tweets",
          "Lufthansa<br>13062 Tweets",
          "Lufthansa<br>13062 Tweets",
          "Lufthansa<br>13062 Tweets",
          ""
         ],
         "type": "sunburst",
         "values": [
          1,
          1,
          1,
          1,
          2,
          2,
          5,
          12,
          478,
          12559,
          12559,
          1,
          478,
          1,
          5,
          2,
          1,
          2,
          12,
          1,
          13062
         ]
        }
       ],
       "layout": {
        "coloraxis": {
         "cmid": 71704.7076933436,
         "colorbar": {
          "title": {
           "text": "count"
          }
         },
         "colorscale": [
          [
           0,
           "rgb(103,0,31)"
          ],
          [
           0.1,
           "rgb(178,24,43)"
          ],
          [
           0.2,
           "rgb(214,96,77)"
          ],
          [
           0.3,
           "rgb(244,165,130)"
          ],
          [
           0.4,
           "rgb(253,219,199)"
          ],
          [
           0.5,
           "rgb(247,247,247)"
          ],
          [
           0.6,
           "rgb(209,229,240)"
          ],
          [
           0.7,
           "rgb(146,197,222)"
          ],
          [
           0.8,
           "rgb(67,147,195)"
          ],
          [
           0.9,
           "rgb(33,102,172)"
          ],
          [
           1,
           "rgb(5,48,97)"
          ]
         ]
        },
        "height": 900,
        "legend": {
         "tracegroupgap": 0
        },
        "margin": {
         "t": 60
        },
        "template": {
         "data": {
          "bar": [
           {
            "error_x": {
             "color": "#2a3f5f"
            },
            "error_y": {
             "color": "#2a3f5f"
            },
            "marker": {
             "line": {
              "color": "#E5ECF6",
              "width": 0.5
             },
             "pattern": {
              "fillmode": "overlay",
              "size": 10,
              "solidity": 0.2
             }
            },
            "type": "bar"
           }
          ],
          "barpolar": [
           {
            "marker": {
             "line": {
              "color": "#E5ECF6",
              "width": 0.5
             },
             "pattern": {
              "fillmode": "overlay",
              "size": 10,
              "solidity": 0.2
             }
            },
            "type": "barpolar"
           }
          ],
          "carpet": [
           {
            "aaxis": {
             "endlinecolor": "#2a3f5f",
             "gridcolor": "white",
             "linecolor": "white",
             "minorgridcolor": "white",
             "startlinecolor": "#2a3f5f"
            },
            "baxis": {
             "endlinecolor": "#2a3f5f",
             "gridcolor": "white",
             "linecolor": "white",
             "minorgridcolor": "white",
             "startlinecolor": "#2a3f5f"
            },
            "type": "carpet"
           }
          ],
          "choropleth": [
           {
            "colorbar": {
             "outlinewidth": 0,
             "ticks": ""
            },
            "type": "choropleth"
           }
          ],
          "contour": [
           {
            "colorbar": {
             "outlinewidth": 0,
             "ticks": ""
            },
            "colorscale": [
             [
              0,
              "#0d0887"
             ],
             [
              0.1111111111111111,
              "#46039f"
             ],
             [
              0.2222222222222222,
              "#7201a8"
             ],
             [
              0.3333333333333333,
              "#9c179e"
             ],
             [
              0.4444444444444444,
              "#bd3786"
             ],
             [
              0.5555555555555556,
              "#d8576b"
             ],
             [
              0.6666666666666666,
              "#ed7953"
             ],
             [
              0.7777777777777778,
              "#fb9f3a"
             ],
             [
              0.8888888888888888,
              "#fdca26"
             ],
             [
              1,
              "#f0f921"
             ]
            ],
            "type": "contour"
           }
          ],
          "contourcarpet": [
           {
            "colorbar": {
             "outlinewidth": 0,
             "ticks": ""
            },
            "type": "contourcarpet"
           }
          ],
          "heatmap": [
           {
            "colorbar": {
             "outlinewidth": 0,
             "ticks": ""
            },
            "colorscale": [
             [
              0,
              "#0d0887"
             ],
             [
              0.1111111111111111,
              "#46039f"
             ],
             [
              0.2222222222222222,
              "#7201a8"
             ],
             [
              0.3333333333333333,
              "#9c179e"
             ],
             [
              0.4444444444444444,
              "#bd3786"
             ],
             [
              0.5555555555555556,
              "#d8576b"
             ],
             [
              0.6666666666666666,
              "#ed7953"
             ],
             [
              0.7777777777777778,
              "#fb9f3a"
             ],
             [
              0.8888888888888888,
              "#fdca26"
             ],
             [
              1,
              "#f0f921"
             ]
            ],
            "type": "heatmap"
           }
          ],
          "heatmapgl": [
           {
            "colorbar": {
             "outlinewidth": 0,
             "ticks": ""
            },
            "colorscale": [
             [
              0,
              "#0d0887"
             ],
             [
              0.1111111111111111,
              "#46039f"
             ],
             [
              0.2222222222222222,
              "#7201a8"
             ],
             [
              0.3333333333333333,
              "#9c179e"
             ],
             [
              0.4444444444444444,
              "#bd3786"
             ],
             [
              0.5555555555555556,
              "#d8576b"
             ],
             [
              0.6666666666666666,
              "#ed7953"
             ],
             [
              0.7777777777777778,
              "#fb9f3a"
             ],
             [
              0.8888888888888888,
              "#fdca26"
             ],
             [
              1,
              "#f0f921"
             ]
            ],
            "type": "heatmapgl"
           }
          ],
          "histogram": [
           {
            "marker": {
             "pattern": {
              "fillmode": "overlay",
              "size": 10,
              "solidity": 0.2
             }
            },
            "type": "histogram"
           }
          ],
          "histogram2d": [
           {
            "colorbar": {
             "outlinewidth": 0,
             "ticks": ""
            },
            "colorscale": [
             [
              0,
              "#0d0887"
             ],
             [
              0.1111111111111111,
              "#46039f"
             ],
             [
              0.2222222222222222,
              "#7201a8"
             ],
             [
              0.3333333333333333,
              "#9c179e"
             ],
             [
              0.4444444444444444,
              "#bd3786"
             ],
             [
              0.5555555555555556,
              "#d8576b"
             ],
             [
              0.6666666666666666,
              "#ed7953"
             ],
             [
              0.7777777777777778,
              "#fb9f3a"
             ],
             [
              0.8888888888888888,
              "#fdca26"
             ],
             [
              1,
              "#f0f921"
             ]
            ],
            "type": "histogram2d"
           }
          ],
          "histogram2dcontour": [
           {
            "colorbar": {
             "outlinewidth": 0,
             "ticks": ""
            },
            "colorscale": [
             [
              0,
              "#0d0887"
             ],
             [
              0.1111111111111111,
              "#46039f"
             ],
             [
              0.2222222222222222,
              "#7201a8"
             ],
             [
              0.3333333333333333,
              "#9c179e"
             ],
             [
              0.4444444444444444,
              "#bd3786"
             ],
             [
              0.5555555555555556,
              "#d8576b"
             ],
             [
              0.6666666666666666,
              "#ed7953"
             ],
             [
              0.7777777777777778,
              "#fb9f3a"
             ],
             [
              0.8888888888888888,
              "#fdca26"
             ],
             [
              1,
              "#f0f921"
             ]
            ],
            "type": "histogram2dcontour"
           }
          ],
          "mesh3d": [
           {
            "colorbar": {
             "outlinewidth": 0,
             "ticks": ""
            },
            "type": "mesh3d"
           }
          ],
          "parcoords": [
           {
            "line": {
             "colorbar": {
              "outlinewidth": 0,
              "ticks": ""
             }
            },
            "type": "parcoords"
           }
          ],
          "pie": [
           {
            "automargin": true,
            "type": "pie"
           }
          ],
          "scatter": [
           {
            "fillpattern": {
             "fillmode": "overlay",
             "size": 10,
             "solidity": 0.2
            },
            "type": "scatter"
           }
          ],
          "scatter3d": [
           {
            "line": {
             "colorbar": {
              "outlinewidth": 0,
              "ticks": ""
             }
            },
            "marker": {
             "colorbar": {
              "outlinewidth": 0,
              "ticks": ""
             }
            },
            "type": "scatter3d"
           }
          ],
          "scattercarpet": [
           {
            "marker": {
             "colorbar": {
              "outlinewidth": 0,
              "ticks": ""
             }
            },
            "type": "scattercarpet"
           }
          ],
          "scattergeo": [
           {
            "marker": {
             "colorbar": {
              "outlinewidth": 0,
              "ticks": ""
             }
            },
            "type": "scattergeo"
           }
          ],
          "scattergl": [
           {
            "marker": {
             "colorbar": {
              "outlinewidth": 0,
              "ticks": ""
             }
            },
            "type": "scattergl"
           }
          ],
          "scattermapbox": [
           {
            "marker": {
             "colorbar": {
              "outlinewidth": 0,
              "ticks": ""
             }
            },
            "type": "scattermapbox"
           }
          ],
          "scatterpolar": [
           {
            "marker": {
             "colorbar": {
              "outlinewidth": 0,
              "ticks": ""
             }
            },
            "type": "scatterpolar"
           }
          ],
          "scatterpolargl": [
           {
            "marker": {
             "colorbar": {
              "outlinewidth": 0,
              "ticks": ""
             }
            },
            "type": "scatterpolargl"
           }
          ],
          "scatterternary": [
           {
            "marker": {
             "colorbar": {
              "outlinewidth": 0,
              "ticks": ""
             }
            },
            "type": "scatterternary"
           }
          ],
          "surface": [
           {
            "colorbar": {
             "outlinewidth": 0,
             "ticks": ""
            },
            "colorscale": [
             [
              0,
              "#0d0887"
             ],
             [
              0.1111111111111111,
              "#46039f"
             ],
             [
              0.2222222222222222,
              "#7201a8"
             ],
             [
              0.3333333333333333,
              "#9c179e"
             ],
             [
              0.4444444444444444,
              "#bd3786"
             ],
             [
              0.5555555555555556,
              "#d8576b"
             ],
             [
              0.6666666666666666,
              "#ed7953"
             ],
             [
              0.7777777777777778,
              "#fb9f3a"
             ],
             [
              0.8888888888888888,
              "#fdca26"
             ],
             [
              1,
              "#f0f921"
             ]
            ],
            "type": "surface"
           }
          ],
          "table": [
           {
            "cells": {
             "fill": {
              "color": "#EBF0F8"
             },
             "line": {
              "color": "white"
             }
            },
            "header": {
             "fill": {
              "color": "#C8D4E3"
             },
             "line": {
              "color": "white"
             }
            },
            "type": "table"
           }
          ]
         },
         "layout": {
          "annotationdefaults": {
           "arrowcolor": "#2a3f5f",
           "arrowhead": 0,
           "arrowwidth": 1
          },
          "autotypenumbers": "strict",
          "coloraxis": {
           "colorbar": {
            "outlinewidth": 0,
            "ticks": ""
           }
          },
          "colorscale": {
           "diverging": [
            [
             0,
             "#8e0152"
            ],
            [
             0.1,
             "#c51b7d"
            ],
            [
             0.2,
             "#de77ae"
            ],
            [
             0.3,
             "#f1b6da"
            ],
            [
             0.4,
             "#fde0ef"
            ],
            [
             0.5,
             "#f7f7f7"
            ],
            [
             0.6,
             "#e6f5d0"
            ],
            [
             0.7,
             "#b8e186"
            ],
            [
             0.8,
             "#7fbc41"
            ],
            [
             0.9,
             "#4d9221"
            ],
            [
             1,
             "#276419"
            ]
           ],
           "sequential": [
            [
             0,
             "#0d0887"
            ],
            [
             0.1111111111111111,
             "#46039f"
            ],
            [
             0.2222222222222222,
             "#7201a8"
            ],
            [
             0.3333333333333333,
             "#9c179e"
            ],
            [
             0.4444444444444444,
             "#bd3786"
            ],
            [
             0.5555555555555556,
             "#d8576b"
            ],
            [
             0.6666666666666666,
             "#ed7953"
            ],
            [
             0.7777777777777778,
             "#fb9f3a"
            ],
            [
             0.8888888888888888,
             "#fdca26"
            ],
            [
             1,
             "#f0f921"
            ]
           ],
           "sequentialminus": [
            [
             0,
             "#0d0887"
            ],
            [
             0.1111111111111111,
             "#46039f"
            ],
            [
             0.2222222222222222,
             "#7201a8"
            ],
            [
             0.3333333333333333,
             "#9c179e"
            ],
            [
             0.4444444444444444,
             "#bd3786"
            ],
            [
             0.5555555555555556,
             "#d8576b"
            ],
            [
             0.6666666666666666,
             "#ed7953"
            ],
            [
             0.7777777777777778,
             "#fb9f3a"
            ],
            [
             0.8888888888888888,
             "#fdca26"
            ],
            [
             1,
             "#f0f921"
            ]
           ]
          },
          "colorway": [
           "#636efa",
           "#EF553B",
           "#00cc96",
           "#ab63fa",
           "#FFA15A",
           "#19d3f3",
           "#FF6692",
           "#B6E880",
           "#FF97FF",
           "#FECB52"
          ],
          "font": {
           "color": "#2a3f5f"
          },
          "geo": {
           "bgcolor": "white",
           "lakecolor": "white",
           "landcolor": "#E5ECF6",
           "showlakes": true,
           "showland": true,
           "subunitcolor": "white"
          },
          "hoverlabel": {
           "align": "left"
          },
          "hovermode": "closest",
          "mapbox": {
           "style": "light"
          },
          "paper_bgcolor": "white",
          "plot_bgcolor": "#E5ECF6",
          "polar": {
           "angularaxis": {
            "gridcolor": "white",
            "linecolor": "white",
            "ticks": ""
           },
           "bgcolor": "#E5ECF6",
           "radialaxis": {
            "gridcolor": "white",
            "linecolor": "white",
            "ticks": ""
           }
          },
          "scene": {
           "xaxis": {
            "backgroundcolor": "#E5ECF6",
            "gridcolor": "white",
            "gridwidth": 2,
            "linecolor": "white",
            "showbackground": true,
            "ticks": "",
            "zerolinecolor": "white"
           },
           "yaxis": {
            "backgroundcolor": "#E5ECF6",
            "gridcolor": "white",
            "gridwidth": 2,
            "linecolor": "white",
            "showbackground": true,
            "ticks": "",
            "zerolinecolor": "white"
           },
           "zaxis": {
            "backgroundcolor": "#E5ECF6",
            "gridcolor": "white",
            "gridwidth": 2,
            "linecolor": "white",
            "showbackground": true,
            "ticks": "",
            "zerolinecolor": "white"
           }
          },
          "shapedefaults": {
           "line": {
            "color": "#2a3f5f"
           }
          },
          "ternary": {
           "aaxis": {
            "gridcolor": "white",
            "linecolor": "white",
            "ticks": ""
           },
           "baxis": {
            "gridcolor": "white",
            "linecolor": "white",
            "ticks": ""
           },
           "bgcolor": "#E5ECF6",
           "caxis": {
            "gridcolor": "white",
            "linecolor": "white",
            "ticks": ""
           }
          },
          "title": {
           "x": 0.05
          },
          "xaxis": {
           "automargin": true,
           "gridcolor": "white",
           "linecolor": "white",
           "ticks": "",
           "title": {
            "standoff": 15
           },
           "zerolinecolor": "white",
           "zerolinewidth": 2
          },
          "yaxis": {
           "automargin": true,
           "gridcolor": "white",
           "linecolor": "white",
           "ticks": "",
           "title": {
            "standoff": 15
           },
           "zerolinecolor": "white",
           "zerolinewidth": 2
          }
         }
        },
        "width": 900
       }
      },
      "text/html": [
       "<div>                            <div id=\"7823c077-e80c-43c2-bfa1-bb37ef52f6b7\" class=\"plotly-graph-div\" style=\"height:900px; width:900px;\"></div>            <script type=\"text/javascript\">                require([\"plotly\"], function(Plotly) {                    window.PLOTLYENV=window.PLOTLYENV || {};                                    if (document.getElementById(\"7823c077-e80c-43c2-bfa1-bb37ef52f6b7\")) {                    Plotly.newPlot(                        \"7823c077-e80c-43c2-bfa1-bb37ef52f6b7\",                        [{\"branchvalues\":\"total\",\"customdata\":[[1.0],[1.0],[1.0],[1.0],[2.0],[2.0],[5.0],[12.0],[478.0],[12559.0],[12559.0],[1.0],[478.0],[1.0],[5.0],[2.0],[1.0],[2.0],[12.0],[1.0],[12092.875976113919]],\"domain\":{\"x\":[0.0,1.0],\"y\":[0.0,1.0]},\"hovertemplate\":\"labels=%{label}<br>count_sum=%{value}<br>parent=%{parent}<br>id=%{id}<br>count=%{color}<extra></extra>\",\"ids\":[\"Lufthansa<br>13062 Tweets/French/1\",\"Lufthansa<br>13062 Tweets/Hindi/1\",\"Lufthansa<br>13062 Tweets/Tagalog/1\",\"Lufthansa<br>13062 Tweets/Welsh/1\",\"Lufthansa<br>13062 Tweets/Portuguese/2\",\"Lufthansa<br>13062 Tweets/Turkish/2\",\"Lufthansa<br>13062 Tweets/Indonesian/5\",\"Lufthansa<br>13062 Tweets/Undetermined/12\",\"Lufthansa<br>13062 Tweets/German/478\",\"Lufthansa<br>13062 Tweets/English/12559\",\"Lufthansa<br>13062 Tweets/English\",\"Lufthansa<br>13062 Tweets/French\",\"Lufthansa<br>13062 Tweets/German\",\"Lufthansa<br>13062 Tweets/Hindi\",\"Lufthansa<br>13062 Tweets/Indonesian\",\"Lufthansa<br>13062 Tweets/Portuguese\",\"Lufthansa<br>13062 Tweets/Tagalog\",\"Lufthansa<br>13062 Tweets/Turkish\",\"Lufthansa<br>13062 Tweets/Undetermined\",\"Lufthansa<br>13062 Tweets/Welsh\",\"Lufthansa<br>13062 Tweets\"],\"labels\":[\"1\",\"1\",\"1\",\"1\",\"2\",\"2\",\"5\",\"12\",\"478\",\"12559\",\"English\",\"French\",\"German\",\"Hindi\",\"Indonesian\",\"Portuguese\",\"Tagalog\",\"Turkish\",\"Undetermined\",\"Welsh\",\"Lufthansa<br>13062 Tweets\"],\"marker\":{\"coloraxis\":\"coloraxis\",\"colors\":[1.0,1.0,1.0,1.0,2.0,2.0,5.0,12.0,478.0,12559.0,12559.0,1.0,478.0,1.0,5.0,2.0,1.0,2.0,12.0,1.0,12092.875976113919]},\"name\":\"\",\"parents\":[\"Lufthansa<br>13062 Tweets/French\",\"Lufthansa<br>13062 Tweets/Hindi\",\"Lufthansa<br>13062 Tweets/Tagalog\",\"Lufthansa<br>13062 Tweets/Welsh\",\"Lufthansa<br>13062 Tweets/Portuguese\",\"Lufthansa<br>13062 Tweets/Turkish\",\"Lufthansa<br>13062 Tweets/Indonesian\",\"Lufthansa<br>13062 Tweets/Undetermined\",\"Lufthansa<br>13062 Tweets/German\",\"Lufthansa<br>13062 Tweets/English\",\"Lufthansa<br>13062 Tweets\",\"Lufthansa<br>13062 Tweets\",\"Lufthansa<br>13062 Tweets\",\"Lufthansa<br>13062 Tweets\",\"Lufthansa<br>13062 Tweets\",\"Lufthansa<br>13062 Tweets\",\"Lufthansa<br>13062 Tweets\",\"Lufthansa<br>13062 Tweets\",\"Lufthansa<br>13062 Tweets\",\"Lufthansa<br>13062 Tweets\",\"\"],\"values\":[1,1,1,1,2,2,5,12,478,12559,12559,1,478,1,5,2,1,2,12,1,13062],\"type\":\"sunburst\"}],                        {\"template\":{\"data\":{\"histogram2dcontour\":[{\"type\":\"histogram2dcontour\",\"colorbar\":{\"outlinewidth\":0,\"ticks\":\"\"},\"colorscale\":[[0.0,\"#0d0887\"],[0.1111111111111111,\"#46039f\"],[0.2222222222222222,\"#7201a8\"],[0.3333333333333333,\"#9c179e\"],[0.4444444444444444,\"#bd3786\"],[0.5555555555555556,\"#d8576b\"],[0.6666666666666666,\"#ed7953\"],[0.7777777777777778,\"#fb9f3a\"],[0.8888888888888888,\"#fdca26\"],[1.0,\"#f0f921\"]]}],\"choropleth\":[{\"type\":\"choropleth\",\"colorbar\":{\"outlinewidth\":0,\"ticks\":\"\"}}],\"histogram2d\":[{\"type\":\"histogram2d\",\"colorbar\":{\"outlinewidth\":0,\"ticks\":\"\"},\"colorscale\":[[0.0,\"#0d0887\"],[0.1111111111111111,\"#46039f\"],[0.2222222222222222,\"#7201a8\"],[0.3333333333333333,\"#9c179e\"],[0.4444444444444444,\"#bd3786\"],[0.5555555555555556,\"#d8576b\"],[0.6666666666666666,\"#ed7953\"],[0.7777777777777778,\"#fb9f3a\"],[0.8888888888888888,\"#fdca26\"],[1.0,\"#f0f921\"]]}],\"heatmap\":[{\"type\":\"heatmap\",\"colorbar\":{\"outlinewidth\":0,\"ticks\":\"\"},\"colorscale\":[[0.0,\"#0d0887\"],[0.1111111111111111,\"#46039f\"],[0.2222222222222222,\"#7201a8\"],[0.3333333333333333,\"#9c179e\"],[0.4444444444444444,\"#bd3786\"],[0.5555555555555556,\"#d8576b\"],[0.6666666666666666,\"#ed7953\"],[0.7777777777777778,\"#fb9f3a\"],[0.8888888888888888,\"#fdca26\"],[1.0,\"#f0f921\"]]}],\"heatmapgl\":[{\"type\":\"heatmapgl\",\"colorbar\":{\"outlinewidth\":0,\"ticks\":\"\"},\"colorscale\":[[0.0,\"#0d0887\"],[0.1111111111111111,\"#46039f\"],[0.2222222222222222,\"#7201a8\"],[0.3333333333333333,\"#9c179e\"],[0.4444444444444444,\"#bd3786\"],[0.5555555555555556,\"#d8576b\"],[0.6666666666666666,\"#ed7953\"],[0.7777777777777778,\"#fb9f3a\"],[0.8888888888888888,\"#fdca26\"],[1.0,\"#f0f921\"]]}],\"contourcarpet\":[{\"type\":\"contourcarpet\",\"colorbar\":{\"outlinewidth\":0,\"ticks\":\"\"}}],\"contour\":[{\"type\":\"contour\",\"colorbar\":{\"outlinewidth\":0,\"ticks\":\"\"},\"colorscale\":[[0.0,\"#0d0887\"],[0.1111111111111111,\"#46039f\"],[0.2222222222222222,\"#7201a8\"],[0.3333333333333333,\"#9c179e\"],[0.4444444444444444,\"#bd3786\"],[0.5555555555555556,\"#d8576b\"],[0.6666666666666666,\"#ed7953\"],[0.7777777777777778,\"#fb9f3a\"],[0.8888888888888888,\"#fdca26\"],[1.0,\"#f0f921\"]]}],\"surface\":[{\"type\":\"surface\",\"colorbar\":{\"outlinewidth\":0,\"ticks\":\"\"},\"colorscale\":[[0.0,\"#0d0887\"],[0.1111111111111111,\"#46039f\"],[0.2222222222222222,\"#7201a8\"],[0.3333333333333333,\"#9c179e\"],[0.4444444444444444,\"#bd3786\"],[0.5555555555555556,\"#d8576b\"],[0.6666666666666666,\"#ed7953\"],[0.7777777777777778,\"#fb9f3a\"],[0.8888888888888888,\"#fdca26\"],[1.0,\"#f0f921\"]]}],\"mesh3d\":[{\"type\":\"mesh3d\",\"colorbar\":{\"outlinewidth\":0,\"ticks\":\"\"}}],\"scatter\":[{\"fillpattern\":{\"fillmode\":\"overlay\",\"size\":10,\"solidity\":0.2},\"type\":\"scatter\"}],\"parcoords\":[{\"type\":\"parcoords\",\"line\":{\"colorbar\":{\"outlinewidth\":0,\"ticks\":\"\"}}}],\"scatterpolargl\":[{\"type\":\"scatterpolargl\",\"marker\":{\"colorbar\":{\"outlinewidth\":0,\"ticks\":\"\"}}}],\"bar\":[{\"error_x\":{\"color\":\"#2a3f5f\"},\"error_y\":{\"color\":\"#2a3f5f\"},\"marker\":{\"line\":{\"color\":\"#E5ECF6\",\"width\":0.5},\"pattern\":{\"fillmode\":\"overlay\",\"size\":10,\"solidity\":0.2}},\"type\":\"bar\"}],\"scattergeo\":[{\"type\":\"scattergeo\",\"marker\":{\"colorbar\":{\"outlinewidth\":0,\"ticks\":\"\"}}}],\"scatterpolar\":[{\"type\":\"scatterpolar\",\"marker\":{\"colorbar\":{\"outlinewidth\":0,\"ticks\":\"\"}}}],\"histogram\":[{\"marker\":{\"pattern\":{\"fillmode\":\"overlay\",\"size\":10,\"solidity\":0.2}},\"type\":\"histogram\"}],\"scattergl\":[{\"type\":\"scattergl\",\"marker\":{\"colorbar\":{\"outlinewidth\":0,\"ticks\":\"\"}}}],\"scatter3d\":[{\"type\":\"scatter3d\",\"line\":{\"colorbar\":{\"outlinewidth\":0,\"ticks\":\"\"}},\"marker\":{\"colorbar\":{\"outlinewidth\":0,\"ticks\":\"\"}}}],\"scattermapbox\":[{\"type\":\"scattermapbox\",\"marker\":{\"colorbar\":{\"outlinewidth\":0,\"ticks\":\"\"}}}],\"scatterternary\":[{\"type\":\"scatterternary\",\"marker\":{\"colorbar\":{\"outlinewidth\":0,\"ticks\":\"\"}}}],\"scattercarpet\":[{\"type\":\"scattercarpet\",\"marker\":{\"colorbar\":{\"outlinewidth\":0,\"ticks\":\"\"}}}],\"carpet\":[{\"aaxis\":{\"endlinecolor\":\"#2a3f5f\",\"gridcolor\":\"white\",\"linecolor\":\"white\",\"minorgridcolor\":\"white\",\"startlinecolor\":\"#2a3f5f\"},\"baxis\":{\"endlinecolor\":\"#2a3f5f\",\"gridcolor\":\"white\",\"linecolor\":\"white\",\"minorgridcolor\":\"white\",\"startlinecolor\":\"#2a3f5f\"},\"type\":\"carpet\"}],\"table\":[{\"cells\":{\"fill\":{\"color\":\"#EBF0F8\"},\"line\":{\"color\":\"white\"}},\"header\":{\"fill\":{\"color\":\"#C8D4E3\"},\"line\":{\"color\":\"white\"}},\"type\":\"table\"}],\"barpolar\":[{\"marker\":{\"line\":{\"color\":\"#E5ECF6\",\"width\":0.5},\"pattern\":{\"fillmode\":\"overlay\",\"size\":10,\"solidity\":0.2}},\"type\":\"barpolar\"}],\"pie\":[{\"automargin\":true,\"type\":\"pie\"}]},\"layout\":{\"autotypenumbers\":\"strict\",\"colorway\":[\"#636efa\",\"#EF553B\",\"#00cc96\",\"#ab63fa\",\"#FFA15A\",\"#19d3f3\",\"#FF6692\",\"#B6E880\",\"#FF97FF\",\"#FECB52\"],\"font\":{\"color\":\"#2a3f5f\"},\"hovermode\":\"closest\",\"hoverlabel\":{\"align\":\"left\"},\"paper_bgcolor\":\"white\",\"plot_bgcolor\":\"#E5ECF6\",\"polar\":{\"bgcolor\":\"#E5ECF6\",\"angularaxis\":{\"gridcolor\":\"white\",\"linecolor\":\"white\",\"ticks\":\"\"},\"radialaxis\":{\"gridcolor\":\"white\",\"linecolor\":\"white\",\"ticks\":\"\"}},\"ternary\":{\"bgcolor\":\"#E5ECF6\",\"aaxis\":{\"gridcolor\":\"white\",\"linecolor\":\"white\",\"ticks\":\"\"},\"baxis\":{\"gridcolor\":\"white\",\"linecolor\":\"white\",\"ticks\":\"\"},\"caxis\":{\"gridcolor\":\"white\",\"linecolor\":\"white\",\"ticks\":\"\"}},\"coloraxis\":{\"colorbar\":{\"outlinewidth\":0,\"ticks\":\"\"}},\"colorscale\":{\"sequential\":[[0.0,\"#0d0887\"],[0.1111111111111111,\"#46039f\"],[0.2222222222222222,\"#7201a8\"],[0.3333333333333333,\"#9c179e\"],[0.4444444444444444,\"#bd3786\"],[0.5555555555555556,\"#d8576b\"],[0.6666666666666666,\"#ed7953\"],[0.7777777777777778,\"#fb9f3a\"],[0.8888888888888888,\"#fdca26\"],[1.0,\"#f0f921\"]],\"sequentialminus\":[[0.0,\"#0d0887\"],[0.1111111111111111,\"#46039f\"],[0.2222222222222222,\"#7201a8\"],[0.3333333333333333,\"#9c179e\"],[0.4444444444444444,\"#bd3786\"],[0.5555555555555556,\"#d8576b\"],[0.6666666666666666,\"#ed7953\"],[0.7777777777777778,\"#fb9f3a\"],[0.8888888888888888,\"#fdca26\"],[1.0,\"#f0f921\"]],\"diverging\":[[0,\"#8e0152\"],[0.1,\"#c51b7d\"],[0.2,\"#de77ae\"],[0.3,\"#f1b6da\"],[0.4,\"#fde0ef\"],[0.5,\"#f7f7f7\"],[0.6,\"#e6f5d0\"],[0.7,\"#b8e186\"],[0.8,\"#7fbc41\"],[0.9,\"#4d9221\"],[1,\"#276419\"]]},\"xaxis\":{\"gridcolor\":\"white\",\"linecolor\":\"white\",\"ticks\":\"\",\"title\":{\"standoff\":15},\"zerolinecolor\":\"white\",\"automargin\":true,\"zerolinewidth\":2},\"yaxis\":{\"gridcolor\":\"white\",\"linecolor\":\"white\",\"ticks\":\"\",\"title\":{\"standoff\":15},\"zerolinecolor\":\"white\",\"automargin\":true,\"zerolinewidth\":2},\"scene\":{\"xaxis\":{\"backgroundcolor\":\"#E5ECF6\",\"gridcolor\":\"white\",\"linecolor\":\"white\",\"showbackground\":true,\"ticks\":\"\",\"zerolinecolor\":\"white\",\"gridwidth\":2},\"yaxis\":{\"backgroundcolor\":\"#E5ECF6\",\"gridcolor\":\"white\",\"linecolor\":\"white\",\"showbackground\":true,\"ticks\":\"\",\"zerolinecolor\":\"white\",\"gridwidth\":2},\"zaxis\":{\"backgroundcolor\":\"#E5ECF6\",\"gridcolor\":\"white\",\"linecolor\":\"white\",\"showbackground\":true,\"ticks\":\"\",\"zerolinecolor\":\"white\",\"gridwidth\":2}},\"shapedefaults\":{\"line\":{\"color\":\"#2a3f5f\"}},\"annotationdefaults\":{\"arrowcolor\":\"#2a3f5f\",\"arrowhead\":0,\"arrowwidth\":1},\"geo\":{\"bgcolor\":\"white\",\"landcolor\":\"#E5ECF6\",\"subunitcolor\":\"white\",\"showland\":true,\"showlakes\":true,\"lakecolor\":\"white\"},\"title\":{\"x\":0.05},\"mapbox\":{\"style\":\"light\"}}},\"coloraxis\":{\"colorbar\":{\"title\":{\"text\":\"count\"}},\"colorscale\":[[0.0,\"rgb(103,0,31)\"],[0.1,\"rgb(178,24,43)\"],[0.2,\"rgb(214,96,77)\"],[0.3,\"rgb(244,165,130)\"],[0.4,\"rgb(253,219,199)\"],[0.5,\"rgb(247,247,247)\"],[0.6,\"rgb(209,229,240)\"],[0.7,\"rgb(146,197,222)\"],[0.8,\"rgb(67,147,195)\"],[0.9,\"rgb(33,102,172)\"],[1.0,\"rgb(5,48,97)\"]],\"cmid\":71704.7076933436},\"legend\":{\"tracegroupgap\":0},\"margin\":{\"t\":60},\"height\":900,\"width\":900},                        {\"responsive\": true}                    ).then(function(){\n",
       "                            \n",
       "var gd = document.getElementById('7823c077-e80c-43c2-bfa1-bb37ef52f6b7');\n",
       "var x = new MutationObserver(function (mutations, observer) {{\n",
       "        var display = window.getComputedStyle(gd).display;\n",
       "        if (!display || display === 'none') {{\n",
       "            console.log([gd, 'removed!']);\n",
       "            Plotly.purge(gd);\n",
       "            observer.disconnect();\n",
       "        }}\n",
       "}});\n",
       "\n",
       "// Listen for the removal of the full notebook cells\n",
       "var notebookContainer = gd.closest('#notebook-container');\n",
       "if (notebookContainer) {{\n",
       "    x.observe(notebookContainer, {childList: true});\n",
       "}}\n",
       "\n",
       "// Listen for the clearing of the current output cell\n",
       "var outputEl = gd.closest('.output');\n",
       "if (outputEl) {{\n",
       "    x.observe(outputEl, {childList: true});\n",
       "}}\n",
       "\n",
       "                        })                };                });            </script>        </div>"
      ]
     },
     "metadata": {},
     "output_type": "display_data"
    },
    {
     "data": {
      "application/vnd.plotly.v1+json": {
       "config": {
        "plotlyServerURL": "https://plot.ly"
       },
       "data": [
        {
         "branchvalues": "total",
         "customdata": [
          [
           1
          ],
          [
           1
          ],
          [
           1
          ],
          [
           2
          ],
          [
           3
          ],
          [
           5
          ],
          [
           12090
          ],
          [
           1
          ],
          [
           2
          ],
          [
           12090
          ],
          [
           3
          ],
          [
           1
          ],
          [
           5
          ],
          [
           1
          ],
          [
           12077.017351069982
          ]
         ],
         "domain": {
          "x": [
           0,
           1
          ],
          "y": [
           0,
           1
          ]
         },
         "hovertemplate": "labels=%{label}<br>count_sum=%{value}<br>parent=%{parent}<br>id=%{id}<br>count=%{color}<extra></extra>",
         "ids": [
          "Qantas<br>12103 Tweets/Czech/1",
          "Qantas<br>12103 Tweets/French/1",
          "Qantas<br>12103 Tweets/Welsh/1",
          "Qantas<br>12103 Tweets/Dutch/2",
          "Qantas<br>12103 Tweets/Estonian/3",
          "Qantas<br>12103 Tweets/Undetermined/5",
          "Qantas<br>12103 Tweets/English/12090",
          "Qantas<br>12103 Tweets/Czech",
          "Qantas<br>12103 Tweets/Dutch",
          "Qantas<br>12103 Tweets/English",
          "Qantas<br>12103 Tweets/Estonian",
          "Qantas<br>12103 Tweets/French",
          "Qantas<br>12103 Tweets/Undetermined",
          "Qantas<br>12103 Tweets/Welsh",
          "Qantas<br>12103 Tweets"
         ],
         "labels": [
          "1",
          "1",
          "1",
          "2",
          "3",
          "5",
          "12090",
          "Czech",
          "Dutch",
          "English",
          "Estonian",
          "French",
          "Undetermined",
          "Welsh",
          "Qantas<br>12103 Tweets"
         ],
         "marker": {
          "coloraxis": "coloraxis",
          "colors": [
           1,
           1,
           1,
           2,
           3,
           5,
           12090,
           1,
           2,
           12090,
           3,
           1,
           5,
           1,
           12077.017351069982
          ]
         },
         "name": "",
         "parents": [
          "Qantas<br>12103 Tweets/Czech",
          "Qantas<br>12103 Tweets/French",
          "Qantas<br>12103 Tweets/Welsh",
          "Qantas<br>12103 Tweets/Dutch",
          "Qantas<br>12103 Tweets/Estonian",
          "Qantas<br>12103 Tweets/Undetermined",
          "Qantas<br>12103 Tweets/English",
          "Qantas<br>12103 Tweets",
          "Qantas<br>12103 Tweets",
          "Qantas<br>12103 Tweets",
          "Qantas<br>12103 Tweets",
          "Qantas<br>12103 Tweets",
          "Qantas<br>12103 Tweets",
          "Qantas<br>12103 Tweets",
          ""
         ],
         "type": "sunburst",
         "values": [
          1,
          1,
          1,
          2,
          3,
          5,
          12090,
          1,
          2,
          12090,
          3,
          1,
          5,
          1,
          12103
         ]
        }
       ],
       "layout": {
        "coloraxis": {
         "cmid": 71704.7076933436,
         "colorbar": {
          "title": {
           "text": "count"
          }
         },
         "colorscale": [
          [
           0,
           "rgb(103,0,31)"
          ],
          [
           0.1,
           "rgb(178,24,43)"
          ],
          [
           0.2,
           "rgb(214,96,77)"
          ],
          [
           0.3,
           "rgb(244,165,130)"
          ],
          [
           0.4,
           "rgb(253,219,199)"
          ],
          [
           0.5,
           "rgb(247,247,247)"
          ],
          [
           0.6,
           "rgb(209,229,240)"
          ],
          [
           0.7,
           "rgb(146,197,222)"
          ],
          [
           0.8,
           "rgb(67,147,195)"
          ],
          [
           0.9,
           "rgb(33,102,172)"
          ],
          [
           1,
           "rgb(5,48,97)"
          ]
         ]
        },
        "height": 900,
        "legend": {
         "tracegroupgap": 0
        },
        "margin": {
         "t": 60
        },
        "template": {
         "data": {
          "bar": [
           {
            "error_x": {
             "color": "#2a3f5f"
            },
            "error_y": {
             "color": "#2a3f5f"
            },
            "marker": {
             "line": {
              "color": "#E5ECF6",
              "width": 0.5
             },
             "pattern": {
              "fillmode": "overlay",
              "size": 10,
              "solidity": 0.2
             }
            },
            "type": "bar"
           }
          ],
          "barpolar": [
           {
            "marker": {
             "line": {
              "color": "#E5ECF6",
              "width": 0.5
             },
             "pattern": {
              "fillmode": "overlay",
              "size": 10,
              "solidity": 0.2
             }
            },
            "type": "barpolar"
           }
          ],
          "carpet": [
           {
            "aaxis": {
             "endlinecolor": "#2a3f5f",
             "gridcolor": "white",
             "linecolor": "white",
             "minorgridcolor": "white",
             "startlinecolor": "#2a3f5f"
            },
            "baxis": {
             "endlinecolor": "#2a3f5f",
             "gridcolor": "white",
             "linecolor": "white",
             "minorgridcolor": "white",
             "startlinecolor": "#2a3f5f"
            },
            "type": "carpet"
           }
          ],
          "choropleth": [
           {
            "colorbar": {
             "outlinewidth": 0,
             "ticks": ""
            },
            "type": "choropleth"
           }
          ],
          "contour": [
           {
            "colorbar": {
             "outlinewidth": 0,
             "ticks": ""
            },
            "colorscale": [
             [
              0,
              "#0d0887"
             ],
             [
              0.1111111111111111,
              "#46039f"
             ],
             [
              0.2222222222222222,
              "#7201a8"
             ],
             [
              0.3333333333333333,
              "#9c179e"
             ],
             [
              0.4444444444444444,
              "#bd3786"
             ],
             [
              0.5555555555555556,
              "#d8576b"
             ],
             [
              0.6666666666666666,
              "#ed7953"
             ],
             [
              0.7777777777777778,
              "#fb9f3a"
             ],
             [
              0.8888888888888888,
              "#fdca26"
             ],
             [
              1,
              "#f0f921"
             ]
            ],
            "type": "contour"
           }
          ],
          "contourcarpet": [
           {
            "colorbar": {
             "outlinewidth": 0,
             "ticks": ""
            },
            "type": "contourcarpet"
           }
          ],
          "heatmap": [
           {
            "colorbar": {
             "outlinewidth": 0,
             "ticks": ""
            },
            "colorscale": [
             [
              0,
              "#0d0887"
             ],
             [
              0.1111111111111111,
              "#46039f"
             ],
             [
              0.2222222222222222,
              "#7201a8"
             ],
             [
              0.3333333333333333,
              "#9c179e"
             ],
             [
              0.4444444444444444,
              "#bd3786"
             ],
             [
              0.5555555555555556,
              "#d8576b"
             ],
             [
              0.6666666666666666,
              "#ed7953"
             ],
             [
              0.7777777777777778,
              "#fb9f3a"
             ],
             [
              0.8888888888888888,
              "#fdca26"
             ],
             [
              1,
              "#f0f921"
             ]
            ],
            "type": "heatmap"
           }
          ],
          "heatmapgl": [
           {
            "colorbar": {
             "outlinewidth": 0,
             "ticks": ""
            },
            "colorscale": [
             [
              0,
              "#0d0887"
             ],
             [
              0.1111111111111111,
              "#46039f"
             ],
             [
              0.2222222222222222,
              "#7201a8"
             ],
             [
              0.3333333333333333,
              "#9c179e"
             ],
             [
              0.4444444444444444,
              "#bd3786"
             ],
             [
              0.5555555555555556,
              "#d8576b"
             ],
             [
              0.6666666666666666,
              "#ed7953"
             ],
             [
              0.7777777777777778,
              "#fb9f3a"
             ],
             [
              0.8888888888888888,
              "#fdca26"
             ],
             [
              1,
              "#f0f921"
             ]
            ],
            "type": "heatmapgl"
           }
          ],
          "histogram": [
           {
            "marker": {
             "pattern": {
              "fillmode": "overlay",
              "size": 10,
              "solidity": 0.2
             }
            },
            "type": "histogram"
           }
          ],
          "histogram2d": [
           {
            "colorbar": {
             "outlinewidth": 0,
             "ticks": ""
            },
            "colorscale": [
             [
              0,
              "#0d0887"
             ],
             [
              0.1111111111111111,
              "#46039f"
             ],
             [
              0.2222222222222222,
              "#7201a8"
             ],
             [
              0.3333333333333333,
              "#9c179e"
             ],
             [
              0.4444444444444444,
              "#bd3786"
             ],
             [
              0.5555555555555556,
              "#d8576b"
             ],
             [
              0.6666666666666666,
              "#ed7953"
             ],
             [
              0.7777777777777778,
              "#fb9f3a"
             ],
             [
              0.8888888888888888,
              "#fdca26"
             ],
             [
              1,
              "#f0f921"
             ]
            ],
            "type": "histogram2d"
           }
          ],
          "histogram2dcontour": [
           {
            "colorbar": {
             "outlinewidth": 0,
             "ticks": ""
            },
            "colorscale": [
             [
              0,
              "#0d0887"
             ],
             [
              0.1111111111111111,
              "#46039f"
             ],
             [
              0.2222222222222222,
              "#7201a8"
             ],
             [
              0.3333333333333333,
              "#9c179e"
             ],
             [
              0.4444444444444444,
              "#bd3786"
             ],
             [
              0.5555555555555556,
              "#d8576b"
             ],
             [
              0.6666666666666666,
              "#ed7953"
             ],
             [
              0.7777777777777778,
              "#fb9f3a"
             ],
             [
              0.8888888888888888,
              "#fdca26"
             ],
             [
              1,
              "#f0f921"
             ]
            ],
            "type": "histogram2dcontour"
           }
          ],
          "mesh3d": [
           {
            "colorbar": {
             "outlinewidth": 0,
             "ticks": ""
            },
            "type": "mesh3d"
           }
          ],
          "parcoords": [
           {
            "line": {
             "colorbar": {
              "outlinewidth": 0,
              "ticks": ""
             }
            },
            "type": "parcoords"
           }
          ],
          "pie": [
           {
            "automargin": true,
            "type": "pie"
           }
          ],
          "scatter": [
           {
            "fillpattern": {
             "fillmode": "overlay",
             "size": 10,
             "solidity": 0.2
            },
            "type": "scatter"
           }
          ],
          "scatter3d": [
           {
            "line": {
             "colorbar": {
              "outlinewidth": 0,
              "ticks": ""
             }
            },
            "marker": {
             "colorbar": {
              "outlinewidth": 0,
              "ticks": ""
             }
            },
            "type": "scatter3d"
           }
          ],
          "scattercarpet": [
           {
            "marker": {
             "colorbar": {
              "outlinewidth": 0,
              "ticks": ""
             }
            },
            "type": "scattercarpet"
           }
          ],
          "scattergeo": [
           {
            "marker": {
             "colorbar": {
              "outlinewidth": 0,
              "ticks": ""
             }
            },
            "type": "scattergeo"
           }
          ],
          "scattergl": [
           {
            "marker": {
             "colorbar": {
              "outlinewidth": 0,
              "ticks": ""
             }
            },
            "type": "scattergl"
           }
          ],
          "scattermapbox": [
           {
            "marker": {
             "colorbar": {
              "outlinewidth": 0,
              "ticks": ""
             }
            },
            "type": "scattermapbox"
           }
          ],
          "scatterpolar": [
           {
            "marker": {
             "colorbar": {
              "outlinewidth": 0,
              "ticks": ""
             }
            },
            "type": "scatterpolar"
           }
          ],
          "scatterpolargl": [
           {
            "marker": {
             "colorbar": {
              "outlinewidth": 0,
              "ticks": ""
             }
            },
            "type": "scatterpolargl"
           }
          ],
          "scatterternary": [
           {
            "marker": {
             "colorbar": {
              "outlinewidth": 0,
              "ticks": ""
             }
            },
            "type": "scatterternary"
           }
          ],
          "surface": [
           {
            "colorbar": {
             "outlinewidth": 0,
             "ticks": ""
            },
            "colorscale": [
             [
              0,
              "#0d0887"
             ],
             [
              0.1111111111111111,
              "#46039f"
             ],
             [
              0.2222222222222222,
              "#7201a8"
             ],
             [
              0.3333333333333333,
              "#9c179e"
             ],
             [
              0.4444444444444444,
              "#bd3786"
             ],
             [
              0.5555555555555556,
              "#d8576b"
             ],
             [
              0.6666666666666666,
              "#ed7953"
             ],
             [
              0.7777777777777778,
              "#fb9f3a"
             ],
             [
              0.8888888888888888,
              "#fdca26"
             ],
             [
              1,
              "#f0f921"
             ]
            ],
            "type": "surface"
           }
          ],
          "table": [
           {
            "cells": {
             "fill": {
              "color": "#EBF0F8"
             },
             "line": {
              "color": "white"
             }
            },
            "header": {
             "fill": {
              "color": "#C8D4E3"
             },
             "line": {
              "color": "white"
             }
            },
            "type": "table"
           }
          ]
         },
         "layout": {
          "annotationdefaults": {
           "arrowcolor": "#2a3f5f",
           "arrowhead": 0,
           "arrowwidth": 1
          },
          "autotypenumbers": "strict",
          "coloraxis": {
           "colorbar": {
            "outlinewidth": 0,
            "ticks": ""
           }
          },
          "colorscale": {
           "diverging": [
            [
             0,
             "#8e0152"
            ],
            [
             0.1,
             "#c51b7d"
            ],
            [
             0.2,
             "#de77ae"
            ],
            [
             0.3,
             "#f1b6da"
            ],
            [
             0.4,
             "#fde0ef"
            ],
            [
             0.5,
             "#f7f7f7"
            ],
            [
             0.6,
             "#e6f5d0"
            ],
            [
             0.7,
             "#b8e186"
            ],
            [
             0.8,
             "#7fbc41"
            ],
            [
             0.9,
             "#4d9221"
            ],
            [
             1,
             "#276419"
            ]
           ],
           "sequential": [
            [
             0,
             "#0d0887"
            ],
            [
             0.1111111111111111,
             "#46039f"
            ],
            [
             0.2222222222222222,
             "#7201a8"
            ],
            [
             0.3333333333333333,
             "#9c179e"
            ],
            [
             0.4444444444444444,
             "#bd3786"
            ],
            [
             0.5555555555555556,
             "#d8576b"
            ],
            [
             0.6666666666666666,
             "#ed7953"
            ],
            [
             0.7777777777777778,
             "#fb9f3a"
            ],
            [
             0.8888888888888888,
             "#fdca26"
            ],
            [
             1,
             "#f0f921"
            ]
           ],
           "sequentialminus": [
            [
             0,
             "#0d0887"
            ],
            [
             0.1111111111111111,
             "#46039f"
            ],
            [
             0.2222222222222222,
             "#7201a8"
            ],
            [
             0.3333333333333333,
             "#9c179e"
            ],
            [
             0.4444444444444444,
             "#bd3786"
            ],
            [
             0.5555555555555556,
             "#d8576b"
            ],
            [
             0.6666666666666666,
             "#ed7953"
            ],
            [
             0.7777777777777778,
             "#fb9f3a"
            ],
            [
             0.8888888888888888,
             "#fdca26"
            ],
            [
             1,
             "#f0f921"
            ]
           ]
          },
          "colorway": [
           "#636efa",
           "#EF553B",
           "#00cc96",
           "#ab63fa",
           "#FFA15A",
           "#19d3f3",
           "#FF6692",
           "#B6E880",
           "#FF97FF",
           "#FECB52"
          ],
          "font": {
           "color": "#2a3f5f"
          },
          "geo": {
           "bgcolor": "white",
           "lakecolor": "white",
           "landcolor": "#E5ECF6",
           "showlakes": true,
           "showland": true,
           "subunitcolor": "white"
          },
          "hoverlabel": {
           "align": "left"
          },
          "hovermode": "closest",
          "mapbox": {
           "style": "light"
          },
          "paper_bgcolor": "white",
          "plot_bgcolor": "#E5ECF6",
          "polar": {
           "angularaxis": {
            "gridcolor": "white",
            "linecolor": "white",
            "ticks": ""
           },
           "bgcolor": "#E5ECF6",
           "radialaxis": {
            "gridcolor": "white",
            "linecolor": "white",
            "ticks": ""
           }
          },
          "scene": {
           "xaxis": {
            "backgroundcolor": "#E5ECF6",
            "gridcolor": "white",
            "gridwidth": 2,
            "linecolor": "white",
            "showbackground": true,
            "ticks": "",
            "zerolinecolor": "white"
           },
           "yaxis": {
            "backgroundcolor": "#E5ECF6",
            "gridcolor": "white",
            "gridwidth": 2,
            "linecolor": "white",
            "showbackground": true,
            "ticks": "",
            "zerolinecolor": "white"
           },
           "zaxis": {
            "backgroundcolor": "#E5ECF6",
            "gridcolor": "white",
            "gridwidth": 2,
            "linecolor": "white",
            "showbackground": true,
            "ticks": "",
            "zerolinecolor": "white"
           }
          },
          "shapedefaults": {
           "line": {
            "color": "#2a3f5f"
           }
          },
          "ternary": {
           "aaxis": {
            "gridcolor": "white",
            "linecolor": "white",
            "ticks": ""
           },
           "baxis": {
            "gridcolor": "white",
            "linecolor": "white",
            "ticks": ""
           },
           "bgcolor": "#E5ECF6",
           "caxis": {
            "gridcolor": "white",
            "linecolor": "white",
            "ticks": ""
           }
          },
          "title": {
           "x": 0.05
          },
          "xaxis": {
           "automargin": true,
           "gridcolor": "white",
           "linecolor": "white",
           "ticks": "",
           "title": {
            "standoff": 15
           },
           "zerolinecolor": "white",
           "zerolinewidth": 2
          },
          "yaxis": {
           "automargin": true,
           "gridcolor": "white",
           "linecolor": "white",
           "ticks": "",
           "title": {
            "standoff": 15
           },
           "zerolinecolor": "white",
           "zerolinewidth": 2
          }
         }
        },
        "width": 900
       }
      },
      "text/html": [
       "<div>                            <div id=\"e98a0188-69d0-4410-bb35-7d7708829ba3\" class=\"plotly-graph-div\" style=\"height:900px; width:900px;\"></div>            <script type=\"text/javascript\">                require([\"plotly\"], function(Plotly) {                    window.PLOTLYENV=window.PLOTLYENV || {};                                    if (document.getElementById(\"e98a0188-69d0-4410-bb35-7d7708829ba3\")) {                    Plotly.newPlot(                        \"e98a0188-69d0-4410-bb35-7d7708829ba3\",                        [{\"branchvalues\":\"total\",\"customdata\":[[1.0],[1.0],[1.0],[2.0],[3.0],[5.0],[12090.0],[1.0],[2.0],[12090.0],[3.0],[1.0],[5.0],[1.0],[12077.017351069982]],\"domain\":{\"x\":[0.0,1.0],\"y\":[0.0,1.0]},\"hovertemplate\":\"labels=%{label}<br>count_sum=%{value}<br>parent=%{parent}<br>id=%{id}<br>count=%{color}<extra></extra>\",\"ids\":[\"Qantas<br>12103 Tweets/Czech/1\",\"Qantas<br>12103 Tweets/French/1\",\"Qantas<br>12103 Tweets/Welsh/1\",\"Qantas<br>12103 Tweets/Dutch/2\",\"Qantas<br>12103 Tweets/Estonian/3\",\"Qantas<br>12103 Tweets/Undetermined/5\",\"Qantas<br>12103 Tweets/English/12090\",\"Qantas<br>12103 Tweets/Czech\",\"Qantas<br>12103 Tweets/Dutch\",\"Qantas<br>12103 Tweets/English\",\"Qantas<br>12103 Tweets/Estonian\",\"Qantas<br>12103 Tweets/French\",\"Qantas<br>12103 Tweets/Undetermined\",\"Qantas<br>12103 Tweets/Welsh\",\"Qantas<br>12103 Tweets\"],\"labels\":[\"1\",\"1\",\"1\",\"2\",\"3\",\"5\",\"12090\",\"Czech\",\"Dutch\",\"English\",\"Estonian\",\"French\",\"Undetermined\",\"Welsh\",\"Qantas<br>12103 Tweets\"],\"marker\":{\"coloraxis\":\"coloraxis\",\"colors\":[1.0,1.0,1.0,2.0,3.0,5.0,12090.0,1.0,2.0,12090.0,3.0,1.0,5.0,1.0,12077.017351069982]},\"name\":\"\",\"parents\":[\"Qantas<br>12103 Tweets/Czech\",\"Qantas<br>12103 Tweets/French\",\"Qantas<br>12103 Tweets/Welsh\",\"Qantas<br>12103 Tweets/Dutch\",\"Qantas<br>12103 Tweets/Estonian\",\"Qantas<br>12103 Tweets/Undetermined\",\"Qantas<br>12103 Tweets/English\",\"Qantas<br>12103 Tweets\",\"Qantas<br>12103 Tweets\",\"Qantas<br>12103 Tweets\",\"Qantas<br>12103 Tweets\",\"Qantas<br>12103 Tweets\",\"Qantas<br>12103 Tweets\",\"Qantas<br>12103 Tweets\",\"\"],\"values\":[1,1,1,2,3,5,12090,1,2,12090,3,1,5,1,12103],\"type\":\"sunburst\"}],                        {\"template\":{\"data\":{\"histogram2dcontour\":[{\"type\":\"histogram2dcontour\",\"colorbar\":{\"outlinewidth\":0,\"ticks\":\"\"},\"colorscale\":[[0.0,\"#0d0887\"],[0.1111111111111111,\"#46039f\"],[0.2222222222222222,\"#7201a8\"],[0.3333333333333333,\"#9c179e\"],[0.4444444444444444,\"#bd3786\"],[0.5555555555555556,\"#d8576b\"],[0.6666666666666666,\"#ed7953\"],[0.7777777777777778,\"#fb9f3a\"],[0.8888888888888888,\"#fdca26\"],[1.0,\"#f0f921\"]]}],\"choropleth\":[{\"type\":\"choropleth\",\"colorbar\":{\"outlinewidth\":0,\"ticks\":\"\"}}],\"histogram2d\":[{\"type\":\"histogram2d\",\"colorbar\":{\"outlinewidth\":0,\"ticks\":\"\"},\"colorscale\":[[0.0,\"#0d0887\"],[0.1111111111111111,\"#46039f\"],[0.2222222222222222,\"#7201a8\"],[0.3333333333333333,\"#9c179e\"],[0.4444444444444444,\"#bd3786\"],[0.5555555555555556,\"#d8576b\"],[0.6666666666666666,\"#ed7953\"],[0.7777777777777778,\"#fb9f3a\"],[0.8888888888888888,\"#fdca26\"],[1.0,\"#f0f921\"]]}],\"heatmap\":[{\"type\":\"heatmap\",\"colorbar\":{\"outlinewidth\":0,\"ticks\":\"\"},\"colorscale\":[[0.0,\"#0d0887\"],[0.1111111111111111,\"#46039f\"],[0.2222222222222222,\"#7201a8\"],[0.3333333333333333,\"#9c179e\"],[0.4444444444444444,\"#bd3786\"],[0.5555555555555556,\"#d8576b\"],[0.6666666666666666,\"#ed7953\"],[0.7777777777777778,\"#fb9f3a\"],[0.8888888888888888,\"#fdca26\"],[1.0,\"#f0f921\"]]}],\"heatmapgl\":[{\"type\":\"heatmapgl\",\"colorbar\":{\"outlinewidth\":0,\"ticks\":\"\"},\"colorscale\":[[0.0,\"#0d0887\"],[0.1111111111111111,\"#46039f\"],[0.2222222222222222,\"#7201a8\"],[0.3333333333333333,\"#9c179e\"],[0.4444444444444444,\"#bd3786\"],[0.5555555555555556,\"#d8576b\"],[0.6666666666666666,\"#ed7953\"],[0.7777777777777778,\"#fb9f3a\"],[0.8888888888888888,\"#fdca26\"],[1.0,\"#f0f921\"]]}],\"contourcarpet\":[{\"type\":\"contourcarpet\",\"colorbar\":{\"outlinewidth\":0,\"ticks\":\"\"}}],\"contour\":[{\"type\":\"contour\",\"colorbar\":{\"outlinewidth\":0,\"ticks\":\"\"},\"colorscale\":[[0.0,\"#0d0887\"],[0.1111111111111111,\"#46039f\"],[0.2222222222222222,\"#7201a8\"],[0.3333333333333333,\"#9c179e\"],[0.4444444444444444,\"#bd3786\"],[0.5555555555555556,\"#d8576b\"],[0.6666666666666666,\"#ed7953\"],[0.7777777777777778,\"#fb9f3a\"],[0.8888888888888888,\"#fdca26\"],[1.0,\"#f0f921\"]]}],\"surface\":[{\"type\":\"surface\",\"colorbar\":{\"outlinewidth\":0,\"ticks\":\"\"},\"colorscale\":[[0.0,\"#0d0887\"],[0.1111111111111111,\"#46039f\"],[0.2222222222222222,\"#7201a8\"],[0.3333333333333333,\"#9c179e\"],[0.4444444444444444,\"#bd3786\"],[0.5555555555555556,\"#d8576b\"],[0.6666666666666666,\"#ed7953\"],[0.7777777777777778,\"#fb9f3a\"],[0.8888888888888888,\"#fdca26\"],[1.0,\"#f0f921\"]]}],\"mesh3d\":[{\"type\":\"mesh3d\",\"colorbar\":{\"outlinewidth\":0,\"ticks\":\"\"}}],\"scatter\":[{\"fillpattern\":{\"fillmode\":\"overlay\",\"size\":10,\"solidity\":0.2},\"type\":\"scatter\"}],\"parcoords\":[{\"type\":\"parcoords\",\"line\":{\"colorbar\":{\"outlinewidth\":0,\"ticks\":\"\"}}}],\"scatterpolargl\":[{\"type\":\"scatterpolargl\",\"marker\":{\"colorbar\":{\"outlinewidth\":0,\"ticks\":\"\"}}}],\"bar\":[{\"error_x\":{\"color\":\"#2a3f5f\"},\"error_y\":{\"color\":\"#2a3f5f\"},\"marker\":{\"line\":{\"color\":\"#E5ECF6\",\"width\":0.5},\"pattern\":{\"fillmode\":\"overlay\",\"size\":10,\"solidity\":0.2}},\"type\":\"bar\"}],\"scattergeo\":[{\"type\":\"scattergeo\",\"marker\":{\"colorbar\":{\"outlinewidth\":0,\"ticks\":\"\"}}}],\"scatterpolar\":[{\"type\":\"scatterpolar\",\"marker\":{\"colorbar\":{\"outlinewidth\":0,\"ticks\":\"\"}}}],\"histogram\":[{\"marker\":{\"pattern\":{\"fillmode\":\"overlay\",\"size\":10,\"solidity\":0.2}},\"type\":\"histogram\"}],\"scattergl\":[{\"type\":\"scattergl\",\"marker\":{\"colorbar\":{\"outlinewidth\":0,\"ticks\":\"\"}}}],\"scatter3d\":[{\"type\":\"scatter3d\",\"line\":{\"colorbar\":{\"outlinewidth\":0,\"ticks\":\"\"}},\"marker\":{\"colorbar\":{\"outlinewidth\":0,\"ticks\":\"\"}}}],\"scattermapbox\":[{\"type\":\"scattermapbox\",\"marker\":{\"colorbar\":{\"outlinewidth\":0,\"ticks\":\"\"}}}],\"scatterternary\":[{\"type\":\"scatterternary\",\"marker\":{\"colorbar\":{\"outlinewidth\":0,\"ticks\":\"\"}}}],\"scattercarpet\":[{\"type\":\"scattercarpet\",\"marker\":{\"colorbar\":{\"outlinewidth\":0,\"ticks\":\"\"}}}],\"carpet\":[{\"aaxis\":{\"endlinecolor\":\"#2a3f5f\",\"gridcolor\":\"white\",\"linecolor\":\"white\",\"minorgridcolor\":\"white\",\"startlinecolor\":\"#2a3f5f\"},\"baxis\":{\"endlinecolor\":\"#2a3f5f\",\"gridcolor\":\"white\",\"linecolor\":\"white\",\"minorgridcolor\":\"white\",\"startlinecolor\":\"#2a3f5f\"},\"type\":\"carpet\"}],\"table\":[{\"cells\":{\"fill\":{\"color\":\"#EBF0F8\"},\"line\":{\"color\":\"white\"}},\"header\":{\"fill\":{\"color\":\"#C8D4E3\"},\"line\":{\"color\":\"white\"}},\"type\":\"table\"}],\"barpolar\":[{\"marker\":{\"line\":{\"color\":\"#E5ECF6\",\"width\":0.5},\"pattern\":{\"fillmode\":\"overlay\",\"size\":10,\"solidity\":0.2}},\"type\":\"barpolar\"}],\"pie\":[{\"automargin\":true,\"type\":\"pie\"}]},\"layout\":{\"autotypenumbers\":\"strict\",\"colorway\":[\"#636efa\",\"#EF553B\",\"#00cc96\",\"#ab63fa\",\"#FFA15A\",\"#19d3f3\",\"#FF6692\",\"#B6E880\",\"#FF97FF\",\"#FECB52\"],\"font\":{\"color\":\"#2a3f5f\"},\"hovermode\":\"closest\",\"hoverlabel\":{\"align\":\"left\"},\"paper_bgcolor\":\"white\",\"plot_bgcolor\":\"#E5ECF6\",\"polar\":{\"bgcolor\":\"#E5ECF6\",\"angularaxis\":{\"gridcolor\":\"white\",\"linecolor\":\"white\",\"ticks\":\"\"},\"radialaxis\":{\"gridcolor\":\"white\",\"linecolor\":\"white\",\"ticks\":\"\"}},\"ternary\":{\"bgcolor\":\"#E5ECF6\",\"aaxis\":{\"gridcolor\":\"white\",\"linecolor\":\"white\",\"ticks\":\"\"},\"baxis\":{\"gridcolor\":\"white\",\"linecolor\":\"white\",\"ticks\":\"\"},\"caxis\":{\"gridcolor\":\"white\",\"linecolor\":\"white\",\"ticks\":\"\"}},\"coloraxis\":{\"colorbar\":{\"outlinewidth\":0,\"ticks\":\"\"}},\"colorscale\":{\"sequential\":[[0.0,\"#0d0887\"],[0.1111111111111111,\"#46039f\"],[0.2222222222222222,\"#7201a8\"],[0.3333333333333333,\"#9c179e\"],[0.4444444444444444,\"#bd3786\"],[0.5555555555555556,\"#d8576b\"],[0.6666666666666666,\"#ed7953\"],[0.7777777777777778,\"#fb9f3a\"],[0.8888888888888888,\"#fdca26\"],[1.0,\"#f0f921\"]],\"sequentialminus\":[[0.0,\"#0d0887\"],[0.1111111111111111,\"#46039f\"],[0.2222222222222222,\"#7201a8\"],[0.3333333333333333,\"#9c179e\"],[0.4444444444444444,\"#bd3786\"],[0.5555555555555556,\"#d8576b\"],[0.6666666666666666,\"#ed7953\"],[0.7777777777777778,\"#fb9f3a\"],[0.8888888888888888,\"#fdca26\"],[1.0,\"#f0f921\"]],\"diverging\":[[0,\"#8e0152\"],[0.1,\"#c51b7d\"],[0.2,\"#de77ae\"],[0.3,\"#f1b6da\"],[0.4,\"#fde0ef\"],[0.5,\"#f7f7f7\"],[0.6,\"#e6f5d0\"],[0.7,\"#b8e186\"],[0.8,\"#7fbc41\"],[0.9,\"#4d9221\"],[1,\"#276419\"]]},\"xaxis\":{\"gridcolor\":\"white\",\"linecolor\":\"white\",\"ticks\":\"\",\"title\":{\"standoff\":15},\"zerolinecolor\":\"white\",\"automargin\":true,\"zerolinewidth\":2},\"yaxis\":{\"gridcolor\":\"white\",\"linecolor\":\"white\",\"ticks\":\"\",\"title\":{\"standoff\":15},\"zerolinecolor\":\"white\",\"automargin\":true,\"zerolinewidth\":2},\"scene\":{\"xaxis\":{\"backgroundcolor\":\"#E5ECF6\",\"gridcolor\":\"white\",\"linecolor\":\"white\",\"showbackground\":true,\"ticks\":\"\",\"zerolinecolor\":\"white\",\"gridwidth\":2},\"yaxis\":{\"backgroundcolor\":\"#E5ECF6\",\"gridcolor\":\"white\",\"linecolor\":\"white\",\"showbackground\":true,\"ticks\":\"\",\"zerolinecolor\":\"white\",\"gridwidth\":2},\"zaxis\":{\"backgroundcolor\":\"#E5ECF6\",\"gridcolor\":\"white\",\"linecolor\":\"white\",\"showbackground\":true,\"ticks\":\"\",\"zerolinecolor\":\"white\",\"gridwidth\":2}},\"shapedefaults\":{\"line\":{\"color\":\"#2a3f5f\"}},\"annotationdefaults\":{\"arrowcolor\":\"#2a3f5f\",\"arrowhead\":0,\"arrowwidth\":1},\"geo\":{\"bgcolor\":\"white\",\"landcolor\":\"#E5ECF6\",\"subunitcolor\":\"white\",\"showland\":true,\"showlakes\":true,\"lakecolor\":\"white\"},\"title\":{\"x\":0.05},\"mapbox\":{\"style\":\"light\"}}},\"coloraxis\":{\"colorbar\":{\"title\":{\"text\":\"count\"}},\"colorscale\":[[0.0,\"rgb(103,0,31)\"],[0.1,\"rgb(178,24,43)\"],[0.2,\"rgb(214,96,77)\"],[0.3,\"rgb(244,165,130)\"],[0.4,\"rgb(253,219,199)\"],[0.5,\"rgb(247,247,247)\"],[0.6,\"rgb(209,229,240)\"],[0.7,\"rgb(146,197,222)\"],[0.8,\"rgb(67,147,195)\"],[0.9,\"rgb(33,102,172)\"],[1.0,\"rgb(5,48,97)\"]],\"cmid\":71704.7076933436},\"legend\":{\"tracegroupgap\":0},\"margin\":{\"t\":60},\"height\":900,\"width\":900},                        {\"responsive\": true}                    ).then(function(){\n",
       "                            \n",
       "var gd = document.getElementById('e98a0188-69d0-4410-bb35-7d7708829ba3');\n",
       "var x = new MutationObserver(function (mutations, observer) {{\n",
       "        var display = window.getComputedStyle(gd).display;\n",
       "        if (!display || display === 'none') {{\n",
       "            console.log([gd, 'removed!']);\n",
       "            Plotly.purge(gd);\n",
       "            observer.disconnect();\n",
       "        }}\n",
       "}});\n",
       "\n",
       "// Listen for the removal of the full notebook cells\n",
       "var notebookContainer = gd.closest('#notebook-container');\n",
       "if (notebookContainer) {{\n",
       "    x.observe(notebookContainer, {childList: true});\n",
       "}}\n",
       "\n",
       "// Listen for the clearing of the current output cell\n",
       "var outputEl = gd.closest('.output');\n",
       "if (outputEl) {{\n",
       "    x.observe(outputEl, {childList: true});\n",
       "}}\n",
       "\n",
       "                        })                };                });            </script>        </div>"
      ]
     },
     "metadata": {},
     "output_type": "display_data"
    },
    {
     "data": {
      "application/vnd.plotly.v1+json": {
       "config": {
        "plotlyServerURL": "https://plot.ly"
       },
       "data": [
        {
         "branchvalues": "total",
         "customdata": [
          [
           1
          ],
          [
           1
          ],
          [
           1
          ],
          [
           1
          ],
          [
           7
          ],
          [
           20
          ],
          [
           27
          ],
          [
           44
          ],
          [
           114
          ],
          [
           270
          ],
          [
           1212
          ],
          [
           7839
          ],
          [
           1
          ],
          [
           1
          ],
          [
           7839
          ],
          [
           1212
          ],
          [
           20
          ],
          [
           44
          ],
          [
           27
          ],
          [
           7
          ],
          [
           114
          ],
          [
           1
          ],
          [
           270
          ],
          [
           1
          ],
          [
           6606.677047289504
          ]
         ],
         "domain": {
          "x": [
           0,
           1
          ],
          "y": [
           0,
           1
          ]
         },
         "hovertemplate": "labels=%{label}<br>count_sum=%{value}<br>parent=%{parent}<br>id=%{id}<br>count=%{color}<extra></extra>",
         "ids": [
          "Air France<br>9537 Tweets/Czech/1",
          "Air France<br>9537 Tweets/Dutch/1",
          "Air France<br>9537 Tweets/Romanian/1",
          "Air France<br>9537 Tweets/zh/1",
          "Air France<br>9537 Tweets/Korean/7",
          "Air France<br>9537 Tweets/German/20",
          "Air France<br>9537 Tweets/Japanese/27",
          "Air France<br>9537 Tweets/Italian/44",
          "Air France<br>9537 Tweets/Portuguese/114",
          "Air France<br>9537 Tweets/Spanish/270",
          "Air France<br>9537 Tweets/French/1212",
          "Air France<br>9537 Tweets/English/7839",
          "Air France<br>9537 Tweets/Czech",
          "Air France<br>9537 Tweets/Dutch",
          "Air France<br>9537 Tweets/English",
          "Air France<br>9537 Tweets/French",
          "Air France<br>9537 Tweets/German",
          "Air France<br>9537 Tweets/Italian",
          "Air France<br>9537 Tweets/Japanese",
          "Air France<br>9537 Tweets/Korean",
          "Air France<br>9537 Tweets/Portuguese",
          "Air France<br>9537 Tweets/Romanian",
          "Air France<br>9537 Tweets/Spanish",
          "Air France<br>9537 Tweets/zh",
          "Air France<br>9537 Tweets"
         ],
         "labels": [
          "1",
          "1",
          "1",
          "1",
          "7",
          "20",
          "27",
          "44",
          "114",
          "270",
          "1212",
          "7839",
          "Czech",
          "Dutch",
          "English",
          "French",
          "German",
          "Italian",
          "Japanese",
          "Korean",
          "Portuguese",
          "Romanian",
          "Spanish",
          "zh",
          "Air France<br>9537 Tweets"
         ],
         "marker": {
          "coloraxis": "coloraxis",
          "colors": [
           1,
           1,
           1,
           1,
           7,
           20,
           27,
           44,
           114,
           270,
           1212,
           7839,
           1,
           1,
           7839,
           1212,
           20,
           44,
           27,
           7,
           114,
           1,
           270,
           1,
           6606.677047289504
          ]
         },
         "name": "",
         "parents": [
          "Air France<br>9537 Tweets/Czech",
          "Air France<br>9537 Tweets/Dutch",
          "Air France<br>9537 Tweets/Romanian",
          "Air France<br>9537 Tweets/zh",
          "Air France<br>9537 Tweets/Korean",
          "Air France<br>9537 Tweets/German",
          "Air France<br>9537 Tweets/Japanese",
          "Air France<br>9537 Tweets/Italian",
          "Air France<br>9537 Tweets/Portuguese",
          "Air France<br>9537 Tweets/Spanish",
          "Air France<br>9537 Tweets/French",
          "Air France<br>9537 Tweets/English",
          "Air France<br>9537 Tweets",
          "Air France<br>9537 Tweets",
          "Air France<br>9537 Tweets",
          "Air France<br>9537 Tweets",
          "Air France<br>9537 Tweets",
          "Air France<br>9537 Tweets",
          "Air France<br>9537 Tweets",
          "Air France<br>9537 Tweets",
          "Air France<br>9537 Tweets",
          "Air France<br>9537 Tweets",
          "Air France<br>9537 Tweets",
          "Air France<br>9537 Tweets",
          ""
         ],
         "type": "sunburst",
         "values": [
          1,
          1,
          1,
          1,
          7,
          20,
          27,
          44,
          114,
          270,
          1212,
          7839,
          1,
          1,
          7839,
          1212,
          20,
          44,
          27,
          7,
          114,
          1,
          270,
          1,
          9537
         ]
        }
       ],
       "layout": {
        "coloraxis": {
         "cmid": 71704.7076933436,
         "colorbar": {
          "title": {
           "text": "count"
          }
         },
         "colorscale": [
          [
           0,
           "rgb(103,0,31)"
          ],
          [
           0.1,
           "rgb(178,24,43)"
          ],
          [
           0.2,
           "rgb(214,96,77)"
          ],
          [
           0.3,
           "rgb(244,165,130)"
          ],
          [
           0.4,
           "rgb(253,219,199)"
          ],
          [
           0.5,
           "rgb(247,247,247)"
          ],
          [
           0.6,
           "rgb(209,229,240)"
          ],
          [
           0.7,
           "rgb(146,197,222)"
          ],
          [
           0.8,
           "rgb(67,147,195)"
          ],
          [
           0.9,
           "rgb(33,102,172)"
          ],
          [
           1,
           "rgb(5,48,97)"
          ]
         ]
        },
        "height": 900,
        "legend": {
         "tracegroupgap": 0
        },
        "margin": {
         "t": 60
        },
        "template": {
         "data": {
          "bar": [
           {
            "error_x": {
             "color": "#2a3f5f"
            },
            "error_y": {
             "color": "#2a3f5f"
            },
            "marker": {
             "line": {
              "color": "#E5ECF6",
              "width": 0.5
             },
             "pattern": {
              "fillmode": "overlay",
              "size": 10,
              "solidity": 0.2
             }
            },
            "type": "bar"
           }
          ],
          "barpolar": [
           {
            "marker": {
             "line": {
              "color": "#E5ECF6",
              "width": 0.5
             },
             "pattern": {
              "fillmode": "overlay",
              "size": 10,
              "solidity": 0.2
             }
            },
            "type": "barpolar"
           }
          ],
          "carpet": [
           {
            "aaxis": {
             "endlinecolor": "#2a3f5f",
             "gridcolor": "white",
             "linecolor": "white",
             "minorgridcolor": "white",
             "startlinecolor": "#2a3f5f"
            },
            "baxis": {
             "endlinecolor": "#2a3f5f",
             "gridcolor": "white",
             "linecolor": "white",
             "minorgridcolor": "white",
             "startlinecolor": "#2a3f5f"
            },
            "type": "carpet"
           }
          ],
          "choropleth": [
           {
            "colorbar": {
             "outlinewidth": 0,
             "ticks": ""
            },
            "type": "choropleth"
           }
          ],
          "contour": [
           {
            "colorbar": {
             "outlinewidth": 0,
             "ticks": ""
            },
            "colorscale": [
             [
              0,
              "#0d0887"
             ],
             [
              0.1111111111111111,
              "#46039f"
             ],
             [
              0.2222222222222222,
              "#7201a8"
             ],
             [
              0.3333333333333333,
              "#9c179e"
             ],
             [
              0.4444444444444444,
              "#bd3786"
             ],
             [
              0.5555555555555556,
              "#d8576b"
             ],
             [
              0.6666666666666666,
              "#ed7953"
             ],
             [
              0.7777777777777778,
              "#fb9f3a"
             ],
             [
              0.8888888888888888,
              "#fdca26"
             ],
             [
              1,
              "#f0f921"
             ]
            ],
            "type": "contour"
           }
          ],
          "contourcarpet": [
           {
            "colorbar": {
             "outlinewidth": 0,
             "ticks": ""
            },
            "type": "contourcarpet"
           }
          ],
          "heatmap": [
           {
            "colorbar": {
             "outlinewidth": 0,
             "ticks": ""
            },
            "colorscale": [
             [
              0,
              "#0d0887"
             ],
             [
              0.1111111111111111,
              "#46039f"
             ],
             [
              0.2222222222222222,
              "#7201a8"
             ],
             [
              0.3333333333333333,
              "#9c179e"
             ],
             [
              0.4444444444444444,
              "#bd3786"
             ],
             [
              0.5555555555555556,
              "#d8576b"
             ],
             [
              0.6666666666666666,
              "#ed7953"
             ],
             [
              0.7777777777777778,
              "#fb9f3a"
             ],
             [
              0.8888888888888888,
              "#fdca26"
             ],
             [
              1,
              "#f0f921"
             ]
            ],
            "type": "heatmap"
           }
          ],
          "heatmapgl": [
           {
            "colorbar": {
             "outlinewidth": 0,
             "ticks": ""
            },
            "colorscale": [
             [
              0,
              "#0d0887"
             ],
             [
              0.1111111111111111,
              "#46039f"
             ],
             [
              0.2222222222222222,
              "#7201a8"
             ],
             [
              0.3333333333333333,
              "#9c179e"
             ],
             [
              0.4444444444444444,
              "#bd3786"
             ],
             [
              0.5555555555555556,
              "#d8576b"
             ],
             [
              0.6666666666666666,
              "#ed7953"
             ],
             [
              0.7777777777777778,
              "#fb9f3a"
             ],
             [
              0.8888888888888888,
              "#fdca26"
             ],
             [
              1,
              "#f0f921"
             ]
            ],
            "type": "heatmapgl"
           }
          ],
          "histogram": [
           {
            "marker": {
             "pattern": {
              "fillmode": "overlay",
              "size": 10,
              "solidity": 0.2
             }
            },
            "type": "histogram"
           }
          ],
          "histogram2d": [
           {
            "colorbar": {
             "outlinewidth": 0,
             "ticks": ""
            },
            "colorscale": [
             [
              0,
              "#0d0887"
             ],
             [
              0.1111111111111111,
              "#46039f"
             ],
             [
              0.2222222222222222,
              "#7201a8"
             ],
             [
              0.3333333333333333,
              "#9c179e"
             ],
             [
              0.4444444444444444,
              "#bd3786"
             ],
             [
              0.5555555555555556,
              "#d8576b"
             ],
             [
              0.6666666666666666,
              "#ed7953"
             ],
             [
              0.7777777777777778,
              "#fb9f3a"
             ],
             [
              0.8888888888888888,
              "#fdca26"
             ],
             [
              1,
              "#f0f921"
             ]
            ],
            "type": "histogram2d"
           }
          ],
          "histogram2dcontour": [
           {
            "colorbar": {
             "outlinewidth": 0,
             "ticks": ""
            },
            "colorscale": [
             [
              0,
              "#0d0887"
             ],
             [
              0.1111111111111111,
              "#46039f"
             ],
             [
              0.2222222222222222,
              "#7201a8"
             ],
             [
              0.3333333333333333,
              "#9c179e"
             ],
             [
              0.4444444444444444,
              "#bd3786"
             ],
             [
              0.5555555555555556,
              "#d8576b"
             ],
             [
              0.6666666666666666,
              "#ed7953"
             ],
             [
              0.7777777777777778,
              "#fb9f3a"
             ],
             [
              0.8888888888888888,
              "#fdca26"
             ],
             [
              1,
              "#f0f921"
             ]
            ],
            "type": "histogram2dcontour"
           }
          ],
          "mesh3d": [
           {
            "colorbar": {
             "outlinewidth": 0,
             "ticks": ""
            },
            "type": "mesh3d"
           }
          ],
          "parcoords": [
           {
            "line": {
             "colorbar": {
              "outlinewidth": 0,
              "ticks": ""
             }
            },
            "type": "parcoords"
           }
          ],
          "pie": [
           {
            "automargin": true,
            "type": "pie"
           }
          ],
          "scatter": [
           {
            "fillpattern": {
             "fillmode": "overlay",
             "size": 10,
             "solidity": 0.2
            },
            "type": "scatter"
           }
          ],
          "scatter3d": [
           {
            "line": {
             "colorbar": {
              "outlinewidth": 0,
              "ticks": ""
             }
            },
            "marker": {
             "colorbar": {
              "outlinewidth": 0,
              "ticks": ""
             }
            },
            "type": "scatter3d"
           }
          ],
          "scattercarpet": [
           {
            "marker": {
             "colorbar": {
              "outlinewidth": 0,
              "ticks": ""
             }
            },
            "type": "scattercarpet"
           }
          ],
          "scattergeo": [
           {
            "marker": {
             "colorbar": {
              "outlinewidth": 0,
              "ticks": ""
             }
            },
            "type": "scattergeo"
           }
          ],
          "scattergl": [
           {
            "marker": {
             "colorbar": {
              "outlinewidth": 0,
              "ticks": ""
             }
            },
            "type": "scattergl"
           }
          ],
          "scattermapbox": [
           {
            "marker": {
             "colorbar": {
              "outlinewidth": 0,
              "ticks": ""
             }
            },
            "type": "scattermapbox"
           }
          ],
          "scatterpolar": [
           {
            "marker": {
             "colorbar": {
              "outlinewidth": 0,
              "ticks": ""
             }
            },
            "type": "scatterpolar"
           }
          ],
          "scatterpolargl": [
           {
            "marker": {
             "colorbar": {
              "outlinewidth": 0,
              "ticks": ""
             }
            },
            "type": "scatterpolargl"
           }
          ],
          "scatterternary": [
           {
            "marker": {
             "colorbar": {
              "outlinewidth": 0,
              "ticks": ""
             }
            },
            "type": "scatterternary"
           }
          ],
          "surface": [
           {
            "colorbar": {
             "outlinewidth": 0,
             "ticks": ""
            },
            "colorscale": [
             [
              0,
              "#0d0887"
             ],
             [
              0.1111111111111111,
              "#46039f"
             ],
             [
              0.2222222222222222,
              "#7201a8"
             ],
             [
              0.3333333333333333,
              "#9c179e"
             ],
             [
              0.4444444444444444,
              "#bd3786"
             ],
             [
              0.5555555555555556,
              "#d8576b"
             ],
             [
              0.6666666666666666,
              "#ed7953"
             ],
             [
              0.7777777777777778,
              "#fb9f3a"
             ],
             [
              0.8888888888888888,
              "#fdca26"
             ],
             [
              1,
              "#f0f921"
             ]
            ],
            "type": "surface"
           }
          ],
          "table": [
           {
            "cells": {
             "fill": {
              "color": "#EBF0F8"
             },
             "line": {
              "color": "white"
             }
            },
            "header": {
             "fill": {
              "color": "#C8D4E3"
             },
             "line": {
              "color": "white"
             }
            },
            "type": "table"
           }
          ]
         },
         "layout": {
          "annotationdefaults": {
           "arrowcolor": "#2a3f5f",
           "arrowhead": 0,
           "arrowwidth": 1
          },
          "autotypenumbers": "strict",
          "coloraxis": {
           "colorbar": {
            "outlinewidth": 0,
            "ticks": ""
           }
          },
          "colorscale": {
           "diverging": [
            [
             0,
             "#8e0152"
            ],
            [
             0.1,
             "#c51b7d"
            ],
            [
             0.2,
             "#de77ae"
            ],
            [
             0.3,
             "#f1b6da"
            ],
            [
             0.4,
             "#fde0ef"
            ],
            [
             0.5,
             "#f7f7f7"
            ],
            [
             0.6,
             "#e6f5d0"
            ],
            [
             0.7,
             "#b8e186"
            ],
            [
             0.8,
             "#7fbc41"
            ],
            [
             0.9,
             "#4d9221"
            ],
            [
             1,
             "#276419"
            ]
           ],
           "sequential": [
            [
             0,
             "#0d0887"
            ],
            [
             0.1111111111111111,
             "#46039f"
            ],
            [
             0.2222222222222222,
             "#7201a8"
            ],
            [
             0.3333333333333333,
             "#9c179e"
            ],
            [
             0.4444444444444444,
             "#bd3786"
            ],
            [
             0.5555555555555556,
             "#d8576b"
            ],
            [
             0.6666666666666666,
             "#ed7953"
            ],
            [
             0.7777777777777778,
             "#fb9f3a"
            ],
            [
             0.8888888888888888,
             "#fdca26"
            ],
            [
             1,
             "#f0f921"
            ]
           ],
           "sequentialminus": [
            [
             0,
             "#0d0887"
            ],
            [
             0.1111111111111111,
             "#46039f"
            ],
            [
             0.2222222222222222,
             "#7201a8"
            ],
            [
             0.3333333333333333,
             "#9c179e"
            ],
            [
             0.4444444444444444,
             "#bd3786"
            ],
            [
             0.5555555555555556,
             "#d8576b"
            ],
            [
             0.6666666666666666,
             "#ed7953"
            ],
            [
             0.7777777777777778,
             "#fb9f3a"
            ],
            [
             0.8888888888888888,
             "#fdca26"
            ],
            [
             1,
             "#f0f921"
            ]
           ]
          },
          "colorway": [
           "#636efa",
           "#EF553B",
           "#00cc96",
           "#ab63fa",
           "#FFA15A",
           "#19d3f3",
           "#FF6692",
           "#B6E880",
           "#FF97FF",
           "#FECB52"
          ],
          "font": {
           "color": "#2a3f5f"
          },
          "geo": {
           "bgcolor": "white",
           "lakecolor": "white",
           "landcolor": "#E5ECF6",
           "showlakes": true,
           "showland": true,
           "subunitcolor": "white"
          },
          "hoverlabel": {
           "align": "left"
          },
          "hovermode": "closest",
          "mapbox": {
           "style": "light"
          },
          "paper_bgcolor": "white",
          "plot_bgcolor": "#E5ECF6",
          "polar": {
           "angularaxis": {
            "gridcolor": "white",
            "linecolor": "white",
            "ticks": ""
           },
           "bgcolor": "#E5ECF6",
           "radialaxis": {
            "gridcolor": "white",
            "linecolor": "white",
            "ticks": ""
           }
          },
          "scene": {
           "xaxis": {
            "backgroundcolor": "#E5ECF6",
            "gridcolor": "white",
            "gridwidth": 2,
            "linecolor": "white",
            "showbackground": true,
            "ticks": "",
            "zerolinecolor": "white"
           },
           "yaxis": {
            "backgroundcolor": "#E5ECF6",
            "gridcolor": "white",
            "gridwidth": 2,
            "linecolor": "white",
            "showbackground": true,
            "ticks": "",
            "zerolinecolor": "white"
           },
           "zaxis": {
            "backgroundcolor": "#E5ECF6",
            "gridcolor": "white",
            "gridwidth": 2,
            "linecolor": "white",
            "showbackground": true,
            "ticks": "",
            "zerolinecolor": "white"
           }
          },
          "shapedefaults": {
           "line": {
            "color": "#2a3f5f"
           }
          },
          "ternary": {
           "aaxis": {
            "gridcolor": "white",
            "linecolor": "white",
            "ticks": ""
           },
           "baxis": {
            "gridcolor": "white",
            "linecolor": "white",
            "ticks": ""
           },
           "bgcolor": "#E5ECF6",
           "caxis": {
            "gridcolor": "white",
            "linecolor": "white",
            "ticks": ""
           }
          },
          "title": {
           "x": 0.05
          },
          "xaxis": {
           "automargin": true,
           "gridcolor": "white",
           "linecolor": "white",
           "ticks": "",
           "title": {
            "standoff": 15
           },
           "zerolinecolor": "white",
           "zerolinewidth": 2
          },
          "yaxis": {
           "automargin": true,
           "gridcolor": "white",
           "linecolor": "white",
           "ticks": "",
           "title": {
            "standoff": 15
           },
           "zerolinecolor": "white",
           "zerolinewidth": 2
          }
         }
        },
        "width": 900
       }
      },
      "text/html": [
       "<div>                            <div id=\"8056badc-635a-4cec-9b36-51a1f7df3e79\" class=\"plotly-graph-div\" style=\"height:900px; width:900px;\"></div>            <script type=\"text/javascript\">                require([\"plotly\"], function(Plotly) {                    window.PLOTLYENV=window.PLOTLYENV || {};                                    if (document.getElementById(\"8056badc-635a-4cec-9b36-51a1f7df3e79\")) {                    Plotly.newPlot(                        \"8056badc-635a-4cec-9b36-51a1f7df3e79\",                        [{\"branchvalues\":\"total\",\"customdata\":[[1.0],[1.0],[1.0],[1.0],[7.0],[20.0],[27.0],[44.0],[114.0],[270.0],[1212.0],[7839.0],[1.0],[1.0],[7839.0],[1212.0],[20.0],[44.0],[27.0],[7.0],[114.0],[1.0],[270.0],[1.0],[6606.677047289504]],\"domain\":{\"x\":[0.0,1.0],\"y\":[0.0,1.0]},\"hovertemplate\":\"labels=%{label}<br>count_sum=%{value}<br>parent=%{parent}<br>id=%{id}<br>count=%{color}<extra></extra>\",\"ids\":[\"Air France<br>9537 Tweets/Czech/1\",\"Air France<br>9537 Tweets/Dutch/1\",\"Air France<br>9537 Tweets/Romanian/1\",\"Air France<br>9537 Tweets/zh/1\",\"Air France<br>9537 Tweets/Korean/7\",\"Air France<br>9537 Tweets/German/20\",\"Air France<br>9537 Tweets/Japanese/27\",\"Air France<br>9537 Tweets/Italian/44\",\"Air France<br>9537 Tweets/Portuguese/114\",\"Air France<br>9537 Tweets/Spanish/270\",\"Air France<br>9537 Tweets/French/1212\",\"Air France<br>9537 Tweets/English/7839\",\"Air France<br>9537 Tweets/Czech\",\"Air France<br>9537 Tweets/Dutch\",\"Air France<br>9537 Tweets/English\",\"Air France<br>9537 Tweets/French\",\"Air France<br>9537 Tweets/German\",\"Air France<br>9537 Tweets/Italian\",\"Air France<br>9537 Tweets/Japanese\",\"Air France<br>9537 Tweets/Korean\",\"Air France<br>9537 Tweets/Portuguese\",\"Air France<br>9537 Tweets/Romanian\",\"Air France<br>9537 Tweets/Spanish\",\"Air France<br>9537 Tweets/zh\",\"Air France<br>9537 Tweets\"],\"labels\":[\"1\",\"1\",\"1\",\"1\",\"7\",\"20\",\"27\",\"44\",\"114\",\"270\",\"1212\",\"7839\",\"Czech\",\"Dutch\",\"English\",\"French\",\"German\",\"Italian\",\"Japanese\",\"Korean\",\"Portuguese\",\"Romanian\",\"Spanish\",\"zh\",\"Air France<br>9537 Tweets\"],\"marker\":{\"coloraxis\":\"coloraxis\",\"colors\":[1.0,1.0,1.0,1.0,7.0,20.0,27.0,44.0,114.0,270.0,1212.0,7839.0,1.0,1.0,7839.0,1212.0,20.0,44.0,27.0,7.0,114.0,1.0,270.0,1.0,6606.677047289504]},\"name\":\"\",\"parents\":[\"Air France<br>9537 Tweets/Czech\",\"Air France<br>9537 Tweets/Dutch\",\"Air France<br>9537 Tweets/Romanian\",\"Air France<br>9537 Tweets/zh\",\"Air France<br>9537 Tweets/Korean\",\"Air France<br>9537 Tweets/German\",\"Air France<br>9537 Tweets/Japanese\",\"Air France<br>9537 Tweets/Italian\",\"Air France<br>9537 Tweets/Portuguese\",\"Air France<br>9537 Tweets/Spanish\",\"Air France<br>9537 Tweets/French\",\"Air France<br>9537 Tweets/English\",\"Air France<br>9537 Tweets\",\"Air France<br>9537 Tweets\",\"Air France<br>9537 Tweets\",\"Air France<br>9537 Tweets\",\"Air France<br>9537 Tweets\",\"Air France<br>9537 Tweets\",\"Air France<br>9537 Tweets\",\"Air France<br>9537 Tweets\",\"Air France<br>9537 Tweets\",\"Air France<br>9537 Tweets\",\"Air France<br>9537 Tweets\",\"Air France<br>9537 Tweets\",\"\"],\"values\":[1,1,1,1,7,20,27,44,114,270,1212,7839,1,1,7839,1212,20,44,27,7,114,1,270,1,9537],\"type\":\"sunburst\"}],                        {\"template\":{\"data\":{\"histogram2dcontour\":[{\"type\":\"histogram2dcontour\",\"colorbar\":{\"outlinewidth\":0,\"ticks\":\"\"},\"colorscale\":[[0.0,\"#0d0887\"],[0.1111111111111111,\"#46039f\"],[0.2222222222222222,\"#7201a8\"],[0.3333333333333333,\"#9c179e\"],[0.4444444444444444,\"#bd3786\"],[0.5555555555555556,\"#d8576b\"],[0.6666666666666666,\"#ed7953\"],[0.7777777777777778,\"#fb9f3a\"],[0.8888888888888888,\"#fdca26\"],[1.0,\"#f0f921\"]]}],\"choropleth\":[{\"type\":\"choropleth\",\"colorbar\":{\"outlinewidth\":0,\"ticks\":\"\"}}],\"histogram2d\":[{\"type\":\"histogram2d\",\"colorbar\":{\"outlinewidth\":0,\"ticks\":\"\"},\"colorscale\":[[0.0,\"#0d0887\"],[0.1111111111111111,\"#46039f\"],[0.2222222222222222,\"#7201a8\"],[0.3333333333333333,\"#9c179e\"],[0.4444444444444444,\"#bd3786\"],[0.5555555555555556,\"#d8576b\"],[0.6666666666666666,\"#ed7953\"],[0.7777777777777778,\"#fb9f3a\"],[0.8888888888888888,\"#fdca26\"],[1.0,\"#f0f921\"]]}],\"heatmap\":[{\"type\":\"heatmap\",\"colorbar\":{\"outlinewidth\":0,\"ticks\":\"\"},\"colorscale\":[[0.0,\"#0d0887\"],[0.1111111111111111,\"#46039f\"],[0.2222222222222222,\"#7201a8\"],[0.3333333333333333,\"#9c179e\"],[0.4444444444444444,\"#bd3786\"],[0.5555555555555556,\"#d8576b\"],[0.6666666666666666,\"#ed7953\"],[0.7777777777777778,\"#fb9f3a\"],[0.8888888888888888,\"#fdca26\"],[1.0,\"#f0f921\"]]}],\"heatmapgl\":[{\"type\":\"heatmapgl\",\"colorbar\":{\"outlinewidth\":0,\"ticks\":\"\"},\"colorscale\":[[0.0,\"#0d0887\"],[0.1111111111111111,\"#46039f\"],[0.2222222222222222,\"#7201a8\"],[0.3333333333333333,\"#9c179e\"],[0.4444444444444444,\"#bd3786\"],[0.5555555555555556,\"#d8576b\"],[0.6666666666666666,\"#ed7953\"],[0.7777777777777778,\"#fb9f3a\"],[0.8888888888888888,\"#fdca26\"],[1.0,\"#f0f921\"]]}],\"contourcarpet\":[{\"type\":\"contourcarpet\",\"colorbar\":{\"outlinewidth\":0,\"ticks\":\"\"}}],\"contour\":[{\"type\":\"contour\",\"colorbar\":{\"outlinewidth\":0,\"ticks\":\"\"},\"colorscale\":[[0.0,\"#0d0887\"],[0.1111111111111111,\"#46039f\"],[0.2222222222222222,\"#7201a8\"],[0.3333333333333333,\"#9c179e\"],[0.4444444444444444,\"#bd3786\"],[0.5555555555555556,\"#d8576b\"],[0.6666666666666666,\"#ed7953\"],[0.7777777777777778,\"#fb9f3a\"],[0.8888888888888888,\"#fdca26\"],[1.0,\"#f0f921\"]]}],\"surface\":[{\"type\":\"surface\",\"colorbar\":{\"outlinewidth\":0,\"ticks\":\"\"},\"colorscale\":[[0.0,\"#0d0887\"],[0.1111111111111111,\"#46039f\"],[0.2222222222222222,\"#7201a8\"],[0.3333333333333333,\"#9c179e\"],[0.4444444444444444,\"#bd3786\"],[0.5555555555555556,\"#d8576b\"],[0.6666666666666666,\"#ed7953\"],[0.7777777777777778,\"#fb9f3a\"],[0.8888888888888888,\"#fdca26\"],[1.0,\"#f0f921\"]]}],\"mesh3d\":[{\"type\":\"mesh3d\",\"colorbar\":{\"outlinewidth\":0,\"ticks\":\"\"}}],\"scatter\":[{\"fillpattern\":{\"fillmode\":\"overlay\",\"size\":10,\"solidity\":0.2},\"type\":\"scatter\"}],\"parcoords\":[{\"type\":\"parcoords\",\"line\":{\"colorbar\":{\"outlinewidth\":0,\"ticks\":\"\"}}}],\"scatterpolargl\":[{\"type\":\"scatterpolargl\",\"marker\":{\"colorbar\":{\"outlinewidth\":0,\"ticks\":\"\"}}}],\"bar\":[{\"error_x\":{\"color\":\"#2a3f5f\"},\"error_y\":{\"color\":\"#2a3f5f\"},\"marker\":{\"line\":{\"color\":\"#E5ECF6\",\"width\":0.5},\"pattern\":{\"fillmode\":\"overlay\",\"size\":10,\"solidity\":0.2}},\"type\":\"bar\"}],\"scattergeo\":[{\"type\":\"scattergeo\",\"marker\":{\"colorbar\":{\"outlinewidth\":0,\"ticks\":\"\"}}}],\"scatterpolar\":[{\"type\":\"scatterpolar\",\"marker\":{\"colorbar\":{\"outlinewidth\":0,\"ticks\":\"\"}}}],\"histogram\":[{\"marker\":{\"pattern\":{\"fillmode\":\"overlay\",\"size\":10,\"solidity\":0.2}},\"type\":\"histogram\"}],\"scattergl\":[{\"type\":\"scattergl\",\"marker\":{\"colorbar\":{\"outlinewidth\":0,\"ticks\":\"\"}}}],\"scatter3d\":[{\"type\":\"scatter3d\",\"line\":{\"colorbar\":{\"outlinewidth\":0,\"ticks\":\"\"}},\"marker\":{\"colorbar\":{\"outlinewidth\":0,\"ticks\":\"\"}}}],\"scattermapbox\":[{\"type\":\"scattermapbox\",\"marker\":{\"colorbar\":{\"outlinewidth\":0,\"ticks\":\"\"}}}],\"scatterternary\":[{\"type\":\"scatterternary\",\"marker\":{\"colorbar\":{\"outlinewidth\":0,\"ticks\":\"\"}}}],\"scattercarpet\":[{\"type\":\"scattercarpet\",\"marker\":{\"colorbar\":{\"outlinewidth\":0,\"ticks\":\"\"}}}],\"carpet\":[{\"aaxis\":{\"endlinecolor\":\"#2a3f5f\",\"gridcolor\":\"white\",\"linecolor\":\"white\",\"minorgridcolor\":\"white\",\"startlinecolor\":\"#2a3f5f\"},\"baxis\":{\"endlinecolor\":\"#2a3f5f\",\"gridcolor\":\"white\",\"linecolor\":\"white\",\"minorgridcolor\":\"white\",\"startlinecolor\":\"#2a3f5f\"},\"type\":\"carpet\"}],\"table\":[{\"cells\":{\"fill\":{\"color\":\"#EBF0F8\"},\"line\":{\"color\":\"white\"}},\"header\":{\"fill\":{\"color\":\"#C8D4E3\"},\"line\":{\"color\":\"white\"}},\"type\":\"table\"}],\"barpolar\":[{\"marker\":{\"line\":{\"color\":\"#E5ECF6\",\"width\":0.5},\"pattern\":{\"fillmode\":\"overlay\",\"size\":10,\"solidity\":0.2}},\"type\":\"barpolar\"}],\"pie\":[{\"automargin\":true,\"type\":\"pie\"}]},\"layout\":{\"autotypenumbers\":\"strict\",\"colorway\":[\"#636efa\",\"#EF553B\",\"#00cc96\",\"#ab63fa\",\"#FFA15A\",\"#19d3f3\",\"#FF6692\",\"#B6E880\",\"#FF97FF\",\"#FECB52\"],\"font\":{\"color\":\"#2a3f5f\"},\"hovermode\":\"closest\",\"hoverlabel\":{\"align\":\"left\"},\"paper_bgcolor\":\"white\",\"plot_bgcolor\":\"#E5ECF6\",\"polar\":{\"bgcolor\":\"#E5ECF6\",\"angularaxis\":{\"gridcolor\":\"white\",\"linecolor\":\"white\",\"ticks\":\"\"},\"radialaxis\":{\"gridcolor\":\"white\",\"linecolor\":\"white\",\"ticks\":\"\"}},\"ternary\":{\"bgcolor\":\"#E5ECF6\",\"aaxis\":{\"gridcolor\":\"white\",\"linecolor\":\"white\",\"ticks\":\"\"},\"baxis\":{\"gridcolor\":\"white\",\"linecolor\":\"white\",\"ticks\":\"\"},\"caxis\":{\"gridcolor\":\"white\",\"linecolor\":\"white\",\"ticks\":\"\"}},\"coloraxis\":{\"colorbar\":{\"outlinewidth\":0,\"ticks\":\"\"}},\"colorscale\":{\"sequential\":[[0.0,\"#0d0887\"],[0.1111111111111111,\"#46039f\"],[0.2222222222222222,\"#7201a8\"],[0.3333333333333333,\"#9c179e\"],[0.4444444444444444,\"#bd3786\"],[0.5555555555555556,\"#d8576b\"],[0.6666666666666666,\"#ed7953\"],[0.7777777777777778,\"#fb9f3a\"],[0.8888888888888888,\"#fdca26\"],[1.0,\"#f0f921\"]],\"sequentialminus\":[[0.0,\"#0d0887\"],[0.1111111111111111,\"#46039f\"],[0.2222222222222222,\"#7201a8\"],[0.3333333333333333,\"#9c179e\"],[0.4444444444444444,\"#bd3786\"],[0.5555555555555556,\"#d8576b\"],[0.6666666666666666,\"#ed7953\"],[0.7777777777777778,\"#fb9f3a\"],[0.8888888888888888,\"#fdca26\"],[1.0,\"#f0f921\"]],\"diverging\":[[0,\"#8e0152\"],[0.1,\"#c51b7d\"],[0.2,\"#de77ae\"],[0.3,\"#f1b6da\"],[0.4,\"#fde0ef\"],[0.5,\"#f7f7f7\"],[0.6,\"#e6f5d0\"],[0.7,\"#b8e186\"],[0.8,\"#7fbc41\"],[0.9,\"#4d9221\"],[1,\"#276419\"]]},\"xaxis\":{\"gridcolor\":\"white\",\"linecolor\":\"white\",\"ticks\":\"\",\"title\":{\"standoff\":15},\"zerolinecolor\":\"white\",\"automargin\":true,\"zerolinewidth\":2},\"yaxis\":{\"gridcolor\":\"white\",\"linecolor\":\"white\",\"ticks\":\"\",\"title\":{\"standoff\":15},\"zerolinecolor\":\"white\",\"automargin\":true,\"zerolinewidth\":2},\"scene\":{\"xaxis\":{\"backgroundcolor\":\"#E5ECF6\",\"gridcolor\":\"white\",\"linecolor\":\"white\",\"showbackground\":true,\"ticks\":\"\",\"zerolinecolor\":\"white\",\"gridwidth\":2},\"yaxis\":{\"backgroundcolor\":\"#E5ECF6\",\"gridcolor\":\"white\",\"linecolor\":\"white\",\"showbackground\":true,\"ticks\":\"\",\"zerolinecolor\":\"white\",\"gridwidth\":2},\"zaxis\":{\"backgroundcolor\":\"#E5ECF6\",\"gridcolor\":\"white\",\"linecolor\":\"white\",\"showbackground\":true,\"ticks\":\"\",\"zerolinecolor\":\"white\",\"gridwidth\":2}},\"shapedefaults\":{\"line\":{\"color\":\"#2a3f5f\"}},\"annotationdefaults\":{\"arrowcolor\":\"#2a3f5f\",\"arrowhead\":0,\"arrowwidth\":1},\"geo\":{\"bgcolor\":\"white\",\"landcolor\":\"#E5ECF6\",\"subunitcolor\":\"white\",\"showland\":true,\"showlakes\":true,\"lakecolor\":\"white\"},\"title\":{\"x\":0.05},\"mapbox\":{\"style\":\"light\"}}},\"coloraxis\":{\"colorbar\":{\"title\":{\"text\":\"count\"}},\"colorscale\":[[0.0,\"rgb(103,0,31)\"],[0.1,\"rgb(178,24,43)\"],[0.2,\"rgb(214,96,77)\"],[0.3,\"rgb(244,165,130)\"],[0.4,\"rgb(253,219,199)\"],[0.5,\"rgb(247,247,247)\"],[0.6,\"rgb(209,229,240)\"],[0.7,\"rgb(146,197,222)\"],[0.8,\"rgb(67,147,195)\"],[0.9,\"rgb(33,102,172)\"],[1.0,\"rgb(5,48,97)\"]],\"cmid\":71704.7076933436},\"legend\":{\"tracegroupgap\":0},\"margin\":{\"t\":60},\"height\":900,\"width\":900},                        {\"responsive\": true}                    ).then(function(){\n",
       "                            \n",
       "var gd = document.getElementById('8056badc-635a-4cec-9b36-51a1f7df3e79');\n",
       "var x = new MutationObserver(function (mutations, observer) {{\n",
       "        var display = window.getComputedStyle(gd).display;\n",
       "        if (!display || display === 'none') {{\n",
       "            console.log([gd, 'removed!']);\n",
       "            Plotly.purge(gd);\n",
       "            observer.disconnect();\n",
       "        }}\n",
       "}});\n",
       "\n",
       "// Listen for the removal of the full notebook cells\n",
       "var notebookContainer = gd.closest('#notebook-container');\n",
       "if (notebookContainer) {{\n",
       "    x.observe(notebookContainer, {childList: true});\n",
       "}}\n",
       "\n",
       "// Listen for the clearing of the current output cell\n",
       "var outputEl = gd.closest('.output');\n",
       "if (outputEl) {{\n",
       "    x.observe(outputEl, {childList: true});\n",
       "}}\n",
       "\n",
       "                        })                };                });            </script>        </div>"
      ]
     },
     "metadata": {},
     "output_type": "display_data"
    },
    {
     "data": {
      "application/vnd.plotly.v1+json": {
       "config": {
        "plotlyServerURL": "https://plot.ly"
       },
       "data": [
        {
         "branchvalues": "total",
         "customdata": [
          [
           1
          ],
          [
           1
          ],
          [
           2
          ],
          [
           2
          ],
          [
           57
          ],
          [
           1327
          ],
          [
           57
          ],
          [
           1327
          ],
          [
           1
          ],
          [
           1
          ],
          [
           2
          ],
          [
           2
          ],
          [
           1269.2
          ]
         ],
         "domain": {
          "x": [
           0,
           1
          ],
          "y": [
           0,
           1
          ]
         },
         "hovertemplate": "labels=%{label}<br>count_sum=%{value}<br>parent=%{parent}<br>id=%{id}<br>count=%{color}<extra></extra>",
         "ids": [
          "Etihad Airways<br>1390 Tweets/Hindi/1",
          "Etihad Airways<br>1390 Tweets/Romanian/1",
          "Etihad Airways<br>1390 Tweets/Undetermined/2",
          "Etihad Airways<br>1390 Tweets/zh/2",
          "Etihad Airways<br>1390 Tweets/Arabic/57",
          "Etihad Airways<br>1390 Tweets/English/1327",
          "Etihad Airways<br>1390 Tweets/Arabic",
          "Etihad Airways<br>1390 Tweets/English",
          "Etihad Airways<br>1390 Tweets/Hindi",
          "Etihad Airways<br>1390 Tweets/Romanian",
          "Etihad Airways<br>1390 Tweets/Undetermined",
          "Etihad Airways<br>1390 Tweets/zh",
          "Etihad Airways<br>1390 Tweets"
         ],
         "labels": [
          "1",
          "1",
          "2",
          "2",
          "57",
          "1327",
          "Arabic",
          "English",
          "Hindi",
          "Romanian",
          "Undetermined",
          "zh",
          "Etihad Airways<br>1390 Tweets"
         ],
         "marker": {
          "coloraxis": "coloraxis",
          "colors": [
           1,
           1,
           2,
           2,
           57,
           1327,
           57,
           1327,
           1,
           1,
           2,
           2,
           1269.2
          ]
         },
         "name": "",
         "parents": [
          "Etihad Airways<br>1390 Tweets/Hindi",
          "Etihad Airways<br>1390 Tweets/Romanian",
          "Etihad Airways<br>1390 Tweets/Undetermined",
          "Etihad Airways<br>1390 Tweets/zh",
          "Etihad Airways<br>1390 Tweets/Arabic",
          "Etihad Airways<br>1390 Tweets/English",
          "Etihad Airways<br>1390 Tweets",
          "Etihad Airways<br>1390 Tweets",
          "Etihad Airways<br>1390 Tweets",
          "Etihad Airways<br>1390 Tweets",
          "Etihad Airways<br>1390 Tweets",
          "Etihad Airways<br>1390 Tweets",
          ""
         ],
         "type": "sunburst",
         "values": [
          1,
          1,
          2,
          2,
          57,
          1327,
          57,
          1327,
          1,
          1,
          2,
          2,
          1390
         ]
        }
       ],
       "layout": {
        "coloraxis": {
         "cmid": 71704.7076933436,
         "colorbar": {
          "title": {
           "text": "count"
          }
         },
         "colorscale": [
          [
           0,
           "rgb(103,0,31)"
          ],
          [
           0.1,
           "rgb(178,24,43)"
          ],
          [
           0.2,
           "rgb(214,96,77)"
          ],
          [
           0.3,
           "rgb(244,165,130)"
          ],
          [
           0.4,
           "rgb(253,219,199)"
          ],
          [
           0.5,
           "rgb(247,247,247)"
          ],
          [
           0.6,
           "rgb(209,229,240)"
          ],
          [
           0.7,
           "rgb(146,197,222)"
          ],
          [
           0.8,
           "rgb(67,147,195)"
          ],
          [
           0.9,
           "rgb(33,102,172)"
          ],
          [
           1,
           "rgb(5,48,97)"
          ]
         ]
        },
        "height": 900,
        "legend": {
         "tracegroupgap": 0
        },
        "margin": {
         "t": 60
        },
        "template": {
         "data": {
          "bar": [
           {
            "error_x": {
             "color": "#2a3f5f"
            },
            "error_y": {
             "color": "#2a3f5f"
            },
            "marker": {
             "line": {
              "color": "#E5ECF6",
              "width": 0.5
             },
             "pattern": {
              "fillmode": "overlay",
              "size": 10,
              "solidity": 0.2
             }
            },
            "type": "bar"
           }
          ],
          "barpolar": [
           {
            "marker": {
             "line": {
              "color": "#E5ECF6",
              "width": 0.5
             },
             "pattern": {
              "fillmode": "overlay",
              "size": 10,
              "solidity": 0.2
             }
            },
            "type": "barpolar"
           }
          ],
          "carpet": [
           {
            "aaxis": {
             "endlinecolor": "#2a3f5f",
             "gridcolor": "white",
             "linecolor": "white",
             "minorgridcolor": "white",
             "startlinecolor": "#2a3f5f"
            },
            "baxis": {
             "endlinecolor": "#2a3f5f",
             "gridcolor": "white",
             "linecolor": "white",
             "minorgridcolor": "white",
             "startlinecolor": "#2a3f5f"
            },
            "type": "carpet"
           }
          ],
          "choropleth": [
           {
            "colorbar": {
             "outlinewidth": 0,
             "ticks": ""
            },
            "type": "choropleth"
           }
          ],
          "contour": [
           {
            "colorbar": {
             "outlinewidth": 0,
             "ticks": ""
            },
            "colorscale": [
             [
              0,
              "#0d0887"
             ],
             [
              0.1111111111111111,
              "#46039f"
             ],
             [
              0.2222222222222222,
              "#7201a8"
             ],
             [
              0.3333333333333333,
              "#9c179e"
             ],
             [
              0.4444444444444444,
              "#bd3786"
             ],
             [
              0.5555555555555556,
              "#d8576b"
             ],
             [
              0.6666666666666666,
              "#ed7953"
             ],
             [
              0.7777777777777778,
              "#fb9f3a"
             ],
             [
              0.8888888888888888,
              "#fdca26"
             ],
             [
              1,
              "#f0f921"
             ]
            ],
            "type": "contour"
           }
          ],
          "contourcarpet": [
           {
            "colorbar": {
             "outlinewidth": 0,
             "ticks": ""
            },
            "type": "contourcarpet"
           }
          ],
          "heatmap": [
           {
            "colorbar": {
             "outlinewidth": 0,
             "ticks": ""
            },
            "colorscale": [
             [
              0,
              "#0d0887"
             ],
             [
              0.1111111111111111,
              "#46039f"
             ],
             [
              0.2222222222222222,
              "#7201a8"
             ],
             [
              0.3333333333333333,
              "#9c179e"
             ],
             [
              0.4444444444444444,
              "#bd3786"
             ],
             [
              0.5555555555555556,
              "#d8576b"
             ],
             [
              0.6666666666666666,
              "#ed7953"
             ],
             [
              0.7777777777777778,
              "#fb9f3a"
             ],
             [
              0.8888888888888888,
              "#fdca26"
             ],
             [
              1,
              "#f0f921"
             ]
            ],
            "type": "heatmap"
           }
          ],
          "heatmapgl": [
           {
            "colorbar": {
             "outlinewidth": 0,
             "ticks": ""
            },
            "colorscale": [
             [
              0,
              "#0d0887"
             ],
             [
              0.1111111111111111,
              "#46039f"
             ],
             [
              0.2222222222222222,
              "#7201a8"
             ],
             [
              0.3333333333333333,
              "#9c179e"
             ],
             [
              0.4444444444444444,
              "#bd3786"
             ],
             [
              0.5555555555555556,
              "#d8576b"
             ],
             [
              0.6666666666666666,
              "#ed7953"
             ],
             [
              0.7777777777777778,
              "#fb9f3a"
             ],
             [
              0.8888888888888888,
              "#fdca26"
             ],
             [
              1,
              "#f0f921"
             ]
            ],
            "type": "heatmapgl"
           }
          ],
          "histogram": [
           {
            "marker": {
             "pattern": {
              "fillmode": "overlay",
              "size": 10,
              "solidity": 0.2
             }
            },
            "type": "histogram"
           }
          ],
          "histogram2d": [
           {
            "colorbar": {
             "outlinewidth": 0,
             "ticks": ""
            },
            "colorscale": [
             [
              0,
              "#0d0887"
             ],
             [
              0.1111111111111111,
              "#46039f"
             ],
             [
              0.2222222222222222,
              "#7201a8"
             ],
             [
              0.3333333333333333,
              "#9c179e"
             ],
             [
              0.4444444444444444,
              "#bd3786"
             ],
             [
              0.5555555555555556,
              "#d8576b"
             ],
             [
              0.6666666666666666,
              "#ed7953"
             ],
             [
              0.7777777777777778,
              "#fb9f3a"
             ],
             [
              0.8888888888888888,
              "#fdca26"
             ],
             [
              1,
              "#f0f921"
             ]
            ],
            "type": "histogram2d"
           }
          ],
          "histogram2dcontour": [
           {
            "colorbar": {
             "outlinewidth": 0,
             "ticks": ""
            },
            "colorscale": [
             [
              0,
              "#0d0887"
             ],
             [
              0.1111111111111111,
              "#46039f"
             ],
             [
              0.2222222222222222,
              "#7201a8"
             ],
             [
              0.3333333333333333,
              "#9c179e"
             ],
             [
              0.4444444444444444,
              "#bd3786"
             ],
             [
              0.5555555555555556,
              "#d8576b"
             ],
             [
              0.6666666666666666,
              "#ed7953"
             ],
             [
              0.7777777777777778,
              "#fb9f3a"
             ],
             [
              0.8888888888888888,
              "#fdca26"
             ],
             [
              1,
              "#f0f921"
             ]
            ],
            "type": "histogram2dcontour"
           }
          ],
          "mesh3d": [
           {
            "colorbar": {
             "outlinewidth": 0,
             "ticks": ""
            },
            "type": "mesh3d"
           }
          ],
          "parcoords": [
           {
            "line": {
             "colorbar": {
              "outlinewidth": 0,
              "ticks": ""
             }
            },
            "type": "parcoords"
           }
          ],
          "pie": [
           {
            "automargin": true,
            "type": "pie"
           }
          ],
          "scatter": [
           {
            "fillpattern": {
             "fillmode": "overlay",
             "size": 10,
             "solidity": 0.2
            },
            "type": "scatter"
           }
          ],
          "scatter3d": [
           {
            "line": {
             "colorbar": {
              "outlinewidth": 0,
              "ticks": ""
             }
            },
            "marker": {
             "colorbar": {
              "outlinewidth": 0,
              "ticks": ""
             }
            },
            "type": "scatter3d"
           }
          ],
          "scattercarpet": [
           {
            "marker": {
             "colorbar": {
              "outlinewidth": 0,
              "ticks": ""
             }
            },
            "type": "scattercarpet"
           }
          ],
          "scattergeo": [
           {
            "marker": {
             "colorbar": {
              "outlinewidth": 0,
              "ticks": ""
             }
            },
            "type": "scattergeo"
           }
          ],
          "scattergl": [
           {
            "marker": {
             "colorbar": {
              "outlinewidth": 0,
              "ticks": ""
             }
            },
            "type": "scattergl"
           }
          ],
          "scattermapbox": [
           {
            "marker": {
             "colorbar": {
              "outlinewidth": 0,
              "ticks": ""
             }
            },
            "type": "scattermapbox"
           }
          ],
          "scatterpolar": [
           {
            "marker": {
             "colorbar": {
              "outlinewidth": 0,
              "ticks": ""
             }
            },
            "type": "scatterpolar"
           }
          ],
          "scatterpolargl": [
           {
            "marker": {
             "colorbar": {
              "outlinewidth": 0,
              "ticks": ""
             }
            },
            "type": "scatterpolargl"
           }
          ],
          "scatterternary": [
           {
            "marker": {
             "colorbar": {
              "outlinewidth": 0,
              "ticks": ""
             }
            },
            "type": "scatterternary"
           }
          ],
          "surface": [
           {
            "colorbar": {
             "outlinewidth": 0,
             "ticks": ""
            },
            "colorscale": [
             [
              0,
              "#0d0887"
             ],
             [
              0.1111111111111111,
              "#46039f"
             ],
             [
              0.2222222222222222,
              "#7201a8"
             ],
             [
              0.3333333333333333,
              "#9c179e"
             ],
             [
              0.4444444444444444,
              "#bd3786"
             ],
             [
              0.5555555555555556,
              "#d8576b"
             ],
             [
              0.6666666666666666,
              "#ed7953"
             ],
             [
              0.7777777777777778,
              "#fb9f3a"
             ],
             [
              0.8888888888888888,
              "#fdca26"
             ],
             [
              1,
              "#f0f921"
             ]
            ],
            "type": "surface"
           }
          ],
          "table": [
           {
            "cells": {
             "fill": {
              "color": "#EBF0F8"
             },
             "line": {
              "color": "white"
             }
            },
            "header": {
             "fill": {
              "color": "#C8D4E3"
             },
             "line": {
              "color": "white"
             }
            },
            "type": "table"
           }
          ]
         },
         "layout": {
          "annotationdefaults": {
           "arrowcolor": "#2a3f5f",
           "arrowhead": 0,
           "arrowwidth": 1
          },
          "autotypenumbers": "strict",
          "coloraxis": {
           "colorbar": {
            "outlinewidth": 0,
            "ticks": ""
           }
          },
          "colorscale": {
           "diverging": [
            [
             0,
             "#8e0152"
            ],
            [
             0.1,
             "#c51b7d"
            ],
            [
             0.2,
             "#de77ae"
            ],
            [
             0.3,
             "#f1b6da"
            ],
            [
             0.4,
             "#fde0ef"
            ],
            [
             0.5,
             "#f7f7f7"
            ],
            [
             0.6,
             "#e6f5d0"
            ],
            [
             0.7,
             "#b8e186"
            ],
            [
             0.8,
             "#7fbc41"
            ],
            [
             0.9,
             "#4d9221"
            ],
            [
             1,
             "#276419"
            ]
           ],
           "sequential": [
            [
             0,
             "#0d0887"
            ],
            [
             0.1111111111111111,
             "#46039f"
            ],
            [
             0.2222222222222222,
             "#7201a8"
            ],
            [
             0.3333333333333333,
             "#9c179e"
            ],
            [
             0.4444444444444444,
             "#bd3786"
            ],
            [
             0.5555555555555556,
             "#d8576b"
            ],
            [
             0.6666666666666666,
             "#ed7953"
            ],
            [
             0.7777777777777778,
             "#fb9f3a"
            ],
            [
             0.8888888888888888,
             "#fdca26"
            ],
            [
             1,
             "#f0f921"
            ]
           ],
           "sequentialminus": [
            [
             0,
             "#0d0887"
            ],
            [
             0.1111111111111111,
             "#46039f"
            ],
            [
             0.2222222222222222,
             "#7201a8"
            ],
            [
             0.3333333333333333,
             "#9c179e"
            ],
            [
             0.4444444444444444,
             "#bd3786"
            ],
            [
             0.5555555555555556,
             "#d8576b"
            ],
            [
             0.6666666666666666,
             "#ed7953"
            ],
            [
             0.7777777777777778,
             "#fb9f3a"
            ],
            [
             0.8888888888888888,
             "#fdca26"
            ],
            [
             1,
             "#f0f921"
            ]
           ]
          },
          "colorway": [
           "#636efa",
           "#EF553B",
           "#00cc96",
           "#ab63fa",
           "#FFA15A",
           "#19d3f3",
           "#FF6692",
           "#B6E880",
           "#FF97FF",
           "#FECB52"
          ],
          "font": {
           "color": "#2a3f5f"
          },
          "geo": {
           "bgcolor": "white",
           "lakecolor": "white",
           "landcolor": "#E5ECF6",
           "showlakes": true,
           "showland": true,
           "subunitcolor": "white"
          },
          "hoverlabel": {
           "align": "left"
          },
          "hovermode": "closest",
          "mapbox": {
           "style": "light"
          },
          "paper_bgcolor": "white",
          "plot_bgcolor": "#E5ECF6",
          "polar": {
           "angularaxis": {
            "gridcolor": "white",
            "linecolor": "white",
            "ticks": ""
           },
           "bgcolor": "#E5ECF6",
           "radialaxis": {
            "gridcolor": "white",
            "linecolor": "white",
            "ticks": ""
           }
          },
          "scene": {
           "xaxis": {
            "backgroundcolor": "#E5ECF6",
            "gridcolor": "white",
            "gridwidth": 2,
            "linecolor": "white",
            "showbackground": true,
            "ticks": "",
            "zerolinecolor": "white"
           },
           "yaxis": {
            "backgroundcolor": "#E5ECF6",
            "gridcolor": "white",
            "gridwidth": 2,
            "linecolor": "white",
            "showbackground": true,
            "ticks": "",
            "zerolinecolor": "white"
           },
           "zaxis": {
            "backgroundcolor": "#E5ECF6",
            "gridcolor": "white",
            "gridwidth": 2,
            "linecolor": "white",
            "showbackground": true,
            "ticks": "",
            "zerolinecolor": "white"
           }
          },
          "shapedefaults": {
           "line": {
            "color": "#2a3f5f"
           }
          },
          "ternary": {
           "aaxis": {
            "gridcolor": "white",
            "linecolor": "white",
            "ticks": ""
           },
           "baxis": {
            "gridcolor": "white",
            "linecolor": "white",
            "ticks": ""
           },
           "bgcolor": "#E5ECF6",
           "caxis": {
            "gridcolor": "white",
            "linecolor": "white",
            "ticks": ""
           }
          },
          "title": {
           "x": 0.05
          },
          "xaxis": {
           "automargin": true,
           "gridcolor": "white",
           "linecolor": "white",
           "ticks": "",
           "title": {
            "standoff": 15
           },
           "zerolinecolor": "white",
           "zerolinewidth": 2
          },
          "yaxis": {
           "automargin": true,
           "gridcolor": "white",
           "linecolor": "white",
           "ticks": "",
           "title": {
            "standoff": 15
           },
           "zerolinecolor": "white",
           "zerolinewidth": 2
          }
         }
        },
        "width": 900
       }
      },
      "text/html": [
       "<div>                            <div id=\"f74f388d-37dc-46a3-8381-f2f868ba585b\" class=\"plotly-graph-div\" style=\"height:900px; width:900px;\"></div>            <script type=\"text/javascript\">                require([\"plotly\"], function(Plotly) {                    window.PLOTLYENV=window.PLOTLYENV || {};                                    if (document.getElementById(\"f74f388d-37dc-46a3-8381-f2f868ba585b\")) {                    Plotly.newPlot(                        \"f74f388d-37dc-46a3-8381-f2f868ba585b\",                        [{\"branchvalues\":\"total\",\"customdata\":[[1.0],[1.0],[2.0],[2.0],[57.0],[1327.0],[57.0],[1327.0],[1.0],[1.0],[2.0],[2.0],[1269.2]],\"domain\":{\"x\":[0.0,1.0],\"y\":[0.0,1.0]},\"hovertemplate\":\"labels=%{label}<br>count_sum=%{value}<br>parent=%{parent}<br>id=%{id}<br>count=%{color}<extra></extra>\",\"ids\":[\"Etihad Airways<br>1390 Tweets/Hindi/1\",\"Etihad Airways<br>1390 Tweets/Romanian/1\",\"Etihad Airways<br>1390 Tweets/Undetermined/2\",\"Etihad Airways<br>1390 Tweets/zh/2\",\"Etihad Airways<br>1390 Tweets/Arabic/57\",\"Etihad Airways<br>1390 Tweets/English/1327\",\"Etihad Airways<br>1390 Tweets/Arabic\",\"Etihad Airways<br>1390 Tweets/English\",\"Etihad Airways<br>1390 Tweets/Hindi\",\"Etihad Airways<br>1390 Tweets/Romanian\",\"Etihad Airways<br>1390 Tweets/Undetermined\",\"Etihad Airways<br>1390 Tweets/zh\",\"Etihad Airways<br>1390 Tweets\"],\"labels\":[\"1\",\"1\",\"2\",\"2\",\"57\",\"1327\",\"Arabic\",\"English\",\"Hindi\",\"Romanian\",\"Undetermined\",\"zh\",\"Etihad Airways<br>1390 Tweets\"],\"marker\":{\"coloraxis\":\"coloraxis\",\"colors\":[1.0,1.0,2.0,2.0,57.0,1327.0,57.0,1327.0,1.0,1.0,2.0,2.0,1269.2]},\"name\":\"\",\"parents\":[\"Etihad Airways<br>1390 Tweets/Hindi\",\"Etihad Airways<br>1390 Tweets/Romanian\",\"Etihad Airways<br>1390 Tweets/Undetermined\",\"Etihad Airways<br>1390 Tweets/zh\",\"Etihad Airways<br>1390 Tweets/Arabic\",\"Etihad Airways<br>1390 Tweets/English\",\"Etihad Airways<br>1390 Tweets\",\"Etihad Airways<br>1390 Tweets\",\"Etihad Airways<br>1390 Tweets\",\"Etihad Airways<br>1390 Tweets\",\"Etihad Airways<br>1390 Tweets\",\"Etihad Airways<br>1390 Tweets\",\"\"],\"values\":[1,1,2,2,57,1327,57,1327,1,1,2,2,1390],\"type\":\"sunburst\"}],                        {\"template\":{\"data\":{\"histogram2dcontour\":[{\"type\":\"histogram2dcontour\",\"colorbar\":{\"outlinewidth\":0,\"ticks\":\"\"},\"colorscale\":[[0.0,\"#0d0887\"],[0.1111111111111111,\"#46039f\"],[0.2222222222222222,\"#7201a8\"],[0.3333333333333333,\"#9c179e\"],[0.4444444444444444,\"#bd3786\"],[0.5555555555555556,\"#d8576b\"],[0.6666666666666666,\"#ed7953\"],[0.7777777777777778,\"#fb9f3a\"],[0.8888888888888888,\"#fdca26\"],[1.0,\"#f0f921\"]]}],\"choropleth\":[{\"type\":\"choropleth\",\"colorbar\":{\"outlinewidth\":0,\"ticks\":\"\"}}],\"histogram2d\":[{\"type\":\"histogram2d\",\"colorbar\":{\"outlinewidth\":0,\"ticks\":\"\"},\"colorscale\":[[0.0,\"#0d0887\"],[0.1111111111111111,\"#46039f\"],[0.2222222222222222,\"#7201a8\"],[0.3333333333333333,\"#9c179e\"],[0.4444444444444444,\"#bd3786\"],[0.5555555555555556,\"#d8576b\"],[0.6666666666666666,\"#ed7953\"],[0.7777777777777778,\"#fb9f3a\"],[0.8888888888888888,\"#fdca26\"],[1.0,\"#f0f921\"]]}],\"heatmap\":[{\"type\":\"heatmap\",\"colorbar\":{\"outlinewidth\":0,\"ticks\":\"\"},\"colorscale\":[[0.0,\"#0d0887\"],[0.1111111111111111,\"#46039f\"],[0.2222222222222222,\"#7201a8\"],[0.3333333333333333,\"#9c179e\"],[0.4444444444444444,\"#bd3786\"],[0.5555555555555556,\"#d8576b\"],[0.6666666666666666,\"#ed7953\"],[0.7777777777777778,\"#fb9f3a\"],[0.8888888888888888,\"#fdca26\"],[1.0,\"#f0f921\"]]}],\"heatmapgl\":[{\"type\":\"heatmapgl\",\"colorbar\":{\"outlinewidth\":0,\"ticks\":\"\"},\"colorscale\":[[0.0,\"#0d0887\"],[0.1111111111111111,\"#46039f\"],[0.2222222222222222,\"#7201a8\"],[0.3333333333333333,\"#9c179e\"],[0.4444444444444444,\"#bd3786\"],[0.5555555555555556,\"#d8576b\"],[0.6666666666666666,\"#ed7953\"],[0.7777777777777778,\"#fb9f3a\"],[0.8888888888888888,\"#fdca26\"],[1.0,\"#f0f921\"]]}],\"contourcarpet\":[{\"type\":\"contourcarpet\",\"colorbar\":{\"outlinewidth\":0,\"ticks\":\"\"}}],\"contour\":[{\"type\":\"contour\",\"colorbar\":{\"outlinewidth\":0,\"ticks\":\"\"},\"colorscale\":[[0.0,\"#0d0887\"],[0.1111111111111111,\"#46039f\"],[0.2222222222222222,\"#7201a8\"],[0.3333333333333333,\"#9c179e\"],[0.4444444444444444,\"#bd3786\"],[0.5555555555555556,\"#d8576b\"],[0.6666666666666666,\"#ed7953\"],[0.7777777777777778,\"#fb9f3a\"],[0.8888888888888888,\"#fdca26\"],[1.0,\"#f0f921\"]]}],\"surface\":[{\"type\":\"surface\",\"colorbar\":{\"outlinewidth\":0,\"ticks\":\"\"},\"colorscale\":[[0.0,\"#0d0887\"],[0.1111111111111111,\"#46039f\"],[0.2222222222222222,\"#7201a8\"],[0.3333333333333333,\"#9c179e\"],[0.4444444444444444,\"#bd3786\"],[0.5555555555555556,\"#d8576b\"],[0.6666666666666666,\"#ed7953\"],[0.7777777777777778,\"#fb9f3a\"],[0.8888888888888888,\"#fdca26\"],[1.0,\"#f0f921\"]]}],\"mesh3d\":[{\"type\":\"mesh3d\",\"colorbar\":{\"outlinewidth\":0,\"ticks\":\"\"}}],\"scatter\":[{\"fillpattern\":{\"fillmode\":\"overlay\",\"size\":10,\"solidity\":0.2},\"type\":\"scatter\"}],\"parcoords\":[{\"type\":\"parcoords\",\"line\":{\"colorbar\":{\"outlinewidth\":0,\"ticks\":\"\"}}}],\"scatterpolargl\":[{\"type\":\"scatterpolargl\",\"marker\":{\"colorbar\":{\"outlinewidth\":0,\"ticks\":\"\"}}}],\"bar\":[{\"error_x\":{\"color\":\"#2a3f5f\"},\"error_y\":{\"color\":\"#2a3f5f\"},\"marker\":{\"line\":{\"color\":\"#E5ECF6\",\"width\":0.5},\"pattern\":{\"fillmode\":\"overlay\",\"size\":10,\"solidity\":0.2}},\"type\":\"bar\"}],\"scattergeo\":[{\"type\":\"scattergeo\",\"marker\":{\"colorbar\":{\"outlinewidth\":0,\"ticks\":\"\"}}}],\"scatterpolar\":[{\"type\":\"scatterpolar\",\"marker\":{\"colorbar\":{\"outlinewidth\":0,\"ticks\":\"\"}}}],\"histogram\":[{\"marker\":{\"pattern\":{\"fillmode\":\"overlay\",\"size\":10,\"solidity\":0.2}},\"type\":\"histogram\"}],\"scattergl\":[{\"type\":\"scattergl\",\"marker\":{\"colorbar\":{\"outlinewidth\":0,\"ticks\":\"\"}}}],\"scatter3d\":[{\"type\":\"scatter3d\",\"line\":{\"colorbar\":{\"outlinewidth\":0,\"ticks\":\"\"}},\"marker\":{\"colorbar\":{\"outlinewidth\":0,\"ticks\":\"\"}}}],\"scattermapbox\":[{\"type\":\"scattermapbox\",\"marker\":{\"colorbar\":{\"outlinewidth\":0,\"ticks\":\"\"}}}],\"scatterternary\":[{\"type\":\"scatterternary\",\"marker\":{\"colorbar\":{\"outlinewidth\":0,\"ticks\":\"\"}}}],\"scattercarpet\":[{\"type\":\"scattercarpet\",\"marker\":{\"colorbar\":{\"outlinewidth\":0,\"ticks\":\"\"}}}],\"carpet\":[{\"aaxis\":{\"endlinecolor\":\"#2a3f5f\",\"gridcolor\":\"white\",\"linecolor\":\"white\",\"minorgridcolor\":\"white\",\"startlinecolor\":\"#2a3f5f\"},\"baxis\":{\"endlinecolor\":\"#2a3f5f\",\"gridcolor\":\"white\",\"linecolor\":\"white\",\"minorgridcolor\":\"white\",\"startlinecolor\":\"#2a3f5f\"},\"type\":\"carpet\"}],\"table\":[{\"cells\":{\"fill\":{\"color\":\"#EBF0F8\"},\"line\":{\"color\":\"white\"}},\"header\":{\"fill\":{\"color\":\"#C8D4E3\"},\"line\":{\"color\":\"white\"}},\"type\":\"table\"}],\"barpolar\":[{\"marker\":{\"line\":{\"color\":\"#E5ECF6\",\"width\":0.5},\"pattern\":{\"fillmode\":\"overlay\",\"size\":10,\"solidity\":0.2}},\"type\":\"barpolar\"}],\"pie\":[{\"automargin\":true,\"type\":\"pie\"}]},\"layout\":{\"autotypenumbers\":\"strict\",\"colorway\":[\"#636efa\",\"#EF553B\",\"#00cc96\",\"#ab63fa\",\"#FFA15A\",\"#19d3f3\",\"#FF6692\",\"#B6E880\",\"#FF97FF\",\"#FECB52\"],\"font\":{\"color\":\"#2a3f5f\"},\"hovermode\":\"closest\",\"hoverlabel\":{\"align\":\"left\"},\"paper_bgcolor\":\"white\",\"plot_bgcolor\":\"#E5ECF6\",\"polar\":{\"bgcolor\":\"#E5ECF6\",\"angularaxis\":{\"gridcolor\":\"white\",\"linecolor\":\"white\",\"ticks\":\"\"},\"radialaxis\":{\"gridcolor\":\"white\",\"linecolor\":\"white\",\"ticks\":\"\"}},\"ternary\":{\"bgcolor\":\"#E5ECF6\",\"aaxis\":{\"gridcolor\":\"white\",\"linecolor\":\"white\",\"ticks\":\"\"},\"baxis\":{\"gridcolor\":\"white\",\"linecolor\":\"white\",\"ticks\":\"\"},\"caxis\":{\"gridcolor\":\"white\",\"linecolor\":\"white\",\"ticks\":\"\"}},\"coloraxis\":{\"colorbar\":{\"outlinewidth\":0,\"ticks\":\"\"}},\"colorscale\":{\"sequential\":[[0.0,\"#0d0887\"],[0.1111111111111111,\"#46039f\"],[0.2222222222222222,\"#7201a8\"],[0.3333333333333333,\"#9c179e\"],[0.4444444444444444,\"#bd3786\"],[0.5555555555555556,\"#d8576b\"],[0.6666666666666666,\"#ed7953\"],[0.7777777777777778,\"#fb9f3a\"],[0.8888888888888888,\"#fdca26\"],[1.0,\"#f0f921\"]],\"sequentialminus\":[[0.0,\"#0d0887\"],[0.1111111111111111,\"#46039f\"],[0.2222222222222222,\"#7201a8\"],[0.3333333333333333,\"#9c179e\"],[0.4444444444444444,\"#bd3786\"],[0.5555555555555556,\"#d8576b\"],[0.6666666666666666,\"#ed7953\"],[0.7777777777777778,\"#fb9f3a\"],[0.8888888888888888,\"#fdca26\"],[1.0,\"#f0f921\"]],\"diverging\":[[0,\"#8e0152\"],[0.1,\"#c51b7d\"],[0.2,\"#de77ae\"],[0.3,\"#f1b6da\"],[0.4,\"#fde0ef\"],[0.5,\"#f7f7f7\"],[0.6,\"#e6f5d0\"],[0.7,\"#b8e186\"],[0.8,\"#7fbc41\"],[0.9,\"#4d9221\"],[1,\"#276419\"]]},\"xaxis\":{\"gridcolor\":\"white\",\"linecolor\":\"white\",\"ticks\":\"\",\"title\":{\"standoff\":15},\"zerolinecolor\":\"white\",\"automargin\":true,\"zerolinewidth\":2},\"yaxis\":{\"gridcolor\":\"white\",\"linecolor\":\"white\",\"ticks\":\"\",\"title\":{\"standoff\":15},\"zerolinecolor\":\"white\",\"automargin\":true,\"zerolinewidth\":2},\"scene\":{\"xaxis\":{\"backgroundcolor\":\"#E5ECF6\",\"gridcolor\":\"white\",\"linecolor\":\"white\",\"showbackground\":true,\"ticks\":\"\",\"zerolinecolor\":\"white\",\"gridwidth\":2},\"yaxis\":{\"backgroundcolor\":\"#E5ECF6\",\"gridcolor\":\"white\",\"linecolor\":\"white\",\"showbackground\":true,\"ticks\":\"\",\"zerolinecolor\":\"white\",\"gridwidth\":2},\"zaxis\":{\"backgroundcolor\":\"#E5ECF6\",\"gridcolor\":\"white\",\"linecolor\":\"white\",\"showbackground\":true,\"ticks\":\"\",\"zerolinecolor\":\"white\",\"gridwidth\":2}},\"shapedefaults\":{\"line\":{\"color\":\"#2a3f5f\"}},\"annotationdefaults\":{\"arrowcolor\":\"#2a3f5f\",\"arrowhead\":0,\"arrowwidth\":1},\"geo\":{\"bgcolor\":\"white\",\"landcolor\":\"#E5ECF6\",\"subunitcolor\":\"white\",\"showland\":true,\"showlakes\":true,\"lakecolor\":\"white\"},\"title\":{\"x\":0.05},\"mapbox\":{\"style\":\"light\"}}},\"coloraxis\":{\"colorbar\":{\"title\":{\"text\":\"count\"}},\"colorscale\":[[0.0,\"rgb(103,0,31)\"],[0.1,\"rgb(178,24,43)\"],[0.2,\"rgb(214,96,77)\"],[0.3,\"rgb(244,165,130)\"],[0.4,\"rgb(253,219,199)\"],[0.5,\"rgb(247,247,247)\"],[0.6,\"rgb(209,229,240)\"],[0.7,\"rgb(146,197,222)\"],[0.8,\"rgb(67,147,195)\"],[0.9,\"rgb(33,102,172)\"],[1.0,\"rgb(5,48,97)\"]],\"cmid\":71704.7076933436},\"legend\":{\"tracegroupgap\":0},\"margin\":{\"t\":60},\"height\":900,\"width\":900},                        {\"responsive\": true}                    ).then(function(){\n",
       "                            \n",
       "var gd = document.getElementById('f74f388d-37dc-46a3-8381-f2f868ba585b');\n",
       "var x = new MutationObserver(function (mutations, observer) {{\n",
       "        var display = window.getComputedStyle(gd).display;\n",
       "        if (!display || display === 'none') {{\n",
       "            console.log([gd, 'removed!']);\n",
       "            Plotly.purge(gd);\n",
       "            observer.disconnect();\n",
       "        }}\n",
       "}});\n",
       "\n",
       "// Listen for the removal of the full notebook cells\n",
       "var notebookContainer = gd.closest('#notebook-container');\n",
       "if (notebookContainer) {{\n",
       "    x.observe(notebookContainer, {childList: true});\n",
       "}}\n",
       "\n",
       "// Listen for the clearing of the current output cell\n",
       "var outputEl = gd.closest('.output');\n",
       "if (outputEl) {{\n",
       "    x.observe(outputEl, {childList: true});\n",
       "}}\n",
       "\n",
       "                        })                };                });            </script>        </div>"
      ]
     },
     "metadata": {},
     "output_type": "display_data"
    }
   ],
   "source": [
    "# singular plots\n",
    "for airline in unique_airlines:\n",
    "    df_seperate = df_airlang[df_airlang[\"airline\"] == airline].copy()\n",
    "    df_seperate[\"all\"] = str(airline) + \"<br>\"+str(df_seperate[\"count\"].sum()) + \" Tweets\"\n",
    "    figd = px.sunburst(df_seperate, path=[\"all\", 'lang', 'count'], values='count',\n",
    "                        color='count',\n",
    "                        color_continuous_scale='RdBu',\n",
    "                        color_continuous_midpoint=np.average(df_airlang['count'], weights=df_airlang['count']),\n",
    "                        width=900,\n",
    "                        height=900,)\n",
    "    figd.show()"
   ]
  },
  {
   "cell_type": "code",
   "execution_count": 12,
   "metadata": {},
   "outputs": [
    {
     "name": "stdout",
     "output_type": "stream",
     "text": [
      "               created_at                   id\n",
      "0     2019-05-22 12:23:03  1131173625258815488\n",
      "1     2019-05-22 13:09:16  1131185259289206785\n",
      "2     2019-05-22 13:20:05  1131187978771025921\n",
      "3     2019-05-22 13:20:17  1131188028528107521\n",
      "4     2019-05-22 13:20:31  1131188089328734209\n",
      "...                   ...                  ...\n",
      "34246 2020-03-30 18:11:29  1244688715806539776\n",
      "34247 2020-03-30 18:15:32  1244689736125624321\n",
      "34248 2020-03-30 18:17:19  1244690181963354118\n",
      "34249 2020-03-30 18:18:55  1244690584759078916\n",
      "34250 2020-03-30 18:33:15  1244694194708533253\n",
      "\n",
      "[34251 rows x 2 columns]\n"
     ]
    }
   ],
   "source": [
    "### get all KLM tweets\n",
    "cur.execute(\"\"\"\n",
    "    SELECT\n",
    "      created_at, id\n",
    "    FROM\n",
    "      TWEETS\n",
    "    WHERE user_id == %s\"\"\"% airlines[\"KLM\"])\n",
    "df_klm = pd.DataFrame(cur.fetchall(), columns = [\"created_at\", \"id\"])\n",
    "df_klm['created_at'] = pd.to_datetime(df_klm['created_at'], format='%Y-%m-%d %H:%M:%S')\n",
    "print(df_klm)"
   ]
  },
  {
   "cell_type": "code",
   "execution_count": 13,
   "metadata": {},
   "outputs": [
    {
     "name": "stdout",
     "output_type": "stream",
     "text": [
      "KLM done\n",
      "AirFrance done\n",
      "British_Airways done\n",
      "AmericanAir done\n",
      "Lufthansa done\n",
      "AirBerlin done\n",
      "AirBerlin assist done\n",
      "easyJet done\n",
      "RyanAir done\n",
      "SingaporeAir done\n",
      "Qantas done\n",
      "EtihadAirways done\n",
      "VirginAtlantic done\n"
     ]
    }
   ],
   "source": [
    "airlines_dfs = []\n",
    "for air_name in airlines:\n",
    "    print(air_name, end=\" \")\n",
    "    airline_id = airlines[air_name]\n",
    "    cur.execute(\"\"\"\n",
    "    SELECT\n",
    "      *\n",
    "    FROM\n",
    "      TWEETS\n",
    "    WHERE user_id == ?\"\"\", [airline_id])\n",
    "    subdf = pd.DataFrame(cur.fetchall(), columns=tweet_columns)\n",
    "    subdf[\"airline\"] = air_name\n",
    "    airlines_dfs.append(subdf)\n",
    "    print(\"done\")\n",
    "df_airline_tweets = pd.concat(airlines_dfs)\n",
    "df_airline_tweets['created_at'] = pd.to_datetime(df_airline_tweets['created_at'], format='%Y-%m-%d %H:%M:%S')\n",
    "df_airline_tweets['day'] = df_airline_tweets.created_at.dt.dayofyear + \\\n",
    "        365 * (df_airline_tweets.created_at.dt.year - date_range[0].year)\n"
   ]
  },
  {
   "cell_type": "code",
   "execution_count": 14,
   "metadata": {},
   "outputs": [
    {
     "name": "stdout",
     "output_type": "stream",
     "text": [
      "      day  count    airline\n",
      "0     142   17.0  AirFrance\n",
      "1     143   30.0  AirFrance\n",
      "2     144   28.0  AirFrance\n",
      "3     145   30.0  AirFrance\n",
      "4     146   23.0  AirFrance\n",
      "...   ...    ...        ...\n",
      "3152  451  136.0    easyJet\n",
      "3153  452  135.0    easyJet\n",
      "3154  453   94.0    easyJet\n",
      "3155  454   44.0    easyJet\n",
      "3156  455  492.0    easyJet\n",
      "\n",
      "[3157 rows x 3 columns]\n"
     ]
    }
   ],
   "source": [
    "df = df_airline_tweets.copy()\n",
    "\n",
    "df_per_day_per_airline = df.groupby([\"day\", \"airline\"]).agg('count').unstack(level=1)[\"created_at\"]\n",
    "\n",
    "series = []\n",
    "for airline in df_per_day_per_airline.columns:\n",
    "    df = pd.DataFrame(df_per_day_per_airline[airline]).rename(columns={airline:\"count\"})\n",
    "    df[\"airline\"] = airline\n",
    "    series.append(df)\n",
    "plot_df = pd.concat(series).reset_index()\n",
    "print(plot_df)\n",
    "    \n",
    "    "
   ]
  },
  {
   "cell_type": "code",
   "execution_count": 15,
   "metadata": {},
   "outputs": [
    {
     "data": {
      "application/vnd.plotly.v1+json": {
       "config": {
        "plotlyServerURL": "https://plot.ly"
       },
       "data": [
        {
         "hovertemplate": "airline=AirFrance<br>day=%{x}<br>count=%{y}<extra></extra>",
         "legendgroup": "AirFrance",
         "line": {
          "color": "#636efa",
          "dash": "solid"
         },
         "marker": {
          "symbol": "circle"
         },
         "mode": "lines",
         "name": "AirFrance",
         "showlegend": true,
         "type": "scattergl",
         "x": [
          142,
          143,
          144,
          145,
          146,
          147,
          148,
          149,
          150,
          151,
          152,
          153,
          154,
          155,
          156,
          157,
          158,
          159,
          160,
          161,
          162,
          163,
          164,
          165,
          166,
          167,
          168,
          169,
          170,
          171,
          172,
          173,
          174,
          175,
          176,
          177,
          178,
          179,
          180,
          181,
          182,
          183,
          184,
          185,
          186,
          187,
          188,
          189,
          190,
          191,
          192,
          193,
          194,
          195,
          196,
          197,
          198,
          199,
          200,
          201,
          202,
          203,
          204,
          205,
          206,
          207,
          208,
          209,
          210,
          211,
          212,
          213,
          214,
          215,
          216,
          217,
          218,
          219,
          220,
          221,
          222,
          223,
          224,
          225,
          226,
          227,
          236,
          237,
          238,
          239,
          240,
          241,
          242,
          243,
          244,
          245,
          246,
          247,
          248,
          249,
          250,
          251,
          252,
          253,
          254,
          255,
          256,
          257,
          258,
          259,
          260,
          261,
          262,
          263,
          264,
          265,
          266,
          267,
          268,
          269,
          270,
          271,
          272,
          273,
          274,
          275,
          276,
          296,
          297,
          298,
          299,
          300,
          301,
          302,
          303,
          304,
          305,
          306,
          307,
          308,
          309,
          310,
          311,
          312,
          313,
          314,
          315,
          316,
          317,
          318,
          319,
          320,
          321,
          322,
          323,
          324,
          325,
          326,
          327,
          328,
          329,
          330,
          331,
          332,
          333,
          334,
          335,
          336,
          337,
          338,
          339,
          340,
          341,
          342,
          343,
          344,
          345,
          346,
          347,
          348,
          349,
          350,
          351,
          352,
          353,
          354,
          355,
          356,
          357,
          358,
          359,
          360,
          361,
          362,
          363,
          364,
          365,
          366,
          367,
          368,
          369,
          370,
          371,
          372,
          373,
          374,
          375,
          376,
          377,
          378,
          379,
          380,
          381,
          382,
          383,
          384,
          385,
          386,
          387,
          388,
          389,
          390,
          391,
          392,
          393,
          394,
          395,
          396,
          397,
          398,
          399,
          400,
          401,
          402,
          403,
          404,
          405,
          406,
          407,
          408,
          409,
          410,
          411,
          412,
          413,
          414,
          415,
          416,
          417,
          418,
          419,
          420,
          421,
          422,
          423,
          424,
          425,
          426,
          427,
          428,
          429,
          430,
          431,
          432,
          433,
          434,
          435,
          436,
          437,
          438,
          439,
          440,
          441,
          442,
          443,
          444,
          445,
          446,
          447,
          448,
          449,
          450,
          451,
          452,
          453,
          454,
          455
         ],
         "xaxis": "x",
         "y": [
          17,
          30,
          28,
          30,
          23,
          25,
          26,
          27,
          23,
          21,
          30,
          18,
          47,
          21,
          31,
          32,
          40,
          19,
          20,
          36,
          30,
          41,
          17,
          32,
          36,
          27,
          42,
          36,
          35,
          22,
          36,
          45,
          34,
          55,
          41,
          36,
          44,
          42,
          20,
          40,
          68,
          65,
          24,
          50,
          51,
          40,
          23,
          47,
          39,
          47,
          25,
          35,
          22,
          37,
          26,
          39,
          39,
          47,
          21,
          28,
          45,
          45,
          47,
          35,
          38,
          44,
          40,
          24,
          50,
          31,
          22,
          32,
          25,
          30,
          20,
          25,
          47,
          55,
          25,
          35,
          49,
          25,
          45,
          30,
          38,
          24,
          3,
          22,
          29,
          30,
          40,
          17,
          30,
          41,
          24,
          44,
          42,
          25,
          38,
          31,
          39,
          43,
          40,
          51,
          30,
          23,
          25,
          29,
          15,
          33,
          34,
          21,
          35,
          29,
          41,
          40,
          56,
          39,
          34,
          13,
          41,
          43,
          39,
          50,
          44,
          32,
          20,
          14,
          16,
          26,
          29,
          23,
          31,
          30,
          15,
          30,
          28,
          14,
          12,
          46,
          35,
          19,
          27,
          21,
          14,
          33,
          25,
          44,
          27,
          20,
          31,
          25,
          34,
          26,
          29,
          51,
          27,
          35,
          38,
          47,
          42,
          21,
          31,
          20,
          25,
          36,
          26,
          47,
          46,
          25,
          75,
          66,
          28,
          17,
          26,
          46,
          37,
          31,
          22,
          28,
          45,
          40,
          58,
          26,
          39,
          53,
          38,
          27,
          43,
          37,
          20,
          41,
          34,
          13,
          39,
          33,
          22,
          26,
          34,
          43,
          31,
          37,
          53,
          45,
          38,
          37,
          31,
          19,
          26,
          34,
          18,
          28,
          23,
          29,
          24,
          9,
          23,
          29,
          38,
          49,
          35,
          17,
          30,
          29,
          19,
          19,
          22,
          34,
          23,
          34,
          44,
          22,
          31,
          20,
          27,
          29,
          20,
          26,
          22,
          20,
          21,
          34,
          27,
          18,
          28,
          27,
          21,
          19,
          21,
          21,
          17,
          41,
          45,
          57,
          46,
          40,
          28,
          33,
          29,
          30,
          36,
          31,
          38,
          38,
          39,
          51,
          93,
          79,
          66,
          64,
          80,
          49,
          95,
          26,
          32,
          32,
          18,
          11,
          14,
          30,
          76,
          36,
          35,
          29,
          6,
          17,
          32
         ],
         "yaxis": "y"
        },
        {
         "hovertemplate": "airline=AmericanAir<br>day=%{x}<br>count=%{y}<extra></extra>",
         "legendgroup": "AmericanAir",
         "line": {
          "color": "#EF553B",
          "dash": "solid"
         },
         "marker": {
          "symbol": "circle"
         },
         "mode": "lines",
         "name": "AmericanAir",
         "showlegend": true,
         "type": "scattergl",
         "x": [
          142,
          143,
          144,
          145,
          146,
          147,
          148,
          149,
          150,
          151,
          152,
          153,
          154,
          155,
          156,
          157,
          158,
          159,
          160,
          161,
          162,
          163,
          164,
          165,
          166,
          167,
          168,
          169,
          170,
          171,
          172,
          173,
          174,
          175,
          176,
          177,
          178,
          179,
          180,
          181,
          182,
          183,
          184,
          185,
          186,
          187,
          188,
          189,
          190,
          191,
          192,
          193,
          194,
          195,
          196,
          197,
          198,
          199,
          200,
          201,
          202,
          203,
          204,
          205,
          206,
          207,
          208,
          209,
          210,
          211,
          212,
          213,
          214,
          215,
          216,
          217,
          218,
          219,
          220,
          221,
          222,
          223,
          224,
          225,
          226,
          227,
          236,
          237,
          238,
          239,
          240,
          241,
          242,
          243,
          244,
          245,
          246,
          247,
          248,
          249,
          250,
          251,
          252,
          253,
          254,
          255,
          256,
          257,
          258,
          259,
          260,
          261,
          262,
          263,
          264,
          265,
          266,
          267,
          268,
          269,
          270,
          271,
          272,
          273,
          274,
          275,
          276,
          296,
          297,
          298,
          299,
          300,
          301,
          302,
          303,
          304,
          305,
          306,
          307,
          308,
          309,
          310,
          311,
          312,
          313,
          314,
          315,
          316,
          317,
          318,
          319,
          320,
          321,
          322,
          323,
          324,
          325,
          326,
          327,
          328,
          329,
          330,
          331,
          332,
          333,
          334,
          335,
          336,
          337,
          338,
          339,
          340,
          341,
          342,
          343,
          344,
          345,
          346,
          347,
          348,
          349,
          350,
          351,
          352,
          353,
          354,
          355,
          356,
          357,
          358,
          359,
          360,
          361,
          362,
          363,
          364,
          365,
          366,
          367,
          368,
          369,
          370,
          371,
          372,
          373,
          374,
          375,
          376,
          377,
          378,
          379,
          380,
          381,
          382,
          383,
          384,
          385,
          386,
          387,
          388,
          389,
          390,
          391,
          392,
          393,
          394,
          395,
          396,
          397,
          398,
          399,
          400,
          401,
          402,
          403,
          404,
          405,
          406,
          407,
          408,
          409,
          410,
          411,
          412,
          413,
          414,
          415,
          416,
          417,
          418,
          419,
          420,
          421,
          422,
          423,
          424,
          425,
          426,
          427,
          428,
          429,
          430,
          431,
          432,
          433,
          434,
          435,
          436,
          437,
          438,
          439,
          440,
          441,
          442,
          443,
          444,
          445,
          446,
          447,
          448,
          449,
          450,
          451,
          452,
          453,
          454,
          455
         ],
         "xaxis": "x",
         "y": [
          250,
          478,
          420,
          682,
          526,
          488,
          396,
          497,
          556,
          702,
          695,
          395,
          529,
          481,
          547,
          683,
          697,
          676,
          487,
          365,
          324,
          397,
          510,
          624,
          612,
          595,
          352,
          486,
          359,
          386,
          381,
          399,
          309,
          433,
          284,
          476,
          347,
          458,
          501,
          400,
          424,
          600,
          370,
          592,
          538,
          426,
          420,
          378,
          304,
          440,
          424,
          416,
          472,
          659,
          335,
          427,
          468,
          461,
          378,
          436,
          586,
          388,
          367,
          324,
          447,
          562,
          639,
          611,
          536,
          751,
          607,
          550,
          340,
          423,
          749,
          506,
          628,
          489,
          402,
          550,
          699,
          668,
          591,
          590,
          483,
          373,
          121,
          591,
          590,
          616,
          587,
          468,
          316,
          267,
          463,
          499,
          498,
          379,
          524,
          496,
          411,
          489,
          503,
          509,
          436,
          468,
          486,
          452,
          483,
          495,
          464,
          410,
          456,
          390,
          515,
          571,
          433,
          494,
          429,
          445,
          383,
          347,
          458,
          551,
          523,
          303,
          209,
          287,
          488,
          302,
          360,
          416,
          460,
          292,
          367,
          403,
          327,
          400,
          428,
          437,
          445,
          401,
          505,
          306,
          277,
          412,
          576,
          582,
          494,
          459,
          424,
          308,
          394,
          485,
          476,
          411,
          369,
          287,
          281,
          452,
          451,
          393,
          469,
          435,
          292,
          373,
          505,
          315,
          254,
          360,
          264,
          349,
          415,
          324,
          320,
          317,
          367,
          399,
          330,
          364,
          308,
          372,
          489,
          357,
          298,
          267,
          279,
          366,
          308,
          394,
          388,
          291,
          497,
          398,
          389,
          365,
          673,
          456,
          485,
          401,
          443,
          305,
          282,
          276,
          338,
          305,
          303,
          377,
          326,
          398,
          331,
          243,
          219,
          342,
          308,
          450,
          408,
          480,
          375,
          422,
          423,
          376,
          381,
          425,
          402,
          317,
          334,
          421,
          432,
          403,
          251,
          283,
          322,
          306,
          379,
          382,
          389,
          305,
          263,
          275,
          309,
          339,
          322,
          313,
          332,
          231,
          230,
          215,
          210,
          273,
          275,
          350,
          297,
          293,
          296,
          270,
          422,
          300,
          390,
          239,
          272,
          291,
          277,
          208,
          209,
          247,
          206,
          179,
          231,
          262,
          183,
          184,
          167,
          157,
          129,
          131,
          102,
          144,
          127,
          272,
          257,
          261,
          257,
          210,
          233,
          199,
          146
         ],
         "yaxis": "y"
        },
        {
         "hovertemplate": "airline=British_Airways<br>day=%{x}<br>count=%{y}<extra></extra>",
         "legendgroup": "British_Airways",
         "line": {
          "color": "#00cc96",
          "dash": "solid"
         },
         "marker": {
          "symbol": "circle"
         },
         "mode": "lines",
         "name": "British_Airways",
         "showlegend": true,
         "type": "scattergl",
         "x": [
          142,
          143,
          144,
          145,
          146,
          147,
          148,
          149,
          150,
          151,
          152,
          153,
          154,
          155,
          156,
          157,
          158,
          159,
          160,
          161,
          162,
          163,
          164,
          165,
          166,
          167,
          168,
          169,
          170,
          171,
          172,
          173,
          174,
          175,
          176,
          177,
          178,
          179,
          180,
          181,
          182,
          183,
          184,
          185,
          186,
          187,
          188,
          189,
          190,
          191,
          192,
          193,
          194,
          195,
          196,
          197,
          198,
          199,
          200,
          201,
          202,
          203,
          204,
          205,
          206,
          207,
          208,
          209,
          210,
          211,
          212,
          213,
          214,
          215,
          216,
          217,
          218,
          219,
          220,
          221,
          222,
          223,
          224,
          225,
          226,
          227,
          236,
          237,
          238,
          239,
          240,
          241,
          242,
          243,
          244,
          245,
          246,
          247,
          248,
          249,
          250,
          251,
          252,
          253,
          254,
          255,
          256,
          257,
          258,
          259,
          260,
          261,
          262,
          263,
          264,
          265,
          266,
          267,
          268,
          269,
          270,
          271,
          272,
          273,
          274,
          275,
          276,
          296,
          297,
          298,
          299,
          300,
          301,
          302,
          303,
          304,
          305,
          306,
          307,
          308,
          309,
          310,
          311,
          312,
          313,
          314,
          315,
          316,
          317,
          318,
          319,
          320,
          321,
          322,
          323,
          324,
          325,
          326,
          327,
          328,
          329,
          330,
          331,
          332,
          333,
          334,
          335,
          336,
          337,
          338,
          339,
          340,
          341,
          342,
          343,
          344,
          345,
          346,
          347,
          348,
          349,
          350,
          351,
          352,
          353,
          354,
          355,
          356,
          357,
          358,
          359,
          360,
          361,
          362,
          363,
          364,
          365,
          366,
          367,
          368,
          369,
          370,
          371,
          372,
          373,
          374,
          375,
          376,
          377,
          378,
          379,
          380,
          381,
          382,
          383,
          384,
          385,
          386,
          387,
          388,
          389,
          390,
          391,
          392,
          393,
          394,
          395,
          396,
          397,
          398,
          399,
          400,
          401,
          402,
          403,
          404,
          405,
          406,
          407,
          408,
          409,
          410,
          411,
          412,
          413,
          414,
          415,
          416,
          417,
          418,
          419,
          420,
          421,
          422,
          423,
          424,
          425,
          426,
          427,
          428,
          429,
          430,
          431,
          432,
          433,
          434,
          435,
          436,
          437,
          438,
          439,
          440,
          441,
          442,
          443,
          444,
          445,
          446,
          447,
          448,
          449,
          450,
          451,
          452,
          453,
          454,
          455
         ],
         "xaxis": "x",
         "y": [
          152,
          458,
          418,
          243,
          237,
          310,
          325,
          341,
          314,
          339,
          297,
          315,
          399,
          394,
          380,
          369,
          483,
          321,
          317,
          381,
          336,
          363,
          357,
          430,
          367,
          255,
          330,
          364,
          378,
          490,
          282,
          358,
          324,
          330,
          417,
          336,
          396,
          380,
          416,
          460,
          398,
          412,
          316,
          335,
          376,
          604,
          434,
          508,
          428,
          405,
          367,
          363,
          366,
          320,
          466,
          343,
          316,
          529,
          561,
          507,
          423,
          554,
          480,
          411,
          564,
          1372,
          550,
          452,
          507,
          490,
          485,
          323,
          538,
          403,
          548,
          545,
          404,
          1149,
          653,
          548,
          477,
          450,
          408,
          487,
          507,
          324,
          79,
          966,
          1171,
          1091,
          940,
          653,
          515,
          475,
          364,
          392,
          380,
          414,
          378,
          375,
          329,
          244,
          327,
          319,
          382,
          516,
          509,
          361,
          293,
          402,
          376,
          481,
          377,
          323,
          432,
          243,
          403,
          368,
          465,
          324,
          350,
          293,
          296,
          474,
          531,
          295,
          203,
          193,
          406,
          345,
          421,
          271,
          402,
          419,
          351,
          272,
          317,
          334,
          304,
          261,
          268,
          318,
          323,
          240,
          190,
          192,
          234,
          272,
          392,
          298,
          255,
          187,
          258,
          243,
          263,
          277,
          437,
          239,
          206,
          191,
          276,
          276,
          279,
          248,
          258,
          221,
          235,
          239,
          267,
          252,
          273,
          218,
          183,
          206,
          232,
          213,
          247,
          263,
          235,
          221,
          185,
          231,
          264,
          220,
          185,
          295,
          233,
          271,
          223,
          250,
          150,
          155,
          253,
          200,
          248,
          325,
          236,
          205,
          278,
          347,
          334,
          315,
          282,
          304,
          375,
          362,
          242,
          225,
          251,
          291,
          304,
          324,
          203,
          247,
          214,
          214,
          343,
          217,
          226,
          215,
          213,
          285,
          248,
          208,
          226,
          298,
          213,
          322,
          222,
          250,
          237,
          229,
          300,
          386,
          325,
          363,
          667,
          804,
          363,
          303,
          365,
          320,
          420,
          400,
          554,
          374,
          243,
          312,
          257,
          297,
          332,
          362,
          361,
          265,
          326,
          276,
          265,
          278,
          288,
          433,
          448,
          399,
          337,
          384,
          243,
          480,
          569,
          490,
          450,
          610,
          476,
          491,
          714,
          602,
          583,
          485,
          538,
          385,
          389,
          738,
          961,
          947,
          790,
          677,
          356,
          191,
          383
         ],
         "yaxis": "y"
        },
        {
         "hovertemplate": "airline=EtihadAirways<br>day=%{x}<br>count=%{y}<extra></extra>",
         "legendgroup": "EtihadAirways",
         "line": {
          "color": "#ab63fa",
          "dash": "solid"
         },
         "marker": {
          "symbol": "circle"
         },
         "mode": "lines",
         "name": "EtihadAirways",
         "showlegend": true,
         "type": "scattergl",
         "x": [
          142,
          143,
          144,
          145,
          146,
          147,
          148,
          149,
          150,
          151,
          152,
          153,
          154,
          155,
          156,
          157,
          158,
          159,
          160,
          161,
          162,
          163,
          164,
          165,
          166,
          167,
          168,
          169,
          170,
          171,
          172,
          173,
          174,
          175,
          176,
          177,
          178,
          179,
          180,
          181,
          182,
          183,
          184,
          185,
          186,
          187,
          188,
          189,
          190,
          191,
          192,
          193,
          194,
          195,
          196,
          197,
          198,
          199,
          200,
          201,
          202,
          203,
          204,
          205,
          206,
          207,
          208,
          209,
          210,
          211,
          212,
          213,
          214,
          215,
          216,
          217,
          218,
          219,
          220,
          221,
          222,
          223,
          224,
          225,
          226,
          227,
          236,
          237,
          238,
          239,
          240,
          241,
          242,
          243,
          244,
          245,
          246,
          247,
          248,
          249,
          250,
          251,
          252,
          253,
          254,
          255,
          256,
          257,
          258,
          259,
          260,
          261,
          262,
          263,
          264,
          265,
          266,
          267,
          268,
          269,
          270,
          271,
          272,
          273,
          274,
          275,
          276,
          296,
          297,
          298,
          299,
          300,
          301,
          302,
          303,
          304,
          305,
          306,
          307,
          308,
          309,
          310,
          311,
          312,
          313,
          314,
          315,
          316,
          317,
          318,
          319,
          320,
          321,
          322,
          323,
          324,
          325,
          326,
          327,
          328,
          329,
          330,
          331,
          332,
          333,
          334,
          335,
          336,
          337,
          338,
          339,
          340,
          341,
          342,
          343,
          344,
          345,
          346,
          347,
          348,
          349,
          350,
          351,
          352,
          353,
          354,
          355,
          356,
          357,
          358,
          359,
          360,
          361,
          362,
          363,
          364,
          365,
          366,
          367,
          368,
          369,
          370,
          371,
          372,
          373,
          374,
          375,
          376,
          377,
          378,
          379,
          380,
          381,
          382,
          383,
          384,
          385,
          386,
          387,
          388,
          389,
          390,
          391,
          392,
          393,
          394,
          395,
          396,
          397,
          398,
          399,
          400,
          401,
          402,
          403,
          404,
          405,
          406,
          407,
          408,
          409,
          410,
          411,
          412,
          413,
          414,
          415,
          416,
          417,
          418,
          419,
          420,
          421,
          422,
          423,
          424,
          425,
          426,
          427,
          428,
          429,
          430,
          431,
          432,
          433,
          434,
          435,
          436,
          437,
          438,
          439,
          440,
          441,
          442,
          443,
          444,
          445,
          446,
          447,
          448,
          449,
          450,
          451,
          452,
          453,
          454,
          455
         ],
         "xaxis": "x",
         "y": [
          1,
          16,
          5,
          3,
          8,
          6,
          6,
          5,
          3,
          7,
          12,
          3,
          7,
          3,
          2,
          6,
          4,
          4,
          11,
          13,
          8,
          7,
          7,
          7,
          3,
          6,
          3,
          6,
          20,
          3,
          4,
          3,
          13,
          7,
          11,
          5,
          10,
          11,
          5,
          4,
          12,
          8,
          10,
          7,
          10,
          2,
          7,
          8,
          12,
          6,
          7,
          12,
          16,
          4,
          6,
          6,
          6,
          10,
          12,
          10,
          2,
          5,
          5,
          5,
          4,
          10,
          9,
          7,
          3,
          8,
          10,
          8,
          6,
          5,
          11,
          4,
          5,
          6,
          6,
          16,
          11,
          10,
          5,
          12,
          3,
          3,
          null,
          3,
          4,
          11,
          7,
          1,
          2,
          3,
          3,
          4,
          9,
          6,
          6,
          7,
          6,
          9,
          7,
          1,
          6,
          7,
          7,
          5,
          3,
          5,
          3,
          4,
          11,
          8,
          5,
          5,
          1,
          3,
          3,
          3,
          4,
          3,
          null,
          10,
          2,
          2,
          4,
          2,
          12,
          10,
          7,
          6,
          7,
          6,
          8,
          7,
          5,
          8,
          4,
          9,
          4,
          3,
          10,
          6,
          20,
          10,
          4,
          12,
          16,
          5,
          11,
          10,
          3,
          7,
          4,
          4,
          4,
          5,
          5,
          5,
          2,
          3,
          8,
          7,
          1,
          4,
          3,
          11,
          3,
          6,
          4,
          3,
          5,
          1,
          2,
          2,
          3,
          null,
          2,
          3,
          1,
          1,
          2,
          1,
          5,
          3,
          1,
          3,
          1,
          null,
          null,
          4,
          1,
          null,
          null,
          2,
          3,
          null,
          4,
          3,
          1,
          null,
          3,
          2,
          4,
          1,
          1,
          null,
          1,
          4,
          2,
          1,
          2,
          3,
          null,
          1,
          2,
          2,
          4,
          1,
          2,
          null,
          1,
          2,
          2,
          1,
          4,
          4,
          null,
          6,
          null,
          2,
          null,
          2,
          2,
          1,
          2,
          1,
          null,
          2,
          1,
          1,
          null,
          null,
          null,
          1,
          2,
          2,
          2,
          null,
          2,
          3,
          1,
          2,
          1,
          2,
          2,
          3,
          1,
          2,
          1,
          3,
          null,
          1,
          2,
          4,
          2,
          1,
          1,
          9,
          null,
          1,
          5,
          1,
          6,
          8,
          8,
          6,
          11,
          18,
          22,
          6,
          5,
          null,
          2,
          4,
          8
         ],
         "yaxis": "y"
        },
        {
         "hovertemplate": "airline=KLM<br>day=%{x}<br>count=%{y}<extra></extra>",
         "legendgroup": "KLM",
         "line": {
          "color": "#FFA15A",
          "dash": "solid"
         },
         "marker": {
          "symbol": "circle"
         },
         "mode": "lines",
         "name": "KLM",
         "showlegend": true,
         "type": "scattergl",
         "x": [
          142,
          143,
          144,
          145,
          146,
          147,
          148,
          149,
          150,
          151,
          152,
          153,
          154,
          155,
          156,
          157,
          158,
          159,
          160,
          161,
          162,
          163,
          164,
          165,
          166,
          167,
          168,
          169,
          170,
          171,
          172,
          173,
          174,
          175,
          176,
          177,
          178,
          179,
          180,
          181,
          182,
          183,
          184,
          185,
          186,
          187,
          188,
          189,
          190,
          191,
          192,
          193,
          194,
          195,
          196,
          197,
          198,
          199,
          200,
          201,
          202,
          203,
          204,
          205,
          206,
          207,
          208,
          209,
          210,
          211,
          212,
          213,
          214,
          215,
          216,
          217,
          218,
          219,
          220,
          221,
          222,
          223,
          224,
          225,
          226,
          227,
          236,
          237,
          238,
          239,
          240,
          241,
          242,
          243,
          244,
          245,
          246,
          247,
          248,
          249,
          250,
          251,
          252,
          253,
          254,
          255,
          256,
          257,
          258,
          259,
          260,
          261,
          262,
          263,
          264,
          265,
          266,
          267,
          268,
          269,
          270,
          271,
          272,
          273,
          274,
          275,
          276,
          296,
          297,
          298,
          299,
          300,
          301,
          302,
          303,
          304,
          305,
          306,
          307,
          308,
          309,
          310,
          311,
          312,
          313,
          314,
          315,
          316,
          317,
          318,
          319,
          320,
          321,
          322,
          323,
          324,
          325,
          326,
          327,
          328,
          329,
          330,
          331,
          332,
          333,
          334,
          335,
          336,
          337,
          338,
          339,
          340,
          341,
          342,
          343,
          344,
          345,
          346,
          347,
          348,
          349,
          350,
          351,
          352,
          353,
          354,
          355,
          356,
          357,
          358,
          359,
          360,
          361,
          362,
          363,
          364,
          365,
          366,
          367,
          368,
          369,
          370,
          371,
          372,
          373,
          374,
          375,
          376,
          377,
          378,
          379,
          380,
          381,
          382,
          383,
          384,
          385,
          386,
          387,
          388,
          389,
          390,
          391,
          392,
          393,
          394,
          395,
          396,
          397,
          398,
          399,
          400,
          401,
          402,
          403,
          404,
          405,
          406,
          407,
          408,
          409,
          410,
          411,
          412,
          413,
          414,
          415,
          416,
          417,
          418,
          419,
          420,
          421,
          422,
          423,
          424,
          425,
          426,
          427,
          428,
          429,
          430,
          431,
          432,
          433,
          434,
          435,
          436,
          437,
          438,
          439,
          440,
          441,
          442,
          443,
          444,
          445,
          446,
          447,
          448,
          449,
          450,
          451,
          452,
          453,
          454,
          455
         ],
         "xaxis": "x",
         "y": [
          51,
          78,
          70,
          87,
          80,
          91,
          83,
          120,
          89,
          122,
          73,
          99,
          96,
          106,
          115,
          91,
          130,
          170,
          110,
          151,
          116,
          123,
          105,
          101,
          115,
          133,
          127,
          110,
          97,
          127,
          100,
          96,
          111,
          119,
          108,
          135,
          93,
          94,
          222,
          340,
          304,
          206,
          140,
          112,
          125,
          115,
          95,
          135,
          194,
          84,
          86,
          145,
          119,
          106,
          105,
          75,
          133,
          476,
          230,
          184,
          173,
          141,
          139,
          379,
          598,
          250,
          199,
          190,
          143,
          157,
          113,
          143,
          161,
          120,
          88,
          118,
          139,
          118,
          125,
          186,
          163,
          142,
          174,
          140,
          171,
          67,
          9,
          114,
          90,
          112,
          88,
          128,
          124,
          152,
          157,
          216,
          131,
          218,
          179,
          152,
          128,
          142,
          130,
          145,
          128,
          105,
          191,
          116,
          146,
          190,
          199,
          157,
          156,
          126,
          94,
          100,
          141,
          146,
          119,
          143,
          145,
          99,
          129,
          114,
          185,
          75,
          85,
          78,
          115,
          77,
          74,
          89,
          99,
          78,
          83,
          90,
          82,
          51,
          81,
          62,
          105,
          98,
          107,
          48,
          52,
          74,
          86,
          71,
          89,
          79,
          92,
          91,
          95,
          69,
          79,
          70,
          73,
          71,
          74,
          89,
          110,
          81,
          107,
          81,
          136,
          91,
          131,
          109,
          102,
          102,
          137,
          115,
          102,
          99,
          86,
          72,
          93,
          92,
          62,
          88,
          103,
          131,
          82,
          88,
          124,
          95,
          103,
          100,
          79,
          78,
          59,
          87,
          81,
          56,
          88,
          89,
          89,
          85,
          83,
          91,
          62,
          95,
          102,
          91,
          111,
          120,
          127,
          72,
          76,
          135,
          62,
          80,
          77,
          91,
          93,
          89,
          80,
          104,
          50,
          84,
          93,
          71,
          69,
          77,
          95,
          136,
          111,
          126,
          76,
          89,
          69,
          91,
          60,
          52,
          79,
          105,
          204,
          208,
          159,
          125,
          95,
          80,
          52,
          96,
          89,
          69,
          64,
          90,
          94,
          63,
          136,
          111,
          87,
          86,
          101,
          119,
          77,
          81,
          114,
          115,
          108,
          179,
          186,
          139,
          165,
          200,
          241,
          268,
          314,
          357,
          282,
          276,
          240,
          175,
          150,
          91,
          61,
          112,
          56,
          102,
          66,
          77,
          95,
          74,
          80,
          105,
          85
         ],
         "yaxis": "y"
        },
        {
         "hovertemplate": "airline=Lufthansa<br>day=%{x}<br>count=%{y}<extra></extra>",
         "legendgroup": "Lufthansa",
         "line": {
          "color": "#19d3f3",
          "dash": "solid"
         },
         "marker": {
          "symbol": "circle"
         },
         "mode": "lines",
         "name": "Lufthansa",
         "showlegend": true,
         "type": "scattergl",
         "x": [
          142,
          143,
          144,
          145,
          146,
          147,
          148,
          149,
          150,
          151,
          152,
          153,
          154,
          155,
          156,
          157,
          158,
          159,
          160,
          161,
          162,
          163,
          164,
          165,
          166,
          167,
          168,
          169,
          170,
          171,
          172,
          173,
          174,
          175,
          176,
          177,
          178,
          179,
          180,
          181,
          182,
          183,
          184,
          185,
          186,
          187,
          188,
          189,
          190,
          191,
          192,
          193,
          194,
          195,
          196,
          197,
          198,
          199,
          200,
          201,
          202,
          203,
          204,
          205,
          206,
          207,
          208,
          209,
          210,
          211,
          212,
          213,
          214,
          215,
          216,
          217,
          218,
          219,
          220,
          221,
          222,
          223,
          224,
          225,
          226,
          227,
          236,
          237,
          238,
          239,
          240,
          241,
          242,
          243,
          244,
          245,
          246,
          247,
          248,
          249,
          250,
          251,
          252,
          253,
          254,
          255,
          256,
          257,
          258,
          259,
          260,
          261,
          262,
          263,
          264,
          265,
          266,
          267,
          268,
          269,
          270,
          271,
          272,
          273,
          274,
          275,
          276,
          296,
          297,
          298,
          299,
          300,
          301,
          302,
          303,
          304,
          305,
          306,
          307,
          308,
          309,
          310,
          311,
          312,
          313,
          314,
          315,
          316,
          317,
          318,
          319,
          320,
          321,
          322,
          323,
          324,
          325,
          326,
          327,
          328,
          329,
          330,
          331,
          332,
          333,
          334,
          335,
          336,
          337,
          338,
          339,
          340,
          341,
          342,
          343,
          344,
          345,
          346,
          347,
          348,
          349,
          350,
          351,
          352,
          353,
          354,
          355,
          356,
          357,
          358,
          359,
          360,
          361,
          362,
          363,
          364,
          365,
          366,
          367,
          368,
          369,
          370,
          371,
          372,
          373,
          374,
          375,
          376,
          377,
          378,
          379,
          380,
          381,
          382,
          383,
          384,
          385,
          386,
          387,
          388,
          389,
          390,
          391,
          392,
          393,
          394,
          395,
          396,
          397,
          398,
          399,
          400,
          401,
          402,
          403,
          404,
          405,
          406,
          407,
          408,
          409,
          410,
          411,
          412,
          413,
          414,
          415,
          416,
          417,
          418,
          419,
          420,
          421,
          422,
          423,
          424,
          425,
          426,
          427,
          428,
          429,
          430,
          431,
          432,
          433,
          434,
          435,
          436,
          437,
          438,
          439,
          440,
          441,
          442,
          443,
          444,
          445,
          446,
          447,
          448,
          449,
          450,
          451,
          452,
          453,
          454,
          455
         ],
         "xaxis": "x",
         "y": [
          30,
          50,
          53,
          36,
          37,
          57,
          61,
          64,
          24,
          47,
          33,
          56,
          72,
          45,
          56,
          61,
          45,
          41,
          41,
          53,
          46,
          42,
          45,
          33,
          46,
          49,
          48,
          61,
          49,
          56,
          42,
          55,
          60,
          60,
          28,
          51,
          49,
          53,
          54,
          31,
          66,
          68,
          48,
          65,
          51,
          40,
          57,
          77,
          47,
          59,
          50,
          43,
          26,
          40,
          33,
          47,
          33,
          48,
          70,
          43,
          48,
          42,
          44,
          52,
          59,
          51,
          50,
          45,
          43,
          49,
          39,
          41,
          89,
          71,
          59,
          63,
          49,
          41,
          43,
          49,
          36,
          52,
          48,
          54,
          52,
          53,
          3,
          34,
          56,
          75,
          59,
          44,
          61,
          48,
          34,
          46,
          41,
          38,
          30,
          35,
          43,
          33,
          41,
          34,
          32,
          23,
          49,
          23,
          28,
          34,
          59,
          19,
          43,
          42,
          30,
          19,
          32,
          43,
          25,
          36,
          38,
          36,
          102,
          83,
          81,
          20,
          9,
          13,
          35,
          14,
          22,
          29,
          25,
          28,
          26,
          20,
          36,
          17,
          22,
          29,
          29,
          191,
          136,
          33,
          10,
          23,
          35,
          44,
          35,
          38,
          30,
          15,
          20,
          21,
          21,
          25,
          22,
          24,
          14,
          28,
          22,
          35,
          23,
          36,
          31,
          11,
          28,
          24,
          17,
          27,
          44,
          40,
          30,
          32,
          35,
          16,
          40,
          42,
          32,
          33,
          18,
          42,
          34,
          48,
          32,
          35,
          24,
          26,
          37,
          20,
          12,
          14,
          28,
          33,
          19,
          20,
          11,
          18,
          43,
          40,
          26,
          18,
          37,
          20,
          55,
          41,
          27,
          23,
          28,
          21,
          20,
          26,
          29,
          27,
          34,
          35,
          35,
          23,
          36,
          30,
          43,
          42,
          18,
          25,
          23,
          35,
          62,
          10,
          34,
          27,
          22,
          26,
          35,
          30,
          10,
          30,
          66,
          74,
          53,
          38,
          45,
          30,
          26,
          14,
          41,
          30,
          19,
          23,
          29,
          8,
          22,
          38,
          24,
          55,
          25,
          48,
          18,
          25,
          76,
          45,
          42,
          63,
          80,
          62,
          76,
          114,
          99,
          141,
          278,
          163,
          126,
          171,
          146,
          160,
          139,
          154,
          118,
          92,
          62,
          125,
          134,
          79,
          109,
          63,
          58,
          32,
          65
         ],
         "yaxis": "y"
        },
        {
         "hovertemplate": "airline=Qantas<br>day=%{x}<br>count=%{y}<extra></extra>",
         "legendgroup": "Qantas",
         "line": {
          "color": "#FF6692",
          "dash": "solid"
         },
         "marker": {
          "symbol": "circle"
         },
         "mode": "lines",
         "name": "Qantas",
         "showlegend": true,
         "type": "scattergl",
         "x": [
          142,
          143,
          144,
          145,
          146,
          147,
          148,
          149,
          150,
          151,
          152,
          153,
          154,
          155,
          156,
          157,
          158,
          159,
          160,
          161,
          162,
          163,
          164,
          165,
          166,
          167,
          168,
          169,
          170,
          171,
          172,
          173,
          174,
          175,
          176,
          177,
          178,
          179,
          180,
          181,
          182,
          183,
          184,
          185,
          186,
          187,
          188,
          189,
          190,
          191,
          192,
          193,
          194,
          195,
          196,
          197,
          198,
          199,
          200,
          201,
          202,
          203,
          204,
          205,
          206,
          207,
          208,
          209,
          210,
          211,
          212,
          213,
          214,
          215,
          216,
          217,
          218,
          219,
          220,
          221,
          222,
          223,
          224,
          225,
          226,
          227,
          236,
          237,
          238,
          239,
          240,
          241,
          242,
          243,
          244,
          245,
          246,
          247,
          248,
          249,
          250,
          251,
          252,
          253,
          254,
          255,
          256,
          257,
          258,
          259,
          260,
          261,
          262,
          263,
          264,
          265,
          266,
          267,
          268,
          269,
          270,
          271,
          272,
          273,
          274,
          275,
          276,
          296,
          297,
          298,
          299,
          300,
          301,
          302,
          303,
          304,
          305,
          306,
          307,
          308,
          309,
          310,
          311,
          312,
          313,
          314,
          315,
          316,
          317,
          318,
          319,
          320,
          321,
          322,
          323,
          324,
          325,
          326,
          327,
          328,
          329,
          330,
          331,
          332,
          333,
          334,
          335,
          336,
          337,
          338,
          339,
          340,
          341,
          342,
          343,
          344,
          345,
          346,
          347,
          348,
          349,
          350,
          351,
          352,
          353,
          354,
          355,
          356,
          357,
          358,
          359,
          360,
          361,
          362,
          363,
          364,
          365,
          366,
          367,
          368,
          369,
          370,
          371,
          372,
          373,
          374,
          375,
          376,
          377,
          378,
          379,
          380,
          381,
          382,
          383,
          384,
          385,
          386,
          387,
          388,
          389,
          390,
          391,
          392,
          393,
          394,
          395,
          396,
          397,
          398,
          399,
          400,
          401,
          402,
          403,
          404,
          405,
          406,
          407,
          408,
          409,
          410,
          411,
          412,
          413,
          414,
          415,
          416,
          417,
          418,
          419,
          420,
          421,
          422,
          423,
          424,
          425,
          426,
          427,
          428,
          429,
          430,
          431,
          432,
          433,
          434,
          435,
          436,
          437,
          438,
          439,
          440,
          441,
          442,
          443,
          444,
          445,
          446,
          447,
          448,
          449,
          450,
          451,
          452,
          453,
          454,
          455
         ],
         "xaxis": "x",
         "y": [
          18,
          36,
          48,
          47,
          48,
          28,
          34,
          55,
          42,
          50,
          29,
          39,
          57,
          44,
          40,
          27,
          37,
          28,
          31,
          35,
          53,
          39,
          46,
          51,
          44,
          38,
          86,
          50,
          43,
          26,
          61,
          37,
          43,
          41,
          56,
          50,
          45,
          42,
          28,
          52,
          41,
          40,
          35,
          54,
          53,
          50,
          41,
          51,
          56,
          32,
          66,
          59,
          61,
          73,
          66,
          52,
          44,
          35,
          40,
          33,
          50,
          44,
          48,
          51,
          52,
          57,
          53,
          66,
          50,
          45,
          38,
          55,
          49,
          64,
          59,
          81,
          59,
          66,
          78,
          92,
          48,
          36,
          50,
          55,
          44,
          57,
          1,
          28,
          32,
          37,
          38,
          32,
          55,
          40,
          44,
          41,
          41,
          48,
          34,
          50,
          40,
          56,
          66,
          39,
          45,
          37,
          48,
          28,
          38,
          48,
          45,
          27,
          42,
          62,
          28,
          29,
          32,
          42,
          37,
          52,
          31,
          26,
          30,
          50,
          37,
          27,
          35,
          9,
          41,
          47,
          27,
          36,
          50,
          37,
          41,
          70,
          45,
          33,
          33,
          50,
          41,
          37,
          40,
          55,
          23,
          53,
          47,
          58,
          85,
          78,
          66,
          34,
          52,
          54,
          125,
          97,
          57,
          90,
          39,
          48,
          82,
          76,
          52,
          34,
          40,
          25,
          45,
          44,
          46,
          47,
          55,
          28,
          35,
          43,
          41,
          51,
          47,
          38,
          31,
          23,
          75,
          63,
          28,
          25,
          41,
          22,
          33,
          51,
          37,
          21,
          24,
          26,
          30,
          19,
          21,
          35,
          22,
          37,
          45,
          27,
          17,
          28,
          27,
          35,
          51,
          46,
          44,
          29,
          33,
          51,
          50,
          56,
          41,
          40,
          45,
          48,
          59,
          45,
          45,
          54,
          36,
          30,
          38,
          34,
          62,
          48,
          39,
          46,
          68,
          48,
          38,
          54,
          33,
          48,
          36,
          42,
          54,
          49,
          58,
          67,
          46,
          45,
          20,
          43,
          43,
          33,
          48,
          32,
          28,
          26,
          53,
          40,
          56,
          107,
          46,
          24,
          26,
          51,
          44,
          53,
          42,
          41,
          24,
          44,
          35,
          29,
          36,
          26,
          38,
          45,
          21,
          35,
          23,
          13,
          6,
          null,
          1,
          1,
          5,
          2,
          null,
          null,
          4,
          1,
          1,
          null,
          null
         ],
         "yaxis": "y"
        },
        {
         "hovertemplate": "airline=RyanAir<br>day=%{x}<br>count=%{y}<extra></extra>",
         "legendgroup": "RyanAir",
         "line": {
          "color": "#B6E880",
          "dash": "solid"
         },
         "marker": {
          "symbol": "circle"
         },
         "mode": "lines",
         "name": "RyanAir",
         "showlegend": true,
         "type": "scattergl",
         "x": [
          142,
          143,
          144,
          145,
          146,
          147,
          148,
          149,
          150,
          151,
          152,
          153,
          154,
          155,
          156,
          157,
          158,
          159,
          160,
          161,
          162,
          163,
          164,
          165,
          166,
          167,
          168,
          169,
          170,
          171,
          172,
          173,
          174,
          175,
          176,
          177,
          178,
          179,
          180,
          181,
          182,
          183,
          184,
          185,
          186,
          187,
          188,
          189,
          190,
          191,
          192,
          193,
          194,
          195,
          196,
          197,
          198,
          199,
          200,
          201,
          202,
          203,
          204,
          205,
          206,
          207,
          208,
          209,
          210,
          211,
          212,
          213,
          214,
          215,
          216,
          217,
          218,
          219,
          220,
          221,
          222,
          223,
          224,
          225,
          226,
          227,
          236,
          237,
          238,
          239,
          240,
          241,
          242,
          243,
          244,
          245,
          246,
          247,
          248,
          249,
          250,
          251,
          252,
          253,
          254,
          255,
          256,
          257,
          258,
          259,
          260,
          261,
          262,
          263,
          264,
          265,
          266,
          267,
          268,
          269,
          270,
          271,
          272,
          273,
          274,
          275,
          276,
          296,
          297,
          298,
          299,
          300,
          301,
          302,
          303,
          304,
          305,
          306,
          307,
          308,
          309,
          310,
          311,
          312,
          313,
          314,
          315,
          316,
          317,
          318,
          319,
          320,
          321,
          322,
          323,
          324,
          325,
          326,
          327,
          328,
          329,
          330,
          331,
          332,
          333,
          334,
          335,
          336,
          337,
          338,
          339,
          340,
          341,
          342,
          343,
          344,
          345,
          346,
          347,
          348,
          349,
          350,
          351,
          352,
          353,
          354,
          355,
          356,
          357,
          358,
          359,
          360,
          361,
          362,
          363,
          364,
          365,
          366,
          367,
          368,
          369,
          370,
          371,
          372,
          373,
          374,
          375,
          376,
          377,
          378,
          379,
          380,
          381,
          382,
          383,
          384,
          385,
          386,
          387,
          388,
          389,
          390,
          391,
          392,
          393,
          394,
          395,
          396,
          397,
          398,
          399,
          400,
          401,
          402,
          403,
          404,
          405,
          406,
          407,
          408,
          409,
          410,
          411,
          412,
          413,
          414,
          415,
          416,
          417,
          418,
          419,
          420,
          421,
          422,
          423,
          424,
          425,
          426,
          427,
          428,
          429,
          430,
          431,
          432,
          433,
          434,
          435,
          436,
          437,
          438,
          439,
          440,
          441,
          442,
          443,
          444,
          445,
          446,
          447,
          448,
          449,
          450,
          451,
          452,
          453,
          454,
          455
         ],
         "xaxis": "x",
         "y": [
          76,
          96,
          77,
          49,
          57,
          81,
          95,
          80,
          100,
          77,
          46,
          57,
          120,
          90,
          87,
          94,
          131,
          64,
          61,
          121,
          93,
          114,
          96,
          92,
          142,
          134,
          88,
          103,
          91,
          91,
          64,
          23,
          33,
          97,
          74,
          97,
          76,
          110,
          64,
          115,
          137,
          132,
          145,
          106,
          96,
          25,
          19,
          102,
          118,
          87,
          90,
          88,
          40,
          39,
          106,
          107,
          121,
          32,
          94,
          69,
          68,
          166,
          121,
          142,
          102,
          168,
          29,
          79,
          194,
          131,
          142,
          121,
          88,
          131,
          112,
          161,
          112,
          105,
          504,
          220,
          52,
          56,
          290,
          203,
          98,
          181,
          null,
          85,
          112,
          143,
          113,
          118,
          102,
          76,
          137,
          256,
          160,
          112,
          123,
          127,
          46,
          52,
          104,
          104,
          159,
          123,
          109,
          91,
          68,
          140,
          98,
          96,
          109,
          98,
          41,
          42,
          113,
          104,
          78,
          95,
          94,
          60,
          95,
          74,
          83,
          48,
          229,
          41,
          85,
          80,
          20,
          22,
          75,
          62,
          132,
          48,
          39,
          32,
          24,
          98,
          74,
          61,
          89,
          49,
          47,
          20,
          62,
          33,
          51,
          42,
          35,
          23,
          33,
          56,
          46,
          33,
          41,
          30,
          20,
          11,
          67,
          46,
          54,
          21,
          32,
          19,
          23,
          69,
          26,
          41,
          23,
          50,
          27,
          40,
          39,
          51,
          66,
          53,
          23,
          17,
          6,
          50,
          46,
          46,
          38,
          39,
          22,
          11,
          31,
          16,
          1,
          37,
          70,
          16,
          14,
          51,
          56,
          38,
          23,
          40,
          14,
          15,
          24,
          40,
          56,
          45,
          35,
          25,
          24,
          69,
          67,
          27,
          52,
          36,
          18,
          23,
          100,
          59,
          58,
          38,
          50,
          12,
          15,
          60,
          69,
          50,
          60,
          39,
          34,
          36,
          42,
          28,
          40,
          48,
          34,
          58,
          145,
          130,
          33,
          55,
          55,
          55,
          33,
          30,
          50,
          39,
          38,
          48,
          53,
          4,
          5,
          78,
          96,
          64,
          46,
          27,
          19,
          16,
          56,
          35,
          32,
          18,
          29,
          31,
          37,
          36,
          118,
          142,
          70,
          80,
          1,
          1,
          69,
          63,
          63,
          74,
          36,
          25,
          9,
          44,
          65,
          94,
          64,
          72,
          21,
          14,
          44
         ],
         "yaxis": "y"
        },
        {
         "hovertemplate": "airline=SingaporeAir<br>day=%{x}<br>count=%{y}<extra></extra>",
         "legendgroup": "SingaporeAir",
         "line": {
          "color": "#FF97FF",
          "dash": "solid"
         },
         "marker": {
          "symbol": "circle"
         },
         "mode": "lines",
         "name": "SingaporeAir",
         "showlegend": true,
         "type": "scattergl",
         "x": [
          142,
          143,
          144,
          145,
          146,
          147,
          148,
          149,
          150,
          151,
          152,
          153,
          154,
          155,
          156,
          157,
          158,
          159,
          160,
          161,
          162,
          163,
          164,
          165,
          166,
          167,
          168,
          169,
          170,
          171,
          172,
          173,
          174,
          175,
          176,
          177,
          178,
          179,
          180,
          181,
          182,
          183,
          184,
          185,
          186,
          187,
          188,
          189,
          190,
          191,
          192,
          193,
          194,
          195,
          196,
          197,
          198,
          199,
          200,
          201,
          202,
          203,
          204,
          205,
          206,
          207,
          208,
          209,
          210,
          211,
          212,
          213,
          214,
          215,
          216,
          217,
          218,
          219,
          220,
          221,
          222,
          223,
          224,
          225,
          226,
          227,
          236,
          237,
          238,
          239,
          240,
          241,
          242,
          243,
          244,
          245,
          246,
          247,
          248,
          249,
          250,
          251,
          252,
          253,
          254,
          255,
          256,
          257,
          258,
          259,
          260,
          261,
          262,
          263,
          264,
          265,
          266,
          267,
          268,
          269,
          270,
          271,
          272,
          273,
          274,
          275,
          276,
          296,
          297,
          298,
          299,
          300,
          301,
          302,
          303,
          304,
          305,
          306,
          307,
          308,
          309,
          310,
          311,
          312,
          313,
          314,
          315,
          316,
          317,
          318,
          319,
          320,
          321,
          322,
          323,
          324,
          325,
          326,
          327,
          328,
          329,
          330,
          331,
          332,
          333,
          334,
          335,
          336,
          337,
          338,
          339,
          340,
          341,
          342,
          343,
          344,
          345,
          346,
          347,
          348,
          349,
          350,
          351,
          352,
          353,
          354,
          355,
          356,
          357,
          358,
          359,
          360,
          361,
          362,
          363,
          364,
          365,
          366,
          367,
          368,
          369,
          370,
          371,
          372,
          373,
          374,
          375,
          376,
          377,
          378,
          379,
          380,
          381,
          382,
          383,
          384,
          385,
          386,
          387,
          388,
          389,
          390,
          391,
          392,
          393,
          394,
          395,
          396,
          397,
          398,
          399,
          400,
          401,
          402,
          403,
          404,
          405,
          406,
          407,
          408,
          409,
          410,
          411,
          412,
          413,
          414,
          415,
          416,
          417,
          418,
          419,
          420,
          421,
          422,
          423,
          424,
          425,
          426,
          427,
          428,
          429,
          430,
          431,
          432,
          433,
          434,
          435,
          436,
          437,
          438,
          439,
          440,
          441,
          442,
          443,
          444,
          445,
          446,
          447,
          448,
          449,
          450,
          451,
          452,
          453,
          454,
          455
         ],
         "xaxis": "x",
         "y": [
          15,
          36,
          28,
          42,
          41,
          22,
          33,
          25,
          38,
          28,
          51,
          39,
          57,
          53,
          31,
          16,
          41,
          31,
          34,
          21,
          28,
          38,
          34,
          32,
          32,
          18,
          28,
          47,
          29,
          35,
          34,
          42,
          26,
          38,
          23,
          15,
          32,
          38,
          24,
          25,
          26,
          45,
          46,
          34,
          33,
          26,
          22,
          36,
          35,
          48,
          29,
          19,
          37,
          35,
          29,
          49,
          35,
          32,
          48,
          30,
          26,
          43,
          40,
          34,
          27,
          15,
          29,
          28,
          31,
          51,
          28,
          35,
          32,
          35,
          41,
          44,
          26,
          42,
          42,
          38,
          21,
          16,
          39,
          58,
          37,
          45,
          2,
          38,
          16,
          27,
          21,
          21,
          24,
          35,
          43,
          38,
          42,
          47,
          44,
          47,
          44,
          48,
          47,
          37,
          27,
          27,
          38,
          30,
          26,
          46,
          45,
          34,
          37,
          33,
          33,
          32,
          40,
          52,
          41,
          22,
          26,
          27,
          37,
          24,
          20,
          18,
          23,
          21,
          40,
          38,
          36,
          31,
          21,
          32,
          30,
          27,
          22,
          19,
          28,
          26,
          29,
          22,
          34,
          22,
          13,
          38,
          29,
          39,
          23,
          23,
          36,
          26,
          29,
          33,
          40,
          29,
          36,
          25,
          33,
          25,
          23,
          18,
          23,
          29,
          38,
          59,
          35,
          42,
          23,
          34,
          29,
          24,
          20,
          39,
          35,
          22,
          35,
          40,
          41,
          37,
          29,
          35,
          23,
          21,
          30,
          38,
          37,
          56,
          32,
          31,
          30,
          34,
          26,
          23,
          22,
          31,
          32,
          11,
          35,
          27,
          47,
          38,
          30,
          20,
          40,
          44,
          29,
          19,
          59,
          73,
          32,
          35,
          38,
          24,
          34,
          19,
          43,
          31,
          31,
          34,
          32,
          33,
          26,
          30,
          35,
          58,
          49,
          55,
          72,
          37,
          37,
          35,
          43,
          42,
          51,
          47,
          77,
          52,
          76,
          90,
          67,
          56,
          64,
          54,
          80,
          79,
          70,
          41,
          53,
          40,
          26,
          86,
          120,
          85,
          72,
          79,
          84,
          57,
          67,
          118,
          129,
          104,
          113,
          93,
          81,
          88,
          118,
          137,
          193,
          224,
          263,
          127,
          204,
          55,
          97,
          137,
          229,
          113,
          97,
          167,
          130,
          90,
          91,
          71,
          68,
          67,
          79
         ],
         "yaxis": "y"
        },
        {
         "hovertemplate": "airline=VirginAtlantic<br>day=%{x}<br>count=%{y}<extra></extra>",
         "legendgroup": "VirginAtlantic",
         "line": {
          "color": "#FECB52",
          "dash": "solid"
         },
         "marker": {
          "symbol": "circle"
         },
         "mode": "lines",
         "name": "VirginAtlantic",
         "showlegend": true,
         "type": "scattergl",
         "x": [
          142,
          143,
          144,
          145,
          146,
          147,
          148,
          149,
          150,
          151,
          152,
          153,
          154,
          155,
          156,
          157,
          158,
          159,
          160,
          161,
          162,
          163,
          164,
          165,
          166,
          167,
          168,
          169,
          170,
          171,
          172,
          173,
          174,
          175,
          176,
          177,
          178,
          179,
          180,
          181,
          182,
          183,
          184,
          185,
          186,
          187,
          188,
          189,
          190,
          191,
          192,
          193,
          194,
          195,
          196,
          197,
          198,
          199,
          200,
          201,
          202,
          203,
          204,
          205,
          206,
          207,
          208,
          209,
          210,
          211,
          212,
          213,
          214,
          215,
          216,
          217,
          218,
          219,
          220,
          221,
          222,
          223,
          224,
          225,
          226,
          227,
          236,
          237,
          238,
          239,
          240,
          241,
          242,
          243,
          244,
          245,
          246,
          247,
          248,
          249,
          250,
          251,
          252,
          253,
          254,
          255,
          256,
          257,
          258,
          259,
          260,
          261,
          262,
          263,
          264,
          265,
          266,
          267,
          268,
          269,
          270,
          271,
          272,
          273,
          274,
          275,
          276,
          296,
          297,
          298,
          299,
          300,
          301,
          302,
          303,
          304,
          305,
          306,
          307,
          308,
          309,
          310,
          311,
          312,
          313,
          314,
          315,
          316,
          317,
          318,
          319,
          320,
          321,
          322,
          323,
          324,
          325,
          326,
          327,
          328,
          329,
          330,
          331,
          332,
          333,
          334,
          335,
          336,
          337,
          338,
          339,
          340,
          341,
          342,
          343,
          344,
          345,
          346,
          347,
          348,
          349,
          350,
          351,
          352,
          353,
          354,
          355,
          356,
          357,
          358,
          359,
          360,
          361,
          362,
          363,
          364,
          365,
          366,
          367,
          368,
          369,
          370,
          371,
          372,
          373,
          374,
          375,
          376,
          377,
          378,
          379,
          380,
          381,
          382,
          383,
          384,
          385,
          386,
          387,
          388,
          389,
          390,
          391,
          392,
          393,
          394,
          395,
          396,
          397,
          398,
          399,
          400,
          401,
          402,
          403,
          404,
          405,
          406,
          407,
          408,
          409,
          410,
          411,
          412,
          413,
          414,
          415,
          416,
          417,
          418,
          419,
          420,
          421,
          422,
          423,
          424,
          425,
          426,
          427,
          428,
          429,
          430,
          431,
          432,
          433,
          434,
          435,
          436,
          437,
          438,
          439,
          440,
          441,
          442,
          443,
          444,
          445,
          446,
          447,
          448,
          449,
          450,
          451,
          452,
          453,
          454,
          455
         ],
         "xaxis": "x",
         "y": [
          34,
          52,
          61,
          49,
          77,
          58,
          64,
          47,
          42,
          89,
          77,
          48,
          66,
          64,
          43,
          88,
          47,
          48,
          62,
          63,
          57,
          76,
          59,
          56,
          107,
          78,
          53,
          54,
          85,
          66,
          65,
          61,
          53,
          76,
          76,
          61,
          61,
          86,
          98,
          91,
          78,
          67,
          56,
          52,
          87,
          55,
          75,
          51,
          74,
          66,
          57,
          64,
          35,
          39,
          46,
          78,
          58,
          65,
          71,
          71,
          81,
          44,
          50,
          22,
          39,
          33,
          31,
          32,
          26,
          16,
          45,
          186,
          87,
          58,
          92,
          105,
          52,
          103,
          56,
          98,
          91,
          54,
          57,
          98,
          131,
          58,
          20,
          57,
          74,
          80,
          88,
          121,
          98,
          143,
          109,
          107,
          160,
          110,
          98,
          81,
          58,
          57,
          83,
          126,
          101,
          39,
          83,
          80,
          44,
          63,
          56,
          66,
          61,
          45,
          85,
          38,
          127,
          48,
          88,
          119,
          97,
          100,
          64,
          64,
          90,
          26,
          22,
          31,
          30,
          56,
          77,
          72,
          68,
          69,
          42,
          76,
          61,
          64,
          69,
          73,
          63,
          61,
          52,
          25,
          27,
          67,
          58,
          43,
          65,
          35,
          42,
          49,
          52,
          42,
          52,
          51,
          62,
          62,
          36,
          71,
          31,
          30,
          50,
          42,
          61,
          37,
          37,
          88,
          47,
          23,
          50,
          42,
          48,
          56,
          41,
          52,
          34,
          40,
          43,
          48,
          77,
          45,
          41,
          56,
          38,
          35,
          36,
          52,
          40,
          32,
          33,
          61,
          50,
          32,
          26,
          50,
          34,
          58,
          49,
          95,
          53,
          67,
          80,
          61,
          70,
          52,
          70,
          74,
          60,
          47,
          46,
          38,
          45,
          57,
          43,
          57,
          67,
          44,
          110,
          81,
          80,
          30,
          61,
          57,
          82,
          88,
          40,
          36,
          46,
          48,
          55,
          58,
          66,
          71,
          80,
          80,
          81,
          53,
          49,
          86,
          71,
          45,
          86,
          58,
          57,
          69,
          49,
          34,
          46,
          34,
          44,
          47,
          47,
          29,
          45,
          56,
          65,
          50,
          82,
          55,
          79,
          113,
          64,
          76,
          53,
          83,
          110,
          76,
          291,
          386,
          383,
          713,
          344,
          250,
          447,
          326,
          242,
          203,
          276,
          235,
          194,
          148,
          105,
          90,
          120,
          85,
          123
         ],
         "yaxis": "y"
        },
        {
         "hovertemplate": "airline=easyJet<br>day=%{x}<br>count=%{y}<extra></extra>",
         "legendgroup": "easyJet",
         "line": {
          "color": "#636efa",
          "dash": "solid"
         },
         "marker": {
          "symbol": "circle"
         },
         "mode": "lines",
         "name": "easyJet",
         "showlegend": true,
         "type": "scattergl",
         "x": [
          142,
          143,
          144,
          145,
          146,
          147,
          148,
          149,
          150,
          151,
          152,
          153,
          154,
          155,
          156,
          157,
          158,
          159,
          160,
          161,
          162,
          163,
          164,
          165,
          166,
          167,
          168,
          169,
          170,
          171,
          172,
          173,
          174,
          175,
          176,
          177,
          178,
          179,
          180,
          181,
          182,
          183,
          184,
          185,
          186,
          187,
          188,
          189,
          190,
          191,
          192,
          193,
          194,
          195,
          196,
          197,
          198,
          199,
          200,
          201,
          202,
          203,
          204,
          205,
          206,
          207,
          208,
          209,
          210,
          211,
          212,
          213,
          214,
          215,
          216,
          217,
          218,
          219,
          220,
          221,
          222,
          223,
          224,
          225,
          226,
          227,
          236,
          237,
          238,
          239,
          240,
          241,
          242,
          243,
          244,
          245,
          246,
          247,
          248,
          249,
          250,
          251,
          252,
          253,
          254,
          255,
          256,
          257,
          258,
          259,
          260,
          261,
          262,
          263,
          264,
          265,
          266,
          267,
          268,
          269,
          270,
          271,
          272,
          273,
          274,
          275,
          276,
          296,
          297,
          298,
          299,
          300,
          301,
          302,
          303,
          304,
          305,
          306,
          307,
          308,
          309,
          310,
          311,
          312,
          313,
          314,
          315,
          316,
          317,
          318,
          319,
          320,
          321,
          322,
          323,
          324,
          325,
          326,
          327,
          328,
          329,
          330,
          331,
          332,
          333,
          334,
          335,
          336,
          337,
          338,
          339,
          340,
          341,
          342,
          343,
          344,
          345,
          346,
          347,
          348,
          349,
          350,
          351,
          352,
          353,
          354,
          355,
          356,
          357,
          358,
          359,
          360,
          361,
          362,
          363,
          364,
          365,
          366,
          367,
          368,
          369,
          370,
          371,
          372,
          373,
          374,
          375,
          376,
          377,
          378,
          379,
          380,
          381,
          382,
          383,
          384,
          385,
          386,
          387,
          388,
          389,
          390,
          391,
          392,
          393,
          394,
          395,
          396,
          397,
          398,
          399,
          400,
          401,
          402,
          403,
          404,
          405,
          406,
          407,
          408,
          409,
          410,
          411,
          412,
          413,
          414,
          415,
          416,
          417,
          418,
          419,
          420,
          421,
          422,
          423,
          424,
          425,
          426,
          427,
          428,
          429,
          430,
          431,
          432,
          433,
          434,
          435,
          436,
          437,
          438,
          439,
          440,
          441,
          442,
          443,
          444,
          445,
          446,
          447,
          448,
          449,
          450,
          451,
          452,
          453,
          454,
          455
         ],
         "xaxis": "x",
         "y": [
          108,
          185,
          172,
          114,
          117,
          217,
          157,
          163,
          187,
          138,
          117,
          176,
          221,
          180,
          179,
          165,
          237,
          177,
          210,
          206,
          194,
          204,
          223,
          183,
          195,
          136,
          202,
          214,
          214,
          182,
          220,
          169,
          160,
          303,
          232,
          188,
          205,
          305,
          151,
          154,
          376,
          289,
          239,
          257,
          250,
          136,
          83,
          398,
          213,
          260,
          321,
          265,
          201,
          213,
          222,
          239,
          221,
          224,
          238,
          197,
          218,
          265,
          207,
          239,
          342,
          363,
          158,
          285,
          449,
          435,
          354,
          322,
          349,
          233,
          203,
          283,
          239,
          309,
          261,
          255,
          252,
          223,
          415,
          365,
          320,
          187,
          24,
          178,
          246,
          264,
          291,
          299,
          216,
          151,
          270,
          452,
          569,
          341,
          328,
          172,
          152,
          127,
          258,
          264,
          204,
          237,
          284,
          167,
          185,
          251,
          228,
          300,
          352,
          148,
          166,
          249,
          329,
          306,
          200,
          316,
          223,
          202,
          120,
          197,
          194,
          70,
          125,
          101,
          179,
          150,
          169,
          174,
          121,
          119,
          107,
          111,
          128,
          96,
          80,
          124,
          111,
          117,
          153,
          89,
          57,
          61,
          154,
          93,
          109,
          104,
          128,
          82,
          95,
          104,
          132,
          107,
          88,
          100,
          56,
          93,
          117,
          68,
          92,
          83,
          98,
          48,
          135,
          106,
          132,
          174,
          299,
          242,
          119,
          118,
          210,
          195,
          234,
          138,
          133,
          158,
          148,
          207,
          119,
          141,
          182,
          223,
          193,
          144,
          183,
          131,
          31,
          101,
          142,
          101,
          134,
          210,
          106,
          55,
          155,
          137,
          141,
          111,
          181,
          140,
          146,
          153,
          71,
          88,
          190,
          155,
          129,
          122,
          135,
          124,
          82,
          81,
          171,
          138,
          98,
          124,
          119,
          95,
          98,
          109,
          109,
          93,
          101,
          111,
          95,
          104,
          161,
          134,
          99,
          159,
          181,
          145,
          337,
          666,
          297,
          182,
          231,
          169,
          434,
          286,
          173,
          140,
          169,
          158,
          200,
          159,
          191,
          331,
          231,
          270,
          202,
          235,
          87,
          107,
          273,
          239,
          281,
          307,
          182,
          138,
          193,
          208,
          254,
          316,
          221,
          222,
          164,
          141,
          381,
          343,
          254,
          160,
          130,
          68,
          37,
          197,
          244,
          201,
          136,
          135,
          94,
          44,
          492
         ],
         "yaxis": "y"
        }
       ],
       "layout": {
        "legend": {
         "title": {
          "text": "airline"
         },
         "tracegroupgap": 0
        },
        "template": {
         "data": {
          "bar": [
           {
            "error_x": {
             "color": "#2a3f5f"
            },
            "error_y": {
             "color": "#2a3f5f"
            },
            "marker": {
             "line": {
              "color": "#E5ECF6",
              "width": 0.5
             },
             "pattern": {
              "fillmode": "overlay",
              "size": 10,
              "solidity": 0.2
             }
            },
            "type": "bar"
           }
          ],
          "barpolar": [
           {
            "marker": {
             "line": {
              "color": "#E5ECF6",
              "width": 0.5
             },
             "pattern": {
              "fillmode": "overlay",
              "size": 10,
              "solidity": 0.2
             }
            },
            "type": "barpolar"
           }
          ],
          "carpet": [
           {
            "aaxis": {
             "endlinecolor": "#2a3f5f",
             "gridcolor": "white",
             "linecolor": "white",
             "minorgridcolor": "white",
             "startlinecolor": "#2a3f5f"
            },
            "baxis": {
             "endlinecolor": "#2a3f5f",
             "gridcolor": "white",
             "linecolor": "white",
             "minorgridcolor": "white",
             "startlinecolor": "#2a3f5f"
            },
            "type": "carpet"
           }
          ],
          "choropleth": [
           {
            "colorbar": {
             "outlinewidth": 0,
             "ticks": ""
            },
            "type": "choropleth"
           }
          ],
          "contour": [
           {
            "colorbar": {
             "outlinewidth": 0,
             "ticks": ""
            },
            "colorscale": [
             [
              0,
              "#0d0887"
             ],
             [
              0.1111111111111111,
              "#46039f"
             ],
             [
              0.2222222222222222,
              "#7201a8"
             ],
             [
              0.3333333333333333,
              "#9c179e"
             ],
             [
              0.4444444444444444,
              "#bd3786"
             ],
             [
              0.5555555555555556,
              "#d8576b"
             ],
             [
              0.6666666666666666,
              "#ed7953"
             ],
             [
              0.7777777777777778,
              "#fb9f3a"
             ],
             [
              0.8888888888888888,
              "#fdca26"
             ],
             [
              1,
              "#f0f921"
             ]
            ],
            "type": "contour"
           }
          ],
          "contourcarpet": [
           {
            "colorbar": {
             "outlinewidth": 0,
             "ticks": ""
            },
            "type": "contourcarpet"
           }
          ],
          "heatmap": [
           {
            "colorbar": {
             "outlinewidth": 0,
             "ticks": ""
            },
            "colorscale": [
             [
              0,
              "#0d0887"
             ],
             [
              0.1111111111111111,
              "#46039f"
             ],
             [
              0.2222222222222222,
              "#7201a8"
             ],
             [
              0.3333333333333333,
              "#9c179e"
             ],
             [
              0.4444444444444444,
              "#bd3786"
             ],
             [
              0.5555555555555556,
              "#d8576b"
             ],
             [
              0.6666666666666666,
              "#ed7953"
             ],
             [
              0.7777777777777778,
              "#fb9f3a"
             ],
             [
              0.8888888888888888,
              "#fdca26"
             ],
             [
              1,
              "#f0f921"
             ]
            ],
            "type": "heatmap"
           }
          ],
          "heatmapgl": [
           {
            "colorbar": {
             "outlinewidth": 0,
             "ticks": ""
            },
            "colorscale": [
             [
              0,
              "#0d0887"
             ],
             [
              0.1111111111111111,
              "#46039f"
             ],
             [
              0.2222222222222222,
              "#7201a8"
             ],
             [
              0.3333333333333333,
              "#9c179e"
             ],
             [
              0.4444444444444444,
              "#bd3786"
             ],
             [
              0.5555555555555556,
              "#d8576b"
             ],
             [
              0.6666666666666666,
              "#ed7953"
             ],
             [
              0.7777777777777778,
              "#fb9f3a"
             ],
             [
              0.8888888888888888,
              "#fdca26"
             ],
             [
              1,
              "#f0f921"
             ]
            ],
            "type": "heatmapgl"
           }
          ],
          "histogram": [
           {
            "marker": {
             "pattern": {
              "fillmode": "overlay",
              "size": 10,
              "solidity": 0.2
             }
            },
            "type": "histogram"
           }
          ],
          "histogram2d": [
           {
            "colorbar": {
             "outlinewidth": 0,
             "ticks": ""
            },
            "colorscale": [
             [
              0,
              "#0d0887"
             ],
             [
              0.1111111111111111,
              "#46039f"
             ],
             [
              0.2222222222222222,
              "#7201a8"
             ],
             [
              0.3333333333333333,
              "#9c179e"
             ],
             [
              0.4444444444444444,
              "#bd3786"
             ],
             [
              0.5555555555555556,
              "#d8576b"
             ],
             [
              0.6666666666666666,
              "#ed7953"
             ],
             [
              0.7777777777777778,
              "#fb9f3a"
             ],
             [
              0.8888888888888888,
              "#fdca26"
             ],
             [
              1,
              "#f0f921"
             ]
            ],
            "type": "histogram2d"
           }
          ],
          "histogram2dcontour": [
           {
            "colorbar": {
             "outlinewidth": 0,
             "ticks": ""
            },
            "colorscale": [
             [
              0,
              "#0d0887"
             ],
             [
              0.1111111111111111,
              "#46039f"
             ],
             [
              0.2222222222222222,
              "#7201a8"
             ],
             [
              0.3333333333333333,
              "#9c179e"
             ],
             [
              0.4444444444444444,
              "#bd3786"
             ],
             [
              0.5555555555555556,
              "#d8576b"
             ],
             [
              0.6666666666666666,
              "#ed7953"
             ],
             [
              0.7777777777777778,
              "#fb9f3a"
             ],
             [
              0.8888888888888888,
              "#fdca26"
             ],
             [
              1,
              "#f0f921"
             ]
            ],
            "type": "histogram2dcontour"
           }
          ],
          "mesh3d": [
           {
            "colorbar": {
             "outlinewidth": 0,
             "ticks": ""
            },
            "type": "mesh3d"
           }
          ],
          "parcoords": [
           {
            "line": {
             "colorbar": {
              "outlinewidth": 0,
              "ticks": ""
             }
            },
            "type": "parcoords"
           }
          ],
          "pie": [
           {
            "automargin": true,
            "type": "pie"
           }
          ],
          "scatter": [
           {
            "fillpattern": {
             "fillmode": "overlay",
             "size": 10,
             "solidity": 0.2
            },
            "type": "scatter"
           }
          ],
          "scatter3d": [
           {
            "line": {
             "colorbar": {
              "outlinewidth": 0,
              "ticks": ""
             }
            },
            "marker": {
             "colorbar": {
              "outlinewidth": 0,
              "ticks": ""
             }
            },
            "type": "scatter3d"
           }
          ],
          "scattercarpet": [
           {
            "marker": {
             "colorbar": {
              "outlinewidth": 0,
              "ticks": ""
             }
            },
            "type": "scattercarpet"
           }
          ],
          "scattergeo": [
           {
            "marker": {
             "colorbar": {
              "outlinewidth": 0,
              "ticks": ""
             }
            },
            "type": "scattergeo"
           }
          ],
          "scattergl": [
           {
            "marker": {
             "colorbar": {
              "outlinewidth": 0,
              "ticks": ""
             }
            },
            "type": "scattergl"
           }
          ],
          "scattermapbox": [
           {
            "marker": {
             "colorbar": {
              "outlinewidth": 0,
              "ticks": ""
             }
            },
            "type": "scattermapbox"
           }
          ],
          "scatterpolar": [
           {
            "marker": {
             "colorbar": {
              "outlinewidth": 0,
              "ticks": ""
             }
            },
            "type": "scatterpolar"
           }
          ],
          "scatterpolargl": [
           {
            "marker": {
             "colorbar": {
              "outlinewidth": 0,
              "ticks": ""
             }
            },
            "type": "scatterpolargl"
           }
          ],
          "scatterternary": [
           {
            "marker": {
             "colorbar": {
              "outlinewidth": 0,
              "ticks": ""
             }
            },
            "type": "scatterternary"
           }
          ],
          "surface": [
           {
            "colorbar": {
             "outlinewidth": 0,
             "ticks": ""
            },
            "colorscale": [
             [
              0,
              "#0d0887"
             ],
             [
              0.1111111111111111,
              "#46039f"
             ],
             [
              0.2222222222222222,
              "#7201a8"
             ],
             [
              0.3333333333333333,
              "#9c179e"
             ],
             [
              0.4444444444444444,
              "#bd3786"
             ],
             [
              0.5555555555555556,
              "#d8576b"
             ],
             [
              0.6666666666666666,
              "#ed7953"
             ],
             [
              0.7777777777777778,
              "#fb9f3a"
             ],
             [
              0.8888888888888888,
              "#fdca26"
             ],
             [
              1,
              "#f0f921"
             ]
            ],
            "type": "surface"
           }
          ],
          "table": [
           {
            "cells": {
             "fill": {
              "color": "#EBF0F8"
             },
             "line": {
              "color": "white"
             }
            },
            "header": {
             "fill": {
              "color": "#C8D4E3"
             },
             "line": {
              "color": "white"
             }
            },
            "type": "table"
           }
          ]
         },
         "layout": {
          "annotationdefaults": {
           "arrowcolor": "#2a3f5f",
           "arrowhead": 0,
           "arrowwidth": 1
          },
          "autotypenumbers": "strict",
          "coloraxis": {
           "colorbar": {
            "outlinewidth": 0,
            "ticks": ""
           }
          },
          "colorscale": {
           "diverging": [
            [
             0,
             "#8e0152"
            ],
            [
             0.1,
             "#c51b7d"
            ],
            [
             0.2,
             "#de77ae"
            ],
            [
             0.3,
             "#f1b6da"
            ],
            [
             0.4,
             "#fde0ef"
            ],
            [
             0.5,
             "#f7f7f7"
            ],
            [
             0.6,
             "#e6f5d0"
            ],
            [
             0.7,
             "#b8e186"
            ],
            [
             0.8,
             "#7fbc41"
            ],
            [
             0.9,
             "#4d9221"
            ],
            [
             1,
             "#276419"
            ]
           ],
           "sequential": [
            [
             0,
             "#0d0887"
            ],
            [
             0.1111111111111111,
             "#46039f"
            ],
            [
             0.2222222222222222,
             "#7201a8"
            ],
            [
             0.3333333333333333,
             "#9c179e"
            ],
            [
             0.4444444444444444,
             "#bd3786"
            ],
            [
             0.5555555555555556,
             "#d8576b"
            ],
            [
             0.6666666666666666,
             "#ed7953"
            ],
            [
             0.7777777777777778,
             "#fb9f3a"
            ],
            [
             0.8888888888888888,
             "#fdca26"
            ],
            [
             1,
             "#f0f921"
            ]
           ],
           "sequentialminus": [
            [
             0,
             "#0d0887"
            ],
            [
             0.1111111111111111,
             "#46039f"
            ],
            [
             0.2222222222222222,
             "#7201a8"
            ],
            [
             0.3333333333333333,
             "#9c179e"
            ],
            [
             0.4444444444444444,
             "#bd3786"
            ],
            [
             0.5555555555555556,
             "#d8576b"
            ],
            [
             0.6666666666666666,
             "#ed7953"
            ],
            [
             0.7777777777777778,
             "#fb9f3a"
            ],
            [
             0.8888888888888888,
             "#fdca26"
            ],
            [
             1,
             "#f0f921"
            ]
           ]
          },
          "colorway": [
           "#636efa",
           "#EF553B",
           "#00cc96",
           "#ab63fa",
           "#FFA15A",
           "#19d3f3",
           "#FF6692",
           "#B6E880",
           "#FF97FF",
           "#FECB52"
          ],
          "font": {
           "color": "#2a3f5f"
          },
          "geo": {
           "bgcolor": "white",
           "lakecolor": "white",
           "landcolor": "#E5ECF6",
           "showlakes": true,
           "showland": true,
           "subunitcolor": "white"
          },
          "hoverlabel": {
           "align": "left"
          },
          "hovermode": "closest",
          "mapbox": {
           "style": "light"
          },
          "paper_bgcolor": "white",
          "plot_bgcolor": "#E5ECF6",
          "polar": {
           "angularaxis": {
            "gridcolor": "white",
            "linecolor": "white",
            "ticks": ""
           },
           "bgcolor": "#E5ECF6",
           "radialaxis": {
            "gridcolor": "white",
            "linecolor": "white",
            "ticks": ""
           }
          },
          "scene": {
           "xaxis": {
            "backgroundcolor": "#E5ECF6",
            "gridcolor": "white",
            "gridwidth": 2,
            "linecolor": "white",
            "showbackground": true,
            "ticks": "",
            "zerolinecolor": "white"
           },
           "yaxis": {
            "backgroundcolor": "#E5ECF6",
            "gridcolor": "white",
            "gridwidth": 2,
            "linecolor": "white",
            "showbackground": true,
            "ticks": "",
            "zerolinecolor": "white"
           },
           "zaxis": {
            "backgroundcolor": "#E5ECF6",
            "gridcolor": "white",
            "gridwidth": 2,
            "linecolor": "white",
            "showbackground": true,
            "ticks": "",
            "zerolinecolor": "white"
           }
          },
          "shapedefaults": {
           "line": {
            "color": "#2a3f5f"
           }
          },
          "ternary": {
           "aaxis": {
            "gridcolor": "white",
            "linecolor": "white",
            "ticks": ""
           },
           "baxis": {
            "gridcolor": "white",
            "linecolor": "white",
            "ticks": ""
           },
           "bgcolor": "#E5ECF6",
           "caxis": {
            "gridcolor": "white",
            "linecolor": "white",
            "ticks": ""
           }
          },
          "title": {
           "x": 0.05
          },
          "xaxis": {
           "automargin": true,
           "gridcolor": "white",
           "linecolor": "white",
           "ticks": "",
           "title": {
            "standoff": 15
           },
           "zerolinecolor": "white",
           "zerolinewidth": 2
          },
          "yaxis": {
           "automargin": true,
           "gridcolor": "white",
           "linecolor": "white",
           "ticks": "",
           "title": {
            "standoff": 15
           },
           "zerolinecolor": "white",
           "zerolinewidth": 2
          }
         }
        },
        "title": {
         "text": "Tweets per day per airline"
        },
        "xaxis": {
         "anchor": "y",
         "domain": [
          0,
          1
         ],
         "title": {
          "text": "day"
         }
        },
        "yaxis": {
         "anchor": "x",
         "domain": [
          0,
          1
         ],
         "title": {
          "text": "count"
         }
        }
       }
      },
      "text/html": [
       "<div>                            <div id=\"9650d70b-3fd3-4be1-9e15-8990d239c1a9\" class=\"plotly-graph-div\" style=\"height:525px; width:100%;\"></div>            <script type=\"text/javascript\">                require([\"plotly\"], function(Plotly) {                    window.PLOTLYENV=window.PLOTLYENV || {};                                    if (document.getElementById(\"9650d70b-3fd3-4be1-9e15-8990d239c1a9\")) {                    Plotly.newPlot(                        \"9650d70b-3fd3-4be1-9e15-8990d239c1a9\",                        [{\"hovertemplate\":\"airline=AirFrance<br>day=%{x}<br>count=%{y}<extra></extra>\",\"legendgroup\":\"AirFrance\",\"line\":{\"color\":\"#636efa\",\"dash\":\"solid\"},\"marker\":{\"symbol\":\"circle\"},\"mode\":\"lines\",\"name\":\"AirFrance\",\"showlegend\":true,\"x\":[142,143,144,145,146,147,148,149,150,151,152,153,154,155,156,157,158,159,160,161,162,163,164,165,166,167,168,169,170,171,172,173,174,175,176,177,178,179,180,181,182,183,184,185,186,187,188,189,190,191,192,193,194,195,196,197,198,199,200,201,202,203,204,205,206,207,208,209,210,211,212,213,214,215,216,217,218,219,220,221,222,223,224,225,226,227,236,237,238,239,240,241,242,243,244,245,246,247,248,249,250,251,252,253,254,255,256,257,258,259,260,261,262,263,264,265,266,267,268,269,270,271,272,273,274,275,276,296,297,298,299,300,301,302,303,304,305,306,307,308,309,310,311,312,313,314,315,316,317,318,319,320,321,322,323,324,325,326,327,328,329,330,331,332,333,334,335,336,337,338,339,340,341,342,343,344,345,346,347,348,349,350,351,352,353,354,355,356,357,358,359,360,361,362,363,364,365,366,367,368,369,370,371,372,373,374,375,376,377,378,379,380,381,382,383,384,385,386,387,388,389,390,391,392,393,394,395,396,397,398,399,400,401,402,403,404,405,406,407,408,409,410,411,412,413,414,415,416,417,418,419,420,421,422,423,424,425,426,427,428,429,430,431,432,433,434,435,436,437,438,439,440,441,442,443,444,445,446,447,448,449,450,451,452,453,454,455],\"xaxis\":\"x\",\"y\":[17.0,30.0,28.0,30.0,23.0,25.0,26.0,27.0,23.0,21.0,30.0,18.0,47.0,21.0,31.0,32.0,40.0,19.0,20.0,36.0,30.0,41.0,17.0,32.0,36.0,27.0,42.0,36.0,35.0,22.0,36.0,45.0,34.0,55.0,41.0,36.0,44.0,42.0,20.0,40.0,68.0,65.0,24.0,50.0,51.0,40.0,23.0,47.0,39.0,47.0,25.0,35.0,22.0,37.0,26.0,39.0,39.0,47.0,21.0,28.0,45.0,45.0,47.0,35.0,38.0,44.0,40.0,24.0,50.0,31.0,22.0,32.0,25.0,30.0,20.0,25.0,47.0,55.0,25.0,35.0,49.0,25.0,45.0,30.0,38.0,24.0,3.0,22.0,29.0,30.0,40.0,17.0,30.0,41.0,24.0,44.0,42.0,25.0,38.0,31.0,39.0,43.0,40.0,51.0,30.0,23.0,25.0,29.0,15.0,33.0,34.0,21.0,35.0,29.0,41.0,40.0,56.0,39.0,34.0,13.0,41.0,43.0,39.0,50.0,44.0,32.0,20.0,14.0,16.0,26.0,29.0,23.0,31.0,30.0,15.0,30.0,28.0,14.0,12.0,46.0,35.0,19.0,27.0,21.0,14.0,33.0,25.0,44.0,27.0,20.0,31.0,25.0,34.0,26.0,29.0,51.0,27.0,35.0,38.0,47.0,42.0,21.0,31.0,20.0,25.0,36.0,26.0,47.0,46.0,25.0,75.0,66.0,28.0,17.0,26.0,46.0,37.0,31.0,22.0,28.0,45.0,40.0,58.0,26.0,39.0,53.0,38.0,27.0,43.0,37.0,20.0,41.0,34.0,13.0,39.0,33.0,22.0,26.0,34.0,43.0,31.0,37.0,53.0,45.0,38.0,37.0,31.0,19.0,26.0,34.0,18.0,28.0,23.0,29.0,24.0,9.0,23.0,29.0,38.0,49.0,35.0,17.0,30.0,29.0,19.0,19.0,22.0,34.0,23.0,34.0,44.0,22.0,31.0,20.0,27.0,29.0,20.0,26.0,22.0,20.0,21.0,34.0,27.0,18.0,28.0,27.0,21.0,19.0,21.0,21.0,17.0,41.0,45.0,57.0,46.0,40.0,28.0,33.0,29.0,30.0,36.0,31.0,38.0,38.0,39.0,51.0,93.0,79.0,66.0,64.0,80.0,49.0,95.0,26.0,32.0,32.0,18.0,11.0,14.0,30.0,76.0,36.0,35.0,29.0,6.0,17.0,32.0],\"yaxis\":\"y\",\"type\":\"scattergl\"},{\"hovertemplate\":\"airline=AmericanAir<br>day=%{x}<br>count=%{y}<extra></extra>\",\"legendgroup\":\"AmericanAir\",\"line\":{\"color\":\"#EF553B\",\"dash\":\"solid\"},\"marker\":{\"symbol\":\"circle\"},\"mode\":\"lines\",\"name\":\"AmericanAir\",\"showlegend\":true,\"x\":[142,143,144,145,146,147,148,149,150,151,152,153,154,155,156,157,158,159,160,161,162,163,164,165,166,167,168,169,170,171,172,173,174,175,176,177,178,179,180,181,182,183,184,185,186,187,188,189,190,191,192,193,194,195,196,197,198,199,200,201,202,203,204,205,206,207,208,209,210,211,212,213,214,215,216,217,218,219,220,221,222,223,224,225,226,227,236,237,238,239,240,241,242,243,244,245,246,247,248,249,250,251,252,253,254,255,256,257,258,259,260,261,262,263,264,265,266,267,268,269,270,271,272,273,274,275,276,296,297,298,299,300,301,302,303,304,305,306,307,308,309,310,311,312,313,314,315,316,317,318,319,320,321,322,323,324,325,326,327,328,329,330,331,332,333,334,335,336,337,338,339,340,341,342,343,344,345,346,347,348,349,350,351,352,353,354,355,356,357,358,359,360,361,362,363,364,365,366,367,368,369,370,371,372,373,374,375,376,377,378,379,380,381,382,383,384,385,386,387,388,389,390,391,392,393,394,395,396,397,398,399,400,401,402,403,404,405,406,407,408,409,410,411,412,413,414,415,416,417,418,419,420,421,422,423,424,425,426,427,428,429,430,431,432,433,434,435,436,437,438,439,440,441,442,443,444,445,446,447,448,449,450,451,452,453,454,455],\"xaxis\":\"x\",\"y\":[250.0,478.0,420.0,682.0,526.0,488.0,396.0,497.0,556.0,702.0,695.0,395.0,529.0,481.0,547.0,683.0,697.0,676.0,487.0,365.0,324.0,397.0,510.0,624.0,612.0,595.0,352.0,486.0,359.0,386.0,381.0,399.0,309.0,433.0,284.0,476.0,347.0,458.0,501.0,400.0,424.0,600.0,370.0,592.0,538.0,426.0,420.0,378.0,304.0,440.0,424.0,416.0,472.0,659.0,335.0,427.0,468.0,461.0,378.0,436.0,586.0,388.0,367.0,324.0,447.0,562.0,639.0,611.0,536.0,751.0,607.0,550.0,340.0,423.0,749.0,506.0,628.0,489.0,402.0,550.0,699.0,668.0,591.0,590.0,483.0,373.0,121.0,591.0,590.0,616.0,587.0,468.0,316.0,267.0,463.0,499.0,498.0,379.0,524.0,496.0,411.0,489.0,503.0,509.0,436.0,468.0,486.0,452.0,483.0,495.0,464.0,410.0,456.0,390.0,515.0,571.0,433.0,494.0,429.0,445.0,383.0,347.0,458.0,551.0,523.0,303.0,209.0,287.0,488.0,302.0,360.0,416.0,460.0,292.0,367.0,403.0,327.0,400.0,428.0,437.0,445.0,401.0,505.0,306.0,277.0,412.0,576.0,582.0,494.0,459.0,424.0,308.0,394.0,485.0,476.0,411.0,369.0,287.0,281.0,452.0,451.0,393.0,469.0,435.0,292.0,373.0,505.0,315.0,254.0,360.0,264.0,349.0,415.0,324.0,320.0,317.0,367.0,399.0,330.0,364.0,308.0,372.0,489.0,357.0,298.0,267.0,279.0,366.0,308.0,394.0,388.0,291.0,497.0,398.0,389.0,365.0,673.0,456.0,485.0,401.0,443.0,305.0,282.0,276.0,338.0,305.0,303.0,377.0,326.0,398.0,331.0,243.0,219.0,342.0,308.0,450.0,408.0,480.0,375.0,422.0,423.0,376.0,381.0,425.0,402.0,317.0,334.0,421.0,432.0,403.0,251.0,283.0,322.0,306.0,379.0,382.0,389.0,305.0,263.0,275.0,309.0,339.0,322.0,313.0,332.0,231.0,230.0,215.0,210.0,273.0,275.0,350.0,297.0,293.0,296.0,270.0,422.0,300.0,390.0,239.0,272.0,291.0,277.0,208.0,209.0,247.0,206.0,179.0,231.0,262.0,183.0,184.0,167.0,157.0,129.0,131.0,102.0,144.0,127.0,272.0,257.0,261.0,257.0,210.0,233.0,199.0,146.0],\"yaxis\":\"y\",\"type\":\"scattergl\"},{\"hovertemplate\":\"airline=British_Airways<br>day=%{x}<br>count=%{y}<extra></extra>\",\"legendgroup\":\"British_Airways\",\"line\":{\"color\":\"#00cc96\",\"dash\":\"solid\"},\"marker\":{\"symbol\":\"circle\"},\"mode\":\"lines\",\"name\":\"British_Airways\",\"showlegend\":true,\"x\":[142,143,144,145,146,147,148,149,150,151,152,153,154,155,156,157,158,159,160,161,162,163,164,165,166,167,168,169,170,171,172,173,174,175,176,177,178,179,180,181,182,183,184,185,186,187,188,189,190,191,192,193,194,195,196,197,198,199,200,201,202,203,204,205,206,207,208,209,210,211,212,213,214,215,216,217,218,219,220,221,222,223,224,225,226,227,236,237,238,239,240,241,242,243,244,245,246,247,248,249,250,251,252,253,254,255,256,257,258,259,260,261,262,263,264,265,266,267,268,269,270,271,272,273,274,275,276,296,297,298,299,300,301,302,303,304,305,306,307,308,309,310,311,312,313,314,315,316,317,318,319,320,321,322,323,324,325,326,327,328,329,330,331,332,333,334,335,336,337,338,339,340,341,342,343,344,345,346,347,348,349,350,351,352,353,354,355,356,357,358,359,360,361,362,363,364,365,366,367,368,369,370,371,372,373,374,375,376,377,378,379,380,381,382,383,384,385,386,387,388,389,390,391,392,393,394,395,396,397,398,399,400,401,402,403,404,405,406,407,408,409,410,411,412,413,414,415,416,417,418,419,420,421,422,423,424,425,426,427,428,429,430,431,432,433,434,435,436,437,438,439,440,441,442,443,444,445,446,447,448,449,450,451,452,453,454,455],\"xaxis\":\"x\",\"y\":[152.0,458.0,418.0,243.0,237.0,310.0,325.0,341.0,314.0,339.0,297.0,315.0,399.0,394.0,380.0,369.0,483.0,321.0,317.0,381.0,336.0,363.0,357.0,430.0,367.0,255.0,330.0,364.0,378.0,490.0,282.0,358.0,324.0,330.0,417.0,336.0,396.0,380.0,416.0,460.0,398.0,412.0,316.0,335.0,376.0,604.0,434.0,508.0,428.0,405.0,367.0,363.0,366.0,320.0,466.0,343.0,316.0,529.0,561.0,507.0,423.0,554.0,480.0,411.0,564.0,1372.0,550.0,452.0,507.0,490.0,485.0,323.0,538.0,403.0,548.0,545.0,404.0,1149.0,653.0,548.0,477.0,450.0,408.0,487.0,507.0,324.0,79.0,966.0,1171.0,1091.0,940.0,653.0,515.0,475.0,364.0,392.0,380.0,414.0,378.0,375.0,329.0,244.0,327.0,319.0,382.0,516.0,509.0,361.0,293.0,402.0,376.0,481.0,377.0,323.0,432.0,243.0,403.0,368.0,465.0,324.0,350.0,293.0,296.0,474.0,531.0,295.0,203.0,193.0,406.0,345.0,421.0,271.0,402.0,419.0,351.0,272.0,317.0,334.0,304.0,261.0,268.0,318.0,323.0,240.0,190.0,192.0,234.0,272.0,392.0,298.0,255.0,187.0,258.0,243.0,263.0,277.0,437.0,239.0,206.0,191.0,276.0,276.0,279.0,248.0,258.0,221.0,235.0,239.0,267.0,252.0,273.0,218.0,183.0,206.0,232.0,213.0,247.0,263.0,235.0,221.0,185.0,231.0,264.0,220.0,185.0,295.0,233.0,271.0,223.0,250.0,150.0,155.0,253.0,200.0,248.0,325.0,236.0,205.0,278.0,347.0,334.0,315.0,282.0,304.0,375.0,362.0,242.0,225.0,251.0,291.0,304.0,324.0,203.0,247.0,214.0,214.0,343.0,217.0,226.0,215.0,213.0,285.0,248.0,208.0,226.0,298.0,213.0,322.0,222.0,250.0,237.0,229.0,300.0,386.0,325.0,363.0,667.0,804.0,363.0,303.0,365.0,320.0,420.0,400.0,554.0,374.0,243.0,312.0,257.0,297.0,332.0,362.0,361.0,265.0,326.0,276.0,265.0,278.0,288.0,433.0,448.0,399.0,337.0,384.0,243.0,480.0,569.0,490.0,450.0,610.0,476.0,491.0,714.0,602.0,583.0,485.0,538.0,385.0,389.0,738.0,961.0,947.0,790.0,677.0,356.0,191.0,383.0],\"yaxis\":\"y\",\"type\":\"scattergl\"},{\"hovertemplate\":\"airline=EtihadAirways<br>day=%{x}<br>count=%{y}<extra></extra>\",\"legendgroup\":\"EtihadAirways\",\"line\":{\"color\":\"#ab63fa\",\"dash\":\"solid\"},\"marker\":{\"symbol\":\"circle\"},\"mode\":\"lines\",\"name\":\"EtihadAirways\",\"showlegend\":true,\"x\":[142,143,144,145,146,147,148,149,150,151,152,153,154,155,156,157,158,159,160,161,162,163,164,165,166,167,168,169,170,171,172,173,174,175,176,177,178,179,180,181,182,183,184,185,186,187,188,189,190,191,192,193,194,195,196,197,198,199,200,201,202,203,204,205,206,207,208,209,210,211,212,213,214,215,216,217,218,219,220,221,222,223,224,225,226,227,236,237,238,239,240,241,242,243,244,245,246,247,248,249,250,251,252,253,254,255,256,257,258,259,260,261,262,263,264,265,266,267,268,269,270,271,272,273,274,275,276,296,297,298,299,300,301,302,303,304,305,306,307,308,309,310,311,312,313,314,315,316,317,318,319,320,321,322,323,324,325,326,327,328,329,330,331,332,333,334,335,336,337,338,339,340,341,342,343,344,345,346,347,348,349,350,351,352,353,354,355,356,357,358,359,360,361,362,363,364,365,366,367,368,369,370,371,372,373,374,375,376,377,378,379,380,381,382,383,384,385,386,387,388,389,390,391,392,393,394,395,396,397,398,399,400,401,402,403,404,405,406,407,408,409,410,411,412,413,414,415,416,417,418,419,420,421,422,423,424,425,426,427,428,429,430,431,432,433,434,435,436,437,438,439,440,441,442,443,444,445,446,447,448,449,450,451,452,453,454,455],\"xaxis\":\"x\",\"y\":[1.0,16.0,5.0,3.0,8.0,6.0,6.0,5.0,3.0,7.0,12.0,3.0,7.0,3.0,2.0,6.0,4.0,4.0,11.0,13.0,8.0,7.0,7.0,7.0,3.0,6.0,3.0,6.0,20.0,3.0,4.0,3.0,13.0,7.0,11.0,5.0,10.0,11.0,5.0,4.0,12.0,8.0,10.0,7.0,10.0,2.0,7.0,8.0,12.0,6.0,7.0,12.0,16.0,4.0,6.0,6.0,6.0,10.0,12.0,10.0,2.0,5.0,5.0,5.0,4.0,10.0,9.0,7.0,3.0,8.0,10.0,8.0,6.0,5.0,11.0,4.0,5.0,6.0,6.0,16.0,11.0,10.0,5.0,12.0,3.0,3.0,null,3.0,4.0,11.0,7.0,1.0,2.0,3.0,3.0,4.0,9.0,6.0,6.0,7.0,6.0,9.0,7.0,1.0,6.0,7.0,7.0,5.0,3.0,5.0,3.0,4.0,11.0,8.0,5.0,5.0,1.0,3.0,3.0,3.0,4.0,3.0,null,10.0,2.0,2.0,4.0,2.0,12.0,10.0,7.0,6.0,7.0,6.0,8.0,7.0,5.0,8.0,4.0,9.0,4.0,3.0,10.0,6.0,20.0,10.0,4.0,12.0,16.0,5.0,11.0,10.0,3.0,7.0,4.0,4.0,4.0,5.0,5.0,5.0,2.0,3.0,8.0,7.0,1.0,4.0,3.0,11.0,3.0,6.0,4.0,3.0,5.0,1.0,2.0,2.0,3.0,null,2.0,3.0,1.0,1.0,2.0,1.0,5.0,3.0,1.0,3.0,1.0,null,null,4.0,1.0,null,null,2.0,3.0,null,4.0,3.0,1.0,null,3.0,2.0,4.0,1.0,1.0,null,1.0,4.0,2.0,1.0,2.0,3.0,null,1.0,2.0,2.0,4.0,1.0,2.0,null,1.0,2.0,2.0,1.0,4.0,4.0,null,6.0,null,2.0,null,2.0,2.0,1.0,2.0,1.0,null,2.0,1.0,1.0,null,null,null,1.0,2.0,2.0,2.0,null,2.0,3.0,1.0,2.0,1.0,2.0,2.0,3.0,1.0,2.0,1.0,3.0,null,1.0,2.0,4.0,2.0,1.0,1.0,9.0,null,1.0,5.0,1.0,6.0,8.0,8.0,6.0,11.0,18.0,22.0,6.0,5.0,null,2.0,4.0,8.0],\"yaxis\":\"y\",\"type\":\"scattergl\"},{\"hovertemplate\":\"airline=KLM<br>day=%{x}<br>count=%{y}<extra></extra>\",\"legendgroup\":\"KLM\",\"line\":{\"color\":\"#FFA15A\",\"dash\":\"solid\"},\"marker\":{\"symbol\":\"circle\"},\"mode\":\"lines\",\"name\":\"KLM\",\"showlegend\":true,\"x\":[142,143,144,145,146,147,148,149,150,151,152,153,154,155,156,157,158,159,160,161,162,163,164,165,166,167,168,169,170,171,172,173,174,175,176,177,178,179,180,181,182,183,184,185,186,187,188,189,190,191,192,193,194,195,196,197,198,199,200,201,202,203,204,205,206,207,208,209,210,211,212,213,214,215,216,217,218,219,220,221,222,223,224,225,226,227,236,237,238,239,240,241,242,243,244,245,246,247,248,249,250,251,252,253,254,255,256,257,258,259,260,261,262,263,264,265,266,267,268,269,270,271,272,273,274,275,276,296,297,298,299,300,301,302,303,304,305,306,307,308,309,310,311,312,313,314,315,316,317,318,319,320,321,322,323,324,325,326,327,328,329,330,331,332,333,334,335,336,337,338,339,340,341,342,343,344,345,346,347,348,349,350,351,352,353,354,355,356,357,358,359,360,361,362,363,364,365,366,367,368,369,370,371,372,373,374,375,376,377,378,379,380,381,382,383,384,385,386,387,388,389,390,391,392,393,394,395,396,397,398,399,400,401,402,403,404,405,406,407,408,409,410,411,412,413,414,415,416,417,418,419,420,421,422,423,424,425,426,427,428,429,430,431,432,433,434,435,436,437,438,439,440,441,442,443,444,445,446,447,448,449,450,451,452,453,454,455],\"xaxis\":\"x\",\"y\":[51.0,78.0,70.0,87.0,80.0,91.0,83.0,120.0,89.0,122.0,73.0,99.0,96.0,106.0,115.0,91.0,130.0,170.0,110.0,151.0,116.0,123.0,105.0,101.0,115.0,133.0,127.0,110.0,97.0,127.0,100.0,96.0,111.0,119.0,108.0,135.0,93.0,94.0,222.0,340.0,304.0,206.0,140.0,112.0,125.0,115.0,95.0,135.0,194.0,84.0,86.0,145.0,119.0,106.0,105.0,75.0,133.0,476.0,230.0,184.0,173.0,141.0,139.0,379.0,598.0,250.0,199.0,190.0,143.0,157.0,113.0,143.0,161.0,120.0,88.0,118.0,139.0,118.0,125.0,186.0,163.0,142.0,174.0,140.0,171.0,67.0,9.0,114.0,90.0,112.0,88.0,128.0,124.0,152.0,157.0,216.0,131.0,218.0,179.0,152.0,128.0,142.0,130.0,145.0,128.0,105.0,191.0,116.0,146.0,190.0,199.0,157.0,156.0,126.0,94.0,100.0,141.0,146.0,119.0,143.0,145.0,99.0,129.0,114.0,185.0,75.0,85.0,78.0,115.0,77.0,74.0,89.0,99.0,78.0,83.0,90.0,82.0,51.0,81.0,62.0,105.0,98.0,107.0,48.0,52.0,74.0,86.0,71.0,89.0,79.0,92.0,91.0,95.0,69.0,79.0,70.0,73.0,71.0,74.0,89.0,110.0,81.0,107.0,81.0,136.0,91.0,131.0,109.0,102.0,102.0,137.0,115.0,102.0,99.0,86.0,72.0,93.0,92.0,62.0,88.0,103.0,131.0,82.0,88.0,124.0,95.0,103.0,100.0,79.0,78.0,59.0,87.0,81.0,56.0,88.0,89.0,89.0,85.0,83.0,91.0,62.0,95.0,102.0,91.0,111.0,120.0,127.0,72.0,76.0,135.0,62.0,80.0,77.0,91.0,93.0,89.0,80.0,104.0,50.0,84.0,93.0,71.0,69.0,77.0,95.0,136.0,111.0,126.0,76.0,89.0,69.0,91.0,60.0,52.0,79.0,105.0,204.0,208.0,159.0,125.0,95.0,80.0,52.0,96.0,89.0,69.0,64.0,90.0,94.0,63.0,136.0,111.0,87.0,86.0,101.0,119.0,77.0,81.0,114.0,115.0,108.0,179.0,186.0,139.0,165.0,200.0,241.0,268.0,314.0,357.0,282.0,276.0,240.0,175.0,150.0,91.0,61.0,112.0,56.0,102.0,66.0,77.0,95.0,74.0,80.0,105.0,85.0],\"yaxis\":\"y\",\"type\":\"scattergl\"},{\"hovertemplate\":\"airline=Lufthansa<br>day=%{x}<br>count=%{y}<extra></extra>\",\"legendgroup\":\"Lufthansa\",\"line\":{\"color\":\"#19d3f3\",\"dash\":\"solid\"},\"marker\":{\"symbol\":\"circle\"},\"mode\":\"lines\",\"name\":\"Lufthansa\",\"showlegend\":true,\"x\":[142,143,144,145,146,147,148,149,150,151,152,153,154,155,156,157,158,159,160,161,162,163,164,165,166,167,168,169,170,171,172,173,174,175,176,177,178,179,180,181,182,183,184,185,186,187,188,189,190,191,192,193,194,195,196,197,198,199,200,201,202,203,204,205,206,207,208,209,210,211,212,213,214,215,216,217,218,219,220,221,222,223,224,225,226,227,236,237,238,239,240,241,242,243,244,245,246,247,248,249,250,251,252,253,254,255,256,257,258,259,260,261,262,263,264,265,266,267,268,269,270,271,272,273,274,275,276,296,297,298,299,300,301,302,303,304,305,306,307,308,309,310,311,312,313,314,315,316,317,318,319,320,321,322,323,324,325,326,327,328,329,330,331,332,333,334,335,336,337,338,339,340,341,342,343,344,345,346,347,348,349,350,351,352,353,354,355,356,357,358,359,360,361,362,363,364,365,366,367,368,369,370,371,372,373,374,375,376,377,378,379,380,381,382,383,384,385,386,387,388,389,390,391,392,393,394,395,396,397,398,399,400,401,402,403,404,405,406,407,408,409,410,411,412,413,414,415,416,417,418,419,420,421,422,423,424,425,426,427,428,429,430,431,432,433,434,435,436,437,438,439,440,441,442,443,444,445,446,447,448,449,450,451,452,453,454,455],\"xaxis\":\"x\",\"y\":[30.0,50.0,53.0,36.0,37.0,57.0,61.0,64.0,24.0,47.0,33.0,56.0,72.0,45.0,56.0,61.0,45.0,41.0,41.0,53.0,46.0,42.0,45.0,33.0,46.0,49.0,48.0,61.0,49.0,56.0,42.0,55.0,60.0,60.0,28.0,51.0,49.0,53.0,54.0,31.0,66.0,68.0,48.0,65.0,51.0,40.0,57.0,77.0,47.0,59.0,50.0,43.0,26.0,40.0,33.0,47.0,33.0,48.0,70.0,43.0,48.0,42.0,44.0,52.0,59.0,51.0,50.0,45.0,43.0,49.0,39.0,41.0,89.0,71.0,59.0,63.0,49.0,41.0,43.0,49.0,36.0,52.0,48.0,54.0,52.0,53.0,3.0,34.0,56.0,75.0,59.0,44.0,61.0,48.0,34.0,46.0,41.0,38.0,30.0,35.0,43.0,33.0,41.0,34.0,32.0,23.0,49.0,23.0,28.0,34.0,59.0,19.0,43.0,42.0,30.0,19.0,32.0,43.0,25.0,36.0,38.0,36.0,102.0,83.0,81.0,20.0,9.0,13.0,35.0,14.0,22.0,29.0,25.0,28.0,26.0,20.0,36.0,17.0,22.0,29.0,29.0,191.0,136.0,33.0,10.0,23.0,35.0,44.0,35.0,38.0,30.0,15.0,20.0,21.0,21.0,25.0,22.0,24.0,14.0,28.0,22.0,35.0,23.0,36.0,31.0,11.0,28.0,24.0,17.0,27.0,44.0,40.0,30.0,32.0,35.0,16.0,40.0,42.0,32.0,33.0,18.0,42.0,34.0,48.0,32.0,35.0,24.0,26.0,37.0,20.0,12.0,14.0,28.0,33.0,19.0,20.0,11.0,18.0,43.0,40.0,26.0,18.0,37.0,20.0,55.0,41.0,27.0,23.0,28.0,21.0,20.0,26.0,29.0,27.0,34.0,35.0,35.0,23.0,36.0,30.0,43.0,42.0,18.0,25.0,23.0,35.0,62.0,10.0,34.0,27.0,22.0,26.0,35.0,30.0,10.0,30.0,66.0,74.0,53.0,38.0,45.0,30.0,26.0,14.0,41.0,30.0,19.0,23.0,29.0,8.0,22.0,38.0,24.0,55.0,25.0,48.0,18.0,25.0,76.0,45.0,42.0,63.0,80.0,62.0,76.0,114.0,99.0,141.0,278.0,163.0,126.0,171.0,146.0,160.0,139.0,154.0,118.0,92.0,62.0,125.0,134.0,79.0,109.0,63.0,58.0,32.0,65.0],\"yaxis\":\"y\",\"type\":\"scattergl\"},{\"hovertemplate\":\"airline=Qantas<br>day=%{x}<br>count=%{y}<extra></extra>\",\"legendgroup\":\"Qantas\",\"line\":{\"color\":\"#FF6692\",\"dash\":\"solid\"},\"marker\":{\"symbol\":\"circle\"},\"mode\":\"lines\",\"name\":\"Qantas\",\"showlegend\":true,\"x\":[142,143,144,145,146,147,148,149,150,151,152,153,154,155,156,157,158,159,160,161,162,163,164,165,166,167,168,169,170,171,172,173,174,175,176,177,178,179,180,181,182,183,184,185,186,187,188,189,190,191,192,193,194,195,196,197,198,199,200,201,202,203,204,205,206,207,208,209,210,211,212,213,214,215,216,217,218,219,220,221,222,223,224,225,226,227,236,237,238,239,240,241,242,243,244,245,246,247,248,249,250,251,252,253,254,255,256,257,258,259,260,261,262,263,264,265,266,267,268,269,270,271,272,273,274,275,276,296,297,298,299,300,301,302,303,304,305,306,307,308,309,310,311,312,313,314,315,316,317,318,319,320,321,322,323,324,325,326,327,328,329,330,331,332,333,334,335,336,337,338,339,340,341,342,343,344,345,346,347,348,349,350,351,352,353,354,355,356,357,358,359,360,361,362,363,364,365,366,367,368,369,370,371,372,373,374,375,376,377,378,379,380,381,382,383,384,385,386,387,388,389,390,391,392,393,394,395,396,397,398,399,400,401,402,403,404,405,406,407,408,409,410,411,412,413,414,415,416,417,418,419,420,421,422,423,424,425,426,427,428,429,430,431,432,433,434,435,436,437,438,439,440,441,442,443,444,445,446,447,448,449,450,451,452,453,454,455],\"xaxis\":\"x\",\"y\":[18.0,36.0,48.0,47.0,48.0,28.0,34.0,55.0,42.0,50.0,29.0,39.0,57.0,44.0,40.0,27.0,37.0,28.0,31.0,35.0,53.0,39.0,46.0,51.0,44.0,38.0,86.0,50.0,43.0,26.0,61.0,37.0,43.0,41.0,56.0,50.0,45.0,42.0,28.0,52.0,41.0,40.0,35.0,54.0,53.0,50.0,41.0,51.0,56.0,32.0,66.0,59.0,61.0,73.0,66.0,52.0,44.0,35.0,40.0,33.0,50.0,44.0,48.0,51.0,52.0,57.0,53.0,66.0,50.0,45.0,38.0,55.0,49.0,64.0,59.0,81.0,59.0,66.0,78.0,92.0,48.0,36.0,50.0,55.0,44.0,57.0,1.0,28.0,32.0,37.0,38.0,32.0,55.0,40.0,44.0,41.0,41.0,48.0,34.0,50.0,40.0,56.0,66.0,39.0,45.0,37.0,48.0,28.0,38.0,48.0,45.0,27.0,42.0,62.0,28.0,29.0,32.0,42.0,37.0,52.0,31.0,26.0,30.0,50.0,37.0,27.0,35.0,9.0,41.0,47.0,27.0,36.0,50.0,37.0,41.0,70.0,45.0,33.0,33.0,50.0,41.0,37.0,40.0,55.0,23.0,53.0,47.0,58.0,85.0,78.0,66.0,34.0,52.0,54.0,125.0,97.0,57.0,90.0,39.0,48.0,82.0,76.0,52.0,34.0,40.0,25.0,45.0,44.0,46.0,47.0,55.0,28.0,35.0,43.0,41.0,51.0,47.0,38.0,31.0,23.0,75.0,63.0,28.0,25.0,41.0,22.0,33.0,51.0,37.0,21.0,24.0,26.0,30.0,19.0,21.0,35.0,22.0,37.0,45.0,27.0,17.0,28.0,27.0,35.0,51.0,46.0,44.0,29.0,33.0,51.0,50.0,56.0,41.0,40.0,45.0,48.0,59.0,45.0,45.0,54.0,36.0,30.0,38.0,34.0,62.0,48.0,39.0,46.0,68.0,48.0,38.0,54.0,33.0,48.0,36.0,42.0,54.0,49.0,58.0,67.0,46.0,45.0,20.0,43.0,43.0,33.0,48.0,32.0,28.0,26.0,53.0,40.0,56.0,107.0,46.0,24.0,26.0,51.0,44.0,53.0,42.0,41.0,24.0,44.0,35.0,29.0,36.0,26.0,38.0,45.0,21.0,35.0,23.0,13.0,6.0,null,1.0,1.0,5.0,2.0,null,null,4.0,1.0,1.0,null,null],\"yaxis\":\"y\",\"type\":\"scattergl\"},{\"hovertemplate\":\"airline=RyanAir<br>day=%{x}<br>count=%{y}<extra></extra>\",\"legendgroup\":\"RyanAir\",\"line\":{\"color\":\"#B6E880\",\"dash\":\"solid\"},\"marker\":{\"symbol\":\"circle\"},\"mode\":\"lines\",\"name\":\"RyanAir\",\"showlegend\":true,\"x\":[142,143,144,145,146,147,148,149,150,151,152,153,154,155,156,157,158,159,160,161,162,163,164,165,166,167,168,169,170,171,172,173,174,175,176,177,178,179,180,181,182,183,184,185,186,187,188,189,190,191,192,193,194,195,196,197,198,199,200,201,202,203,204,205,206,207,208,209,210,211,212,213,214,215,216,217,218,219,220,221,222,223,224,225,226,227,236,237,238,239,240,241,242,243,244,245,246,247,248,249,250,251,252,253,254,255,256,257,258,259,260,261,262,263,264,265,266,267,268,269,270,271,272,273,274,275,276,296,297,298,299,300,301,302,303,304,305,306,307,308,309,310,311,312,313,314,315,316,317,318,319,320,321,322,323,324,325,326,327,328,329,330,331,332,333,334,335,336,337,338,339,340,341,342,343,344,345,346,347,348,349,350,351,352,353,354,355,356,357,358,359,360,361,362,363,364,365,366,367,368,369,370,371,372,373,374,375,376,377,378,379,380,381,382,383,384,385,386,387,388,389,390,391,392,393,394,395,396,397,398,399,400,401,402,403,404,405,406,407,408,409,410,411,412,413,414,415,416,417,418,419,420,421,422,423,424,425,426,427,428,429,430,431,432,433,434,435,436,437,438,439,440,441,442,443,444,445,446,447,448,449,450,451,452,453,454,455],\"xaxis\":\"x\",\"y\":[76.0,96.0,77.0,49.0,57.0,81.0,95.0,80.0,100.0,77.0,46.0,57.0,120.0,90.0,87.0,94.0,131.0,64.0,61.0,121.0,93.0,114.0,96.0,92.0,142.0,134.0,88.0,103.0,91.0,91.0,64.0,23.0,33.0,97.0,74.0,97.0,76.0,110.0,64.0,115.0,137.0,132.0,145.0,106.0,96.0,25.0,19.0,102.0,118.0,87.0,90.0,88.0,40.0,39.0,106.0,107.0,121.0,32.0,94.0,69.0,68.0,166.0,121.0,142.0,102.0,168.0,29.0,79.0,194.0,131.0,142.0,121.0,88.0,131.0,112.0,161.0,112.0,105.0,504.0,220.0,52.0,56.0,290.0,203.0,98.0,181.0,null,85.0,112.0,143.0,113.0,118.0,102.0,76.0,137.0,256.0,160.0,112.0,123.0,127.0,46.0,52.0,104.0,104.0,159.0,123.0,109.0,91.0,68.0,140.0,98.0,96.0,109.0,98.0,41.0,42.0,113.0,104.0,78.0,95.0,94.0,60.0,95.0,74.0,83.0,48.0,229.0,41.0,85.0,80.0,20.0,22.0,75.0,62.0,132.0,48.0,39.0,32.0,24.0,98.0,74.0,61.0,89.0,49.0,47.0,20.0,62.0,33.0,51.0,42.0,35.0,23.0,33.0,56.0,46.0,33.0,41.0,30.0,20.0,11.0,67.0,46.0,54.0,21.0,32.0,19.0,23.0,69.0,26.0,41.0,23.0,50.0,27.0,40.0,39.0,51.0,66.0,53.0,23.0,17.0,6.0,50.0,46.0,46.0,38.0,39.0,22.0,11.0,31.0,16.0,1.0,37.0,70.0,16.0,14.0,51.0,56.0,38.0,23.0,40.0,14.0,15.0,24.0,40.0,56.0,45.0,35.0,25.0,24.0,69.0,67.0,27.0,52.0,36.0,18.0,23.0,100.0,59.0,58.0,38.0,50.0,12.0,15.0,60.0,69.0,50.0,60.0,39.0,34.0,36.0,42.0,28.0,40.0,48.0,34.0,58.0,145.0,130.0,33.0,55.0,55.0,55.0,33.0,30.0,50.0,39.0,38.0,48.0,53.0,4.0,5.0,78.0,96.0,64.0,46.0,27.0,19.0,16.0,56.0,35.0,32.0,18.0,29.0,31.0,37.0,36.0,118.0,142.0,70.0,80.0,1.0,1.0,69.0,63.0,63.0,74.0,36.0,25.0,9.0,44.0,65.0,94.0,64.0,72.0,21.0,14.0,44.0],\"yaxis\":\"y\",\"type\":\"scattergl\"},{\"hovertemplate\":\"airline=SingaporeAir<br>day=%{x}<br>count=%{y}<extra></extra>\",\"legendgroup\":\"SingaporeAir\",\"line\":{\"color\":\"#FF97FF\",\"dash\":\"solid\"},\"marker\":{\"symbol\":\"circle\"},\"mode\":\"lines\",\"name\":\"SingaporeAir\",\"showlegend\":true,\"x\":[142,143,144,145,146,147,148,149,150,151,152,153,154,155,156,157,158,159,160,161,162,163,164,165,166,167,168,169,170,171,172,173,174,175,176,177,178,179,180,181,182,183,184,185,186,187,188,189,190,191,192,193,194,195,196,197,198,199,200,201,202,203,204,205,206,207,208,209,210,211,212,213,214,215,216,217,218,219,220,221,222,223,224,225,226,227,236,237,238,239,240,241,242,243,244,245,246,247,248,249,250,251,252,253,254,255,256,257,258,259,260,261,262,263,264,265,266,267,268,269,270,271,272,273,274,275,276,296,297,298,299,300,301,302,303,304,305,306,307,308,309,310,311,312,313,314,315,316,317,318,319,320,321,322,323,324,325,326,327,328,329,330,331,332,333,334,335,336,337,338,339,340,341,342,343,344,345,346,347,348,349,350,351,352,353,354,355,356,357,358,359,360,361,362,363,364,365,366,367,368,369,370,371,372,373,374,375,376,377,378,379,380,381,382,383,384,385,386,387,388,389,390,391,392,393,394,395,396,397,398,399,400,401,402,403,404,405,406,407,408,409,410,411,412,413,414,415,416,417,418,419,420,421,422,423,424,425,426,427,428,429,430,431,432,433,434,435,436,437,438,439,440,441,442,443,444,445,446,447,448,449,450,451,452,453,454,455],\"xaxis\":\"x\",\"y\":[15.0,36.0,28.0,42.0,41.0,22.0,33.0,25.0,38.0,28.0,51.0,39.0,57.0,53.0,31.0,16.0,41.0,31.0,34.0,21.0,28.0,38.0,34.0,32.0,32.0,18.0,28.0,47.0,29.0,35.0,34.0,42.0,26.0,38.0,23.0,15.0,32.0,38.0,24.0,25.0,26.0,45.0,46.0,34.0,33.0,26.0,22.0,36.0,35.0,48.0,29.0,19.0,37.0,35.0,29.0,49.0,35.0,32.0,48.0,30.0,26.0,43.0,40.0,34.0,27.0,15.0,29.0,28.0,31.0,51.0,28.0,35.0,32.0,35.0,41.0,44.0,26.0,42.0,42.0,38.0,21.0,16.0,39.0,58.0,37.0,45.0,2.0,38.0,16.0,27.0,21.0,21.0,24.0,35.0,43.0,38.0,42.0,47.0,44.0,47.0,44.0,48.0,47.0,37.0,27.0,27.0,38.0,30.0,26.0,46.0,45.0,34.0,37.0,33.0,33.0,32.0,40.0,52.0,41.0,22.0,26.0,27.0,37.0,24.0,20.0,18.0,23.0,21.0,40.0,38.0,36.0,31.0,21.0,32.0,30.0,27.0,22.0,19.0,28.0,26.0,29.0,22.0,34.0,22.0,13.0,38.0,29.0,39.0,23.0,23.0,36.0,26.0,29.0,33.0,40.0,29.0,36.0,25.0,33.0,25.0,23.0,18.0,23.0,29.0,38.0,59.0,35.0,42.0,23.0,34.0,29.0,24.0,20.0,39.0,35.0,22.0,35.0,40.0,41.0,37.0,29.0,35.0,23.0,21.0,30.0,38.0,37.0,56.0,32.0,31.0,30.0,34.0,26.0,23.0,22.0,31.0,32.0,11.0,35.0,27.0,47.0,38.0,30.0,20.0,40.0,44.0,29.0,19.0,59.0,73.0,32.0,35.0,38.0,24.0,34.0,19.0,43.0,31.0,31.0,34.0,32.0,33.0,26.0,30.0,35.0,58.0,49.0,55.0,72.0,37.0,37.0,35.0,43.0,42.0,51.0,47.0,77.0,52.0,76.0,90.0,67.0,56.0,64.0,54.0,80.0,79.0,70.0,41.0,53.0,40.0,26.0,86.0,120.0,85.0,72.0,79.0,84.0,57.0,67.0,118.0,129.0,104.0,113.0,93.0,81.0,88.0,118.0,137.0,193.0,224.0,263.0,127.0,204.0,55.0,97.0,137.0,229.0,113.0,97.0,167.0,130.0,90.0,91.0,71.0,68.0,67.0,79.0],\"yaxis\":\"y\",\"type\":\"scattergl\"},{\"hovertemplate\":\"airline=VirginAtlantic<br>day=%{x}<br>count=%{y}<extra></extra>\",\"legendgroup\":\"VirginAtlantic\",\"line\":{\"color\":\"#FECB52\",\"dash\":\"solid\"},\"marker\":{\"symbol\":\"circle\"},\"mode\":\"lines\",\"name\":\"VirginAtlantic\",\"showlegend\":true,\"x\":[142,143,144,145,146,147,148,149,150,151,152,153,154,155,156,157,158,159,160,161,162,163,164,165,166,167,168,169,170,171,172,173,174,175,176,177,178,179,180,181,182,183,184,185,186,187,188,189,190,191,192,193,194,195,196,197,198,199,200,201,202,203,204,205,206,207,208,209,210,211,212,213,214,215,216,217,218,219,220,221,222,223,224,225,226,227,236,237,238,239,240,241,242,243,244,245,246,247,248,249,250,251,252,253,254,255,256,257,258,259,260,261,262,263,264,265,266,267,268,269,270,271,272,273,274,275,276,296,297,298,299,300,301,302,303,304,305,306,307,308,309,310,311,312,313,314,315,316,317,318,319,320,321,322,323,324,325,326,327,328,329,330,331,332,333,334,335,336,337,338,339,340,341,342,343,344,345,346,347,348,349,350,351,352,353,354,355,356,357,358,359,360,361,362,363,364,365,366,367,368,369,370,371,372,373,374,375,376,377,378,379,380,381,382,383,384,385,386,387,388,389,390,391,392,393,394,395,396,397,398,399,400,401,402,403,404,405,406,407,408,409,410,411,412,413,414,415,416,417,418,419,420,421,422,423,424,425,426,427,428,429,430,431,432,433,434,435,436,437,438,439,440,441,442,443,444,445,446,447,448,449,450,451,452,453,454,455],\"xaxis\":\"x\",\"y\":[34.0,52.0,61.0,49.0,77.0,58.0,64.0,47.0,42.0,89.0,77.0,48.0,66.0,64.0,43.0,88.0,47.0,48.0,62.0,63.0,57.0,76.0,59.0,56.0,107.0,78.0,53.0,54.0,85.0,66.0,65.0,61.0,53.0,76.0,76.0,61.0,61.0,86.0,98.0,91.0,78.0,67.0,56.0,52.0,87.0,55.0,75.0,51.0,74.0,66.0,57.0,64.0,35.0,39.0,46.0,78.0,58.0,65.0,71.0,71.0,81.0,44.0,50.0,22.0,39.0,33.0,31.0,32.0,26.0,16.0,45.0,186.0,87.0,58.0,92.0,105.0,52.0,103.0,56.0,98.0,91.0,54.0,57.0,98.0,131.0,58.0,20.0,57.0,74.0,80.0,88.0,121.0,98.0,143.0,109.0,107.0,160.0,110.0,98.0,81.0,58.0,57.0,83.0,126.0,101.0,39.0,83.0,80.0,44.0,63.0,56.0,66.0,61.0,45.0,85.0,38.0,127.0,48.0,88.0,119.0,97.0,100.0,64.0,64.0,90.0,26.0,22.0,31.0,30.0,56.0,77.0,72.0,68.0,69.0,42.0,76.0,61.0,64.0,69.0,73.0,63.0,61.0,52.0,25.0,27.0,67.0,58.0,43.0,65.0,35.0,42.0,49.0,52.0,42.0,52.0,51.0,62.0,62.0,36.0,71.0,31.0,30.0,50.0,42.0,61.0,37.0,37.0,88.0,47.0,23.0,50.0,42.0,48.0,56.0,41.0,52.0,34.0,40.0,43.0,48.0,77.0,45.0,41.0,56.0,38.0,35.0,36.0,52.0,40.0,32.0,33.0,61.0,50.0,32.0,26.0,50.0,34.0,58.0,49.0,95.0,53.0,67.0,80.0,61.0,70.0,52.0,70.0,74.0,60.0,47.0,46.0,38.0,45.0,57.0,43.0,57.0,67.0,44.0,110.0,81.0,80.0,30.0,61.0,57.0,82.0,88.0,40.0,36.0,46.0,48.0,55.0,58.0,66.0,71.0,80.0,80.0,81.0,53.0,49.0,86.0,71.0,45.0,86.0,58.0,57.0,69.0,49.0,34.0,46.0,34.0,44.0,47.0,47.0,29.0,45.0,56.0,65.0,50.0,82.0,55.0,79.0,113.0,64.0,76.0,53.0,83.0,110.0,76.0,291.0,386.0,383.0,713.0,344.0,250.0,447.0,326.0,242.0,203.0,276.0,235.0,194.0,148.0,105.0,90.0,120.0,85.0,123.0],\"yaxis\":\"y\",\"type\":\"scattergl\"},{\"hovertemplate\":\"airline=easyJet<br>day=%{x}<br>count=%{y}<extra></extra>\",\"legendgroup\":\"easyJet\",\"line\":{\"color\":\"#636efa\",\"dash\":\"solid\"},\"marker\":{\"symbol\":\"circle\"},\"mode\":\"lines\",\"name\":\"easyJet\",\"showlegend\":true,\"x\":[142,143,144,145,146,147,148,149,150,151,152,153,154,155,156,157,158,159,160,161,162,163,164,165,166,167,168,169,170,171,172,173,174,175,176,177,178,179,180,181,182,183,184,185,186,187,188,189,190,191,192,193,194,195,196,197,198,199,200,201,202,203,204,205,206,207,208,209,210,211,212,213,214,215,216,217,218,219,220,221,222,223,224,225,226,227,236,237,238,239,240,241,242,243,244,245,246,247,248,249,250,251,252,253,254,255,256,257,258,259,260,261,262,263,264,265,266,267,268,269,270,271,272,273,274,275,276,296,297,298,299,300,301,302,303,304,305,306,307,308,309,310,311,312,313,314,315,316,317,318,319,320,321,322,323,324,325,326,327,328,329,330,331,332,333,334,335,336,337,338,339,340,341,342,343,344,345,346,347,348,349,350,351,352,353,354,355,356,357,358,359,360,361,362,363,364,365,366,367,368,369,370,371,372,373,374,375,376,377,378,379,380,381,382,383,384,385,386,387,388,389,390,391,392,393,394,395,396,397,398,399,400,401,402,403,404,405,406,407,408,409,410,411,412,413,414,415,416,417,418,419,420,421,422,423,424,425,426,427,428,429,430,431,432,433,434,435,436,437,438,439,440,441,442,443,444,445,446,447,448,449,450,451,452,453,454,455],\"xaxis\":\"x\",\"y\":[108.0,185.0,172.0,114.0,117.0,217.0,157.0,163.0,187.0,138.0,117.0,176.0,221.0,180.0,179.0,165.0,237.0,177.0,210.0,206.0,194.0,204.0,223.0,183.0,195.0,136.0,202.0,214.0,214.0,182.0,220.0,169.0,160.0,303.0,232.0,188.0,205.0,305.0,151.0,154.0,376.0,289.0,239.0,257.0,250.0,136.0,83.0,398.0,213.0,260.0,321.0,265.0,201.0,213.0,222.0,239.0,221.0,224.0,238.0,197.0,218.0,265.0,207.0,239.0,342.0,363.0,158.0,285.0,449.0,435.0,354.0,322.0,349.0,233.0,203.0,283.0,239.0,309.0,261.0,255.0,252.0,223.0,415.0,365.0,320.0,187.0,24.0,178.0,246.0,264.0,291.0,299.0,216.0,151.0,270.0,452.0,569.0,341.0,328.0,172.0,152.0,127.0,258.0,264.0,204.0,237.0,284.0,167.0,185.0,251.0,228.0,300.0,352.0,148.0,166.0,249.0,329.0,306.0,200.0,316.0,223.0,202.0,120.0,197.0,194.0,70.0,125.0,101.0,179.0,150.0,169.0,174.0,121.0,119.0,107.0,111.0,128.0,96.0,80.0,124.0,111.0,117.0,153.0,89.0,57.0,61.0,154.0,93.0,109.0,104.0,128.0,82.0,95.0,104.0,132.0,107.0,88.0,100.0,56.0,93.0,117.0,68.0,92.0,83.0,98.0,48.0,135.0,106.0,132.0,174.0,299.0,242.0,119.0,118.0,210.0,195.0,234.0,138.0,133.0,158.0,148.0,207.0,119.0,141.0,182.0,223.0,193.0,144.0,183.0,131.0,31.0,101.0,142.0,101.0,134.0,210.0,106.0,55.0,155.0,137.0,141.0,111.0,181.0,140.0,146.0,153.0,71.0,88.0,190.0,155.0,129.0,122.0,135.0,124.0,82.0,81.0,171.0,138.0,98.0,124.0,119.0,95.0,98.0,109.0,109.0,93.0,101.0,111.0,95.0,104.0,161.0,134.0,99.0,159.0,181.0,145.0,337.0,666.0,297.0,182.0,231.0,169.0,434.0,286.0,173.0,140.0,169.0,158.0,200.0,159.0,191.0,331.0,231.0,270.0,202.0,235.0,87.0,107.0,273.0,239.0,281.0,307.0,182.0,138.0,193.0,208.0,254.0,316.0,221.0,222.0,164.0,141.0,381.0,343.0,254.0,160.0,130.0,68.0,37.0,197.0,244.0,201.0,136.0,135.0,94.0,44.0,492.0],\"yaxis\":\"y\",\"type\":\"scattergl\"}],                        {\"template\":{\"data\":{\"histogram2dcontour\":[{\"type\":\"histogram2dcontour\",\"colorbar\":{\"outlinewidth\":0,\"ticks\":\"\"},\"colorscale\":[[0.0,\"#0d0887\"],[0.1111111111111111,\"#46039f\"],[0.2222222222222222,\"#7201a8\"],[0.3333333333333333,\"#9c179e\"],[0.4444444444444444,\"#bd3786\"],[0.5555555555555556,\"#d8576b\"],[0.6666666666666666,\"#ed7953\"],[0.7777777777777778,\"#fb9f3a\"],[0.8888888888888888,\"#fdca26\"],[1.0,\"#f0f921\"]]}],\"choropleth\":[{\"type\":\"choropleth\",\"colorbar\":{\"outlinewidth\":0,\"ticks\":\"\"}}],\"histogram2d\":[{\"type\":\"histogram2d\",\"colorbar\":{\"outlinewidth\":0,\"ticks\":\"\"},\"colorscale\":[[0.0,\"#0d0887\"],[0.1111111111111111,\"#46039f\"],[0.2222222222222222,\"#7201a8\"],[0.3333333333333333,\"#9c179e\"],[0.4444444444444444,\"#bd3786\"],[0.5555555555555556,\"#d8576b\"],[0.6666666666666666,\"#ed7953\"],[0.7777777777777778,\"#fb9f3a\"],[0.8888888888888888,\"#fdca26\"],[1.0,\"#f0f921\"]]}],\"heatmap\":[{\"type\":\"heatmap\",\"colorbar\":{\"outlinewidth\":0,\"ticks\":\"\"},\"colorscale\":[[0.0,\"#0d0887\"],[0.1111111111111111,\"#46039f\"],[0.2222222222222222,\"#7201a8\"],[0.3333333333333333,\"#9c179e\"],[0.4444444444444444,\"#bd3786\"],[0.5555555555555556,\"#d8576b\"],[0.6666666666666666,\"#ed7953\"],[0.7777777777777778,\"#fb9f3a\"],[0.8888888888888888,\"#fdca26\"],[1.0,\"#f0f921\"]]}],\"heatmapgl\":[{\"type\":\"heatmapgl\",\"colorbar\":{\"outlinewidth\":0,\"ticks\":\"\"},\"colorscale\":[[0.0,\"#0d0887\"],[0.1111111111111111,\"#46039f\"],[0.2222222222222222,\"#7201a8\"],[0.3333333333333333,\"#9c179e\"],[0.4444444444444444,\"#bd3786\"],[0.5555555555555556,\"#d8576b\"],[0.6666666666666666,\"#ed7953\"],[0.7777777777777778,\"#fb9f3a\"],[0.8888888888888888,\"#fdca26\"],[1.0,\"#f0f921\"]]}],\"contourcarpet\":[{\"type\":\"contourcarpet\",\"colorbar\":{\"outlinewidth\":0,\"ticks\":\"\"}}],\"contour\":[{\"type\":\"contour\",\"colorbar\":{\"outlinewidth\":0,\"ticks\":\"\"},\"colorscale\":[[0.0,\"#0d0887\"],[0.1111111111111111,\"#46039f\"],[0.2222222222222222,\"#7201a8\"],[0.3333333333333333,\"#9c179e\"],[0.4444444444444444,\"#bd3786\"],[0.5555555555555556,\"#d8576b\"],[0.6666666666666666,\"#ed7953\"],[0.7777777777777778,\"#fb9f3a\"],[0.8888888888888888,\"#fdca26\"],[1.0,\"#f0f921\"]]}],\"surface\":[{\"type\":\"surface\",\"colorbar\":{\"outlinewidth\":0,\"ticks\":\"\"},\"colorscale\":[[0.0,\"#0d0887\"],[0.1111111111111111,\"#46039f\"],[0.2222222222222222,\"#7201a8\"],[0.3333333333333333,\"#9c179e\"],[0.4444444444444444,\"#bd3786\"],[0.5555555555555556,\"#d8576b\"],[0.6666666666666666,\"#ed7953\"],[0.7777777777777778,\"#fb9f3a\"],[0.8888888888888888,\"#fdca26\"],[1.0,\"#f0f921\"]]}],\"mesh3d\":[{\"type\":\"mesh3d\",\"colorbar\":{\"outlinewidth\":0,\"ticks\":\"\"}}],\"scatter\":[{\"fillpattern\":{\"fillmode\":\"overlay\",\"size\":10,\"solidity\":0.2},\"type\":\"scatter\"}],\"parcoords\":[{\"type\":\"parcoords\",\"line\":{\"colorbar\":{\"outlinewidth\":0,\"ticks\":\"\"}}}],\"scatterpolargl\":[{\"type\":\"scatterpolargl\",\"marker\":{\"colorbar\":{\"outlinewidth\":0,\"ticks\":\"\"}}}],\"bar\":[{\"error_x\":{\"color\":\"#2a3f5f\"},\"error_y\":{\"color\":\"#2a3f5f\"},\"marker\":{\"line\":{\"color\":\"#E5ECF6\",\"width\":0.5},\"pattern\":{\"fillmode\":\"overlay\",\"size\":10,\"solidity\":0.2}},\"type\":\"bar\"}],\"scattergeo\":[{\"type\":\"scattergeo\",\"marker\":{\"colorbar\":{\"outlinewidth\":0,\"ticks\":\"\"}}}],\"scatterpolar\":[{\"type\":\"scatterpolar\",\"marker\":{\"colorbar\":{\"outlinewidth\":0,\"ticks\":\"\"}}}],\"histogram\":[{\"marker\":{\"pattern\":{\"fillmode\":\"overlay\",\"size\":10,\"solidity\":0.2}},\"type\":\"histogram\"}],\"scattergl\":[{\"type\":\"scattergl\",\"marker\":{\"colorbar\":{\"outlinewidth\":0,\"ticks\":\"\"}}}],\"scatter3d\":[{\"type\":\"scatter3d\",\"line\":{\"colorbar\":{\"outlinewidth\":0,\"ticks\":\"\"}},\"marker\":{\"colorbar\":{\"outlinewidth\":0,\"ticks\":\"\"}}}],\"scattermapbox\":[{\"type\":\"scattermapbox\",\"marker\":{\"colorbar\":{\"outlinewidth\":0,\"ticks\":\"\"}}}],\"scatterternary\":[{\"type\":\"scatterternary\",\"marker\":{\"colorbar\":{\"outlinewidth\":0,\"ticks\":\"\"}}}],\"scattercarpet\":[{\"type\":\"scattercarpet\",\"marker\":{\"colorbar\":{\"outlinewidth\":0,\"ticks\":\"\"}}}],\"carpet\":[{\"aaxis\":{\"endlinecolor\":\"#2a3f5f\",\"gridcolor\":\"white\",\"linecolor\":\"white\",\"minorgridcolor\":\"white\",\"startlinecolor\":\"#2a3f5f\"},\"baxis\":{\"endlinecolor\":\"#2a3f5f\",\"gridcolor\":\"white\",\"linecolor\":\"white\",\"minorgridcolor\":\"white\",\"startlinecolor\":\"#2a3f5f\"},\"type\":\"carpet\"}],\"table\":[{\"cells\":{\"fill\":{\"color\":\"#EBF0F8\"},\"line\":{\"color\":\"white\"}},\"header\":{\"fill\":{\"color\":\"#C8D4E3\"},\"line\":{\"color\":\"white\"}},\"type\":\"table\"}],\"barpolar\":[{\"marker\":{\"line\":{\"color\":\"#E5ECF6\",\"width\":0.5},\"pattern\":{\"fillmode\":\"overlay\",\"size\":10,\"solidity\":0.2}},\"type\":\"barpolar\"}],\"pie\":[{\"automargin\":true,\"type\":\"pie\"}]},\"layout\":{\"autotypenumbers\":\"strict\",\"colorway\":[\"#636efa\",\"#EF553B\",\"#00cc96\",\"#ab63fa\",\"#FFA15A\",\"#19d3f3\",\"#FF6692\",\"#B6E880\",\"#FF97FF\",\"#FECB52\"],\"font\":{\"color\":\"#2a3f5f\"},\"hovermode\":\"closest\",\"hoverlabel\":{\"align\":\"left\"},\"paper_bgcolor\":\"white\",\"plot_bgcolor\":\"#E5ECF6\",\"polar\":{\"bgcolor\":\"#E5ECF6\",\"angularaxis\":{\"gridcolor\":\"white\",\"linecolor\":\"white\",\"ticks\":\"\"},\"radialaxis\":{\"gridcolor\":\"white\",\"linecolor\":\"white\",\"ticks\":\"\"}},\"ternary\":{\"bgcolor\":\"#E5ECF6\",\"aaxis\":{\"gridcolor\":\"white\",\"linecolor\":\"white\",\"ticks\":\"\"},\"baxis\":{\"gridcolor\":\"white\",\"linecolor\":\"white\",\"ticks\":\"\"},\"caxis\":{\"gridcolor\":\"white\",\"linecolor\":\"white\",\"ticks\":\"\"}},\"coloraxis\":{\"colorbar\":{\"outlinewidth\":0,\"ticks\":\"\"}},\"colorscale\":{\"sequential\":[[0.0,\"#0d0887\"],[0.1111111111111111,\"#46039f\"],[0.2222222222222222,\"#7201a8\"],[0.3333333333333333,\"#9c179e\"],[0.4444444444444444,\"#bd3786\"],[0.5555555555555556,\"#d8576b\"],[0.6666666666666666,\"#ed7953\"],[0.7777777777777778,\"#fb9f3a\"],[0.8888888888888888,\"#fdca26\"],[1.0,\"#f0f921\"]],\"sequentialminus\":[[0.0,\"#0d0887\"],[0.1111111111111111,\"#46039f\"],[0.2222222222222222,\"#7201a8\"],[0.3333333333333333,\"#9c179e\"],[0.4444444444444444,\"#bd3786\"],[0.5555555555555556,\"#d8576b\"],[0.6666666666666666,\"#ed7953\"],[0.7777777777777778,\"#fb9f3a\"],[0.8888888888888888,\"#fdca26\"],[1.0,\"#f0f921\"]],\"diverging\":[[0,\"#8e0152\"],[0.1,\"#c51b7d\"],[0.2,\"#de77ae\"],[0.3,\"#f1b6da\"],[0.4,\"#fde0ef\"],[0.5,\"#f7f7f7\"],[0.6,\"#e6f5d0\"],[0.7,\"#b8e186\"],[0.8,\"#7fbc41\"],[0.9,\"#4d9221\"],[1,\"#276419\"]]},\"xaxis\":{\"gridcolor\":\"white\",\"linecolor\":\"white\",\"ticks\":\"\",\"title\":{\"standoff\":15},\"zerolinecolor\":\"white\",\"automargin\":true,\"zerolinewidth\":2},\"yaxis\":{\"gridcolor\":\"white\",\"linecolor\":\"white\",\"ticks\":\"\",\"title\":{\"standoff\":15},\"zerolinecolor\":\"white\",\"automargin\":true,\"zerolinewidth\":2},\"scene\":{\"xaxis\":{\"backgroundcolor\":\"#E5ECF6\",\"gridcolor\":\"white\",\"linecolor\":\"white\",\"showbackground\":true,\"ticks\":\"\",\"zerolinecolor\":\"white\",\"gridwidth\":2},\"yaxis\":{\"backgroundcolor\":\"#E5ECF6\",\"gridcolor\":\"white\",\"linecolor\":\"white\",\"showbackground\":true,\"ticks\":\"\",\"zerolinecolor\":\"white\",\"gridwidth\":2},\"zaxis\":{\"backgroundcolor\":\"#E5ECF6\",\"gridcolor\":\"white\",\"linecolor\":\"white\",\"showbackground\":true,\"ticks\":\"\",\"zerolinecolor\":\"white\",\"gridwidth\":2}},\"shapedefaults\":{\"line\":{\"color\":\"#2a3f5f\"}},\"annotationdefaults\":{\"arrowcolor\":\"#2a3f5f\",\"arrowhead\":0,\"arrowwidth\":1},\"geo\":{\"bgcolor\":\"white\",\"landcolor\":\"#E5ECF6\",\"subunitcolor\":\"white\",\"showland\":true,\"showlakes\":true,\"lakecolor\":\"white\"},\"title\":{\"x\":0.05},\"mapbox\":{\"style\":\"light\"}}},\"xaxis\":{\"anchor\":\"y\",\"domain\":[0.0,1.0],\"title\":{\"text\":\"day\"}},\"yaxis\":{\"anchor\":\"x\",\"domain\":[0.0,1.0],\"title\":{\"text\":\"count\"}},\"legend\":{\"title\":{\"text\":\"airline\"},\"tracegroupgap\":0},\"title\":{\"text\":\"Tweets per day per airline\"}},                        {\"responsive\": true}                    ).then(function(){\n",
       "                            \n",
       "var gd = document.getElementById('9650d70b-3fd3-4be1-9e15-8990d239c1a9');\n",
       "var x = new MutationObserver(function (mutations, observer) {{\n",
       "        var display = window.getComputedStyle(gd).display;\n",
       "        if (!display || display === 'none') {{\n",
       "            console.log([gd, 'removed!']);\n",
       "            Plotly.purge(gd);\n",
       "            observer.disconnect();\n",
       "        }}\n",
       "}});\n",
       "\n",
       "// Listen for the removal of the full notebook cells\n",
       "var notebookContainer = gd.closest('#notebook-container');\n",
       "if (notebookContainer) {{\n",
       "    x.observe(notebookContainer, {childList: true});\n",
       "}}\n",
       "\n",
       "// Listen for the clearing of the current output cell\n",
       "var outputEl = gd.closest('.output');\n",
       "if (outputEl) {{\n",
       "    x.observe(outputEl, {childList: true});\n",
       "}}\n",
       "\n",
       "                        })                };                });            </script>        </div>"
      ]
     },
     "metadata": {},
     "output_type": "display_data"
    }
   ],
   "source": [
    "fig = go.Figure()\n",
    "fig = px.line(plot_df, x=\"day\", y=\"count\", color=\"airline\", title=\"Tweets per day per airline\")\n",
    "fig.show()"
   ]
  },
  {
   "cell_type": "code",
   "execution_count": null,
   "metadata": {},
   "outputs": [],
   "source": []
  },
  {
   "cell_type": "code",
   "execution_count": 3,
   "metadata": {},
   "outputs": [],
   "source": [
    "cur.close()\n",
    "conn.close()"
   ]
  },
  {
   "cell_type": "markdown",
   "metadata": {},
   "source": [
    "\n",
    "\n",
    "\n",
    "\n",
    "\n",
    "\n",
    "\n",
    "\n",
    "\n",
    "\n",
    "\n",
    "\n",
    "\n",
    "\n",
    "\n",
    "\n",
    "\n",
    "\n",
    "\n",
    "\n",
    "\n",
    "\n",
    "\n",
    "\n",
    "\n",
    "\n",
    "\n",
    "\n",
    "\n",
    "\n",
    "\n",
    "\n",
    "\n",
    "\n",
    "\n",
    "\n",
    "\n",
    "\n",
    "\n"
   ]
  }
 ],
 "metadata": {
  "kernelspec": {
   "display_name": "Python 3",
   "language": "python",
   "name": "python3"
  },
  "language_info": {
   "codemirror_mode": {
    "name": "ipython",
    "version": 3
   },
   "file_extension": ".py",
   "mimetype": "text/x-python",
   "name": "python",
   "nbconvert_exporter": "python",
   "pygments_lexer": "ipython3",
   "version": "3.8.8"
  }
 },
 "nbformat": 4,
 "nbformat_minor": 4
}
